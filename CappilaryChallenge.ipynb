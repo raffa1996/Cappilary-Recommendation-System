{
 "cells": [
  {
   "cell_type": "code",
   "execution_count": 1,
   "metadata": {},
   "outputs": [
    {
     "name": "stderr",
     "output_type": "stream",
     "text": [
      "/Users/rahulsharma/anaconda2/lib/python2.7/site-packages/scipy/stats/morestats.py:12: DeprecationWarning: Importing from numpy.testing.decorators is deprecated, import from numpy.testing instead.\n",
      "  from numpy.testing.decorators import setastest\n",
      "/Users/rahulsharma/anaconda2/lib/python2.7/site-packages/_pytest/fixtures.py:844: DeprecationWarning: The `convert` argument is deprecated in favor of `converter`.  It will be removed after 2019/01.\n",
      "  params = attr.ib(convert=attr.converters.optional(tuple))\n",
      "/Users/rahulsharma/anaconda2/lib/python2.7/site-packages/_pytest/fixtures.py:846: DeprecationWarning: The `convert` argument is deprecated in favor of `converter`.  It will be removed after 2019/01.\n",
      "  ids = attr.ib(default=None, convert=_ensure_immutable_ids)\n"
     ]
    }
   ],
   "source": [
    "# Ignore  the warnings\n",
    "import warnings\n",
    "warnings.filterwarnings('always')\n",
    "warnings.filterwarnings('ignore')\n",
    "import math\n",
    "#from surprise import SVD\n",
    "#from surprise import KNNBaseline\n",
    "#from surprise.model_selection import train_test_split\n",
    "#from surprise.model_selection import LeaveOneOut\n",
    "#from surprise import Reader\n",
    "#from surprise import Dataset\n",
    "#from surprise import accuracy\n",
    "#from surprise.model_selection import train_test_split\n",
    "from collections import defaultdict\n",
    "import time\n",
    "import turicreate as tc\n",
    "from sklearn.model_selection import train_test_split"
   ]
  },
  {
   "cell_type": "code",
   "execution_count": 2,
   "metadata": {},
   "outputs": [],
   "source": [
    "# data visualisation and manipulation\n",
    "import numpy as np\n",
    "import pandas as pd\n",
    "import matplotlib.pyplot as plt\n",
    "from matplotlib import style\n",
    "import seaborn as sns\n",
    "import missingno as msno"
   ]
  },
  {
   "cell_type": "code",
   "execution_count": 3,
   "metadata": {},
   "outputs": [],
   "source": [
    "% matplotlib inline  \n",
    "style.use('fivethirtyeight')\n",
    "sns.set(style='whitegrid',color_codes=True)"
   ]
  },
  {
   "cell_type": "code",
   "execution_count": 4,
   "metadata": {},
   "outputs": [],
   "source": [
    "#Classification\n",
    "from sklearn.linear_model import LogisticRegression\n",
    "from sklearn.svm import LinearSVC,SVC\n",
    "from sklearn.neighbors import KNeighborsClassifier\n",
    "from sklearn.ensemble import RandomForestClassifier,GradientBoostingClassifier\n",
    "from sklearn.tree import DecisionTreeClassifier\n",
    "from sklearn.naive_bayes import GaussianNB"
   ]
  },
  {
   "cell_type": "code",
   "execution_count": 5,
   "metadata": {},
   "outputs": [],
   "source": [
    "#regression\n",
    "from sklearn.linear_model import LinearRegression,Ridge,Lasso,RidgeCV\n",
    "from sklearn.ensemble import RandomForestRegressor,BaggingRegressor,GradientBoostingRegressor,AdaBoostRegressor\n",
    "from sklearn.svm import SVR\n",
    "from sklearn.neighbors import KNeighborsRegressor"
   ]
  },
  {
   "cell_type": "code",
   "execution_count": 6,
   "metadata": {},
   "outputs": [],
   "source": [
    "#model selection\n",
    "from sklearn.model_selection import train_test_split,cross_validate\n",
    "from sklearn.model_selection import KFold\n",
    "from sklearn.model_selection import GridSearchCV"
   ]
  },
  {
   "cell_type": "code",
   "execution_count": 7,
   "metadata": {},
   "outputs": [],
   "source": [
    "#evaluation metrics\n",
    "from sklearn.metrics import mean_squared_log_error,mean_squared_error, r2_score,mean_absolute_error # for regression\n",
    "from sklearn.metrics import accuracy_score,precision_score,recall_score,f1_score  # for classification"
   ]
  },
  {
   "cell_type": "code",
   "execution_count": 8,
   "metadata": {},
   "outputs": [],
   "source": [
    "train = pd.read_csv('/Users/rahulsharma/Teams/Cappilary_Hackathon/train- Capillary 4/train.csv')\n",
    "test = pd.read_csv('/Users/rahulsharma/Teams/Cappilary_Hackathon/test.csv')\n",
    "pro_att = pd.read_csv('/Users/rahulsharma/Teams/Cappilary_Hackathon/train- Capillary 4/product_attributes.csv')\n",
    "df = train.copy()\n",
    "test_df = test.copy()"
   ]
  },
  {
   "cell_type": "code",
   "execution_count": 9,
   "metadata": {},
   "outputs": [
    {
     "data": {
      "text/html": [
       "<div>\n",
       "<style scoped>\n",
       "    .dataframe tbody tr th:only-of-type {\n",
       "        vertical-align: middle;\n",
       "    }\n",
       "\n",
       "    .dataframe tbody tr th {\n",
       "        vertical-align: top;\n",
       "    }\n",
       "\n",
       "    .dataframe thead th {\n",
       "        text-align: right;\n",
       "    }\n",
       "</style>\n",
       "<table border=\"1\" class=\"dataframe\">\n",
       "  <thead>\n",
       "    <tr style=\"text-align: right;\">\n",
       "      <th></th>\n",
       "      <th>UserId</th>\n",
       "      <th>productid</th>\n",
       "      <th>Quantity</th>\n",
       "      <th>OrderDate</th>\n",
       "    </tr>\n",
       "  </thead>\n",
       "  <tbody>\n",
       "    <tr>\n",
       "      <th>0</th>\n",
       "      <td>18075</td>\n",
       "      <td>12322648</td>\n",
       "      <td>1</td>\n",
       "      <td>01/04/18</td>\n",
       "    </tr>\n",
       "    <tr>\n",
       "      <th>1</th>\n",
       "      <td>6820</td>\n",
       "      <td>12371370</td>\n",
       "      <td>1</td>\n",
       "      <td>01/04/18</td>\n",
       "    </tr>\n",
       "    <tr>\n",
       "      <th>2</th>\n",
       "      <td>6820</td>\n",
       "      <td>12973004</td>\n",
       "      <td>1</td>\n",
       "      <td>01/04/18</td>\n",
       "    </tr>\n",
       "    <tr>\n",
       "      <th>3</th>\n",
       "      <td>6820</td>\n",
       "      <td>12657560</td>\n",
       "      <td>1</td>\n",
       "      <td>01/04/18</td>\n",
       "    </tr>\n",
       "    <tr>\n",
       "      <th>4</th>\n",
       "      <td>6820</td>\n",
       "      <td>11659914</td>\n",
       "      <td>1</td>\n",
       "      <td>01/04/18</td>\n",
       "    </tr>\n",
       "  </tbody>\n",
       "</table>\n",
       "</div>"
      ],
      "text/plain": [
       "   UserId  productid  Quantity OrderDate\n",
       "0   18075   12322648         1  01/04/18\n",
       "1    6820   12371370         1  01/04/18\n",
       "2    6820   12973004         1  01/04/18\n",
       "3    6820   12657560         1  01/04/18\n",
       "4    6820   11659914         1  01/04/18"
      ]
     },
     "execution_count": 9,
     "metadata": {},
     "output_type": "execute_result"
    }
   ],
   "source": [
    "df.head()"
   ]
  },
  {
   "cell_type": "code",
   "execution_count": 10,
   "metadata": {},
   "outputs": [],
   "source": [
    "temp = df.copy()"
   ]
  },
  {
   "cell_type": "code",
   "execution_count": 11,
   "metadata": {},
   "outputs": [],
   "source": [
    "temp.drop({'OrderDate', 'Quantity'},inplace=True, axis=1)"
   ]
  },
  {
   "cell_type": "code",
   "execution_count": 12,
   "metadata": {},
   "outputs": [],
   "source": [
    "def create_data_dummy(data):\n",
    "    data_dummy = data.copy()\n",
    "    data_dummy['purchase_dummy']=1\n",
    "    return data_dummy"
   ]
  },
  {
   "cell_type": "code",
   "execution_count": null,
   "metadata": {},
   "outputs": [],
   "source": []
  },
  {
   "cell_type": "code",
   "execution_count": 13,
   "metadata": {},
   "outputs": [],
   "source": [
    "df_temp = temp.copy()"
   ]
  },
  {
   "cell_type": "code",
   "execution_count": 14,
   "metadata": {},
   "outputs": [],
   "source": [
    "temp.drop_duplicates(keep=False,inplace=True) "
   ]
  },
  {
   "cell_type": "code",
   "execution_count": null,
   "metadata": {},
   "outputs": [],
   "source": []
  },
  {
   "cell_type": "code",
   "execution_count": null,
   "metadata": {},
   "outputs": [],
   "source": []
  },
  {
   "cell_type": "code",
   "execution_count": 15,
   "metadata": {},
   "outputs": [],
   "source": [
    "temp.drop_duplicates(subset=None, keep='first', inplace=True)"
   ]
  },
  {
   "cell_type": "code",
   "execution_count": 16,
   "metadata": {},
   "outputs": [],
   "source": [
    "mydf = df_temp.groupby(['UserId','productid']).size().reset_index()\n",
    "mydf.rename(columns = {0: 'frequency'}, inplace = True)"
   ]
  },
  {
   "cell_type": "code",
   "execution_count": 17,
   "metadata": {},
   "outputs": [
    {
     "data": {
      "text/html": [
       "<div>\n",
       "<style scoped>\n",
       "    .dataframe tbody tr th:only-of-type {\n",
       "        vertical-align: middle;\n",
       "    }\n",
       "\n",
       "    .dataframe tbody tr th {\n",
       "        vertical-align: top;\n",
       "    }\n",
       "\n",
       "    .dataframe thead th {\n",
       "        text-align: right;\n",
       "    }\n",
       "</style>\n",
       "<table border=\"1\" class=\"dataframe\">\n",
       "  <thead>\n",
       "    <tr style=\"text-align: right;\">\n",
       "      <th></th>\n",
       "      <th>UserId</th>\n",
       "      <th>productid</th>\n",
       "      <th>frequency</th>\n",
       "    </tr>\n",
       "  </thead>\n",
       "  <tbody>\n",
       "    <tr>\n",
       "      <th>0</th>\n",
       "      <td>0</td>\n",
       "      <td>11659624</td>\n",
       "      <td>1</td>\n",
       "    </tr>\n",
       "    <tr>\n",
       "      <th>1</th>\n",
       "      <td>1</td>\n",
       "      <td>12406904</td>\n",
       "      <td>1</td>\n",
       "    </tr>\n",
       "    <tr>\n",
       "      <th>2</th>\n",
       "      <td>2</td>\n",
       "      <td>11660064</td>\n",
       "      <td>1</td>\n",
       "    </tr>\n",
       "    <tr>\n",
       "      <th>3</th>\n",
       "      <td>3</td>\n",
       "      <td>12360440</td>\n",
       "      <td>3</td>\n",
       "    </tr>\n",
       "    <tr>\n",
       "      <th>4</th>\n",
       "      <td>3</td>\n",
       "      <td>12371354</td>\n",
       "      <td>3</td>\n",
       "    </tr>\n",
       "  </tbody>\n",
       "</table>\n",
       "</div>"
      ],
      "text/plain": [
       "   UserId  productid  frequency\n",
       "0       0   11659624          1\n",
       "1       1   12406904          1\n",
       "2       2   11660064          1\n",
       "3       3   12360440          3\n",
       "4       3   12371354          3"
      ]
     },
     "execution_count": 17,
     "metadata": {},
     "output_type": "execute_result"
    }
   ],
   "source": [
    "mydf.head()"
   ]
  },
  {
   "cell_type": "code",
   "execution_count": null,
   "metadata": {},
   "outputs": [],
   "source": []
  },
  {
   "cell_type": "code",
   "execution_count": null,
   "metadata": {},
   "outputs": [],
   "source": []
  },
  {
   "cell_type": "code",
   "execution_count": 18,
   "metadata": {},
   "outputs": [],
   "source": [
    "data_dummy = create_data_dummy(mydf)"
   ]
  },
  {
   "cell_type": "code",
   "execution_count": 19,
   "metadata": {},
   "outputs": [
    {
     "data": {
      "text/html": [
       "<div>\n",
       "<style scoped>\n",
       "    .dataframe tbody tr th:only-of-type {\n",
       "        vertical-align: middle;\n",
       "    }\n",
       "\n",
       "    .dataframe tbody tr th {\n",
       "        vertical-align: top;\n",
       "    }\n",
       "\n",
       "    .dataframe thead th {\n",
       "        text-align: right;\n",
       "    }\n",
       "</style>\n",
       "<table border=\"1\" class=\"dataframe\">\n",
       "  <thead>\n",
       "    <tr style=\"text-align: right;\">\n",
       "      <th></th>\n",
       "      <th>UserId</th>\n",
       "      <th>productid</th>\n",
       "      <th>frequency</th>\n",
       "      <th>purchase_dummy</th>\n",
       "    </tr>\n",
       "  </thead>\n",
       "  <tbody>\n",
       "    <tr>\n",
       "      <th>0</th>\n",
       "      <td>0</td>\n",
       "      <td>11659624</td>\n",
       "      <td>1</td>\n",
       "      <td>1</td>\n",
       "    </tr>\n",
       "    <tr>\n",
       "      <th>1</th>\n",
       "      <td>1</td>\n",
       "      <td>12406904</td>\n",
       "      <td>1</td>\n",
       "      <td>1</td>\n",
       "    </tr>\n",
       "    <tr>\n",
       "      <th>2</th>\n",
       "      <td>2</td>\n",
       "      <td>11660064</td>\n",
       "      <td>1</td>\n",
       "      <td>1</td>\n",
       "    </tr>\n",
       "    <tr>\n",
       "      <th>3</th>\n",
       "      <td>3</td>\n",
       "      <td>12360440</td>\n",
       "      <td>3</td>\n",
       "      <td>1</td>\n",
       "    </tr>\n",
       "    <tr>\n",
       "      <th>4</th>\n",
       "      <td>3</td>\n",
       "      <td>12371354</td>\n",
       "      <td>3</td>\n",
       "      <td>1</td>\n",
       "    </tr>\n",
       "  </tbody>\n",
       "</table>\n",
       "</div>"
      ],
      "text/plain": [
       "   UserId  productid  frequency  purchase_dummy\n",
       "0       0   11659624          1               1\n",
       "1       1   12406904          1               1\n",
       "2       2   11660064          1               1\n",
       "3       3   12360440          3               1\n",
       "4       3   12371354          3               1"
      ]
     },
     "execution_count": 19,
     "metadata": {},
     "output_type": "execute_result"
    }
   ],
   "source": [
    "data_dummy.head()"
   ]
  },
  {
   "cell_type": "code",
   "execution_count": 20,
   "metadata": {},
   "outputs": [],
   "source": [
    "df_matrix = pd.pivot_table(mydf, values='frequency', index='UserId', columns='productid')"
   ]
  },
  {
   "cell_type": "code",
   "execution_count": 21,
   "metadata": {},
   "outputs": [],
   "source": [
    "df_matrix_norm = (df_matrix-df_matrix.min())/(df_matrix.max()-df_matrix.min())"
   ]
  },
  {
   "cell_type": "code",
   "execution_count": 22,
   "metadata": {},
   "outputs": [],
   "source": [
    "d = df_matrix_norm.reset_index()\n",
    "d.index.names = ['scaled_purchase_freq']\n",
    "data_norm = pd.melt(d, id_vars=['UserId'], value_name='scaled_purchase_freq').dropna()"
   ]
  },
  {
   "cell_type": "code",
   "execution_count": 23,
   "metadata": {},
   "outputs": [
    {
     "name": "stdout",
     "output_type": "stream",
     "text": [
      "(73650, 3)\n"
     ]
    },
    {
     "data": {
      "text/html": [
       "<div>\n",
       "<style scoped>\n",
       "    .dataframe tbody tr th:only-of-type {\n",
       "        vertical-align: middle;\n",
       "    }\n",
       "\n",
       "    .dataframe tbody tr th {\n",
       "        vertical-align: top;\n",
       "    }\n",
       "\n",
       "    .dataframe thead th {\n",
       "        text-align: right;\n",
       "    }\n",
       "</style>\n",
       "<table border=\"1\" class=\"dataframe\">\n",
       "  <thead>\n",
       "    <tr style=\"text-align: right;\">\n",
       "      <th></th>\n",
       "      <th>UserId</th>\n",
       "      <th>productid</th>\n",
       "      <th>scaled_purchase_freq</th>\n",
       "    </tr>\n",
       "  </thead>\n",
       "  <tbody>\n",
       "    <tr>\n",
       "      <th>960</th>\n",
       "      <td>960</td>\n",
       "      <td>11139192</td>\n",
       "      <td>0.0</td>\n",
       "    </tr>\n",
       "    <tr>\n",
       "      <th>1145</th>\n",
       "      <td>1145</td>\n",
       "      <td>11139192</td>\n",
       "      <td>0.0</td>\n",
       "    </tr>\n",
       "    <tr>\n",
       "      <th>4798</th>\n",
       "      <td>4798</td>\n",
       "      <td>11139192</td>\n",
       "      <td>0.0</td>\n",
       "    </tr>\n",
       "    <tr>\n",
       "      <th>6331</th>\n",
       "      <td>6331</td>\n",
       "      <td>11139192</td>\n",
       "      <td>0.0</td>\n",
       "    </tr>\n",
       "    <tr>\n",
       "      <th>10496</th>\n",
       "      <td>10496</td>\n",
       "      <td>11139192</td>\n",
       "      <td>0.0</td>\n",
       "    </tr>\n",
       "  </tbody>\n",
       "</table>\n",
       "</div>"
      ],
      "text/plain": [
       "       UserId productid  scaled_purchase_freq\n",
       "960       960  11139192                   0.0\n",
       "1145     1145  11139192                   0.0\n",
       "4798     4798  11139192                   0.0\n",
       "6331     6331  11139192                   0.0\n",
       "10496   10496  11139192                   0.0"
      ]
     },
     "execution_count": 23,
     "metadata": {},
     "output_type": "execute_result"
    }
   ],
   "source": [
    "print(data_norm.shape)\n",
    "data_norm.head()"
   ]
  },
  {
   "cell_type": "code",
   "execution_count": 24,
   "metadata": {},
   "outputs": [],
   "source": [
    "def split_data(data):\n",
    "    train, test = train_test_split(data, test_size = .2)\n",
    "    train_data = tc.SFrame(train)\n",
    "    test_data = tc.SFrame(test)\n",
    "    return train_data, test_data"
   ]
  },
  {
   "cell_type": "code",
   "execution_count": 26,
   "metadata": {},
   "outputs": [],
   "source": [
    "train_data, test_data = split_data(mydf)\n",
    "train_data_dummy, test_data_dummy = split_data(data_dummy)\n",
    "train_data_norm, test_data_norm = split_data(data_norm)"
   ]
  },
  {
   "cell_type": "code",
   "execution_count": 27,
   "metadata": {},
   "outputs": [],
   "source": [
    "def model(train_data, name, user_id, item_id, target, users_to_recommend, n_rec, n_display):\n",
    "    if name == 'popularity':\n",
    "        model = tc.popularity_recommender.create(train_data, \n",
    "                                                    user_id=user_id, \n",
    "                                                    item_id=item_id, \n",
    "                                                    target=target)\n",
    "    elif name == 'cosine':\n",
    "        model = tc.item_similarity_recommender.create(train_data, \n",
    "                                                    user_id=user_id, \n",
    "                                                    item_id=item_id, \n",
    "                                                    target=target, \n",
    "                                                    similarity_type='cosine')\n",
    "    elif name == 'pearson':\n",
    "        model = tc.item_similarity_recommender.create(train_data, \n",
    "                                                    user_id=user_id, \n",
    "                                                    item_id=item_id, \n",
    "                                                    target=target, \n",
    "                                                    similarity_type='pearson')\n",
    "        \n",
    "    recom = model.recommend(users=users_to_recommend, k=n_rec)\n",
    "    recom.print_rows(n_display)\n",
    "    return model"
   ]
  },
  {
   "cell_type": "code",
   "execution_count": 28,
   "metadata": {},
   "outputs": [
    {
     "data": {
      "text/html": [
       "<div>\n",
       "<style scoped>\n",
       "    .dataframe tbody tr th:only-of-type {\n",
       "        vertical-align: middle;\n",
       "    }\n",
       "\n",
       "    .dataframe tbody tr th {\n",
       "        vertical-align: top;\n",
       "    }\n",
       "\n",
       "    .dataframe thead th {\n",
       "        text-align: right;\n",
       "    }\n",
       "</style>\n",
       "<table border=\"1\" class=\"dataframe\">\n",
       "  <thead>\n",
       "    <tr style=\"text-align: right;\">\n",
       "      <th></th>\n",
       "      <th>UserId</th>\n",
       "      <th>productid</th>\n",
       "      <th>frequency</th>\n",
       "      <th>purchase_dummy</th>\n",
       "    </tr>\n",
       "  </thead>\n",
       "  <tbody>\n",
       "    <tr>\n",
       "      <th>0</th>\n",
       "      <td>0</td>\n",
       "      <td>11659624</td>\n",
       "      <td>1</td>\n",
       "      <td>1</td>\n",
       "    </tr>\n",
       "    <tr>\n",
       "      <th>1</th>\n",
       "      <td>1</td>\n",
       "      <td>12406904</td>\n",
       "      <td>1</td>\n",
       "      <td>1</td>\n",
       "    </tr>\n",
       "    <tr>\n",
       "      <th>2</th>\n",
       "      <td>2</td>\n",
       "      <td>11660064</td>\n",
       "      <td>1</td>\n",
       "      <td>1</td>\n",
       "    </tr>\n",
       "    <tr>\n",
       "      <th>3</th>\n",
       "      <td>3</td>\n",
       "      <td>12360440</td>\n",
       "      <td>3</td>\n",
       "      <td>1</td>\n",
       "    </tr>\n",
       "    <tr>\n",
       "      <th>4</th>\n",
       "      <td>3</td>\n",
       "      <td>12371354</td>\n",
       "      <td>3</td>\n",
       "      <td>1</td>\n",
       "    </tr>\n",
       "  </tbody>\n",
       "</table>\n",
       "</div>"
      ],
      "text/plain": [
       "   UserId  productid  frequency  purchase_dummy\n",
       "0       0   11659624          1               1\n",
       "1       1   12406904          1               1\n",
       "2       2   11660064          1               1\n",
       "3       3   12360440          3               1\n",
       "4       3   12371354          3               1"
      ]
     },
     "execution_count": 28,
     "metadata": {},
     "output_type": "execute_result"
    }
   ],
   "source": [
    "data_dummy.head()"
   ]
  },
  {
   "cell_type": "code",
   "execution_count": 29,
   "metadata": {},
   "outputs": [
    {
     "data": {
      "text/html": [
       "<pre>Preparing data set.</pre>"
      ],
      "text/plain": [
       "Preparing data set."
      ]
     },
     "metadata": {},
     "output_type": "display_data"
    },
    {
     "data": {
      "text/html": [
       "<pre>    Data has 74915 observations with 27778 users and 3026 items.</pre>"
      ],
      "text/plain": [
       "    Data has 74915 observations with 27778 users and 3026 items."
      ]
     },
     "metadata": {},
     "output_type": "display_data"
    },
    {
     "data": {
      "text/html": [
       "<pre>    Data prepared in: 0.14751s</pre>"
      ],
      "text/plain": [
       "    Data prepared in: 0.14751s"
      ]
     },
     "metadata": {},
     "output_type": "display_data"
    },
    {
     "data": {
      "text/html": [
       "<pre>74915 observations to process; with 3026 unique items.</pre>"
      ],
      "text/plain": [
       "74915 observations to process; with 3026 unique items."
      ]
     },
     "metadata": {},
     "output_type": "display_data"
    },
    {
     "data": {
      "text/html": [
       "<pre>recommendations finished on 1000/74915 queries. users per second: 57349.3</pre>"
      ],
      "text/plain": [
       "recommendations finished on 1000/74915 queries. users per second: 57349.3"
      ]
     },
     "metadata": {},
     "output_type": "display_data"
    },
    {
     "data": {
      "text/html": [
       "<pre>recommendations finished on 2000/74915 queries. users per second: 65588.8</pre>"
      ],
      "text/plain": [
       "recommendations finished on 2000/74915 queries. users per second: 65588.8"
      ]
     },
     "metadata": {},
     "output_type": "display_data"
    },
    {
     "data": {
      "text/html": [
       "<pre>recommendations finished on 3000/74915 queries. users per second: 68706.5</pre>"
      ],
      "text/plain": [
       "recommendations finished on 3000/74915 queries. users per second: 68706.5"
      ]
     },
     "metadata": {},
     "output_type": "display_data"
    },
    {
     "data": {
      "text/html": [
       "<pre>recommendations finished on 4000/74915 queries. users per second: 66136.5</pre>"
      ],
      "text/plain": [
       "recommendations finished on 4000/74915 queries. users per second: 66136.5"
      ]
     },
     "metadata": {},
     "output_type": "display_data"
    },
    {
     "data": {
      "text/html": [
       "<pre>recommendations finished on 5000/74915 queries. users per second: 59661.6</pre>"
      ],
      "text/plain": [
       "recommendations finished on 5000/74915 queries. users per second: 59661.6"
      ]
     },
     "metadata": {},
     "output_type": "display_data"
    },
    {
     "data": {
      "text/html": [
       "<pre>recommendations finished on 6000/74915 queries. users per second: 57213.7</pre>"
      ],
      "text/plain": [
       "recommendations finished on 6000/74915 queries. users per second: 57213.7"
      ]
     },
     "metadata": {},
     "output_type": "display_data"
    },
    {
     "data": {
      "text/html": [
       "<pre>recommendations finished on 7000/74915 queries. users per second: 51787.8</pre>"
      ],
      "text/plain": [
       "recommendations finished on 7000/74915 queries. users per second: 51787.8"
      ]
     },
     "metadata": {},
     "output_type": "display_data"
    },
    {
     "data": {
      "text/html": [
       "<pre>recommendations finished on 8000/74915 queries. users per second: 51393.1</pre>"
      ],
      "text/plain": [
       "recommendations finished on 8000/74915 queries. users per second: 51393.1"
      ]
     },
     "metadata": {},
     "output_type": "display_data"
    },
    {
     "data": {
      "text/html": [
       "<pre>recommendations finished on 9000/74915 queries. users per second: 50942.1</pre>"
      ],
      "text/plain": [
       "recommendations finished on 9000/74915 queries. users per second: 50942.1"
      ]
     },
     "metadata": {},
     "output_type": "display_data"
    },
    {
     "data": {
      "text/html": [
       "<pre>recommendations finished on 10000/74915 queries. users per second: 50762.5</pre>"
      ],
      "text/plain": [
       "recommendations finished on 10000/74915 queries. users per second: 50762.5"
      ]
     },
     "metadata": {},
     "output_type": "display_data"
    },
    {
     "data": {
      "text/html": [
       "<pre>recommendations finished on 11000/74915 queries. users per second: 49959.1</pre>"
      ],
      "text/plain": [
       "recommendations finished on 11000/74915 queries. users per second: 49959.1"
      ]
     },
     "metadata": {},
     "output_type": "display_data"
    },
    {
     "data": {
      "text/html": [
       "<pre>recommendations finished on 12000/74915 queries. users per second: 49638.9</pre>"
      ],
      "text/plain": [
       "recommendations finished on 12000/74915 queries. users per second: 49638.9"
      ]
     },
     "metadata": {},
     "output_type": "display_data"
    },
    {
     "data": {
      "text/html": [
       "<pre>recommendations finished on 13000/74915 queries. users per second: 48563.3</pre>"
      ],
      "text/plain": [
       "recommendations finished on 13000/74915 queries. users per second: 48563.3"
      ]
     },
     "metadata": {},
     "output_type": "display_data"
    },
    {
     "data": {
      "text/html": [
       "<pre>recommendations finished on 14000/74915 queries. users per second: 48070.8</pre>"
      ],
      "text/plain": [
       "recommendations finished on 14000/74915 queries. users per second: 48070.8"
      ]
     },
     "metadata": {},
     "output_type": "display_data"
    },
    {
     "data": {
      "text/html": [
       "<pre>recommendations finished on 15000/74915 queries. users per second: 48089.3</pre>"
      ],
      "text/plain": [
       "recommendations finished on 15000/74915 queries. users per second: 48089.3"
      ]
     },
     "metadata": {},
     "output_type": "display_data"
    },
    {
     "data": {
      "text/html": [
       "<pre>recommendations finished on 16000/74915 queries. users per second: 47664.4</pre>"
      ],
      "text/plain": [
       "recommendations finished on 16000/74915 queries. users per second: 47664.4"
      ]
     },
     "metadata": {},
     "output_type": "display_data"
    },
    {
     "data": {
      "text/html": [
       "<pre>recommendations finished on 17000/74915 queries. users per second: 47347.2</pre>"
      ],
      "text/plain": [
       "recommendations finished on 17000/74915 queries. users per second: 47347.2"
      ]
     },
     "metadata": {},
     "output_type": "display_data"
    },
    {
     "data": {
      "text/html": [
       "<pre>recommendations finished on 18000/74915 queries. users per second: 47156.6</pre>"
      ],
      "text/plain": [
       "recommendations finished on 18000/74915 queries. users per second: 47156.6"
      ]
     },
     "metadata": {},
     "output_type": "display_data"
    },
    {
     "data": {
      "text/html": [
       "<pre>recommendations finished on 19000/74915 queries. users per second: 46953.9</pre>"
      ],
      "text/plain": [
       "recommendations finished on 19000/74915 queries. users per second: 46953.9"
      ]
     },
     "metadata": {},
     "output_type": "display_data"
    },
    {
     "data": {
      "text/html": [
       "<pre>recommendations finished on 20000/74915 queries. users per second: 46887.7</pre>"
      ],
      "text/plain": [
       "recommendations finished on 20000/74915 queries. users per second: 46887.7"
      ]
     },
     "metadata": {},
     "output_type": "display_data"
    },
    {
     "data": {
      "text/html": [
       "<pre>recommendations finished on 21000/74915 queries. users per second: 46742.1</pre>"
      ],
      "text/plain": [
       "recommendations finished on 21000/74915 queries. users per second: 46742.1"
      ]
     },
     "metadata": {},
     "output_type": "display_data"
    },
    {
     "data": {
      "text/html": [
       "<pre>recommendations finished on 22000/74915 queries. users per second: 46605.7</pre>"
      ],
      "text/plain": [
       "recommendations finished on 22000/74915 queries. users per second: 46605.7"
      ]
     },
     "metadata": {},
     "output_type": "display_data"
    },
    {
     "data": {
      "text/html": [
       "<pre>recommendations finished on 23000/74915 queries. users per second: 46836.4</pre>"
      ],
      "text/plain": [
       "recommendations finished on 23000/74915 queries. users per second: 46836.4"
      ]
     },
     "metadata": {},
     "output_type": "display_data"
    },
    {
     "data": {
      "text/html": [
       "<pre>recommendations finished on 24000/74915 queries. users per second: 46764.2</pre>"
      ],
      "text/plain": [
       "recommendations finished on 24000/74915 queries. users per second: 46764.2"
      ]
     },
     "metadata": {},
     "output_type": "display_data"
    },
    {
     "data": {
      "text/html": [
       "<pre>recommendations finished on 25000/74915 queries. users per second: 46957.5</pre>"
      ],
      "text/plain": [
       "recommendations finished on 25000/74915 queries. users per second: 46957.5"
      ]
     },
     "metadata": {},
     "output_type": "display_data"
    },
    {
     "data": {
      "text/html": [
       "<pre>recommendations finished on 26000/74915 queries. users per second: 46673.8</pre>"
      ],
      "text/plain": [
       "recommendations finished on 26000/74915 queries. users per second: 46673.8"
      ]
     },
     "metadata": {},
     "output_type": "display_data"
    },
    {
     "data": {
      "text/html": [
       "<pre>recommendations finished on 27000/74915 queries. users per second: 46485.7</pre>"
      ],
      "text/plain": [
       "recommendations finished on 27000/74915 queries. users per second: 46485.7"
      ]
     },
     "metadata": {},
     "output_type": "display_data"
    },
    {
     "data": {
      "text/html": [
       "<pre>recommendations finished on 28000/74915 queries. users per second: 46584.7</pre>"
      ],
      "text/plain": [
       "recommendations finished on 28000/74915 queries. users per second: 46584.7"
      ]
     },
     "metadata": {},
     "output_type": "display_data"
    },
    {
     "data": {
      "text/html": [
       "<pre>recommendations finished on 29000/74915 queries. users per second: 46705.4</pre>"
      ],
      "text/plain": [
       "recommendations finished on 29000/74915 queries. users per second: 46705.4"
      ]
     },
     "metadata": {},
     "output_type": "display_data"
    },
    {
     "data": {
      "text/html": [
       "<pre>recommendations finished on 30000/74915 queries. users per second: 46657.3</pre>"
      ],
      "text/plain": [
       "recommendations finished on 30000/74915 queries. users per second: 46657.3"
      ]
     },
     "metadata": {},
     "output_type": "display_data"
    },
    {
     "data": {
      "text/html": [
       "<pre>recommendations finished on 31000/74915 queries. users per second: 46413.4</pre>"
      ],
      "text/plain": [
       "recommendations finished on 31000/74915 queries. users per second: 46413.4"
      ]
     },
     "metadata": {},
     "output_type": "display_data"
    },
    {
     "data": {
      "text/html": [
       "<pre>recommendations finished on 32000/74915 queries. users per second: 46212</pre>"
      ],
      "text/plain": [
       "recommendations finished on 32000/74915 queries. users per second: 46212"
      ]
     },
     "metadata": {},
     "output_type": "display_data"
    },
    {
     "data": {
      "text/html": [
       "<pre>recommendations finished on 33000/74915 queries. users per second: 46376.6</pre>"
      ],
      "text/plain": [
       "recommendations finished on 33000/74915 queries. users per second: 46376.6"
      ]
     },
     "metadata": {},
     "output_type": "display_data"
    },
    {
     "data": {
      "text/html": [
       "<pre>recommendations finished on 34000/74915 queries. users per second: 46434.3</pre>"
      ],
      "text/plain": [
       "recommendations finished on 34000/74915 queries. users per second: 46434.3"
      ]
     },
     "metadata": {},
     "output_type": "display_data"
    },
    {
     "data": {
      "text/html": [
       "<pre>recommendations finished on 35000/74915 queries. users per second: 46475.3</pre>"
      ],
      "text/plain": [
       "recommendations finished on 35000/74915 queries. users per second: 46475.3"
      ]
     },
     "metadata": {},
     "output_type": "display_data"
    },
    {
     "data": {
      "text/html": [
       "<pre>recommendations finished on 36000/74915 queries. users per second: 46471.9</pre>"
      ],
      "text/plain": [
       "recommendations finished on 36000/74915 queries. users per second: 46471.9"
      ]
     },
     "metadata": {},
     "output_type": "display_data"
    },
    {
     "data": {
      "text/html": [
       "<pre>recommendations finished on 37000/74915 queries. users per second: 46390</pre>"
      ],
      "text/plain": [
       "recommendations finished on 37000/74915 queries. users per second: 46390"
      ]
     },
     "metadata": {},
     "output_type": "display_data"
    },
    {
     "data": {
      "text/html": [
       "<pre>recommendations finished on 38000/74915 queries. users per second: 46427</pre>"
      ],
      "text/plain": [
       "recommendations finished on 38000/74915 queries. users per second: 46427"
      ]
     },
     "metadata": {},
     "output_type": "display_data"
    },
    {
     "data": {
      "text/html": [
       "<pre>recommendations finished on 39000/74915 queries. users per second: 46394.5</pre>"
      ],
      "text/plain": [
       "recommendations finished on 39000/74915 queries. users per second: 46394.5"
      ]
     },
     "metadata": {},
     "output_type": "display_data"
    },
    {
     "data": {
      "text/html": [
       "<pre>recommendations finished on 40000/74915 queries. users per second: 46381.2</pre>"
      ],
      "text/plain": [
       "recommendations finished on 40000/74915 queries. users per second: 46381.2"
      ]
     },
     "metadata": {},
     "output_type": "display_data"
    },
    {
     "data": {
      "text/html": [
       "<pre>recommendations finished on 41000/74915 queries. users per second: 46358.1</pre>"
      ],
      "text/plain": [
       "recommendations finished on 41000/74915 queries. users per second: 46358.1"
      ]
     },
     "metadata": {},
     "output_type": "display_data"
    },
    {
     "data": {
      "text/html": [
       "<pre>recommendations finished on 42000/74915 queries. users per second: 46410</pre>"
      ],
      "text/plain": [
       "recommendations finished on 42000/74915 queries. users per second: 46410"
      ]
     },
     "metadata": {},
     "output_type": "display_data"
    },
    {
     "data": {
      "text/html": [
       "<pre>recommendations finished on 43000/74915 queries. users per second: 46509.4</pre>"
      ],
      "text/plain": [
       "recommendations finished on 43000/74915 queries. users per second: 46509.4"
      ]
     },
     "metadata": {},
     "output_type": "display_data"
    },
    {
     "data": {
      "text/html": [
       "<pre>recommendations finished on 44000/74915 queries. users per second: 46560</pre>"
      ],
      "text/plain": [
       "recommendations finished on 44000/74915 queries. users per second: 46560"
      ]
     },
     "metadata": {},
     "output_type": "display_data"
    },
    {
     "data": {
      "text/html": [
       "<pre>recommendations finished on 45000/74915 queries. users per second: 46649.5</pre>"
      ],
      "text/plain": [
       "recommendations finished on 45000/74915 queries. users per second: 46649.5"
      ]
     },
     "metadata": {},
     "output_type": "display_data"
    },
    {
     "data": {
      "text/html": [
       "<pre>recommendations finished on 46000/74915 queries. users per second: 46782</pre>"
      ],
      "text/plain": [
       "recommendations finished on 46000/74915 queries. users per second: 46782"
      ]
     },
     "metadata": {},
     "output_type": "display_data"
    },
    {
     "data": {
      "text/html": [
       "<pre>recommendations finished on 47000/74915 queries. users per second: 46782.5</pre>"
      ],
      "text/plain": [
       "recommendations finished on 47000/74915 queries. users per second: 46782.5"
      ]
     },
     "metadata": {},
     "output_type": "display_data"
    },
    {
     "data": {
      "text/html": [
       "<pre>recommendations finished on 48000/74915 queries. users per second: 46867.7</pre>"
      ],
      "text/plain": [
       "recommendations finished on 48000/74915 queries. users per second: 46867.7"
      ]
     },
     "metadata": {},
     "output_type": "display_data"
    },
    {
     "data": {
      "text/html": [
       "<pre>recommendations finished on 49000/74915 queries. users per second: 46852.3</pre>"
      ],
      "text/plain": [
       "recommendations finished on 49000/74915 queries. users per second: 46852.3"
      ]
     },
     "metadata": {},
     "output_type": "display_data"
    },
    {
     "data": {
      "text/html": [
       "<pre>recommendations finished on 50000/74915 queries. users per second: 47053.3</pre>"
      ],
      "text/plain": [
       "recommendations finished on 50000/74915 queries. users per second: 47053.3"
      ]
     },
     "metadata": {},
     "output_type": "display_data"
    },
    {
     "data": {
      "text/html": [
       "<pre>recommendations finished on 51000/74915 queries. users per second: 46827.8</pre>"
      ],
      "text/plain": [
       "recommendations finished on 51000/74915 queries. users per second: 46827.8"
      ]
     },
     "metadata": {},
     "output_type": "display_data"
    },
    {
     "data": {
      "text/html": [
       "<pre>recommendations finished on 52000/74915 queries. users per second: 46757.4</pre>"
      ],
      "text/plain": [
       "recommendations finished on 52000/74915 queries. users per second: 46757.4"
      ]
     },
     "metadata": {},
     "output_type": "display_data"
    },
    {
     "data": {
      "text/html": [
       "<pre>recommendations finished on 53000/74915 queries. users per second: 46699.6</pre>"
      ],
      "text/plain": [
       "recommendations finished on 53000/74915 queries. users per second: 46699.6"
      ]
     },
     "metadata": {},
     "output_type": "display_data"
    },
    {
     "data": {
      "text/html": [
       "<pre>recommendations finished on 54000/74915 queries. users per second: 46388.4</pre>"
      ],
      "text/plain": [
       "recommendations finished on 54000/74915 queries. users per second: 46388.4"
      ]
     },
     "metadata": {},
     "output_type": "display_data"
    },
    {
     "data": {
      "text/html": [
       "<pre>recommendations finished on 55000/74915 queries. users per second: 46417.3</pre>"
      ],
      "text/plain": [
       "recommendations finished on 55000/74915 queries. users per second: 46417.3"
      ]
     },
     "metadata": {},
     "output_type": "display_data"
    },
    {
     "data": {
      "text/html": [
       "<pre>recommendations finished on 56000/74915 queries. users per second: 46475.7</pre>"
      ],
      "text/plain": [
       "recommendations finished on 56000/74915 queries. users per second: 46475.7"
      ]
     },
     "metadata": {},
     "output_type": "display_data"
    },
    {
     "data": {
      "text/html": [
       "<pre>recommendations finished on 57000/74915 queries. users per second: 46493.9</pre>"
      ],
      "text/plain": [
       "recommendations finished on 57000/74915 queries. users per second: 46493.9"
      ]
     },
     "metadata": {},
     "output_type": "display_data"
    },
    {
     "data": {
      "text/html": [
       "<pre>recommendations finished on 58000/74915 queries. users per second: 46473</pre>"
      ],
      "text/plain": [
       "recommendations finished on 58000/74915 queries. users per second: 46473"
      ]
     },
     "metadata": {},
     "output_type": "display_data"
    },
    {
     "data": {
      "text/html": [
       "<pre>recommendations finished on 59000/74915 queries. users per second: 46423.6</pre>"
      ],
      "text/plain": [
       "recommendations finished on 59000/74915 queries. users per second: 46423.6"
      ]
     },
     "metadata": {},
     "output_type": "display_data"
    },
    {
     "data": {
      "text/html": [
       "<pre>recommendations finished on 60000/74915 queries. users per second: 46507.4</pre>"
      ],
      "text/plain": [
       "recommendations finished on 60000/74915 queries. users per second: 46507.4"
      ]
     },
     "metadata": {},
     "output_type": "display_data"
    },
    {
     "data": {
      "text/html": [
       "<pre>recommendations finished on 61000/74915 queries. users per second: 46563.1</pre>"
      ],
      "text/plain": [
       "recommendations finished on 61000/74915 queries. users per second: 46563.1"
      ]
     },
     "metadata": {},
     "output_type": "display_data"
    },
    {
     "data": {
      "text/html": [
       "<pre>recommendations finished on 62000/74915 queries. users per second: 46569.7</pre>"
      ],
      "text/plain": [
       "recommendations finished on 62000/74915 queries. users per second: 46569.7"
      ]
     },
     "metadata": {},
     "output_type": "display_data"
    },
    {
     "data": {
      "text/html": [
       "<pre>recommendations finished on 63000/74915 queries. users per second: 46701.7</pre>"
      ],
      "text/plain": [
       "recommendations finished on 63000/74915 queries. users per second: 46701.7"
      ]
     },
     "metadata": {},
     "output_type": "display_data"
    },
    {
     "data": {
      "text/html": [
       "<pre>recommendations finished on 64000/74915 queries. users per second: 46760.7</pre>"
      ],
      "text/plain": [
       "recommendations finished on 64000/74915 queries. users per second: 46760.7"
      ]
     },
     "metadata": {},
     "output_type": "display_data"
    },
    {
     "data": {
      "text/html": [
       "<pre>recommendations finished on 65000/74915 queries. users per second: 46759.9</pre>"
      ],
      "text/plain": [
       "recommendations finished on 65000/74915 queries. users per second: 46759.9"
      ]
     },
     "metadata": {},
     "output_type": "display_data"
    },
    {
     "data": {
      "text/html": [
       "<pre>recommendations finished on 66000/74915 queries. users per second: 46840.9</pre>"
      ],
      "text/plain": [
       "recommendations finished on 66000/74915 queries. users per second: 46840.9"
      ]
     },
     "metadata": {},
     "output_type": "display_data"
    },
    {
     "data": {
      "text/html": [
       "<pre>recommendations finished on 67000/74915 queries. users per second: 46875.6</pre>"
      ],
      "text/plain": [
       "recommendations finished on 67000/74915 queries. users per second: 46875.6"
      ]
     },
     "metadata": {},
     "output_type": "display_data"
    },
    {
     "data": {
      "text/html": [
       "<pre>recommendations finished on 68000/74915 queries. users per second: 46908.9</pre>"
      ],
      "text/plain": [
       "recommendations finished on 68000/74915 queries. users per second: 46908.9"
      ]
     },
     "metadata": {},
     "output_type": "display_data"
    },
    {
     "data": {
      "text/html": [
       "<pre>recommendations finished on 69000/74915 queries. users per second: 46942.3</pre>"
      ],
      "text/plain": [
       "recommendations finished on 69000/74915 queries. users per second: 46942.3"
      ]
     },
     "metadata": {},
     "output_type": "display_data"
    },
    {
     "data": {
      "text/html": [
       "<pre>recommendations finished on 70000/74915 queries. users per second: 46945</pre>"
      ],
      "text/plain": [
       "recommendations finished on 70000/74915 queries. users per second: 46945"
      ]
     },
     "metadata": {},
     "output_type": "display_data"
    },
    {
     "data": {
      "text/html": [
       "<pre>recommendations finished on 71000/74915 queries. users per second: 46924.4</pre>"
      ],
      "text/plain": [
       "recommendations finished on 71000/74915 queries. users per second: 46924.4"
      ]
     },
     "metadata": {},
     "output_type": "display_data"
    },
    {
     "data": {
      "text/html": [
       "<pre>recommendations finished on 72000/74915 queries. users per second: 46892.8</pre>"
      ],
      "text/plain": [
       "recommendations finished on 72000/74915 queries. users per second: 46892.8"
      ]
     },
     "metadata": {},
     "output_type": "display_data"
    },
    {
     "data": {
      "text/html": [
       "<pre>recommendations finished on 73000/74915 queries. users per second: 46717.8</pre>"
      ],
      "text/plain": [
       "recommendations finished on 73000/74915 queries. users per second: 46717.8"
      ]
     },
     "metadata": {},
     "output_type": "display_data"
    },
    {
     "data": {
      "text/html": [
       "<pre>recommendations finished on 74000/74915 queries. users per second: 46684.8</pre>"
      ],
      "text/plain": [
       "recommendations finished on 74000/74915 queries. users per second: 46684.8"
      ]
     },
     "metadata": {},
     "output_type": "display_data"
    },
    {
     "name": "stdout",
     "output_type": "stream",
     "text": [
      "+--------+-----------+---------------+------+\n",
      "| UserId | productid |     score     | rank |\n",
      "+--------+-----------+---------------+------+\n",
      "|   0    |  12936598 |      10.0     |  1   |\n",
      "|   0    |  12658082 |      8.0      |  2   |\n",
      "|   0    |  12371276 |     7.125     |  3   |\n",
      "|   0    |  12658250 | 6.83333333333 |  4   |\n",
      "|   0    |  13039152 | 6.66666666667 |  5   |\n",
      "|   0    |  11360688 |      6.5      |  6   |\n",
      "|   0    |  12407912 |      6.0      |  7   |\n",
      "|   0    |  13653580 | 5.71428571429 |  8   |\n",
      "|   0    |  12406988 |      5.0      |  9   |\n",
      "|   0    |  13653602 |      5.0      |  10  |\n",
      "|   1    |  12936598 |      10.0     |  1   |\n",
      "|   1    |  12658082 |      8.0      |  2   |\n",
      "|   1    |  12371276 |     7.125     |  3   |\n",
      "|   1    |  12658250 | 6.83333333333 |  4   |\n",
      "|   1    |  13039152 | 6.66666666667 |  5   |\n",
      "|   1    |  11360688 |      6.5      |  6   |\n",
      "|   1    |  12407912 |      6.0      |  7   |\n",
      "|   1    |  13653580 | 5.71428571429 |  8   |\n",
      "|   1    |  12406988 |      5.0      |  9   |\n",
      "|   1    |  13653602 |      5.0      |  10  |\n",
      "|   2    |  12936598 |      10.0     |  1   |\n",
      "|   2    |  12658082 |      8.0      |  2   |\n",
      "|   2    |  12371276 |     7.125     |  3   |\n",
      "|   2    |  12658250 | 6.83333333333 |  4   |\n",
      "|   2    |  13039152 | 6.66666666667 |  5   |\n",
      "|   2    |  11360688 |      6.5      |  6   |\n",
      "|   2    |  12407912 |      6.0      |  7   |\n",
      "|   2    |  13653580 | 5.71428571429 |  8   |\n",
      "|   2    |  12406988 |      5.0      |  9   |\n",
      "|   2    |  13653602 |      5.0      |  10  |\n",
      "+--------+-----------+---------------+------+\n",
      "[749150 rows x 4 columns]\n",
      "\n"
     ]
    }
   ],
   "source": [
    "name = 'popularity'\n",
    "target = 'frequency'\n",
    "user_id = 'UserId'\n",
    "item_id = 'productid'\n",
    "users_to_recommend = list(mydf['UserId'])\n",
    "n_rec = 10\n",
    "n_display = 30\n",
    "popularity = model(tc.SFrame(mydf), name, user_id, item_id, target, users_to_recommend, n_rec, n_display)"
   ]
  },
  {
   "cell_type": "code",
   "execution_count": 423,
   "metadata": {},
   "outputs": [
    {
     "data": {
      "text/html": [
       "<pre>recommendations finished on 1000/2350 queries. users per second: 24059.9</pre>"
      ],
      "text/plain": [
       "recommendations finished on 1000/2350 queries. users per second: 24059.9"
      ]
     },
     "metadata": {},
     "output_type": "display_data"
    },
    {
     "data": {
      "text/html": [
       "<pre>recommendations finished on 2000/2350 queries. users per second: 33075.3</pre>"
      ],
      "text/plain": [
       "recommendations finished on 2000/2350 queries. users per second: 33075.3"
      ]
     },
     "metadata": {},
     "output_type": "display_data"
    }
   ],
   "source": [
    "users_to_recommend = list(test['UserId'])\n",
    "n_rec = 10 \n",
    "recom = pop_norm.recommend(users=users_to_recommend, k=n_rec)"
   ]
  },
  {
   "cell_type": "code",
   "execution_count": null,
   "metadata": {},
   "outputs": [],
   "source": []
  },
  {
   "cell_type": "code",
   "execution_count": 424,
   "metadata": {},
   "outputs": [],
   "source": [
    "df_rec = recom.to_dataframe()\n",
    "temp_rec = df_rec.copy()\n",
    "temp_df_df = temp_rec.groupby('UserId')['productid'].apply(list)\n",
    "temp_df_df.to_csv('/Users/rahulsharma/Teams/Cappilary_Hackathon/popu3.csv')"
   ]
  },
  {
   "cell_type": "code",
   "execution_count": 419,
   "metadata": {},
   "outputs": [
    {
     "data": {
      "text/html": [
       "<pre>Warning: Ignoring columns frequency;</pre>"
      ],
      "text/plain": [
       "Warning: Ignoring columns frequency;"
      ]
     },
     "metadata": {},
     "output_type": "display_data"
    },
    {
     "data": {
      "text/html": [
       "<pre>    To use these columns in scoring predictions, use a model that allows the use of additional features.</pre>"
      ],
      "text/plain": [
       "    To use these columns in scoring predictions, use a model that allows the use of additional features."
      ]
     },
     "metadata": {},
     "output_type": "display_data"
    },
    {
     "data": {
      "text/html": [
       "<pre>Preparing data set.</pre>"
      ],
      "text/plain": [
       "Preparing data set."
      ]
     },
     "metadata": {},
     "output_type": "display_data"
    },
    {
     "data": {
      "text/html": [
       "<pre>    Data has 74915 observations with 27778 users and 3026 items.</pre>"
      ],
      "text/plain": [
       "    Data has 74915 observations with 27778 users and 3026 items."
      ]
     },
     "metadata": {},
     "output_type": "display_data"
    },
    {
     "data": {
      "text/html": [
       "<pre>    Data prepared in: 0.186557s</pre>"
      ],
      "text/plain": [
       "    Data prepared in: 0.186557s"
      ]
     },
     "metadata": {},
     "output_type": "display_data"
    },
    {
     "data": {
      "text/html": [
       "<pre>74915 observations to process; with 3026 unique items.</pre>"
      ],
      "text/plain": [
       "74915 observations to process; with 3026 unique items."
      ]
     },
     "metadata": {},
     "output_type": "display_data"
    },
    {
     "data": {
      "text/html": [
       "<pre>recommendations finished on 1000/74915 queries. users per second: 54439.5</pre>"
      ],
      "text/plain": [
       "recommendations finished on 1000/74915 queries. users per second: 54439.5"
      ]
     },
     "metadata": {},
     "output_type": "display_data"
    },
    {
     "data": {
      "text/html": [
       "<pre>recommendations finished on 2000/74915 queries. users per second: 57845.3</pre>"
      ],
      "text/plain": [
       "recommendations finished on 2000/74915 queries. users per second: 57845.3"
      ]
     },
     "metadata": {},
     "output_type": "display_data"
    },
    {
     "data": {
      "text/html": [
       "<pre>recommendations finished on 3000/74915 queries. users per second: 55984.8</pre>"
      ],
      "text/plain": [
       "recommendations finished on 3000/74915 queries. users per second: 55984.8"
      ]
     },
     "metadata": {},
     "output_type": "display_data"
    },
    {
     "data": {
      "text/html": [
       "<pre>recommendations finished on 4000/74915 queries. users per second: 52657.9</pre>"
      ],
      "text/plain": [
       "recommendations finished on 4000/74915 queries. users per second: 52657.9"
      ]
     },
     "metadata": {},
     "output_type": "display_data"
    },
    {
     "data": {
      "text/html": [
       "<pre>recommendations finished on 5000/74915 queries. users per second: 50266.4</pre>"
      ],
      "text/plain": [
       "recommendations finished on 5000/74915 queries. users per second: 50266.4"
      ]
     },
     "metadata": {},
     "output_type": "display_data"
    },
    {
     "data": {
      "text/html": [
       "<pre>recommendations finished on 6000/74915 queries. users per second: 49514.8</pre>"
      ],
      "text/plain": [
       "recommendations finished on 6000/74915 queries. users per second: 49514.8"
      ]
     },
     "metadata": {},
     "output_type": "display_data"
    },
    {
     "data": {
      "text/html": [
       "<pre>recommendations finished on 7000/74915 queries. users per second: 49267</pre>"
      ],
      "text/plain": [
       "recommendations finished on 7000/74915 queries. users per second: 49267"
      ]
     },
     "metadata": {},
     "output_type": "display_data"
    },
    {
     "data": {
      "text/html": [
       "<pre>recommendations finished on 8000/74915 queries. users per second: 49155.4</pre>"
      ],
      "text/plain": [
       "recommendations finished on 8000/74915 queries. users per second: 49155.4"
      ]
     },
     "metadata": {},
     "output_type": "display_data"
    },
    {
     "data": {
      "text/html": [
       "<pre>recommendations finished on 9000/74915 queries. users per second: 48901.9</pre>"
      ],
      "text/plain": [
       "recommendations finished on 9000/74915 queries. users per second: 48901.9"
      ]
     },
     "metadata": {},
     "output_type": "display_data"
    },
    {
     "data": {
      "text/html": [
       "<pre>recommendations finished on 10000/74915 queries. users per second: 49011.9</pre>"
      ],
      "text/plain": [
       "recommendations finished on 10000/74915 queries. users per second: 49011.9"
      ]
     },
     "metadata": {},
     "output_type": "display_data"
    },
    {
     "data": {
      "text/html": [
       "<pre>recommendations finished on 11000/74915 queries. users per second: 48440.2</pre>"
      ],
      "text/plain": [
       "recommendations finished on 11000/74915 queries. users per second: 48440.2"
      ]
     },
     "metadata": {},
     "output_type": "display_data"
    },
    {
     "data": {
      "text/html": [
       "<pre>recommendations finished on 12000/74915 queries. users per second: 47999.6</pre>"
      ],
      "text/plain": [
       "recommendations finished on 12000/74915 queries. users per second: 47999.6"
      ]
     },
     "metadata": {},
     "output_type": "display_data"
    },
    {
     "data": {
      "text/html": [
       "<pre>recommendations finished on 13000/74915 queries. users per second: 47969.8</pre>"
      ],
      "text/plain": [
       "recommendations finished on 13000/74915 queries. users per second: 47969.8"
      ]
     },
     "metadata": {},
     "output_type": "display_data"
    },
    {
     "data": {
      "text/html": [
       "<pre>recommendations finished on 14000/74915 queries. users per second: 47446</pre>"
      ],
      "text/plain": [
       "recommendations finished on 14000/74915 queries. users per second: 47446"
      ]
     },
     "metadata": {},
     "output_type": "display_data"
    },
    {
     "data": {
      "text/html": [
       "<pre>recommendations finished on 15000/74915 queries. users per second: 47057.3</pre>"
      ],
      "text/plain": [
       "recommendations finished on 15000/74915 queries. users per second: 47057.3"
      ]
     },
     "metadata": {},
     "output_type": "display_data"
    },
    {
     "data": {
      "text/html": [
       "<pre>recommendations finished on 16000/74915 queries. users per second: 47608</pre>"
      ],
      "text/plain": [
       "recommendations finished on 16000/74915 queries. users per second: 47608"
      ]
     },
     "metadata": {},
     "output_type": "display_data"
    },
    {
     "data": {
      "text/html": [
       "<pre>recommendations finished on 17000/74915 queries. users per second: 47118</pre>"
      ],
      "text/plain": [
       "recommendations finished on 17000/74915 queries. users per second: 47118"
      ]
     },
     "metadata": {},
     "output_type": "display_data"
    },
    {
     "data": {
      "text/html": [
       "<pre>recommendations finished on 18000/74915 queries. users per second: 47204.1</pre>"
      ],
      "text/plain": [
       "recommendations finished on 18000/74915 queries. users per second: 47204.1"
      ]
     },
     "metadata": {},
     "output_type": "display_data"
    },
    {
     "data": {
      "text/html": [
       "<pre>recommendations finished on 19000/74915 queries. users per second: 47299.3</pre>"
      ],
      "text/plain": [
       "recommendations finished on 19000/74915 queries. users per second: 47299.3"
      ]
     },
     "metadata": {},
     "output_type": "display_data"
    },
    {
     "data": {
      "text/html": [
       "<pre>recommendations finished on 20000/74915 queries. users per second: 47129.8</pre>"
      ],
      "text/plain": [
       "recommendations finished on 20000/74915 queries. users per second: 47129.8"
      ]
     },
     "metadata": {},
     "output_type": "display_data"
    },
    {
     "data": {
      "text/html": [
       "<pre>recommendations finished on 21000/74915 queries. users per second: 47264.8</pre>"
      ],
      "text/plain": [
       "recommendations finished on 21000/74915 queries. users per second: 47264.8"
      ]
     },
     "metadata": {},
     "output_type": "display_data"
    },
    {
     "data": {
      "text/html": [
       "<pre>recommendations finished on 22000/74915 queries. users per second: 47405.8</pre>"
      ],
      "text/plain": [
       "recommendations finished on 22000/74915 queries. users per second: 47405.8"
      ]
     },
     "metadata": {},
     "output_type": "display_data"
    },
    {
     "data": {
      "text/html": [
       "<pre>recommendations finished on 23000/74915 queries. users per second: 47539.4</pre>"
      ],
      "text/plain": [
       "recommendations finished on 23000/74915 queries. users per second: 47539.4"
      ]
     },
     "metadata": {},
     "output_type": "display_data"
    },
    {
     "data": {
      "text/html": [
       "<pre>recommendations finished on 24000/74915 queries. users per second: 47414.2</pre>"
      ],
      "text/plain": [
       "recommendations finished on 24000/74915 queries. users per second: 47414.2"
      ]
     },
     "metadata": {},
     "output_type": "display_data"
    },
    {
     "data": {
      "text/html": [
       "<pre>recommendations finished on 25000/74915 queries. users per second: 47460.1</pre>"
      ],
      "text/plain": [
       "recommendations finished on 25000/74915 queries. users per second: 47460.1"
      ]
     },
     "metadata": {},
     "output_type": "display_data"
    },
    {
     "data": {
      "text/html": [
       "<pre>recommendations finished on 26000/74915 queries. users per second: 47068.3</pre>"
      ],
      "text/plain": [
       "recommendations finished on 26000/74915 queries. users per second: 47068.3"
      ]
     },
     "metadata": {},
     "output_type": "display_data"
    },
    {
     "data": {
      "text/html": [
       "<pre>recommendations finished on 27000/74915 queries. users per second: 47113.8</pre>"
      ],
      "text/plain": [
       "recommendations finished on 27000/74915 queries. users per second: 47113.8"
      ]
     },
     "metadata": {},
     "output_type": "display_data"
    },
    {
     "data": {
      "text/html": [
       "<pre>recommendations finished on 28000/74915 queries. users per second: 47150.9</pre>"
      ],
      "text/plain": [
       "recommendations finished on 28000/74915 queries. users per second: 47150.9"
      ]
     },
     "metadata": {},
     "output_type": "display_data"
    },
    {
     "data": {
      "text/html": [
       "<pre>recommendations finished on 29000/74915 queries. users per second: 47083.5</pre>"
      ],
      "text/plain": [
       "recommendations finished on 29000/74915 queries. users per second: 47083.5"
      ]
     },
     "metadata": {},
     "output_type": "display_data"
    },
    {
     "data": {
      "text/html": [
       "<pre>recommendations finished on 30000/74915 queries. users per second: 47032</pre>"
      ],
      "text/plain": [
       "recommendations finished on 30000/74915 queries. users per second: 47032"
      ]
     },
     "metadata": {},
     "output_type": "display_data"
    },
    {
     "data": {
      "text/html": [
       "<pre>recommendations finished on 31000/74915 queries. users per second: 47005.2</pre>"
      ],
      "text/plain": [
       "recommendations finished on 31000/74915 queries. users per second: 47005.2"
      ]
     },
     "metadata": {},
     "output_type": "display_data"
    },
    {
     "data": {
      "text/html": [
       "<pre>recommendations finished on 32000/74915 queries. users per second: 46699</pre>"
      ],
      "text/plain": [
       "recommendations finished on 32000/74915 queries. users per second: 46699"
      ]
     },
     "metadata": {},
     "output_type": "display_data"
    },
    {
     "data": {
      "text/html": [
       "<pre>recommendations finished on 33000/74915 queries. users per second: 46702.5</pre>"
      ],
      "text/plain": [
       "recommendations finished on 33000/74915 queries. users per second: 46702.5"
      ]
     },
     "metadata": {},
     "output_type": "display_data"
    },
    {
     "data": {
      "text/html": [
       "<pre>recommendations finished on 34000/74915 queries. users per second: 46593.9</pre>"
      ],
      "text/plain": [
       "recommendations finished on 34000/74915 queries. users per second: 46593.9"
      ]
     },
     "metadata": {},
     "output_type": "display_data"
    },
    {
     "data": {
      "text/html": [
       "<pre>recommendations finished on 35000/74915 queries. users per second: 46557.4</pre>"
      ],
      "text/plain": [
       "recommendations finished on 35000/74915 queries. users per second: 46557.4"
      ]
     },
     "metadata": {},
     "output_type": "display_data"
    },
    {
     "data": {
      "text/html": [
       "<pre>recommendations finished on 36000/74915 queries. users per second: 46491.7</pre>"
      ],
      "text/plain": [
       "recommendations finished on 36000/74915 queries. users per second: 46491.7"
      ]
     },
     "metadata": {},
     "output_type": "display_data"
    },
    {
     "data": {
      "text/html": [
       "<pre>recommendations finished on 37000/74915 queries. users per second: 46522.3</pre>"
      ],
      "text/plain": [
       "recommendations finished on 37000/74915 queries. users per second: 46522.3"
      ]
     },
     "metadata": {},
     "output_type": "display_data"
    },
    {
     "data": {
      "text/html": [
       "<pre>recommendations finished on 38000/74915 queries. users per second: 46434.2</pre>"
      ],
      "text/plain": [
       "recommendations finished on 38000/74915 queries. users per second: 46434.2"
      ]
     },
     "metadata": {},
     "output_type": "display_data"
    },
    {
     "data": {
      "text/html": [
       "<pre>recommendations finished on 39000/74915 queries. users per second: 46517</pre>"
      ],
      "text/plain": [
       "recommendations finished on 39000/74915 queries. users per second: 46517"
      ]
     },
     "metadata": {},
     "output_type": "display_data"
    },
    {
     "data": {
      "text/html": [
       "<pre>recommendations finished on 40000/74915 queries. users per second: 46543.8</pre>"
      ],
      "text/plain": [
       "recommendations finished on 40000/74915 queries. users per second: 46543.8"
      ]
     },
     "metadata": {},
     "output_type": "display_data"
    },
    {
     "data": {
      "text/html": [
       "<pre>recommendations finished on 41000/74915 queries. users per second: 46677.3</pre>"
      ],
      "text/plain": [
       "recommendations finished on 41000/74915 queries. users per second: 46677.3"
      ]
     },
     "metadata": {},
     "output_type": "display_data"
    },
    {
     "data": {
      "text/html": [
       "<pre>recommendations finished on 42000/74915 queries. users per second: 46803.4</pre>"
      ],
      "text/plain": [
       "recommendations finished on 42000/74915 queries. users per second: 46803.4"
      ]
     },
     "metadata": {},
     "output_type": "display_data"
    },
    {
     "data": {
      "text/html": [
       "<pre>recommendations finished on 43000/74915 queries. users per second: 45979.8</pre>"
      ],
      "text/plain": [
       "recommendations finished on 43000/74915 queries. users per second: 45979.8"
      ]
     },
     "metadata": {},
     "output_type": "display_data"
    },
    {
     "data": {
      "text/html": [
       "<pre>recommendations finished on 44000/74915 queries. users per second: 45958.9</pre>"
      ],
      "text/plain": [
       "recommendations finished on 44000/74915 queries. users per second: 45958.9"
      ]
     },
     "metadata": {},
     "output_type": "display_data"
    },
    {
     "data": {
      "text/html": [
       "<pre>recommendations finished on 45000/74915 queries. users per second: 45973.3</pre>"
      ],
      "text/plain": [
       "recommendations finished on 45000/74915 queries. users per second: 45973.3"
      ]
     },
     "metadata": {},
     "output_type": "display_data"
    },
    {
     "data": {
      "text/html": [
       "<pre>recommendations finished on 46000/74915 queries. users per second: 45955.1</pre>"
      ],
      "text/plain": [
       "recommendations finished on 46000/74915 queries. users per second: 45955.1"
      ]
     },
     "metadata": {},
     "output_type": "display_data"
    },
    {
     "data": {
      "text/html": [
       "<pre>recommendations finished on 47000/74915 queries. users per second: 45990.5</pre>"
      ],
      "text/plain": [
       "recommendations finished on 47000/74915 queries. users per second: 45990.5"
      ]
     },
     "metadata": {},
     "output_type": "display_data"
    },
    {
     "data": {
      "text/html": [
       "<pre>recommendations finished on 48000/74915 queries. users per second: 45808.6</pre>"
      ],
      "text/plain": [
       "recommendations finished on 48000/74915 queries. users per second: 45808.6"
      ]
     },
     "metadata": {},
     "output_type": "display_data"
    },
    {
     "data": {
      "text/html": [
       "<pre>recommendations finished on 49000/74915 queries. users per second: 45672.9</pre>"
      ],
      "text/plain": [
       "recommendations finished on 49000/74915 queries. users per second: 45672.9"
      ]
     },
     "metadata": {},
     "output_type": "display_data"
    },
    {
     "data": {
      "text/html": [
       "<pre>recommendations finished on 50000/74915 queries. users per second: 45603.2</pre>"
      ],
      "text/plain": [
       "recommendations finished on 50000/74915 queries. users per second: 45603.2"
      ]
     },
     "metadata": {},
     "output_type": "display_data"
    },
    {
     "data": {
      "text/html": [
       "<pre>recommendations finished on 51000/74915 queries. users per second: 45680.5</pre>"
      ],
      "text/plain": [
       "recommendations finished on 51000/74915 queries. users per second: 45680.5"
      ]
     },
     "metadata": {},
     "output_type": "display_data"
    },
    {
     "data": {
      "text/html": [
       "<pre>recommendations finished on 52000/74915 queries. users per second: 45756.1</pre>"
      ],
      "text/plain": [
       "recommendations finished on 52000/74915 queries. users per second: 45756.1"
      ]
     },
     "metadata": {},
     "output_type": "display_data"
    },
    {
     "data": {
      "text/html": [
       "<pre>recommendations finished on 53000/74915 queries. users per second: 45655.4</pre>"
      ],
      "text/plain": [
       "recommendations finished on 53000/74915 queries. users per second: 45655.4"
      ]
     },
     "metadata": {},
     "output_type": "display_data"
    },
    {
     "data": {
      "text/html": [
       "<pre>recommendations finished on 54000/74915 queries. users per second: 45835.5</pre>"
      ],
      "text/plain": [
       "recommendations finished on 54000/74915 queries. users per second: 45835.5"
      ]
     },
     "metadata": {},
     "output_type": "display_data"
    },
    {
     "data": {
      "text/html": [
       "<pre>recommendations finished on 55000/74915 queries. users per second: 45957.3</pre>"
      ],
      "text/plain": [
       "recommendations finished on 55000/74915 queries. users per second: 45957.3"
      ]
     },
     "metadata": {},
     "output_type": "display_data"
    },
    {
     "data": {
      "text/html": [
       "<pre>recommendations finished on 56000/74915 queries. users per second: 45827.6</pre>"
      ],
      "text/plain": [
       "recommendations finished on 56000/74915 queries. users per second: 45827.6"
      ]
     },
     "metadata": {},
     "output_type": "display_data"
    },
    {
     "data": {
      "text/html": [
       "<pre>recommendations finished on 57000/74915 queries. users per second: 45782.1</pre>"
      ],
      "text/plain": [
       "recommendations finished on 57000/74915 queries. users per second: 45782.1"
      ]
     },
     "metadata": {},
     "output_type": "display_data"
    },
    {
     "data": {
      "text/html": [
       "<pre>recommendations finished on 58000/74915 queries. users per second: 45726</pre>"
      ],
      "text/plain": [
       "recommendations finished on 58000/74915 queries. users per second: 45726"
      ]
     },
     "metadata": {},
     "output_type": "display_data"
    },
    {
     "data": {
      "text/html": [
       "<pre>recommendations finished on 59000/74915 queries. users per second: 45814.4</pre>"
      ],
      "text/plain": [
       "recommendations finished on 59000/74915 queries. users per second: 45814.4"
      ]
     },
     "metadata": {},
     "output_type": "display_data"
    },
    {
     "data": {
      "text/html": [
       "<pre>recommendations finished on 60000/74915 queries. users per second: 45820.1</pre>"
      ],
      "text/plain": [
       "recommendations finished on 60000/74915 queries. users per second: 45820.1"
      ]
     },
     "metadata": {},
     "output_type": "display_data"
    },
    {
     "data": {
      "text/html": [
       "<pre>recommendations finished on 61000/74915 queries. users per second: 45722.5</pre>"
      ],
      "text/plain": [
       "recommendations finished on 61000/74915 queries. users per second: 45722.5"
      ]
     },
     "metadata": {},
     "output_type": "display_data"
    },
    {
     "data": {
      "text/html": [
       "<pre>recommendations finished on 62000/74915 queries. users per second: 45744.1</pre>"
      ],
      "text/plain": [
       "recommendations finished on 62000/74915 queries. users per second: 45744.1"
      ]
     },
     "metadata": {},
     "output_type": "display_data"
    },
    {
     "data": {
      "text/html": [
       "<pre>recommendations finished on 63000/74915 queries. users per second: 45774.9</pre>"
      ],
      "text/plain": [
       "recommendations finished on 63000/74915 queries. users per second: 45774.9"
      ]
     },
     "metadata": {},
     "output_type": "display_data"
    },
    {
     "data": {
      "text/html": [
       "<pre>recommendations finished on 64000/74915 queries. users per second: 45840.4</pre>"
      ],
      "text/plain": [
       "recommendations finished on 64000/74915 queries. users per second: 45840.4"
      ]
     },
     "metadata": {},
     "output_type": "display_data"
    },
    {
     "data": {
      "text/html": [
       "<pre>recommendations finished on 65000/74915 queries. users per second: 45915.1</pre>"
      ],
      "text/plain": [
       "recommendations finished on 65000/74915 queries. users per second: 45915.1"
      ]
     },
     "metadata": {},
     "output_type": "display_data"
    },
    {
     "data": {
      "text/html": [
       "<pre>recommendations finished on 66000/74915 queries. users per second: 46001.4</pre>"
      ],
      "text/plain": [
       "recommendations finished on 66000/74915 queries. users per second: 46001.4"
      ]
     },
     "metadata": {},
     "output_type": "display_data"
    },
    {
     "data": {
      "text/html": [
       "<pre>recommendations finished on 67000/74915 queries. users per second: 46072.9</pre>"
      ],
      "text/plain": [
       "recommendations finished on 67000/74915 queries. users per second: 46072.9"
      ]
     },
     "metadata": {},
     "output_type": "display_data"
    },
    {
     "data": {
      "text/html": [
       "<pre>recommendations finished on 68000/74915 queries. users per second: 46207.6</pre>"
      ],
      "text/plain": [
       "recommendations finished on 68000/74915 queries. users per second: 46207.6"
      ]
     },
     "metadata": {},
     "output_type": "display_data"
    },
    {
     "data": {
      "text/html": [
       "<pre>recommendations finished on 69000/74915 queries. users per second: 46210.4</pre>"
      ],
      "text/plain": [
       "recommendations finished on 69000/74915 queries. users per second: 46210.4"
      ]
     },
     "metadata": {},
     "output_type": "display_data"
    },
    {
     "data": {
      "text/html": [
       "<pre>recommendations finished on 70000/74915 queries. users per second: 46194.8</pre>"
      ],
      "text/plain": [
       "recommendations finished on 70000/74915 queries. users per second: 46194.8"
      ]
     },
     "metadata": {},
     "output_type": "display_data"
    },
    {
     "data": {
      "text/html": [
       "<pre>recommendations finished on 71000/74915 queries. users per second: 46221.8</pre>"
      ],
      "text/plain": [
       "recommendations finished on 71000/74915 queries. users per second: 46221.8"
      ]
     },
     "metadata": {},
     "output_type": "display_data"
    },
    {
     "data": {
      "text/html": [
       "<pre>recommendations finished on 72000/74915 queries. users per second: 45898.5</pre>"
      ],
      "text/plain": [
       "recommendations finished on 72000/74915 queries. users per second: 45898.5"
      ]
     },
     "metadata": {},
     "output_type": "display_data"
    },
    {
     "data": {
      "text/html": [
       "<pre>recommendations finished on 73000/74915 queries. users per second: 45782.9</pre>"
      ],
      "text/plain": [
       "recommendations finished on 73000/74915 queries. users per second: 45782.9"
      ]
     },
     "metadata": {},
     "output_type": "display_data"
    },
    {
     "data": {
      "text/html": [
       "<pre>recommendations finished on 74000/74915 queries. users per second: 45704.2</pre>"
      ],
      "text/plain": [
       "recommendations finished on 74000/74915 queries. users per second: 45704.2"
      ]
     },
     "metadata": {},
     "output_type": "display_data"
    },
    {
     "name": "stdout",
     "output_type": "stream",
     "text": [
      "+--------+-----------+-------+------+\n",
      "| UserId | productid | score | rank |\n",
      "+--------+-----------+-------+------+\n",
      "|   0    |  12437468 |  1.0  |  1   |\n",
      "|   0    |  11659934 |  1.0  |  2   |\n",
      "|   0    |  12658228 |  1.0  |  3   |\n",
      "|   0    |  12407616 |  1.0  |  4   |\n",
      "|   0    |  12407522 |  1.0  |  5   |\n",
      "|   0    |  12407298 |  1.0  |  6   |\n",
      "|   0    |  12371354 |  1.0  |  7   |\n",
      "|   0    |  12360440 |  1.0  |  8   |\n",
      "|   0    |  11660064 |  1.0  |  9   |\n",
      "|   0    |  12406904 |  1.0  |  10  |\n",
      "|   1    |  12437468 |  1.0  |  1   |\n",
      "|   1    |  11659934 |  1.0  |  2   |\n",
      "|   1    |  12658228 |  1.0  |  3   |\n",
      "|   1    |  12407616 |  1.0  |  4   |\n",
      "|   1    |  12407522 |  1.0  |  5   |\n",
      "|   1    |  12407298 |  1.0  |  6   |\n",
      "|   1    |  12371354 |  1.0  |  7   |\n",
      "|   1    |  12360440 |  1.0  |  8   |\n",
      "|   1    |  11660064 |  1.0  |  9   |\n",
      "|   1    |  11659624 |  1.0  |  10  |\n",
      "|   2    |  12437468 |  1.0  |  1   |\n",
      "|   2    |  11659934 |  1.0  |  2   |\n",
      "|   2    |  12658228 |  1.0  |  3   |\n",
      "|   2    |  12407616 |  1.0  |  4   |\n",
      "|   2    |  12407522 |  1.0  |  5   |\n",
      "|   2    |  12407298 |  1.0  |  6   |\n",
      "|   2    |  12371354 |  1.0  |  7   |\n",
      "|   2    |  12360440 |  1.0  |  8   |\n",
      "|   2    |  12406904 |  1.0  |  9   |\n",
      "|   2    |  11659624 |  1.0  |  10  |\n",
      "+--------+-----------+-------+------+\n",
      "[749150 rows x 4 columns]\n",
      "\n"
     ]
    }
   ],
   "source": [
    "name = 'popularity'\n",
    "target = 'purchase_dummy'\n",
    "user_id = 'UserId'\n",
    "item_id = 'productid'\n",
    "users_to_recommend = list(mydf['UserId'])\n",
    "n_rec = 10\n",
    "n_display = 30\n",
    "pop_dummy = model(tc.SFrame(data_dummy), name, user_id, item_id, target, users_to_recommend, n_rec, n_display)"
   ]
  },
  {
   "cell_type": "code",
   "execution_count": 350,
   "metadata": {},
   "outputs": [
    {
     "data": {
      "text/html": [
       "<pre>recommendations finished on 1000/2350 queries. users per second: 42780.7</pre>"
      ],
      "text/plain": [
       "recommendations finished on 1000/2350 queries. users per second: 42780.7"
      ]
     },
     "metadata": {},
     "output_type": "display_data"
    },
    {
     "data": {
      "text/html": [
       "<pre>recommendations finished on 2000/2350 queries. users per second: 49568.8</pre>"
      ],
      "text/plain": [
       "recommendations finished on 2000/2350 queries. users per second: 49568.8"
      ]
     },
     "metadata": {},
     "output_type": "display_data"
    }
   ],
   "source": [
    "users_to_recommend = list(test['UserId'])\n",
    "n_rec = 10 \n",
    "recom = pop_dummy.recommend(users=users_to_recommend, k=n_rec)\n",
    "df_rec = recom.to_dataframe()\n",
    "temp_rec = df_rec.copy()\n",
    "temp_df_df = temp_rec.groupby('UserId')['productid'].apply(list)\n",
    "temp_df_df.to_csv('/Users/rahulsharma/Teams/Cappilary_Hackathon/popu2.csv')"
   ]
  },
  {
   "cell_type": "code",
   "execution_count": 422,
   "metadata": {},
   "outputs": [
    {
     "data": {
      "text/html": [
       "<pre>Preparing data set.</pre>"
      ],
      "text/plain": [
       "Preparing data set."
      ]
     },
     "metadata": {},
     "output_type": "display_data"
    },
    {
     "data": {
      "text/html": [
       "<pre>    Data has 73650 observations with 27633 users and 2506 items.</pre>"
      ],
      "text/plain": [
       "    Data has 73650 observations with 27633 users and 2506 items."
      ]
     },
     "metadata": {},
     "output_type": "display_data"
    },
    {
     "data": {
      "text/html": [
       "<pre>    Data prepared in: 0.16662s</pre>"
      ],
      "text/plain": [
       "    Data prepared in: 0.16662s"
      ]
     },
     "metadata": {},
     "output_type": "display_data"
    },
    {
     "data": {
      "text/html": [
       "<pre>73650 observations to process; with 2506 unique items.</pre>"
      ],
      "text/plain": [
       "73650 observations to process; with 2506 unique items."
      ]
     },
     "metadata": {},
     "output_type": "display_data"
    },
    {
     "data": {
      "text/html": [
       "<pre>recommendations finished on 1000/74915 queries. users per second: 55239.5</pre>"
      ],
      "text/plain": [
       "recommendations finished on 1000/74915 queries. users per second: 55239.5"
      ]
     },
     "metadata": {},
     "output_type": "display_data"
    },
    {
     "data": {
      "text/html": [
       "<pre>recommendations finished on 2000/74915 queries. users per second: 60567.5</pre>"
      ],
      "text/plain": [
       "recommendations finished on 2000/74915 queries. users per second: 60567.5"
      ]
     },
     "metadata": {},
     "output_type": "display_data"
    },
    {
     "data": {
      "text/html": [
       "<pre>recommendations finished on 3000/74915 queries. users per second: 58263.7</pre>"
      ],
      "text/plain": [
       "recommendations finished on 3000/74915 queries. users per second: 58263.7"
      ]
     },
     "metadata": {},
     "output_type": "display_data"
    },
    {
     "data": {
      "text/html": [
       "<pre>recommendations finished on 4000/74915 queries. users per second: 50386.1</pre>"
      ],
      "text/plain": [
       "recommendations finished on 4000/74915 queries. users per second: 50386.1"
      ]
     },
     "metadata": {},
     "output_type": "display_data"
    },
    {
     "data": {
      "text/html": [
       "<pre>recommendations finished on 5000/74915 queries. users per second: 48737.7</pre>"
      ],
      "text/plain": [
       "recommendations finished on 5000/74915 queries. users per second: 48737.7"
      ]
     },
     "metadata": {},
     "output_type": "display_data"
    },
    {
     "data": {
      "text/html": [
       "<pre>recommendations finished on 6000/74915 queries. users per second: 47520.2</pre>"
      ],
      "text/plain": [
       "recommendations finished on 6000/74915 queries. users per second: 47520.2"
      ]
     },
     "metadata": {},
     "output_type": "display_data"
    },
    {
     "data": {
      "text/html": [
       "<pre>recommendations finished on 7000/74915 queries. users per second: 47379.6</pre>"
      ],
      "text/plain": [
       "recommendations finished on 7000/74915 queries. users per second: 47379.6"
      ]
     },
     "metadata": {},
     "output_type": "display_data"
    },
    {
     "data": {
      "text/html": [
       "<pre>recommendations finished on 8000/74915 queries. users per second: 48048.3</pre>"
      ],
      "text/plain": [
       "recommendations finished on 8000/74915 queries. users per second: 48048.3"
      ]
     },
     "metadata": {},
     "output_type": "display_data"
    },
    {
     "data": {
      "text/html": [
       "<pre>recommendations finished on 9000/74915 queries. users per second: 48958.8</pre>"
      ],
      "text/plain": [
       "recommendations finished on 9000/74915 queries. users per second: 48958.8"
      ]
     },
     "metadata": {},
     "output_type": "display_data"
    },
    {
     "data": {
      "text/html": [
       "<pre>recommendations finished on 10000/74915 queries. users per second: 45363</pre>"
      ],
      "text/plain": [
       "recommendations finished on 10000/74915 queries. users per second: 45363"
      ]
     },
     "metadata": {},
     "output_type": "display_data"
    },
    {
     "data": {
      "text/html": [
       "<pre>recommendations finished on 11000/74915 queries. users per second: 45828.9</pre>"
      ],
      "text/plain": [
       "recommendations finished on 11000/74915 queries. users per second: 45828.9"
      ]
     },
     "metadata": {},
     "output_type": "display_data"
    },
    {
     "data": {
      "text/html": [
       "<pre>recommendations finished on 12000/74915 queries. users per second: 45547.4</pre>"
      ],
      "text/plain": [
       "recommendations finished on 12000/74915 queries. users per second: 45547.4"
      ]
     },
     "metadata": {},
     "output_type": "display_data"
    },
    {
     "data": {
      "text/html": [
       "<pre>recommendations finished on 13000/74915 queries. users per second: 45908.7</pre>"
      ],
      "text/plain": [
       "recommendations finished on 13000/74915 queries. users per second: 45908.7"
      ]
     },
     "metadata": {},
     "output_type": "display_data"
    },
    {
     "data": {
      "text/html": [
       "<pre>recommendations finished on 14000/74915 queries. users per second: 45817.7</pre>"
      ],
      "text/plain": [
       "recommendations finished on 14000/74915 queries. users per second: 45817.7"
      ]
     },
     "metadata": {},
     "output_type": "display_data"
    },
    {
     "data": {
      "text/html": [
       "<pre>recommendations finished on 15000/74915 queries. users per second: 45579.5</pre>"
      ],
      "text/plain": [
       "recommendations finished on 15000/74915 queries. users per second: 45579.5"
      ]
     },
     "metadata": {},
     "output_type": "display_data"
    },
    {
     "data": {
      "text/html": [
       "<pre>recommendations finished on 16000/74915 queries. users per second: 45227.8</pre>"
      ],
      "text/plain": [
       "recommendations finished on 16000/74915 queries. users per second: 45227.8"
      ]
     },
     "metadata": {},
     "output_type": "display_data"
    },
    {
     "data": {
      "text/html": [
       "<pre>recommendations finished on 17000/74915 queries. users per second: 45141.9</pre>"
      ],
      "text/plain": [
       "recommendations finished on 17000/74915 queries. users per second: 45141.9"
      ]
     },
     "metadata": {},
     "output_type": "display_data"
    },
    {
     "data": {
      "text/html": [
       "<pre>recommendations finished on 18000/74915 queries. users per second: 45431.6</pre>"
      ],
      "text/plain": [
       "recommendations finished on 18000/74915 queries. users per second: 45431.6"
      ]
     },
     "metadata": {},
     "output_type": "display_data"
    },
    {
     "data": {
      "text/html": [
       "<pre>recommendations finished on 19000/74915 queries. users per second: 45647.6</pre>"
      ],
      "text/plain": [
       "recommendations finished on 19000/74915 queries. users per second: 45647.6"
      ]
     },
     "metadata": {},
     "output_type": "display_data"
    },
    {
     "data": {
      "text/html": [
       "<pre>recommendations finished on 20000/74915 queries. users per second: 46135.4</pre>"
      ],
      "text/plain": [
       "recommendations finished on 20000/74915 queries. users per second: 46135.4"
      ]
     },
     "metadata": {},
     "output_type": "display_data"
    },
    {
     "data": {
      "text/html": [
       "<pre>recommendations finished on 21000/74915 queries. users per second: 46784.9</pre>"
      ],
      "text/plain": [
       "recommendations finished on 21000/74915 queries. users per second: 46784.9"
      ]
     },
     "metadata": {},
     "output_type": "display_data"
    },
    {
     "data": {
      "text/html": [
       "<pre>recommendations finished on 22000/74915 queries. users per second: 47220</pre>"
      ],
      "text/plain": [
       "recommendations finished on 22000/74915 queries. users per second: 47220"
      ]
     },
     "metadata": {},
     "output_type": "display_data"
    },
    {
     "data": {
      "text/html": [
       "<pre>recommendations finished on 23000/74915 queries. users per second: 47184.7</pre>"
      ],
      "text/plain": [
       "recommendations finished on 23000/74915 queries. users per second: 47184.7"
      ]
     },
     "metadata": {},
     "output_type": "display_data"
    },
    {
     "data": {
      "text/html": [
       "<pre>recommendations finished on 24000/74915 queries. users per second: 45869.7</pre>"
      ],
      "text/plain": [
       "recommendations finished on 24000/74915 queries. users per second: 45869.7"
      ]
     },
     "metadata": {},
     "output_type": "display_data"
    },
    {
     "data": {
      "text/html": [
       "<pre>recommendations finished on 25000/74915 queries. users per second: 44796.5</pre>"
      ],
      "text/plain": [
       "recommendations finished on 25000/74915 queries. users per second: 44796.5"
      ]
     },
     "metadata": {},
     "output_type": "display_data"
    },
    {
     "data": {
      "text/html": [
       "<pre>recommendations finished on 26000/74915 queries. users per second: 43689.5</pre>"
      ],
      "text/plain": [
       "recommendations finished on 26000/74915 queries. users per second: 43689.5"
      ]
     },
     "metadata": {},
     "output_type": "display_data"
    },
    {
     "data": {
      "text/html": [
       "<pre>recommendations finished on 27000/74915 queries. users per second: 43410.7</pre>"
      ],
      "text/plain": [
       "recommendations finished on 27000/74915 queries. users per second: 43410.7"
      ]
     },
     "metadata": {},
     "output_type": "display_data"
    },
    {
     "data": {
      "text/html": [
       "<pre>recommendations finished on 28000/74915 queries. users per second: 43637.9</pre>"
      ],
      "text/plain": [
       "recommendations finished on 28000/74915 queries. users per second: 43637.9"
      ]
     },
     "metadata": {},
     "output_type": "display_data"
    },
    {
     "data": {
      "text/html": [
       "<pre>recommendations finished on 29000/74915 queries. users per second: 44058.6</pre>"
      ],
      "text/plain": [
       "recommendations finished on 29000/74915 queries. users per second: 44058.6"
      ]
     },
     "metadata": {},
     "output_type": "display_data"
    },
    {
     "data": {
      "text/html": [
       "<pre>recommendations finished on 30000/74915 queries. users per second: 44412.9</pre>"
      ],
      "text/plain": [
       "recommendations finished on 30000/74915 queries. users per second: 44412.9"
      ]
     },
     "metadata": {},
     "output_type": "display_data"
    },
    {
     "data": {
      "text/html": [
       "<pre>recommendations finished on 31000/74915 queries. users per second: 44519.9</pre>"
      ],
      "text/plain": [
       "recommendations finished on 31000/74915 queries. users per second: 44519.9"
      ]
     },
     "metadata": {},
     "output_type": "display_data"
    },
    {
     "data": {
      "text/html": [
       "<pre>recommendations finished on 32000/74915 queries. users per second: 44966.5</pre>"
      ],
      "text/plain": [
       "recommendations finished on 32000/74915 queries. users per second: 44966.5"
      ]
     },
     "metadata": {},
     "output_type": "display_data"
    },
    {
     "data": {
      "text/html": [
       "<pre>recommendations finished on 33000/74915 queries. users per second: 45227.7</pre>"
      ],
      "text/plain": [
       "recommendations finished on 33000/74915 queries. users per second: 45227.7"
      ]
     },
     "metadata": {},
     "output_type": "display_data"
    },
    {
     "data": {
      "text/html": [
       "<pre>recommendations finished on 34000/74915 queries. users per second: 45608.6</pre>"
      ],
      "text/plain": [
       "recommendations finished on 34000/74915 queries. users per second: 45608.6"
      ]
     },
     "metadata": {},
     "output_type": "display_data"
    },
    {
     "data": {
      "text/html": [
       "<pre>recommendations finished on 35000/74915 queries. users per second: 45815.8</pre>"
      ],
      "text/plain": [
       "recommendations finished on 35000/74915 queries. users per second: 45815.8"
      ]
     },
     "metadata": {},
     "output_type": "display_data"
    },
    {
     "data": {
      "text/html": [
       "<pre>recommendations finished on 36000/74915 queries. users per second: 46069.1</pre>"
      ],
      "text/plain": [
       "recommendations finished on 36000/74915 queries. users per second: 46069.1"
      ]
     },
     "metadata": {},
     "output_type": "display_data"
    },
    {
     "data": {
      "text/html": [
       "<pre>recommendations finished on 37000/74915 queries. users per second: 45991.1</pre>"
      ],
      "text/plain": [
       "recommendations finished on 37000/74915 queries. users per second: 45991.1"
      ]
     },
     "metadata": {},
     "output_type": "display_data"
    },
    {
     "data": {
      "text/html": [
       "<pre>recommendations finished on 38000/74915 queries. users per second: 46036.9</pre>"
      ],
      "text/plain": [
       "recommendations finished on 38000/74915 queries. users per second: 46036.9"
      ]
     },
     "metadata": {},
     "output_type": "display_data"
    },
    {
     "data": {
      "text/html": [
       "<pre>recommendations finished on 39000/74915 queries. users per second: 46098.1</pre>"
      ],
      "text/plain": [
       "recommendations finished on 39000/74915 queries. users per second: 46098.1"
      ]
     },
     "metadata": {},
     "output_type": "display_data"
    },
    {
     "data": {
      "text/html": [
       "<pre>recommendations finished on 40000/74915 queries. users per second: 46424.9</pre>"
      ],
      "text/plain": [
       "recommendations finished on 40000/74915 queries. users per second: 46424.9"
      ]
     },
     "metadata": {},
     "output_type": "display_data"
    },
    {
     "data": {
      "text/html": [
       "<pre>recommendations finished on 41000/74915 queries. users per second: 46578.7</pre>"
      ],
      "text/plain": [
       "recommendations finished on 41000/74915 queries. users per second: 46578.7"
      ]
     },
     "metadata": {},
     "output_type": "display_data"
    },
    {
     "data": {
      "text/html": [
       "<pre>recommendations finished on 42000/74915 queries. users per second: 46774.3</pre>"
      ],
      "text/plain": [
       "recommendations finished on 42000/74915 queries. users per second: 46774.3"
      ]
     },
     "metadata": {},
     "output_type": "display_data"
    },
    {
     "data": {
      "text/html": [
       "<pre>recommendations finished on 43000/74915 queries. users per second: 46983.7</pre>"
      ],
      "text/plain": [
       "recommendations finished on 43000/74915 queries. users per second: 46983.7"
      ]
     },
     "metadata": {},
     "output_type": "display_data"
    },
    {
     "data": {
      "text/html": [
       "<pre>recommendations finished on 44000/74915 queries. users per second: 47192</pre>"
      ],
      "text/plain": [
       "recommendations finished on 44000/74915 queries. users per second: 47192"
      ]
     },
     "metadata": {},
     "output_type": "display_data"
    },
    {
     "data": {
      "text/html": [
       "<pre>recommendations finished on 45000/74915 queries. users per second: 47389.3</pre>"
      ],
      "text/plain": [
       "recommendations finished on 45000/74915 queries. users per second: 47389.3"
      ]
     },
     "metadata": {},
     "output_type": "display_data"
    },
    {
     "data": {
      "text/html": [
       "<pre>recommendations finished on 46000/74915 queries. users per second: 47254</pre>"
      ],
      "text/plain": [
       "recommendations finished on 46000/74915 queries. users per second: 47254"
      ]
     },
     "metadata": {},
     "output_type": "display_data"
    },
    {
     "data": {
      "text/html": [
       "<pre>recommendations finished on 47000/74915 queries. users per second: 46925.1</pre>"
      ],
      "text/plain": [
       "recommendations finished on 47000/74915 queries. users per second: 46925.1"
      ]
     },
     "metadata": {},
     "output_type": "display_data"
    },
    {
     "data": {
      "text/html": [
       "<pre>recommendations finished on 48000/74915 queries. users per second: 46841.3</pre>"
      ],
      "text/plain": [
       "recommendations finished on 48000/74915 queries. users per second: 46841.3"
      ]
     },
     "metadata": {},
     "output_type": "display_data"
    },
    {
     "data": {
      "text/html": [
       "<pre>recommendations finished on 49000/74915 queries. users per second: 46879.9</pre>"
      ],
      "text/plain": [
       "recommendations finished on 49000/74915 queries. users per second: 46879.9"
      ]
     },
     "metadata": {},
     "output_type": "display_data"
    },
    {
     "data": {
      "text/html": [
       "<pre>recommendations finished on 50000/74915 queries. users per second: 46948.3</pre>"
      ],
      "text/plain": [
       "recommendations finished on 50000/74915 queries. users per second: 46948.3"
      ]
     },
     "metadata": {},
     "output_type": "display_data"
    },
    {
     "data": {
      "text/html": [
       "<pre>recommendations finished on 51000/74915 queries. users per second: 46998</pre>"
      ],
      "text/plain": [
       "recommendations finished on 51000/74915 queries. users per second: 46998"
      ]
     },
     "metadata": {},
     "output_type": "display_data"
    },
    {
     "data": {
      "text/html": [
       "<pre>recommendations finished on 52000/74915 queries. users per second: 47053.8</pre>"
      ],
      "text/plain": [
       "recommendations finished on 52000/74915 queries. users per second: 47053.8"
      ]
     },
     "metadata": {},
     "output_type": "display_data"
    },
    {
     "data": {
      "text/html": [
       "<pre>recommendations finished on 53000/74915 queries. users per second: 47042.4</pre>"
      ],
      "text/plain": [
       "recommendations finished on 53000/74915 queries. users per second: 47042.4"
      ]
     },
     "metadata": {},
     "output_type": "display_data"
    },
    {
     "data": {
      "text/html": [
       "<pre>recommendations finished on 54000/74915 queries. users per second: 46230.5</pre>"
      ],
      "text/plain": [
       "recommendations finished on 54000/74915 queries. users per second: 46230.5"
      ]
     },
     "metadata": {},
     "output_type": "display_data"
    },
    {
     "data": {
      "text/html": [
       "<pre>recommendations finished on 55000/74915 queries. users per second: 46278.1</pre>"
      ],
      "text/plain": [
       "recommendations finished on 55000/74915 queries. users per second: 46278.1"
      ]
     },
     "metadata": {},
     "output_type": "display_data"
    },
    {
     "data": {
      "text/html": [
       "<pre>recommendations finished on 56000/74915 queries. users per second: 46360.2</pre>"
      ],
      "text/plain": [
       "recommendations finished on 56000/74915 queries. users per second: 46360.2"
      ]
     },
     "metadata": {},
     "output_type": "display_data"
    },
    {
     "data": {
      "text/html": [
       "<pre>recommendations finished on 57000/74915 queries. users per second: 46354.4</pre>"
      ],
      "text/plain": [
       "recommendations finished on 57000/74915 queries. users per second: 46354.4"
      ]
     },
     "metadata": {},
     "output_type": "display_data"
    },
    {
     "data": {
      "text/html": [
       "<pre>recommendations finished on 58000/74915 queries. users per second: 46364.6</pre>"
      ],
      "text/plain": [
       "recommendations finished on 58000/74915 queries. users per second: 46364.6"
      ]
     },
     "metadata": {},
     "output_type": "display_data"
    },
    {
     "data": {
      "text/html": [
       "<pre>recommendations finished on 59000/74915 queries. users per second: 46281</pre>"
      ],
      "text/plain": [
       "recommendations finished on 59000/74915 queries. users per second: 46281"
      ]
     },
     "metadata": {},
     "output_type": "display_data"
    },
    {
     "data": {
      "text/html": [
       "<pre>recommendations finished on 60000/74915 queries. users per second: 46222.3</pre>"
      ],
      "text/plain": [
       "recommendations finished on 60000/74915 queries. users per second: 46222.3"
      ]
     },
     "metadata": {},
     "output_type": "display_data"
    },
    {
     "data": {
      "text/html": [
       "<pre>recommendations finished on 61000/74915 queries. users per second: 46206.8</pre>"
      ],
      "text/plain": [
       "recommendations finished on 61000/74915 queries. users per second: 46206.8"
      ]
     },
     "metadata": {},
     "output_type": "display_data"
    },
    {
     "data": {
      "text/html": [
       "<pre>recommendations finished on 62000/74915 queries. users per second: 45916.7</pre>"
      ],
      "text/plain": [
       "recommendations finished on 62000/74915 queries. users per second: 45916.7"
      ]
     },
     "metadata": {},
     "output_type": "display_data"
    },
    {
     "data": {
      "text/html": [
       "<pre>recommendations finished on 63000/74915 queries. users per second: 46086.6</pre>"
      ],
      "text/plain": [
       "recommendations finished on 63000/74915 queries. users per second: 46086.6"
      ]
     },
     "metadata": {},
     "output_type": "display_data"
    },
    {
     "data": {
      "text/html": [
       "<pre>recommendations finished on 64000/74915 queries. users per second: 46234.4</pre>"
      ],
      "text/plain": [
       "recommendations finished on 64000/74915 queries. users per second: 46234.4"
      ]
     },
     "metadata": {},
     "output_type": "display_data"
    },
    {
     "data": {
      "text/html": [
       "<pre>recommendations finished on 65000/74915 queries. users per second: 46278.5</pre>"
      ],
      "text/plain": [
       "recommendations finished on 65000/74915 queries. users per second: 46278.5"
      ]
     },
     "metadata": {},
     "output_type": "display_data"
    },
    {
     "data": {
      "text/html": [
       "<pre>recommendations finished on 66000/74915 queries. users per second: 46395.8</pre>"
      ],
      "text/plain": [
       "recommendations finished on 66000/74915 queries. users per second: 46395.8"
      ]
     },
     "metadata": {},
     "output_type": "display_data"
    },
    {
     "data": {
      "text/html": [
       "<pre>recommendations finished on 67000/74915 queries. users per second: 46503.9</pre>"
      ],
      "text/plain": [
       "recommendations finished on 67000/74915 queries. users per second: 46503.9"
      ]
     },
     "metadata": {},
     "output_type": "display_data"
    },
    {
     "data": {
      "text/html": [
       "<pre>recommendations finished on 68000/74915 queries. users per second: 46560.2</pre>"
      ],
      "text/plain": [
       "recommendations finished on 68000/74915 queries. users per second: 46560.2"
      ]
     },
     "metadata": {},
     "output_type": "display_data"
    },
    {
     "data": {
      "text/html": [
       "<pre>recommendations finished on 69000/74915 queries. users per second: 46709.3</pre>"
      ],
      "text/plain": [
       "recommendations finished on 69000/74915 queries. users per second: 46709.3"
      ]
     },
     "metadata": {},
     "output_type": "display_data"
    },
    {
     "data": {
      "text/html": [
       "<pre>recommendations finished on 70000/74915 queries. users per second: 46767.7</pre>"
      ],
      "text/plain": [
       "recommendations finished on 70000/74915 queries. users per second: 46767.7"
      ]
     },
     "metadata": {},
     "output_type": "display_data"
    },
    {
     "data": {
      "text/html": [
       "<pre>recommendations finished on 71000/74915 queries. users per second: 46789.1</pre>"
      ],
      "text/plain": [
       "recommendations finished on 71000/74915 queries. users per second: 46789.1"
      ]
     },
     "metadata": {},
     "output_type": "display_data"
    },
    {
     "data": {
      "text/html": [
       "<pre>recommendations finished on 72000/74915 queries. users per second: 46829.3</pre>"
      ],
      "text/plain": [
       "recommendations finished on 72000/74915 queries. users per second: 46829.3"
      ]
     },
     "metadata": {},
     "output_type": "display_data"
    },
    {
     "data": {
      "text/html": [
       "<pre>recommendations finished on 73000/74915 queries. users per second: 46833.5</pre>"
      ],
      "text/plain": [
       "recommendations finished on 73000/74915 queries. users per second: 46833.5"
      ]
     },
     "metadata": {},
     "output_type": "display_data"
    },
    {
     "data": {
      "text/html": [
       "<pre>recommendations finished on 74000/74915 queries. users per second: 46882.4</pre>"
      ],
      "text/plain": [
       "recommendations finished on 74000/74915 queries. users per second: 46882.4"
      ]
     },
     "metadata": {},
     "output_type": "display_data"
    },
    {
     "name": "stdout",
     "output_type": "stream",
     "text": [
      "+--------+-----------+----------------+------+\n",
      "| UserId | productid |     score      | rank |\n",
      "+--------+-----------+----------------+------+\n",
      "|   0    |  13064998 | 0.666666666667 |  1   |\n",
      "|   0    |  11659572 | 0.666666666667 |  2   |\n",
      "|   0    |  12360396 | 0.666666666667 |  3   |\n",
      "|   0    |  11407266 |      0.5       |  4   |\n",
      "|   0    |  11407122 |      0.5       |  5   |\n",
      "|   0    |  11360846 |      0.5       |  6   |\n",
      "|   0    |  11150120 |      0.5       |  7   |\n",
      "|   0    |  11150104 |      0.5       |  8   |\n",
      "|   0    |  11150078 |      0.5       |  9   |\n",
      "|   0    |  11149934 |      0.5       |  10  |\n",
      "|   1    |  13064998 | 0.666666666667 |  1   |\n",
      "|   1    |  11659572 | 0.666666666667 |  2   |\n",
      "|   1    |  12360396 | 0.666666666667 |  3   |\n",
      "|   1    |  11407266 |      0.5       |  4   |\n",
      "|   1    |  11407122 |      0.5       |  5   |\n",
      "|   1    |  11360846 |      0.5       |  6   |\n",
      "|   1    |  11150120 |      0.5       |  7   |\n",
      "|   1    |  11150104 |      0.5       |  8   |\n",
      "|   1    |  11150078 |      0.5       |  9   |\n",
      "|   1    |  11149934 |      0.5       |  10  |\n",
      "|   2    |  13064998 | 0.666666666667 |  1   |\n",
      "|   2    |  11659572 | 0.666666666667 |  2   |\n",
      "|   2    |  12360396 | 0.666666666667 |  3   |\n",
      "|   2    |  11407266 |      0.5       |  4   |\n",
      "|   2    |  11407122 |      0.5       |  5   |\n",
      "|   2    |  11360846 |      0.5       |  6   |\n",
      "|   2    |  11150120 |      0.5       |  7   |\n",
      "|   2    |  11150104 |      0.5       |  8   |\n",
      "|   2    |  11150078 |      0.5       |  9   |\n",
      "|   2    |  11149934 |      0.5       |  10  |\n",
      "+--------+-----------+----------------+------+\n",
      "[749150 rows x 4 columns]\n",
      "\n"
     ]
    }
   ],
   "source": [
    "name = 'popularity'\n",
    "target = 'scaled_purchase_freq'\n",
    "user_id = 'UserId'\n",
    "item_id = 'productid'\n",
    "users_to_recommend = list(mydf['UserId'])\n",
    "n_rec = 10\n",
    "n_display = 30\n",
    "pop_norm = model(tc.SFrame(data_norm), name, user_id, item_id, target, users_to_recommend, n_rec, n_display)"
   ]
  },
  {
   "cell_type": "code",
   "execution_count": 352,
   "metadata": {},
   "outputs": [
    {
     "data": {
      "text/html": [
       "<pre>recommendations finished on 1000/2350 queries. users per second: 39116</pre>"
      ],
      "text/plain": [
       "recommendations finished on 1000/2350 queries. users per second: 39116"
      ]
     },
     "metadata": {},
     "output_type": "display_data"
    },
    {
     "data": {
      "text/html": [
       "<pre>recommendations finished on 2000/2350 queries. users per second: 47658.8</pre>"
      ],
      "text/plain": [
       "recommendations finished on 2000/2350 queries. users per second: 47658.8"
      ]
     },
     "metadata": {},
     "output_type": "display_data"
    }
   ],
   "source": [
    "users_to_recommend = list(test['UserId'])\n",
    "n_rec = 10 \n",
    "recom = pop_norm.recommend(users=users_to_recommend, k=n_rec)\n",
    "df_rec = recom.to_dataframe()\n",
    "temp_rec = df_rec.copy()\n",
    "temp_df_df = temp_rec.groupby('UserId')['productid'].apply(list)\n",
    "temp_df_df.to_csv('/Users/rahulsharma/Teams/Cappilary_Hackathon/popu3.csv')"
   ]
  },
  {
   "cell_type": "code",
   "execution_count": 205,
   "metadata": {},
   "outputs": [
    {
     "data": {
      "text/html": [
       "<pre>Preparing data set.</pre>"
      ],
      "text/plain": [
       "Preparing data set."
      ]
     },
     "metadata": {},
     "output_type": "display_data"
    },
    {
     "data": {
      "text/html": [
       "<pre>    Data has 59932 observations with 24804 users and 2981 items.</pre>"
      ],
      "text/plain": [
       "    Data has 59932 observations with 24804 users and 2981 items."
      ]
     },
     "metadata": {},
     "output_type": "display_data"
    },
    {
     "data": {
      "text/html": [
       "<pre>    Data prepared in: 0.096428s</pre>"
      ],
      "text/plain": [
       "    Data prepared in: 0.096428s"
      ]
     },
     "metadata": {},
     "output_type": "display_data"
    },
    {
     "data": {
      "text/html": [
       "<pre>Training model from provided data.</pre>"
      ],
      "text/plain": [
       "Training model from provided data."
      ]
     },
     "metadata": {},
     "output_type": "display_data"
    },
    {
     "data": {
      "text/html": [
       "<pre>Gathering per-item and per-user statistics.</pre>"
      ],
      "text/plain": [
       "Gathering per-item and per-user statistics."
      ]
     },
     "metadata": {},
     "output_type": "display_data"
    },
    {
     "data": {
      "text/html": [
       "<pre>+--------------------------------+------------+</pre>"
      ],
      "text/plain": [
       "+--------------------------------+------------+"
      ]
     },
     "metadata": {},
     "output_type": "display_data"
    },
    {
     "data": {
      "text/html": [
       "<pre>| Elapsed Time (Item Statistics) | % Complete |</pre>"
      ],
      "text/plain": [
       "| Elapsed Time (Item Statistics) | % Complete |"
      ]
     },
     "metadata": {},
     "output_type": "display_data"
    },
    {
     "data": {
      "text/html": [
       "<pre>+--------------------------------+------------+</pre>"
      ],
      "text/plain": [
       "+--------------------------------+------------+"
      ]
     },
     "metadata": {},
     "output_type": "display_data"
    },
    {
     "data": {
      "text/html": [
       "<pre>| 1.625ms                        | 4          |</pre>"
      ],
      "text/plain": [
       "| 1.625ms                        | 4          |"
      ]
     },
     "metadata": {},
     "output_type": "display_data"
    },
    {
     "data": {
      "text/html": [
       "<pre>| 6.535ms                        | 100        |</pre>"
      ],
      "text/plain": [
       "| 6.535ms                        | 100        |"
      ]
     },
     "metadata": {},
     "output_type": "display_data"
    },
    {
     "data": {
      "text/html": [
       "<pre>+--------------------------------+------------+</pre>"
      ],
      "text/plain": [
       "+--------------------------------+------------+"
      ]
     },
     "metadata": {},
     "output_type": "display_data"
    },
    {
     "data": {
      "text/html": [
       "<pre>Setting up lookup tables.</pre>"
      ],
      "text/plain": [
       "Setting up lookup tables."
      ]
     },
     "metadata": {},
     "output_type": "display_data"
    },
    {
     "data": {
      "text/html": [
       "<pre>Processing data in one pass using dense lookup tables.</pre>"
      ],
      "text/plain": [
       "Processing data in one pass using dense lookup tables."
      ]
     },
     "metadata": {},
     "output_type": "display_data"
    },
    {
     "data": {
      "text/html": [
       "<pre>+-------------------------------------+------------------+-----------------+</pre>"
      ],
      "text/plain": [
       "+-------------------------------------+------------------+-----------------+"
      ]
     },
     "metadata": {},
     "output_type": "display_data"
    },
    {
     "data": {
      "text/html": [
       "<pre>| Elapsed Time (Constructing Lookups) | Total % Complete | Items Processed |</pre>"
      ],
      "text/plain": [
       "| Elapsed Time (Constructing Lookups) | Total % Complete | Items Processed |"
      ]
     },
     "metadata": {},
     "output_type": "display_data"
    },
    {
     "data": {
      "text/html": [
       "<pre>+-------------------------------------+------------------+-----------------+</pre>"
      ],
      "text/plain": [
       "+-------------------------------------+------------------+-----------------+"
      ]
     },
     "metadata": {},
     "output_type": "display_data"
    },
    {
     "data": {
      "text/html": [
       "<pre>| 63.266ms                            | 0                | 0               |</pre>"
      ],
      "text/plain": [
       "| 63.266ms                            | 0                | 0               |"
      ]
     },
     "metadata": {},
     "output_type": "display_data"
    },
    {
     "data": {
      "text/html": [
       "<pre>| 186.65ms                            | 100              | 2981            |</pre>"
      ],
      "text/plain": [
       "| 186.65ms                            | 100              | 2981            |"
      ]
     },
     "metadata": {},
     "output_type": "display_data"
    },
    {
     "data": {
      "text/html": [
       "<pre>+-------------------------------------+------------------+-----------------+</pre>"
      ],
      "text/plain": [
       "+-------------------------------------+------------------+-----------------+"
      ]
     },
     "metadata": {},
     "output_type": "display_data"
    },
    {
     "data": {
      "text/html": [
       "<pre>Finalizing lookup tables.</pre>"
      ],
      "text/plain": [
       "Finalizing lookup tables."
      ]
     },
     "metadata": {},
     "output_type": "display_data"
    },
    {
     "data": {
      "text/html": [
       "<pre>Generating candidate set for working with new users.</pre>"
      ],
      "text/plain": [
       "Generating candidate set for working with new users."
      ]
     },
     "metadata": {},
     "output_type": "display_data"
    },
    {
     "data": {
      "text/html": [
       "<pre>Finished training in 0.196029s</pre>"
      ],
      "text/plain": [
       "Finished training in 0.196029s"
      ]
     },
     "metadata": {},
     "output_type": "display_data"
    },
    {
     "data": {
      "text/html": [
       "<pre>recommendations finished on 1000/74915 queries. users per second: 29180</pre>"
      ],
      "text/plain": [
       "recommendations finished on 1000/74915 queries. users per second: 29180"
      ]
     },
     "metadata": {},
     "output_type": "display_data"
    },
    {
     "data": {
      "text/html": [
       "<pre>recommendations finished on 2000/74915 queries. users per second: 35130.9</pre>"
      ],
      "text/plain": [
       "recommendations finished on 2000/74915 queries. users per second: 35130.9"
      ]
     },
     "metadata": {},
     "output_type": "display_data"
    },
    {
     "data": {
      "text/html": [
       "<pre>recommendations finished on 3000/74915 queries. users per second: 35723.6</pre>"
      ],
      "text/plain": [
       "recommendations finished on 3000/74915 queries. users per second: 35723.6"
      ]
     },
     "metadata": {},
     "output_type": "display_data"
    },
    {
     "data": {
      "text/html": [
       "<pre>recommendations finished on 4000/74915 queries. users per second: 35965.1</pre>"
      ],
      "text/plain": [
       "recommendations finished on 4000/74915 queries. users per second: 35965.1"
      ]
     },
     "metadata": {},
     "output_type": "display_data"
    },
    {
     "data": {
      "text/html": [
       "<pre>recommendations finished on 5000/74915 queries. users per second: 36892.5</pre>"
      ],
      "text/plain": [
       "recommendations finished on 5000/74915 queries. users per second: 36892.5"
      ]
     },
     "metadata": {},
     "output_type": "display_data"
    },
    {
     "data": {
      "text/html": [
       "<pre>recommendations finished on 6000/74915 queries. users per second: 37566.7</pre>"
      ],
      "text/plain": [
       "recommendations finished on 6000/74915 queries. users per second: 37566.7"
      ]
     },
     "metadata": {},
     "output_type": "display_data"
    },
    {
     "data": {
      "text/html": [
       "<pre>recommendations finished on 7000/74915 queries. users per second: 38438.9</pre>"
      ],
      "text/plain": [
       "recommendations finished on 7000/74915 queries. users per second: 38438.9"
      ]
     },
     "metadata": {},
     "output_type": "display_data"
    },
    {
     "data": {
      "text/html": [
       "<pre>recommendations finished on 8000/74915 queries. users per second: 37828.6</pre>"
      ],
      "text/plain": [
       "recommendations finished on 8000/74915 queries. users per second: 37828.6"
      ]
     },
     "metadata": {},
     "output_type": "display_data"
    },
    {
     "data": {
      "text/html": [
       "<pre>recommendations finished on 9000/74915 queries. users per second: 38178.1</pre>"
      ],
      "text/plain": [
       "recommendations finished on 9000/74915 queries. users per second: 38178.1"
      ]
     },
     "metadata": {},
     "output_type": "display_data"
    },
    {
     "data": {
      "text/html": [
       "<pre>recommendations finished on 10000/74915 queries. users per second: 38101</pre>"
      ],
      "text/plain": [
       "recommendations finished on 10000/74915 queries. users per second: 38101"
      ]
     },
     "metadata": {},
     "output_type": "display_data"
    },
    {
     "data": {
      "text/html": [
       "<pre>recommendations finished on 11000/74915 queries. users per second: 37947.9</pre>"
      ],
      "text/plain": [
       "recommendations finished on 11000/74915 queries. users per second: 37947.9"
      ]
     },
     "metadata": {},
     "output_type": "display_data"
    },
    {
     "data": {
      "text/html": [
       "<pre>recommendations finished on 12000/74915 queries. users per second: 37969.3</pre>"
      ],
      "text/plain": [
       "recommendations finished on 12000/74915 queries. users per second: 37969.3"
      ]
     },
     "metadata": {},
     "output_type": "display_data"
    },
    {
     "data": {
      "text/html": [
       "<pre>recommendations finished on 13000/74915 queries. users per second: 37687.2</pre>"
      ],
      "text/plain": [
       "recommendations finished on 13000/74915 queries. users per second: 37687.2"
      ]
     },
     "metadata": {},
     "output_type": "display_data"
    },
    {
     "data": {
      "text/html": [
       "<pre>recommendations finished on 14000/74915 queries. users per second: 37780.8</pre>"
      ],
      "text/plain": [
       "recommendations finished on 14000/74915 queries. users per second: 37780.8"
      ]
     },
     "metadata": {},
     "output_type": "display_data"
    },
    {
     "data": {
      "text/html": [
       "<pre>recommendations finished on 15000/74915 queries. users per second: 37965.9</pre>"
      ],
      "text/plain": [
       "recommendations finished on 15000/74915 queries. users per second: 37965.9"
      ]
     },
     "metadata": {},
     "output_type": "display_data"
    },
    {
     "data": {
      "text/html": [
       "<pre>recommendations finished on 16000/74915 queries. users per second: 37295.4</pre>"
      ],
      "text/plain": [
       "recommendations finished on 16000/74915 queries. users per second: 37295.4"
      ]
     },
     "metadata": {},
     "output_type": "display_data"
    },
    {
     "data": {
      "text/html": [
       "<pre>recommendations finished on 17000/74915 queries. users per second: 37166.6</pre>"
      ],
      "text/plain": [
       "recommendations finished on 17000/74915 queries. users per second: 37166.6"
      ]
     },
     "metadata": {},
     "output_type": "display_data"
    },
    {
     "data": {
      "text/html": [
       "<pre>recommendations finished on 18000/74915 queries. users per second: 37184.9</pre>"
      ],
      "text/plain": [
       "recommendations finished on 18000/74915 queries. users per second: 37184.9"
      ]
     },
     "metadata": {},
     "output_type": "display_data"
    },
    {
     "data": {
      "text/html": [
       "<pre>recommendations finished on 19000/74915 queries. users per second: 37515.2</pre>"
      ],
      "text/plain": [
       "recommendations finished on 19000/74915 queries. users per second: 37515.2"
      ]
     },
     "metadata": {},
     "output_type": "display_data"
    },
    {
     "data": {
      "text/html": [
       "<pre>recommendations finished on 20000/74915 queries. users per second: 37023.2</pre>"
      ],
      "text/plain": [
       "recommendations finished on 20000/74915 queries. users per second: 37023.2"
      ]
     },
     "metadata": {},
     "output_type": "display_data"
    },
    {
     "data": {
      "text/html": [
       "<pre>recommendations finished on 21000/74915 queries. users per second: 33100.8</pre>"
      ],
      "text/plain": [
       "recommendations finished on 21000/74915 queries. users per second: 33100.8"
      ]
     },
     "metadata": {},
     "output_type": "display_data"
    },
    {
     "data": {
      "text/html": [
       "<pre>recommendations finished on 22000/74915 queries. users per second: 30506.4</pre>"
      ],
      "text/plain": [
       "recommendations finished on 22000/74915 queries. users per second: 30506.4"
      ]
     },
     "metadata": {},
     "output_type": "display_data"
    },
    {
     "data": {
      "text/html": [
       "<pre>recommendations finished on 23000/74915 queries. users per second: 27556.7</pre>"
      ],
      "text/plain": [
       "recommendations finished on 23000/74915 queries. users per second: 27556.7"
      ]
     },
     "metadata": {},
     "output_type": "display_data"
    },
    {
     "data": {
      "text/html": [
       "<pre>recommendations finished on 24000/74915 queries. users per second: 24044.3</pre>"
      ],
      "text/plain": [
       "recommendations finished on 24000/74915 queries. users per second: 24044.3"
      ]
     },
     "metadata": {},
     "output_type": "display_data"
    },
    {
     "data": {
      "text/html": [
       "<pre>recommendations finished on 25000/74915 queries. users per second: 23267</pre>"
      ],
      "text/plain": [
       "recommendations finished on 25000/74915 queries. users per second: 23267"
      ]
     },
     "metadata": {},
     "output_type": "display_data"
    },
    {
     "data": {
      "text/html": [
       "<pre>recommendations finished on 26000/74915 queries. users per second: 23717.3</pre>"
      ],
      "text/plain": [
       "recommendations finished on 26000/74915 queries. users per second: 23717.3"
      ]
     },
     "metadata": {},
     "output_type": "display_data"
    },
    {
     "data": {
      "text/html": [
       "<pre>recommendations finished on 27000/74915 queries. users per second: 24134.8</pre>"
      ],
      "text/plain": [
       "recommendations finished on 27000/74915 queries. users per second: 24134.8"
      ]
     },
     "metadata": {},
     "output_type": "display_data"
    },
    {
     "data": {
      "text/html": [
       "<pre>recommendations finished on 28000/74915 queries. users per second: 24505.5</pre>"
      ],
      "text/plain": [
       "recommendations finished on 28000/74915 queries. users per second: 24505.5"
      ]
     },
     "metadata": {},
     "output_type": "display_data"
    },
    {
     "data": {
      "text/html": [
       "<pre>recommendations finished on 29000/74915 queries. users per second: 24787</pre>"
      ],
      "text/plain": [
       "recommendations finished on 29000/74915 queries. users per second: 24787"
      ]
     },
     "metadata": {},
     "output_type": "display_data"
    },
    {
     "data": {
      "text/html": [
       "<pre>recommendations finished on 30000/74915 queries. users per second: 24935.5</pre>"
      ],
      "text/plain": [
       "recommendations finished on 30000/74915 queries. users per second: 24935.5"
      ]
     },
     "metadata": {},
     "output_type": "display_data"
    },
    {
     "data": {
      "text/html": [
       "<pre>recommendations finished on 31000/74915 queries. users per second: 25119.4</pre>"
      ],
      "text/plain": [
       "recommendations finished on 31000/74915 queries. users per second: 25119.4"
      ]
     },
     "metadata": {},
     "output_type": "display_data"
    },
    {
     "data": {
      "text/html": [
       "<pre>recommendations finished on 32000/74915 queries. users per second: 25241.9</pre>"
      ],
      "text/plain": [
       "recommendations finished on 32000/74915 queries. users per second: 25241.9"
      ]
     },
     "metadata": {},
     "output_type": "display_data"
    },
    {
     "data": {
      "text/html": [
       "<pre>recommendations finished on 33000/74915 queries. users per second: 25427</pre>"
      ],
      "text/plain": [
       "recommendations finished on 33000/74915 queries. users per second: 25427"
      ]
     },
     "metadata": {},
     "output_type": "display_data"
    },
    {
     "data": {
      "text/html": [
       "<pre>recommendations finished on 34000/74915 queries. users per second: 25645.2</pre>"
      ],
      "text/plain": [
       "recommendations finished on 34000/74915 queries. users per second: 25645.2"
      ]
     },
     "metadata": {},
     "output_type": "display_data"
    },
    {
     "data": {
      "text/html": [
       "<pre>recommendations finished on 35000/74915 queries. users per second: 25856.4</pre>"
      ],
      "text/plain": [
       "recommendations finished on 35000/74915 queries. users per second: 25856.4"
      ]
     },
     "metadata": {},
     "output_type": "display_data"
    },
    {
     "data": {
      "text/html": [
       "<pre>recommendations finished on 36000/74915 queries. users per second: 26042.3</pre>"
      ],
      "text/plain": [
       "recommendations finished on 36000/74915 queries. users per second: 26042.3"
      ]
     },
     "metadata": {},
     "output_type": "display_data"
    },
    {
     "data": {
      "text/html": [
       "<pre>recommendations finished on 37000/74915 queries. users per second: 26232.9</pre>"
      ],
      "text/plain": [
       "recommendations finished on 37000/74915 queries. users per second: 26232.9"
      ]
     },
     "metadata": {},
     "output_type": "display_data"
    },
    {
     "data": {
      "text/html": [
       "<pre>recommendations finished on 38000/74915 queries. users per second: 26458.5</pre>"
      ],
      "text/plain": [
       "recommendations finished on 38000/74915 queries. users per second: 26458.5"
      ]
     },
     "metadata": {},
     "output_type": "display_data"
    },
    {
     "data": {
      "text/html": [
       "<pre>recommendations finished on 39000/74915 queries. users per second: 26687.4</pre>"
      ],
      "text/plain": [
       "recommendations finished on 39000/74915 queries. users per second: 26687.4"
      ]
     },
     "metadata": {},
     "output_type": "display_data"
    },
    {
     "data": {
      "text/html": [
       "<pre>recommendations finished on 40000/74915 queries. users per second: 26869.9</pre>"
      ],
      "text/plain": [
       "recommendations finished on 40000/74915 queries. users per second: 26869.9"
      ]
     },
     "metadata": {},
     "output_type": "display_data"
    },
    {
     "data": {
      "text/html": [
       "<pre>recommendations finished on 41000/74915 queries. users per second: 27094.4</pre>"
      ],
      "text/plain": [
       "recommendations finished on 41000/74915 queries. users per second: 27094.4"
      ]
     },
     "metadata": {},
     "output_type": "display_data"
    },
    {
     "data": {
      "text/html": [
       "<pre>recommendations finished on 42000/74915 queries. users per second: 27133</pre>"
      ],
      "text/plain": [
       "recommendations finished on 42000/74915 queries. users per second: 27133"
      ]
     },
     "metadata": {},
     "output_type": "display_data"
    },
    {
     "data": {
      "text/html": [
       "<pre>recommendations finished on 43000/74915 queries. users per second: 27236.9</pre>"
      ],
      "text/plain": [
       "recommendations finished on 43000/74915 queries. users per second: 27236.9"
      ]
     },
     "metadata": {},
     "output_type": "display_data"
    },
    {
     "data": {
      "text/html": [
       "<pre>recommendations finished on 44000/74915 queries. users per second: 27333.2</pre>"
      ],
      "text/plain": [
       "recommendations finished on 44000/74915 queries. users per second: 27333.2"
      ]
     },
     "metadata": {},
     "output_type": "display_data"
    },
    {
     "data": {
      "text/html": [
       "<pre>recommendations finished on 45000/74915 queries. users per second: 27401.3</pre>"
      ],
      "text/plain": [
       "recommendations finished on 45000/74915 queries. users per second: 27401.3"
      ]
     },
     "metadata": {},
     "output_type": "display_data"
    },
    {
     "data": {
      "text/html": [
       "<pre>recommendations finished on 46000/74915 queries. users per second: 27504.9</pre>"
      ],
      "text/plain": [
       "recommendations finished on 46000/74915 queries. users per second: 27504.9"
      ]
     },
     "metadata": {},
     "output_type": "display_data"
    },
    {
     "data": {
      "text/html": [
       "<pre>recommendations finished on 47000/74915 queries. users per second: 27595.2</pre>"
      ],
      "text/plain": [
       "recommendations finished on 47000/74915 queries. users per second: 27595.2"
      ]
     },
     "metadata": {},
     "output_type": "display_data"
    },
    {
     "data": {
      "text/html": [
       "<pre>recommendations finished on 48000/74915 queries. users per second: 27657.3</pre>"
      ],
      "text/plain": [
       "recommendations finished on 48000/74915 queries. users per second: 27657.3"
      ]
     },
     "metadata": {},
     "output_type": "display_data"
    },
    {
     "data": {
      "text/html": [
       "<pre>recommendations finished on 49000/74915 queries. users per second: 27544.3</pre>"
      ],
      "text/plain": [
       "recommendations finished on 49000/74915 queries. users per second: 27544.3"
      ]
     },
     "metadata": {},
     "output_type": "display_data"
    },
    {
     "data": {
      "text/html": [
       "<pre>recommendations finished on 50000/74915 queries. users per second: 27657.7</pre>"
      ],
      "text/plain": [
       "recommendations finished on 50000/74915 queries. users per second: 27657.7"
      ]
     },
     "metadata": {},
     "output_type": "display_data"
    },
    {
     "data": {
      "text/html": [
       "<pre>recommendations finished on 51000/74915 queries. users per second: 27815.6</pre>"
      ],
      "text/plain": [
       "recommendations finished on 51000/74915 queries. users per second: 27815.6"
      ]
     },
     "metadata": {},
     "output_type": "display_data"
    },
    {
     "data": {
      "text/html": [
       "<pre>recommendations finished on 52000/74915 queries. users per second: 27915.4</pre>"
      ],
      "text/plain": [
       "recommendations finished on 52000/74915 queries. users per second: 27915.4"
      ]
     },
     "metadata": {},
     "output_type": "display_data"
    },
    {
     "data": {
      "text/html": [
       "<pre>recommendations finished on 53000/74915 queries. users per second: 28019.2</pre>"
      ],
      "text/plain": [
       "recommendations finished on 53000/74915 queries. users per second: 28019.2"
      ]
     },
     "metadata": {},
     "output_type": "display_data"
    },
    {
     "data": {
      "text/html": [
       "<pre>recommendations finished on 54000/74915 queries. users per second: 28107.1</pre>"
      ],
      "text/plain": [
       "recommendations finished on 54000/74915 queries. users per second: 28107.1"
      ]
     },
     "metadata": {},
     "output_type": "display_data"
    },
    {
     "data": {
      "text/html": [
       "<pre>recommendations finished on 55000/74915 queries. users per second: 28164</pre>"
      ],
      "text/plain": [
       "recommendations finished on 55000/74915 queries. users per second: 28164"
      ]
     },
     "metadata": {},
     "output_type": "display_data"
    },
    {
     "data": {
      "text/html": [
       "<pre>recommendations finished on 56000/74915 queries. users per second: 28167.9</pre>"
      ],
      "text/plain": [
       "recommendations finished on 56000/74915 queries. users per second: 28167.9"
      ]
     },
     "metadata": {},
     "output_type": "display_data"
    },
    {
     "data": {
      "text/html": [
       "<pre>recommendations finished on 57000/74915 queries. users per second: 28163.3</pre>"
      ],
      "text/plain": [
       "recommendations finished on 57000/74915 queries. users per second: 28163.3"
      ]
     },
     "metadata": {},
     "output_type": "display_data"
    },
    {
     "data": {
      "text/html": [
       "<pre>recommendations finished on 58000/74915 queries. users per second: 28190.2</pre>"
      ],
      "text/plain": [
       "recommendations finished on 58000/74915 queries. users per second: 28190.2"
      ]
     },
     "metadata": {},
     "output_type": "display_data"
    },
    {
     "data": {
      "text/html": [
       "<pre>recommendations finished on 59000/74915 queries. users per second: 28169.7</pre>"
      ],
      "text/plain": [
       "recommendations finished on 59000/74915 queries. users per second: 28169.7"
      ]
     },
     "metadata": {},
     "output_type": "display_data"
    },
    {
     "data": {
      "text/html": [
       "<pre>recommendations finished on 60000/74915 queries. users per second: 28238.3</pre>"
      ],
      "text/plain": [
       "recommendations finished on 60000/74915 queries. users per second: 28238.3"
      ]
     },
     "metadata": {},
     "output_type": "display_data"
    },
    {
     "data": {
      "text/html": [
       "<pre>recommendations finished on 61000/74915 queries. users per second: 28308.3</pre>"
      ],
      "text/plain": [
       "recommendations finished on 61000/74915 queries. users per second: 28308.3"
      ]
     },
     "metadata": {},
     "output_type": "display_data"
    },
    {
     "data": {
      "text/html": [
       "<pre>recommendations finished on 62000/74915 queries. users per second: 28232.8</pre>"
      ],
      "text/plain": [
       "recommendations finished on 62000/74915 queries. users per second: 28232.8"
      ]
     },
     "metadata": {},
     "output_type": "display_data"
    },
    {
     "data": {
      "text/html": [
       "<pre>recommendations finished on 63000/74915 queries. users per second: 28217.6</pre>"
      ],
      "text/plain": [
       "recommendations finished on 63000/74915 queries. users per second: 28217.6"
      ]
     },
     "metadata": {},
     "output_type": "display_data"
    },
    {
     "data": {
      "text/html": [
       "<pre>recommendations finished on 64000/74915 queries. users per second: 28142.2</pre>"
      ],
      "text/plain": [
       "recommendations finished on 64000/74915 queries. users per second: 28142.2"
      ]
     },
     "metadata": {},
     "output_type": "display_data"
    },
    {
     "data": {
      "text/html": [
       "<pre>recommendations finished on 65000/74915 queries. users per second: 28152.4</pre>"
      ],
      "text/plain": [
       "recommendations finished on 65000/74915 queries. users per second: 28152.4"
      ]
     },
     "metadata": {},
     "output_type": "display_data"
    },
    {
     "data": {
      "text/html": [
       "<pre>recommendations finished on 66000/74915 queries. users per second: 28124.4</pre>"
      ],
      "text/plain": [
       "recommendations finished on 66000/74915 queries. users per second: 28124.4"
      ]
     },
     "metadata": {},
     "output_type": "display_data"
    },
    {
     "data": {
      "text/html": [
       "<pre>recommendations finished on 67000/74915 queries. users per second: 28075.2</pre>"
      ],
      "text/plain": [
       "recommendations finished on 67000/74915 queries. users per second: 28075.2"
      ]
     },
     "metadata": {},
     "output_type": "display_data"
    },
    {
     "data": {
      "text/html": [
       "<pre>recommendations finished on 68000/74915 queries. users per second: 28042.2</pre>"
      ],
      "text/plain": [
       "recommendations finished on 68000/74915 queries. users per second: 28042.2"
      ]
     },
     "metadata": {},
     "output_type": "display_data"
    },
    {
     "data": {
      "text/html": [
       "<pre>recommendations finished on 69000/74915 queries. users per second: 27664.8</pre>"
      ],
      "text/plain": [
       "recommendations finished on 69000/74915 queries. users per second: 27664.8"
      ]
     },
     "metadata": {},
     "output_type": "display_data"
    },
    {
     "data": {
      "text/html": [
       "<pre>recommendations finished on 70000/74915 queries. users per second: 21716</pre>"
      ],
      "text/plain": [
       "recommendations finished on 70000/74915 queries. users per second: 21716"
      ]
     },
     "metadata": {},
     "output_type": "display_data"
    },
    {
     "data": {
      "text/html": [
       "<pre>recommendations finished on 71000/74915 queries. users per second: 14646.4</pre>"
      ],
      "text/plain": [
       "recommendations finished on 71000/74915 queries. users per second: 14646.4"
      ]
     },
     "metadata": {},
     "output_type": "display_data"
    },
    {
     "data": {
      "text/html": [
       "<pre>recommendations finished on 72000/74915 queries. users per second: 11104</pre>"
      ],
      "text/plain": [
       "recommendations finished on 72000/74915 queries. users per second: 11104"
      ]
     },
     "metadata": {},
     "output_type": "display_data"
    },
    {
     "data": {
      "text/html": [
       "<pre>recommendations finished on 73000/74915 queries. users per second: 11019</pre>"
      ],
      "text/plain": [
       "recommendations finished on 73000/74915 queries. users per second: 11019"
      ]
     },
     "metadata": {},
     "output_type": "display_data"
    },
    {
     "data": {
      "text/html": [
       "<pre>recommendations finished on 74000/74915 queries. users per second: 11093.8</pre>"
      ],
      "text/plain": [
       "recommendations finished on 74000/74915 queries. users per second: 11093.8"
      ]
     },
     "metadata": {},
     "output_type": "display_data"
    },
    {
     "name": "stdout",
     "output_type": "stream",
     "text": [
      "+--------+-----------+-----------------+------+\n",
      "| UserId | productid |      score      | rank |\n",
      "+--------+-----------+-----------------+------+\n",
      "|   0    |  12936768 |  5.73041850328  |  1   |\n",
      "|   0    |  12423466 |  5.73041850328  |  2   |\n",
      "|   0    |  11659492 |  5.73041850328  |  3   |\n",
      "|   0    |  12437088 |  5.73041850328  |  4   |\n",
      "|   0    |  13650204 |  5.73041850328  |  5   |\n",
      "|   0    |  12437194 |  5.73041850328  |  6   |\n",
      "|   0    |  12657656 |  5.73041850328  |  7   |\n",
      "|   0    |  12407842 |  5.73041850328  |  8   |\n",
      "|   0    |  12437212 |  5.73041850328  |  9   |\n",
      "|   0    |  11481096 |  5.73041850328  |  10  |\n",
      "|   1    |  12406894 |  0.174002349377 |  1   |\n",
      "|   1    |  12657416 |  0.16064709425  |  2   |\n",
      "|   1    |  11714312 |  0.115954220295 |  3   |\n",
      "|   1    |  12360428 |  0.108127832413 |  4   |\n",
      "|   1    |  12658218 | 0.0948072075844 |  5   |\n",
      "|   1    |  11407394 |  0.091669857502 |  6   |\n",
      "|   1    |  11659244 | 0.0810254812241 |  7   |\n",
      "|   1    |  12988608 | 0.0748481154442 |  8   |\n",
      "|   1    |  12658132 | 0.0734993815422 |  9   |\n",
      "|   1    |  11714428 | 0.0725719928741 |  10  |\n",
      "|   2    |  12407934 |  7.89228332043  |  1   |\n",
      "|   2    |  12371322 |  6.27162921429  |  2   |\n",
      "|   2    |  13039100 |  5.29434907436  |  3   |\n",
      "|   2    |  11659052 |  3.90855932236  |  4   |\n",
      "|   2    |  11660006 |  3.45757174492  |  5   |\n",
      "|   2    |  12407880 |  2.89983439445  |  6   |\n",
      "|   2    |  11659114 |   2.6057062149  |  7   |\n",
      "|   2    |  12407698 |  2.16140896082  |  8   |\n",
      "|   2    |  12657450 |   2.0905430913  |  9   |\n",
      "|   2    |  12407648 |  2.03478521109  |  10  |\n",
      "+--------+-----------+-----------------+------+\n",
      "[749150 rows x 4 columns]\n",
      "\n"
     ]
    }
   ],
   "source": [
    "name = 'cosine'\n",
    "target = 'frequency'\n",
    "user_id = 'UserId'\n",
    "item_id = 'productid'\n",
    "users_to_recommend = list(mydf['UserId'])\n",
    "n_rec = 10\n",
    "n_display = 30\n",
    "cos = model(train_data, name, user_id, item_id, target, users_to_recommend, n_rec, n_display)"
   ]
  },
  {
   "cell_type": "code",
   "execution_count": 206,
   "metadata": {},
   "outputs": [
    {
     "data": {
      "text/html": [
       "<pre>Warning: Ignoring columns frequency;</pre>"
      ],
      "text/plain": [
       "Warning: Ignoring columns frequency;"
      ]
     },
     "metadata": {},
     "output_type": "display_data"
    },
    {
     "data": {
      "text/html": [
       "<pre>    To use these columns in scoring predictions, use a model that allows the use of additional features.</pre>"
      ],
      "text/plain": [
       "    To use these columns in scoring predictions, use a model that allows the use of additional features."
      ]
     },
     "metadata": {},
     "output_type": "display_data"
    },
    {
     "data": {
      "text/html": [
       "<pre>Preparing data set.</pre>"
      ],
      "text/plain": [
       "Preparing data set."
      ]
     },
     "metadata": {},
     "output_type": "display_data"
    },
    {
     "data": {
      "text/html": [
       "<pre>    Data has 59932 observations with 24775 users and 2977 items.</pre>"
      ],
      "text/plain": [
       "    Data has 59932 observations with 24775 users and 2977 items."
      ]
     },
     "metadata": {},
     "output_type": "display_data"
    },
    {
     "data": {
      "text/html": [
       "<pre>    Data prepared in: 0.100934s</pre>"
      ],
      "text/plain": [
       "    Data prepared in: 0.100934s"
      ]
     },
     "metadata": {},
     "output_type": "display_data"
    },
    {
     "data": {
      "text/html": [
       "<pre>Training model from provided data.</pre>"
      ],
      "text/plain": [
       "Training model from provided data."
      ]
     },
     "metadata": {},
     "output_type": "display_data"
    },
    {
     "data": {
      "text/html": [
       "<pre>Gathering per-item and per-user statistics.</pre>"
      ],
      "text/plain": [
       "Gathering per-item and per-user statistics."
      ]
     },
     "metadata": {},
     "output_type": "display_data"
    },
    {
     "data": {
      "text/html": [
       "<pre>+--------------------------------+------------+</pre>"
      ],
      "text/plain": [
       "+--------------------------------+------------+"
      ]
     },
     "metadata": {},
     "output_type": "display_data"
    },
    {
     "data": {
      "text/html": [
       "<pre>| Elapsed Time (Item Statistics) | % Complete |</pre>"
      ],
      "text/plain": [
       "| Elapsed Time (Item Statistics) | % Complete |"
      ]
     },
     "metadata": {},
     "output_type": "display_data"
    },
    {
     "data": {
      "text/html": [
       "<pre>+--------------------------------+------------+</pre>"
      ],
      "text/plain": [
       "+--------------------------------+------------+"
      ]
     },
     "metadata": {},
     "output_type": "display_data"
    },
    {
     "data": {
      "text/html": [
       "<pre>| 904us                          | 4          |</pre>"
      ],
      "text/plain": [
       "| 904us                          | 4          |"
      ]
     },
     "metadata": {},
     "output_type": "display_data"
    },
    {
     "data": {
      "text/html": [
       "<pre>| 6.295ms                        | 100        |</pre>"
      ],
      "text/plain": [
       "| 6.295ms                        | 100        |"
      ]
     },
     "metadata": {},
     "output_type": "display_data"
    },
    {
     "data": {
      "text/html": [
       "<pre>+--------------------------------+------------+</pre>"
      ],
      "text/plain": [
       "+--------------------------------+------------+"
      ]
     },
     "metadata": {},
     "output_type": "display_data"
    },
    {
     "data": {
      "text/html": [
       "<pre>Setting up lookup tables.</pre>"
      ],
      "text/plain": [
       "Setting up lookup tables."
      ]
     },
     "metadata": {},
     "output_type": "display_data"
    },
    {
     "data": {
      "text/html": [
       "<pre>Processing data in one pass using dense lookup tables.</pre>"
      ],
      "text/plain": [
       "Processing data in one pass using dense lookup tables."
      ]
     },
     "metadata": {},
     "output_type": "display_data"
    },
    {
     "data": {
      "text/html": [
       "<pre>+-------------------------------------+------------------+-----------------+</pre>"
      ],
      "text/plain": [
       "+-------------------------------------+------------------+-----------------+"
      ]
     },
     "metadata": {},
     "output_type": "display_data"
    },
    {
     "data": {
      "text/html": [
       "<pre>| Elapsed Time (Constructing Lookups) | Total % Complete | Items Processed |</pre>"
      ],
      "text/plain": [
       "| Elapsed Time (Constructing Lookups) | Total % Complete | Items Processed |"
      ]
     },
     "metadata": {},
     "output_type": "display_data"
    },
    {
     "data": {
      "text/html": [
       "<pre>+-------------------------------------+------------------+-----------------+</pre>"
      ],
      "text/plain": [
       "+-------------------------------------+------------------+-----------------+"
      ]
     },
     "metadata": {},
     "output_type": "display_data"
    },
    {
     "data": {
      "text/html": [
       "<pre>| 38.679ms                            | 0                | 0               |</pre>"
      ],
      "text/plain": [
       "| 38.679ms                            | 0                | 0               |"
      ]
     },
     "metadata": {},
     "output_type": "display_data"
    },
    {
     "data": {
      "text/html": [
       "<pre>| 181.527ms                           | 100              | 2977            |</pre>"
      ],
      "text/plain": [
       "| 181.527ms                           | 100              | 2977            |"
      ]
     },
     "metadata": {},
     "output_type": "display_data"
    },
    {
     "data": {
      "text/html": [
       "<pre>+-------------------------------------+------------------+-----------------+</pre>"
      ],
      "text/plain": [
       "+-------------------------------------+------------------+-----------------+"
      ]
     },
     "metadata": {},
     "output_type": "display_data"
    },
    {
     "data": {
      "text/html": [
       "<pre>Finalizing lookup tables.</pre>"
      ],
      "text/plain": [
       "Finalizing lookup tables."
      ]
     },
     "metadata": {},
     "output_type": "display_data"
    },
    {
     "data": {
      "text/html": [
       "<pre>Generating candidate set for working with new users.</pre>"
      ],
      "text/plain": [
       "Generating candidate set for working with new users."
      ]
     },
     "metadata": {},
     "output_type": "display_data"
    },
    {
     "data": {
      "text/html": [
       "<pre>Finished training in 0.189377s</pre>"
      ],
      "text/plain": [
       "Finished training in 0.189377s"
      ]
     },
     "metadata": {},
     "output_type": "display_data"
    },
    {
     "data": {
      "text/html": [
       "<pre>recommendations finished on 1000/74915 queries. users per second: 29369.4</pre>"
      ],
      "text/plain": [
       "recommendations finished on 1000/74915 queries. users per second: 29369.4"
      ]
     },
     "metadata": {},
     "output_type": "display_data"
    },
    {
     "data": {
      "text/html": [
       "<pre>recommendations finished on 2000/74915 queries. users per second: 35124.7</pre>"
      ],
      "text/plain": [
       "recommendations finished on 2000/74915 queries. users per second: 35124.7"
      ]
     },
     "metadata": {},
     "output_type": "display_data"
    },
    {
     "data": {
      "text/html": [
       "<pre>recommendations finished on 3000/74915 queries. users per second: 37096.6</pre>"
      ],
      "text/plain": [
       "recommendations finished on 3000/74915 queries. users per second: 37096.6"
      ]
     },
     "metadata": {},
     "output_type": "display_data"
    },
    {
     "data": {
      "text/html": [
       "<pre>recommendations finished on 4000/74915 queries. users per second: 38042</pre>"
      ],
      "text/plain": [
       "recommendations finished on 4000/74915 queries. users per second: 38042"
      ]
     },
     "metadata": {},
     "output_type": "display_data"
    },
    {
     "data": {
      "text/html": [
       "<pre>recommendations finished on 5000/74915 queries. users per second: 37741.5</pre>"
      ],
      "text/plain": [
       "recommendations finished on 5000/74915 queries. users per second: 37741.5"
      ]
     },
     "metadata": {},
     "output_type": "display_data"
    },
    {
     "data": {
      "text/html": [
       "<pre>recommendations finished on 6000/74915 queries. users per second: 37938.2</pre>"
      ],
      "text/plain": [
       "recommendations finished on 6000/74915 queries. users per second: 37938.2"
      ]
     },
     "metadata": {},
     "output_type": "display_data"
    },
    {
     "data": {
      "text/html": [
       "<pre>recommendations finished on 7000/74915 queries. users per second: 36526.6</pre>"
      ],
      "text/plain": [
       "recommendations finished on 7000/74915 queries. users per second: 36526.6"
      ]
     },
     "metadata": {},
     "output_type": "display_data"
    },
    {
     "data": {
      "text/html": [
       "<pre>recommendations finished on 8000/74915 queries. users per second: 32758.6</pre>"
      ],
      "text/plain": [
       "recommendations finished on 8000/74915 queries. users per second: 32758.6"
      ]
     },
     "metadata": {},
     "output_type": "display_data"
    },
    {
     "data": {
      "text/html": [
       "<pre>recommendations finished on 9000/74915 queries. users per second: 33357.8</pre>"
      ],
      "text/plain": [
       "recommendations finished on 9000/74915 queries. users per second: 33357.8"
      ]
     },
     "metadata": {},
     "output_type": "display_data"
    },
    {
     "data": {
      "text/html": [
       "<pre>recommendations finished on 10000/74915 queries. users per second: 33659.9</pre>"
      ],
      "text/plain": [
       "recommendations finished on 10000/74915 queries. users per second: 33659.9"
      ]
     },
     "metadata": {},
     "output_type": "display_data"
    },
    {
     "data": {
      "text/html": [
       "<pre>recommendations finished on 11000/74915 queries. users per second: 34426.7</pre>"
      ],
      "text/plain": [
       "recommendations finished on 11000/74915 queries. users per second: 34426.7"
      ]
     },
     "metadata": {},
     "output_type": "display_data"
    },
    {
     "data": {
      "text/html": [
       "<pre>recommendations finished on 12000/74915 queries. users per second: 32227.1</pre>"
      ],
      "text/plain": [
       "recommendations finished on 12000/74915 queries. users per second: 32227.1"
      ]
     },
     "metadata": {},
     "output_type": "display_data"
    },
    {
     "data": {
      "text/html": [
       "<pre>recommendations finished on 13000/74915 queries. users per second: 28934.5</pre>"
      ],
      "text/plain": [
       "recommendations finished on 13000/74915 queries. users per second: 28934.5"
      ]
     },
     "metadata": {},
     "output_type": "display_data"
    },
    {
     "data": {
      "text/html": [
       "<pre>recommendations finished on 14000/74915 queries. users per second: 26922.8</pre>"
      ],
      "text/plain": [
       "recommendations finished on 14000/74915 queries. users per second: 26922.8"
      ]
     },
     "metadata": {},
     "output_type": "display_data"
    },
    {
     "data": {
      "text/html": [
       "<pre>recommendations finished on 15000/74915 queries. users per second: 21449.7</pre>"
      ],
      "text/plain": [
       "recommendations finished on 15000/74915 queries. users per second: 21449.7"
      ]
     },
     "metadata": {},
     "output_type": "display_data"
    },
    {
     "data": {
      "text/html": [
       "<pre>recommendations finished on 16000/74915 queries. users per second: 20240.2</pre>"
      ],
      "text/plain": [
       "recommendations finished on 16000/74915 queries. users per second: 20240.2"
      ]
     },
     "metadata": {},
     "output_type": "display_data"
    },
    {
     "data": {
      "text/html": [
       "<pre>recommendations finished on 17000/74915 queries. users per second: 18970.1</pre>"
      ],
      "text/plain": [
       "recommendations finished on 17000/74915 queries. users per second: 18970.1"
      ]
     },
     "metadata": {},
     "output_type": "display_data"
    },
    {
     "data": {
      "text/html": [
       "<pre>recommendations finished on 18000/74915 queries. users per second: 17265.5</pre>"
      ],
      "text/plain": [
       "recommendations finished on 18000/74915 queries. users per second: 17265.5"
      ]
     },
     "metadata": {},
     "output_type": "display_data"
    },
    {
     "data": {
      "text/html": [
       "<pre>recommendations finished on 19000/74915 queries. users per second: 16916</pre>"
      ],
      "text/plain": [
       "recommendations finished on 19000/74915 queries. users per second: 16916"
      ]
     },
     "metadata": {},
     "output_type": "display_data"
    },
    {
     "data": {
      "text/html": [
       "<pre>recommendations finished on 20000/74915 queries. users per second: 17267.7</pre>"
      ],
      "text/plain": [
       "recommendations finished on 20000/74915 queries. users per second: 17267.7"
      ]
     },
     "metadata": {},
     "output_type": "display_data"
    },
    {
     "data": {
      "text/html": [
       "<pre>recommendations finished on 21000/74915 queries. users per second: 17602.2</pre>"
      ],
      "text/plain": [
       "recommendations finished on 21000/74915 queries. users per second: 17602.2"
      ]
     },
     "metadata": {},
     "output_type": "display_data"
    },
    {
     "data": {
      "text/html": [
       "<pre>recommendations finished on 22000/74915 queries. users per second: 18013.4</pre>"
      ],
      "text/plain": [
       "recommendations finished on 22000/74915 queries. users per second: 18013.4"
      ]
     },
     "metadata": {},
     "output_type": "display_data"
    },
    {
     "data": {
      "text/html": [
       "<pre>recommendations finished on 23000/74915 queries. users per second: 18393.4</pre>"
      ],
      "text/plain": [
       "recommendations finished on 23000/74915 queries. users per second: 18393.4"
      ]
     },
     "metadata": {},
     "output_type": "display_data"
    },
    {
     "data": {
      "text/html": [
       "<pre>recommendations finished on 24000/74915 queries. users per second: 18650.2</pre>"
      ],
      "text/plain": [
       "recommendations finished on 24000/74915 queries. users per second: 18650.2"
      ]
     },
     "metadata": {},
     "output_type": "display_data"
    },
    {
     "data": {
      "text/html": [
       "<pre>recommendations finished on 25000/74915 queries. users per second: 18961.3</pre>"
      ],
      "text/plain": [
       "recommendations finished on 25000/74915 queries. users per second: 18961.3"
      ]
     },
     "metadata": {},
     "output_type": "display_data"
    },
    {
     "data": {
      "text/html": [
       "<pre>recommendations finished on 26000/74915 queries. users per second: 19090.8</pre>"
      ],
      "text/plain": [
       "recommendations finished on 26000/74915 queries. users per second: 19090.8"
      ]
     },
     "metadata": {},
     "output_type": "display_data"
    },
    {
     "data": {
      "text/html": [
       "<pre>recommendations finished on 27000/74915 queries. users per second: 19456.5</pre>"
      ],
      "text/plain": [
       "recommendations finished on 27000/74915 queries. users per second: 19456.5"
      ]
     },
     "metadata": {},
     "output_type": "display_data"
    },
    {
     "data": {
      "text/html": [
       "<pre>recommendations finished on 28000/74915 queries. users per second: 19739.8</pre>"
      ],
      "text/plain": [
       "recommendations finished on 28000/74915 queries. users per second: 19739.8"
      ]
     },
     "metadata": {},
     "output_type": "display_data"
    },
    {
     "data": {
      "text/html": [
       "<pre>recommendations finished on 29000/74915 queries. users per second: 20087.1</pre>"
      ],
      "text/plain": [
       "recommendations finished on 29000/74915 queries. users per second: 20087.1"
      ]
     },
     "metadata": {},
     "output_type": "display_data"
    },
    {
     "data": {
      "text/html": [
       "<pre>recommendations finished on 30000/74915 queries. users per second: 20378.1</pre>"
      ],
      "text/plain": [
       "recommendations finished on 30000/74915 queries. users per second: 20378.1"
      ]
     },
     "metadata": {},
     "output_type": "display_data"
    },
    {
     "data": {
      "text/html": [
       "<pre>recommendations finished on 31000/74915 queries. users per second: 20630.4</pre>"
      ],
      "text/plain": [
       "recommendations finished on 31000/74915 queries. users per second: 20630.4"
      ]
     },
     "metadata": {},
     "output_type": "display_data"
    },
    {
     "data": {
      "text/html": [
       "<pre>recommendations finished on 32000/74915 queries. users per second: 20933.6</pre>"
      ],
      "text/plain": [
       "recommendations finished on 32000/74915 queries. users per second: 20933.6"
      ]
     },
     "metadata": {},
     "output_type": "display_data"
    },
    {
     "data": {
      "text/html": [
       "<pre>recommendations finished on 33000/74915 queries. users per second: 21219.2</pre>"
      ],
      "text/plain": [
       "recommendations finished on 33000/74915 queries. users per second: 21219.2"
      ]
     },
     "metadata": {},
     "output_type": "display_data"
    },
    {
     "data": {
      "text/html": [
       "<pre>recommendations finished on 34000/74915 queries. users per second: 21447</pre>"
      ],
      "text/plain": [
       "recommendations finished on 34000/74915 queries. users per second: 21447"
      ]
     },
     "metadata": {},
     "output_type": "display_data"
    },
    {
     "data": {
      "text/html": [
       "<pre>recommendations finished on 35000/74915 queries. users per second: 21698.9</pre>"
      ],
      "text/plain": [
       "recommendations finished on 35000/74915 queries. users per second: 21698.9"
      ]
     },
     "metadata": {},
     "output_type": "display_data"
    },
    {
     "data": {
      "text/html": [
       "<pre>recommendations finished on 36000/74915 queries. users per second: 22024.5</pre>"
      ],
      "text/plain": [
       "recommendations finished on 36000/74915 queries. users per second: 22024.5"
      ]
     },
     "metadata": {},
     "output_type": "display_data"
    },
    {
     "data": {
      "text/html": [
       "<pre>recommendations finished on 37000/74915 queries. users per second: 22336.4</pre>"
      ],
      "text/plain": [
       "recommendations finished on 37000/74915 queries. users per second: 22336.4"
      ]
     },
     "metadata": {},
     "output_type": "display_data"
    },
    {
     "data": {
      "text/html": [
       "<pre>recommendations finished on 38000/74915 queries. users per second: 22617.5</pre>"
      ],
      "text/plain": [
       "recommendations finished on 38000/74915 queries. users per second: 22617.5"
      ]
     },
     "metadata": {},
     "output_type": "display_data"
    },
    {
     "data": {
      "text/html": [
       "<pre>recommendations finished on 39000/74915 queries. users per second: 22786</pre>"
      ],
      "text/plain": [
       "recommendations finished on 39000/74915 queries. users per second: 22786"
      ]
     },
     "metadata": {},
     "output_type": "display_data"
    },
    {
     "data": {
      "text/html": [
       "<pre>recommendations finished on 40000/74915 queries. users per second: 22982.7</pre>"
      ],
      "text/plain": [
       "recommendations finished on 40000/74915 queries. users per second: 22982.7"
      ]
     },
     "metadata": {},
     "output_type": "display_data"
    },
    {
     "data": {
      "text/html": [
       "<pre>recommendations finished on 41000/74915 queries. users per second: 23186.4</pre>"
      ],
      "text/plain": [
       "recommendations finished on 41000/74915 queries. users per second: 23186.4"
      ]
     },
     "metadata": {},
     "output_type": "display_data"
    },
    {
     "data": {
      "text/html": [
       "<pre>recommendations finished on 42000/74915 queries. users per second: 23459.4</pre>"
      ],
      "text/plain": [
       "recommendations finished on 42000/74915 queries. users per second: 23459.4"
      ]
     },
     "metadata": {},
     "output_type": "display_data"
    },
    {
     "data": {
      "text/html": [
       "<pre>recommendations finished on 43000/74915 queries. users per second: 23660.4</pre>"
      ],
      "text/plain": [
       "recommendations finished on 43000/74915 queries. users per second: 23660.4"
      ]
     },
     "metadata": {},
     "output_type": "display_data"
    },
    {
     "data": {
      "text/html": [
       "<pre>recommendations finished on 44000/74915 queries. users per second: 23891.7</pre>"
      ],
      "text/plain": [
       "recommendations finished on 44000/74915 queries. users per second: 23891.7"
      ]
     },
     "metadata": {},
     "output_type": "display_data"
    },
    {
     "data": {
      "text/html": [
       "<pre>recommendations finished on 45000/74915 queries. users per second: 24081.6</pre>"
      ],
      "text/plain": [
       "recommendations finished on 45000/74915 queries. users per second: 24081.6"
      ]
     },
     "metadata": {},
     "output_type": "display_data"
    },
    {
     "data": {
      "text/html": [
       "<pre>recommendations finished on 46000/74915 queries. users per second: 24294.2</pre>"
      ],
      "text/plain": [
       "recommendations finished on 46000/74915 queries. users per second: 24294.2"
      ]
     },
     "metadata": {},
     "output_type": "display_data"
    },
    {
     "data": {
      "text/html": [
       "<pre>recommendations finished on 47000/74915 queries. users per second: 24474.9</pre>"
      ],
      "text/plain": [
       "recommendations finished on 47000/74915 queries. users per second: 24474.9"
      ]
     },
     "metadata": {},
     "output_type": "display_data"
    },
    {
     "data": {
      "text/html": [
       "<pre>recommendations finished on 48000/74915 queries. users per second: 24660.9</pre>"
      ],
      "text/plain": [
       "recommendations finished on 48000/74915 queries. users per second: 24660.9"
      ]
     },
     "metadata": {},
     "output_type": "display_data"
    },
    {
     "data": {
      "text/html": [
       "<pre>recommendations finished on 49000/74915 queries. users per second: 24867</pre>"
      ],
      "text/plain": [
       "recommendations finished on 49000/74915 queries. users per second: 24867"
      ]
     },
     "metadata": {},
     "output_type": "display_data"
    },
    {
     "data": {
      "text/html": [
       "<pre>recommendations finished on 50000/74915 queries. users per second: 25080.7</pre>"
      ],
      "text/plain": [
       "recommendations finished on 50000/74915 queries. users per second: 25080.7"
      ]
     },
     "metadata": {},
     "output_type": "display_data"
    },
    {
     "data": {
      "text/html": [
       "<pre>recommendations finished on 51000/74915 queries. users per second: 25230.7</pre>"
      ],
      "text/plain": [
       "recommendations finished on 51000/74915 queries. users per second: 25230.7"
      ]
     },
     "metadata": {},
     "output_type": "display_data"
    },
    {
     "data": {
      "text/html": [
       "<pre>recommendations finished on 52000/74915 queries. users per second: 25313.3</pre>"
      ],
      "text/plain": [
       "recommendations finished on 52000/74915 queries. users per second: 25313.3"
      ]
     },
     "metadata": {},
     "output_type": "display_data"
    },
    {
     "data": {
      "text/html": [
       "<pre>recommendations finished on 53000/74915 queries. users per second: 25456.1</pre>"
      ],
      "text/plain": [
       "recommendations finished on 53000/74915 queries. users per second: 25456.1"
      ]
     },
     "metadata": {},
     "output_type": "display_data"
    },
    {
     "data": {
      "text/html": [
       "<pre>recommendations finished on 54000/74915 queries. users per second: 25605.3</pre>"
      ],
      "text/plain": [
       "recommendations finished on 54000/74915 queries. users per second: 25605.3"
      ]
     },
     "metadata": {},
     "output_type": "display_data"
    },
    {
     "data": {
      "text/html": [
       "<pre>recommendations finished on 55000/74915 queries. users per second: 25742.2</pre>"
      ],
      "text/plain": [
       "recommendations finished on 55000/74915 queries. users per second: 25742.2"
      ]
     },
     "metadata": {},
     "output_type": "display_data"
    },
    {
     "data": {
      "text/html": [
       "<pre>recommendations finished on 56000/74915 queries. users per second: 25890.3</pre>"
      ],
      "text/plain": [
       "recommendations finished on 56000/74915 queries. users per second: 25890.3"
      ]
     },
     "metadata": {},
     "output_type": "display_data"
    },
    {
     "data": {
      "text/html": [
       "<pre>recommendations finished on 57000/74915 queries. users per second: 25984.3</pre>"
      ],
      "text/plain": [
       "recommendations finished on 57000/74915 queries. users per second: 25984.3"
      ]
     },
     "metadata": {},
     "output_type": "display_data"
    },
    {
     "data": {
      "text/html": [
       "<pre>recommendations finished on 58000/74915 queries. users per second: 26071.5</pre>"
      ],
      "text/plain": [
       "recommendations finished on 58000/74915 queries. users per second: 26071.5"
      ]
     },
     "metadata": {},
     "output_type": "display_data"
    },
    {
     "data": {
      "text/html": [
       "<pre>recommendations finished on 59000/74915 queries. users per second: 26176.2</pre>"
      ],
      "text/plain": [
       "recommendations finished on 59000/74915 queries. users per second: 26176.2"
      ]
     },
     "metadata": {},
     "output_type": "display_data"
    },
    {
     "data": {
      "text/html": [
       "<pre>recommendations finished on 60000/74915 queries. users per second: 26305.3</pre>"
      ],
      "text/plain": [
       "recommendations finished on 60000/74915 queries. users per second: 26305.3"
      ]
     },
     "metadata": {},
     "output_type": "display_data"
    },
    {
     "data": {
      "text/html": [
       "<pre>recommendations finished on 61000/74915 queries. users per second: 26344.5</pre>"
      ],
      "text/plain": [
       "recommendations finished on 61000/74915 queries. users per second: 26344.5"
      ]
     },
     "metadata": {},
     "output_type": "display_data"
    },
    {
     "data": {
      "text/html": [
       "<pre>recommendations finished on 62000/74915 queries. users per second: 26448.2</pre>"
      ],
      "text/plain": [
       "recommendations finished on 62000/74915 queries. users per second: 26448.2"
      ]
     },
     "metadata": {},
     "output_type": "display_data"
    },
    {
     "data": {
      "text/html": [
       "<pre>recommendations finished on 63000/74915 queries. users per second: 26483.4</pre>"
      ],
      "text/plain": [
       "recommendations finished on 63000/74915 queries. users per second: 26483.4"
      ]
     },
     "metadata": {},
     "output_type": "display_data"
    },
    {
     "data": {
      "text/html": [
       "<pre>recommendations finished on 64000/74915 queries. users per second: 26610.3</pre>"
      ],
      "text/plain": [
       "recommendations finished on 64000/74915 queries. users per second: 26610.3"
      ]
     },
     "metadata": {},
     "output_type": "display_data"
    },
    {
     "data": {
      "text/html": [
       "<pre>recommendations finished on 65000/74915 queries. users per second: 26656.2</pre>"
      ],
      "text/plain": [
       "recommendations finished on 65000/74915 queries. users per second: 26656.2"
      ]
     },
     "metadata": {},
     "output_type": "display_data"
    },
    {
     "data": {
      "text/html": [
       "<pre>recommendations finished on 66000/74915 queries. users per second: 26695.8</pre>"
      ],
      "text/plain": [
       "recommendations finished on 66000/74915 queries. users per second: 26695.8"
      ]
     },
     "metadata": {},
     "output_type": "display_data"
    },
    {
     "data": {
      "text/html": [
       "<pre>recommendations finished on 67000/74915 queries. users per second: 26776.2</pre>"
      ],
      "text/plain": [
       "recommendations finished on 67000/74915 queries. users per second: 26776.2"
      ]
     },
     "metadata": {},
     "output_type": "display_data"
    },
    {
     "data": {
      "text/html": [
       "<pre>recommendations finished on 68000/74915 queries. users per second: 26794.1</pre>"
      ],
      "text/plain": [
       "recommendations finished on 68000/74915 queries. users per second: 26794.1"
      ]
     },
     "metadata": {},
     "output_type": "display_data"
    },
    {
     "data": {
      "text/html": [
       "<pre>recommendations finished on 69000/74915 queries. users per second: 26728.3</pre>"
      ],
      "text/plain": [
       "recommendations finished on 69000/74915 queries. users per second: 26728.3"
      ]
     },
     "metadata": {},
     "output_type": "display_data"
    },
    {
     "data": {
      "text/html": [
       "<pre>recommendations finished on 70000/74915 queries. users per second: 20749.1</pre>"
      ],
      "text/plain": [
       "recommendations finished on 70000/74915 queries. users per second: 20749.1"
      ]
     },
     "metadata": {},
     "output_type": "display_data"
    },
    {
     "data": {
      "text/html": [
       "<pre>recommendations finished on 71000/74915 queries. users per second: 14247.8</pre>"
      ],
      "text/plain": [
       "recommendations finished on 71000/74915 queries. users per second: 14247.8"
      ]
     },
     "metadata": {},
     "output_type": "display_data"
    },
    {
     "data": {
      "text/html": [
       "<pre>recommendations finished on 72000/74915 queries. users per second: 10954.4</pre>"
      ],
      "text/plain": [
       "recommendations finished on 72000/74915 queries. users per second: 10954.4"
      ]
     },
     "metadata": {},
     "output_type": "display_data"
    },
    {
     "data": {
      "text/html": [
       "<pre>recommendations finished on 73000/74915 queries. users per second: 10845</pre>"
      ],
      "text/plain": [
       "recommendations finished on 73000/74915 queries. users per second: 10845"
      ]
     },
     "metadata": {},
     "output_type": "display_data"
    },
    {
     "data": {
      "text/html": [
       "<pre>recommendations finished on 74000/74915 queries. users per second: 10928.2</pre>"
      ],
      "text/plain": [
       "recommendations finished on 74000/74915 queries. users per second: 10928.2"
      ]
     },
     "metadata": {},
     "output_type": "display_data"
    },
    {
     "name": "stdout",
     "output_type": "stream",
     "text": [
      "+--------+-----------+-----------------+------+\n",
      "| UserId | productid |      score      | rank |\n",
      "+--------+-----------+-----------------+------+\n",
      "|   0    |  13653598 |  0.104541659355 |  1   |\n",
      "|   0    |  13653688 |  0.104541659355 |  2   |\n",
      "|   0    |  12445180 |  0.104541659355 |  3   |\n",
      "|   0    |  11407254 |  0.104541659355 |  4   |\n",
      "|   0    |  13039786 |  0.104541659355 |  5   |\n",
      "|   0    |  11460738 | 0.0905357599258 |  6   |\n",
      "|   0    |  11407268 | 0.0853579044342 |  7   |\n",
      "|   0    |  14122822 | 0.0853579044342 |  8   |\n",
      "|   0    |  13653608 | 0.0853579044342 |  9   |\n",
      "|   0    |  12995896 | 0.0838198065758 |  10  |\n",
      "|   1    |  11481056 | 0.0904431343079 |  1   |\n",
      "|   1    |  13072610 | 0.0904431343079 |  2   |\n",
      "|   1    |  13650192 | 0.0904431343079 |  3   |\n",
      "|   1    |  12445200 | 0.0783260464668 |  4   |\n",
      "|   1    |  13650208 | 0.0783260464668 |  5   |\n",
      "|   1    |  12407056 | 0.0783260464668 |  6   |\n",
      "|   1    |  13650258 | 0.0783260464668 |  7   |\n",
      "|   1    |  13650044 | 0.0783260464668 |  8   |\n",
      "|   1    |  12437280 | 0.0783260464668 |  9   |\n",
      "|   1    |  11150120 | 0.0783260464668 |  10  |\n",
      "|   2    |  12657746 |       0.0       |  1   |\n",
      "|   2    |  11660004 |       0.0       |  2   |\n",
      "|   2    |  13653672 |       0.0       |  3   |\n",
      "|   2    |  11407194 |       0.0       |  4   |\n",
      "|   2    |  12360438 |       0.0       |  5   |\n",
      "|   2    |  12658528 |       0.0       |  6   |\n",
      "|   2    |  12657972 |       0.0       |  7   |\n",
      "|   2    |  12445210 |       0.0       |  8   |\n",
      "|   2    |  12407772 |       0.0       |  9   |\n",
      "|   2    |  13039496 |       0.0       |  10  |\n",
      "+--------+-----------+-----------------+------+\n",
      "[749150 rows x 4 columns]\n",
      "\n"
     ]
    }
   ],
   "source": [
    "name = 'cosine'\n",
    "target = 'purchase_dummy'\n",
    "user_id = 'UserId'\n",
    "item_id = 'productid'\n",
    "users_to_recommend = list(mydf['UserId'])\n",
    "n_rec = 10\n",
    "n_display = 30\n",
    "cos_dummy = model(train_data_dummy, name, user_id, item_id, target, users_to_recommend, n_rec, n_display)"
   ]
  },
  {
   "cell_type": "code",
   "execution_count": 207,
   "metadata": {},
   "outputs": [
    {
     "data": {
      "text/html": [
       "<pre>Preparing data set.</pre>"
      ],
      "text/plain": [
       "Preparing data set."
      ]
     },
     "metadata": {},
     "output_type": "display_data"
    },
    {
     "data": {
      "text/html": [
       "<pre>    Data has 58920 observations with 24570 users and 2504 items.</pre>"
      ],
      "text/plain": [
       "    Data has 58920 observations with 24570 users and 2504 items."
      ]
     },
     "metadata": {},
     "output_type": "display_data"
    },
    {
     "data": {
      "text/html": [
       "<pre>    Data prepared in: 0.100025s</pre>"
      ],
      "text/plain": [
       "    Data prepared in: 0.100025s"
      ]
     },
     "metadata": {},
     "output_type": "display_data"
    },
    {
     "data": {
      "text/html": [
       "<pre>Training model from provided data.</pre>"
      ],
      "text/plain": [
       "Training model from provided data."
      ]
     },
     "metadata": {},
     "output_type": "display_data"
    },
    {
     "data": {
      "text/html": [
       "<pre>Gathering per-item and per-user statistics.</pre>"
      ],
      "text/plain": [
       "Gathering per-item and per-user statistics."
      ]
     },
     "metadata": {},
     "output_type": "display_data"
    },
    {
     "data": {
      "text/html": [
       "<pre>+--------------------------------+------------+</pre>"
      ],
      "text/plain": [
       "+--------------------------------+------------+"
      ]
     },
     "metadata": {},
     "output_type": "display_data"
    },
    {
     "data": {
      "text/html": [
       "<pre>| Elapsed Time (Item Statistics) | % Complete |</pre>"
      ],
      "text/plain": [
       "| Elapsed Time (Item Statistics) | % Complete |"
      ]
     },
     "metadata": {},
     "output_type": "display_data"
    },
    {
     "data": {
      "text/html": [
       "<pre>+--------------------------------+------------+</pre>"
      ],
      "text/plain": [
       "+--------------------------------+------------+"
      ]
     },
     "metadata": {},
     "output_type": "display_data"
    },
    {
     "data": {
      "text/html": [
       "<pre>| 1.408ms                        | 4          |</pre>"
      ],
      "text/plain": [
       "| 1.408ms                        | 4          |"
      ]
     },
     "metadata": {},
     "output_type": "display_data"
    },
    {
     "data": {
      "text/html": [
       "<pre>| 5.907ms                        | 100        |</pre>"
      ],
      "text/plain": [
       "| 5.907ms                        | 100        |"
      ]
     },
     "metadata": {},
     "output_type": "display_data"
    },
    {
     "data": {
      "text/html": [
       "<pre>+--------------------------------+------------+</pre>"
      ],
      "text/plain": [
       "+--------------------------------+------------+"
      ]
     },
     "metadata": {},
     "output_type": "display_data"
    },
    {
     "data": {
      "text/html": [
       "<pre>Setting up lookup tables.</pre>"
      ],
      "text/plain": [
       "Setting up lookup tables."
      ]
     },
     "metadata": {},
     "output_type": "display_data"
    },
    {
     "data": {
      "text/html": [
       "<pre>Processing data in one pass using dense lookup tables.</pre>"
      ],
      "text/plain": [
       "Processing data in one pass using dense lookup tables."
      ]
     },
     "metadata": {},
     "output_type": "display_data"
    },
    {
     "data": {
      "text/html": [
       "<pre>+-------------------------------------+------------------+-----------------+</pre>"
      ],
      "text/plain": [
       "+-------------------------------------+------------------+-----------------+"
      ]
     },
     "metadata": {},
     "output_type": "display_data"
    },
    {
     "data": {
      "text/html": [
       "<pre>| Elapsed Time (Constructing Lookups) | Total % Complete | Items Processed |</pre>"
      ],
      "text/plain": [
       "| Elapsed Time (Constructing Lookups) | Total % Complete | Items Processed |"
      ]
     },
     "metadata": {},
     "output_type": "display_data"
    },
    {
     "data": {
      "text/html": [
       "<pre>+-------------------------------------+------------------+-----------------+</pre>"
      ],
      "text/plain": [
       "+-------------------------------------+------------------+-----------------+"
      ]
     },
     "metadata": {},
     "output_type": "display_data"
    },
    {
     "data": {
      "text/html": [
       "<pre>| 32.45ms                             | 0                | 0               |</pre>"
      ],
      "text/plain": [
       "| 32.45ms                             | 0                | 0               |"
      ]
     },
     "metadata": {},
     "output_type": "display_data"
    },
    {
     "data": {
      "text/html": [
       "<pre>| 167.834ms                           | 100              | 2504            |</pre>"
      ],
      "text/plain": [
       "| 167.834ms                           | 100              | 2504            |"
      ]
     },
     "metadata": {},
     "output_type": "display_data"
    },
    {
     "data": {
      "text/html": [
       "<pre>+-------------------------------------+------------------+-----------------+</pre>"
      ],
      "text/plain": [
       "+-------------------------------------+------------------+-----------------+"
      ]
     },
     "metadata": {},
     "output_type": "display_data"
    },
    {
     "data": {
      "text/html": [
       "<pre>Finalizing lookup tables.</pre>"
      ],
      "text/plain": [
       "Finalizing lookup tables."
      ]
     },
     "metadata": {},
     "output_type": "display_data"
    },
    {
     "data": {
      "text/html": [
       "<pre>Generating candidate set for working with new users.</pre>"
      ],
      "text/plain": [
       "Generating candidate set for working with new users."
      ]
     },
     "metadata": {},
     "output_type": "display_data"
    },
    {
     "data": {
      "text/html": [
       "<pre>Finished training in 0.176509s</pre>"
      ],
      "text/plain": [
       "Finished training in 0.176509s"
      ]
     },
     "metadata": {},
     "output_type": "display_data"
    },
    {
     "data": {
      "text/html": [
       "<pre>recommendations finished on 1000/74915 queries. users per second: 23817.5</pre>"
      ],
      "text/plain": [
       "recommendations finished on 1000/74915 queries. users per second: 23817.5"
      ]
     },
     "metadata": {},
     "output_type": "display_data"
    },
    {
     "data": {
      "text/html": [
       "<pre>recommendations finished on 2000/74915 queries. users per second: 30808.1</pre>"
      ],
      "text/plain": [
       "recommendations finished on 2000/74915 queries. users per second: 30808.1"
      ]
     },
     "metadata": {},
     "output_type": "display_data"
    },
    {
     "data": {
      "text/html": [
       "<pre>recommendations finished on 3000/74915 queries. users per second: 34630.8</pre>"
      ],
      "text/plain": [
       "recommendations finished on 3000/74915 queries. users per second: 34630.8"
      ]
     },
     "metadata": {},
     "output_type": "display_data"
    },
    {
     "data": {
      "text/html": [
       "<pre>recommendations finished on 4000/74915 queries. users per second: 36338.9</pre>"
      ],
      "text/plain": [
       "recommendations finished on 4000/74915 queries. users per second: 36338.9"
      ]
     },
     "metadata": {},
     "output_type": "display_data"
    },
    {
     "data": {
      "text/html": [
       "<pre>recommendations finished on 5000/74915 queries. users per second: 31458</pre>"
      ],
      "text/plain": [
       "recommendations finished on 5000/74915 queries. users per second: 31458"
      ]
     },
     "metadata": {},
     "output_type": "display_data"
    },
    {
     "data": {
      "text/html": [
       "<pre>recommendations finished on 6000/74915 queries. users per second: 32950.4</pre>"
      ],
      "text/plain": [
       "recommendations finished on 6000/74915 queries. users per second: 32950.4"
      ]
     },
     "metadata": {},
     "output_type": "display_data"
    },
    {
     "data": {
      "text/html": [
       "<pre>recommendations finished on 7000/74915 queries. users per second: 33494.9</pre>"
      ],
      "text/plain": [
       "recommendations finished on 7000/74915 queries. users per second: 33494.9"
      ]
     },
     "metadata": {},
     "output_type": "display_data"
    },
    {
     "data": {
      "text/html": [
       "<pre>recommendations finished on 8000/74915 queries. users per second: 34317.1</pre>"
      ],
      "text/plain": [
       "recommendations finished on 8000/74915 queries. users per second: 34317.1"
      ]
     },
     "metadata": {},
     "output_type": "display_data"
    },
    {
     "data": {
      "text/html": [
       "<pre>recommendations finished on 9000/74915 queries. users per second: 35021.6</pre>"
      ],
      "text/plain": [
       "recommendations finished on 9000/74915 queries. users per second: 35021.6"
      ]
     },
     "metadata": {},
     "output_type": "display_data"
    },
    {
     "data": {
      "text/html": [
       "<pre>recommendations finished on 10000/74915 queries. users per second: 35928.2</pre>"
      ],
      "text/plain": [
       "recommendations finished on 10000/74915 queries. users per second: 35928.2"
      ]
     },
     "metadata": {},
     "output_type": "display_data"
    },
    {
     "data": {
      "text/html": [
       "<pre>recommendations finished on 11000/74915 queries. users per second: 36615.5</pre>"
      ],
      "text/plain": [
       "recommendations finished on 11000/74915 queries. users per second: 36615.5"
      ]
     },
     "metadata": {},
     "output_type": "display_data"
    },
    {
     "data": {
      "text/html": [
       "<pre>recommendations finished on 12000/74915 queries. users per second: 36792.9</pre>"
      ],
      "text/plain": [
       "recommendations finished on 12000/74915 queries. users per second: 36792.9"
      ]
     },
     "metadata": {},
     "output_type": "display_data"
    },
    {
     "data": {
      "text/html": [
       "<pre>recommendations finished on 13000/74915 queries. users per second: 36670.6</pre>"
      ],
      "text/plain": [
       "recommendations finished on 13000/74915 queries. users per second: 36670.6"
      ]
     },
     "metadata": {},
     "output_type": "display_data"
    },
    {
     "data": {
      "text/html": [
       "<pre>recommendations finished on 14000/74915 queries. users per second: 37211.8</pre>"
      ],
      "text/plain": [
       "recommendations finished on 14000/74915 queries. users per second: 37211.8"
      ]
     },
     "metadata": {},
     "output_type": "display_data"
    },
    {
     "data": {
      "text/html": [
       "<pre>recommendations finished on 15000/74915 queries. users per second: 37793.4</pre>"
      ],
      "text/plain": [
       "recommendations finished on 15000/74915 queries. users per second: 37793.4"
      ]
     },
     "metadata": {},
     "output_type": "display_data"
    },
    {
     "data": {
      "text/html": [
       "<pre>recommendations finished on 16000/74915 queries. users per second: 38218.2</pre>"
      ],
      "text/plain": [
       "recommendations finished on 16000/74915 queries. users per second: 38218.2"
      ]
     },
     "metadata": {},
     "output_type": "display_data"
    },
    {
     "data": {
      "text/html": [
       "<pre>recommendations finished on 17000/74915 queries. users per second: 38566.9</pre>"
      ],
      "text/plain": [
       "recommendations finished on 17000/74915 queries. users per second: 38566.9"
      ]
     },
     "metadata": {},
     "output_type": "display_data"
    },
    {
     "data": {
      "text/html": [
       "<pre>recommendations finished on 18000/74915 queries. users per second: 39005.9</pre>"
      ],
      "text/plain": [
       "recommendations finished on 18000/74915 queries. users per second: 39005.9"
      ]
     },
     "metadata": {},
     "output_type": "display_data"
    },
    {
     "data": {
      "text/html": [
       "<pre>recommendations finished on 19000/74915 queries. users per second: 39131.3</pre>"
      ],
      "text/plain": [
       "recommendations finished on 19000/74915 queries. users per second: 39131.3"
      ]
     },
     "metadata": {},
     "output_type": "display_data"
    },
    {
     "data": {
      "text/html": [
       "<pre>recommendations finished on 20000/74915 queries. users per second: 39275.8</pre>"
      ],
      "text/plain": [
       "recommendations finished on 20000/74915 queries. users per second: 39275.8"
      ]
     },
     "metadata": {},
     "output_type": "display_data"
    },
    {
     "data": {
      "text/html": [
       "<pre>recommendations finished on 21000/74915 queries. users per second: 39357.1</pre>"
      ],
      "text/plain": [
       "recommendations finished on 21000/74915 queries. users per second: 39357.1"
      ]
     },
     "metadata": {},
     "output_type": "display_data"
    },
    {
     "data": {
      "text/html": [
       "<pre>recommendations finished on 22000/74915 queries. users per second: 39072.6</pre>"
      ],
      "text/plain": [
       "recommendations finished on 22000/74915 queries. users per second: 39072.6"
      ]
     },
     "metadata": {},
     "output_type": "display_data"
    },
    {
     "data": {
      "text/html": [
       "<pre>recommendations finished on 23000/74915 queries. users per second: 39383.6</pre>"
      ],
      "text/plain": [
       "recommendations finished on 23000/74915 queries. users per second: 39383.6"
      ]
     },
     "metadata": {},
     "output_type": "display_data"
    },
    {
     "data": {
      "text/html": [
       "<pre>recommendations finished on 24000/74915 queries. users per second: 39312</pre>"
      ],
      "text/plain": [
       "recommendations finished on 24000/74915 queries. users per second: 39312"
      ]
     },
     "metadata": {},
     "output_type": "display_data"
    },
    {
     "data": {
      "text/html": [
       "<pre>recommendations finished on 25000/74915 queries. users per second: 39622.5</pre>"
      ],
      "text/plain": [
       "recommendations finished on 25000/74915 queries. users per second: 39622.5"
      ]
     },
     "metadata": {},
     "output_type": "display_data"
    },
    {
     "data": {
      "text/html": [
       "<pre>recommendations finished on 26000/74915 queries. users per second: 39713</pre>"
      ],
      "text/plain": [
       "recommendations finished on 26000/74915 queries. users per second: 39713"
      ]
     },
     "metadata": {},
     "output_type": "display_data"
    },
    {
     "data": {
      "text/html": [
       "<pre>recommendations finished on 27000/74915 queries. users per second: 39826.1</pre>"
      ],
      "text/plain": [
       "recommendations finished on 27000/74915 queries. users per second: 39826.1"
      ]
     },
     "metadata": {},
     "output_type": "display_data"
    },
    {
     "data": {
      "text/html": [
       "<pre>recommendations finished on 28000/74915 queries. users per second: 39976.5</pre>"
      ],
      "text/plain": [
       "recommendations finished on 28000/74915 queries. users per second: 39976.5"
      ]
     },
     "metadata": {},
     "output_type": "display_data"
    },
    {
     "data": {
      "text/html": [
       "<pre>recommendations finished on 29000/74915 queries. users per second: 39879.2</pre>"
      ],
      "text/plain": [
       "recommendations finished on 29000/74915 queries. users per second: 39879.2"
      ]
     },
     "metadata": {},
     "output_type": "display_data"
    },
    {
     "data": {
      "text/html": [
       "<pre>recommendations finished on 30000/74915 queries. users per second: 39831.8</pre>"
      ],
      "text/plain": [
       "recommendations finished on 30000/74915 queries. users per second: 39831.8"
      ]
     },
     "metadata": {},
     "output_type": "display_data"
    },
    {
     "data": {
      "text/html": [
       "<pre>recommendations finished on 31000/74915 queries. users per second: 39790.9</pre>"
      ],
      "text/plain": [
       "recommendations finished on 31000/74915 queries. users per second: 39790.9"
      ]
     },
     "metadata": {},
     "output_type": "display_data"
    },
    {
     "data": {
      "text/html": [
       "<pre>recommendations finished on 32000/74915 queries. users per second: 39934.5</pre>"
      ],
      "text/plain": [
       "recommendations finished on 32000/74915 queries. users per second: 39934.5"
      ]
     },
     "metadata": {},
     "output_type": "display_data"
    },
    {
     "data": {
      "text/html": [
       "<pre>recommendations finished on 33000/74915 queries. users per second: 40023.6</pre>"
      ],
      "text/plain": [
       "recommendations finished on 33000/74915 queries. users per second: 40023.6"
      ]
     },
     "metadata": {},
     "output_type": "display_data"
    },
    {
     "data": {
      "text/html": [
       "<pre>recommendations finished on 34000/74915 queries. users per second: 40052.9</pre>"
      ],
      "text/plain": [
       "recommendations finished on 34000/74915 queries. users per second: 40052.9"
      ]
     },
     "metadata": {},
     "output_type": "display_data"
    },
    {
     "data": {
      "text/html": [
       "<pre>recommendations finished on 35000/74915 queries. users per second: 39944.2</pre>"
      ],
      "text/plain": [
       "recommendations finished on 35000/74915 queries. users per second: 39944.2"
      ]
     },
     "metadata": {},
     "output_type": "display_data"
    },
    {
     "data": {
      "text/html": [
       "<pre>recommendations finished on 36000/74915 queries. users per second: 40091.1</pre>"
      ],
      "text/plain": [
       "recommendations finished on 36000/74915 queries. users per second: 40091.1"
      ]
     },
     "metadata": {},
     "output_type": "display_data"
    },
    {
     "data": {
      "text/html": [
       "<pre>recommendations finished on 37000/74915 queries. users per second: 40334.3</pre>"
      ],
      "text/plain": [
       "recommendations finished on 37000/74915 queries. users per second: 40334.3"
      ]
     },
     "metadata": {},
     "output_type": "display_data"
    },
    {
     "data": {
      "text/html": [
       "<pre>recommendations finished on 38000/74915 queries. users per second: 40481.1</pre>"
      ],
      "text/plain": [
       "recommendations finished on 38000/74915 queries. users per second: 40481.1"
      ]
     },
     "metadata": {},
     "output_type": "display_data"
    },
    {
     "data": {
      "text/html": [
       "<pre>recommendations finished on 39000/74915 queries. users per second: 40591.2</pre>"
      ],
      "text/plain": [
       "recommendations finished on 39000/74915 queries. users per second: 40591.2"
      ]
     },
     "metadata": {},
     "output_type": "display_data"
    },
    {
     "data": {
      "text/html": [
       "<pre>recommendations finished on 40000/74915 queries. users per second: 40291.1</pre>"
      ],
      "text/plain": [
       "recommendations finished on 40000/74915 queries. users per second: 40291.1"
      ]
     },
     "metadata": {},
     "output_type": "display_data"
    },
    {
     "data": {
      "text/html": [
       "<pre>recommendations finished on 41000/74915 queries. users per second: 40328.3</pre>"
      ],
      "text/plain": [
       "recommendations finished on 41000/74915 queries. users per second: 40328.3"
      ]
     },
     "metadata": {},
     "output_type": "display_data"
    },
    {
     "data": {
      "text/html": [
       "<pre>recommendations finished on 42000/74915 queries. users per second: 40530.6</pre>"
      ],
      "text/plain": [
       "recommendations finished on 42000/74915 queries. users per second: 40530.6"
      ]
     },
     "metadata": {},
     "output_type": "display_data"
    },
    {
     "data": {
      "text/html": [
       "<pre>recommendations finished on 43000/74915 queries. users per second: 40580.5</pre>"
      ],
      "text/plain": [
       "recommendations finished on 43000/74915 queries. users per second: 40580.5"
      ]
     },
     "metadata": {},
     "output_type": "display_data"
    },
    {
     "data": {
      "text/html": [
       "<pre>recommendations finished on 44000/74915 queries. users per second: 40636</pre>"
      ],
      "text/plain": [
       "recommendations finished on 44000/74915 queries. users per second: 40636"
      ]
     },
     "metadata": {},
     "output_type": "display_data"
    },
    {
     "data": {
      "text/html": [
       "<pre>recommendations finished on 45000/74915 queries. users per second: 40679.9</pre>"
      ],
      "text/plain": [
       "recommendations finished on 45000/74915 queries. users per second: 40679.9"
      ]
     },
     "metadata": {},
     "output_type": "display_data"
    },
    {
     "data": {
      "text/html": [
       "<pre>recommendations finished on 46000/74915 queries. users per second: 40749.5</pre>"
      ],
      "text/plain": [
       "recommendations finished on 46000/74915 queries. users per second: 40749.5"
      ]
     },
     "metadata": {},
     "output_type": "display_data"
    },
    {
     "data": {
      "text/html": [
       "<pre>recommendations finished on 47000/74915 queries. users per second: 40755.2</pre>"
      ],
      "text/plain": [
       "recommendations finished on 47000/74915 queries. users per second: 40755.2"
      ]
     },
     "metadata": {},
     "output_type": "display_data"
    },
    {
     "data": {
      "text/html": [
       "<pre>recommendations finished on 48000/74915 queries. users per second: 40858.3</pre>"
      ],
      "text/plain": [
       "recommendations finished on 48000/74915 queries. users per second: 40858.3"
      ]
     },
     "metadata": {},
     "output_type": "display_data"
    },
    {
     "data": {
      "text/html": [
       "<pre>recommendations finished on 49000/74915 queries. users per second: 40971.3</pre>"
      ],
      "text/plain": [
       "recommendations finished on 49000/74915 queries. users per second: 40971.3"
      ]
     },
     "metadata": {},
     "output_type": "display_data"
    },
    {
     "data": {
      "text/html": [
       "<pre>recommendations finished on 50000/74915 queries. users per second: 40853.9</pre>"
      ],
      "text/plain": [
       "recommendations finished on 50000/74915 queries. users per second: 40853.9"
      ]
     },
     "metadata": {},
     "output_type": "display_data"
    },
    {
     "data": {
      "text/html": [
       "<pre>recommendations finished on 51000/74915 queries. users per second: 40846.7</pre>"
      ],
      "text/plain": [
       "recommendations finished on 51000/74915 queries. users per second: 40846.7"
      ]
     },
     "metadata": {},
     "output_type": "display_data"
    },
    {
     "data": {
      "text/html": [
       "<pre>recommendations finished on 52000/74915 queries. users per second: 40950.2</pre>"
      ],
      "text/plain": [
       "recommendations finished on 52000/74915 queries. users per second: 40950.2"
      ]
     },
     "metadata": {},
     "output_type": "display_data"
    },
    {
     "data": {
      "text/html": [
       "<pre>recommendations finished on 53000/74915 queries. users per second: 40778.1</pre>"
      ],
      "text/plain": [
       "recommendations finished on 53000/74915 queries. users per second: 40778.1"
      ]
     },
     "metadata": {},
     "output_type": "display_data"
    },
    {
     "data": {
      "text/html": [
       "<pre>recommendations finished on 54000/74915 queries. users per second: 40913.8</pre>"
      ],
      "text/plain": [
       "recommendations finished on 54000/74915 queries. users per second: 40913.8"
      ]
     },
     "metadata": {},
     "output_type": "display_data"
    },
    {
     "data": {
      "text/html": [
       "<pre>recommendations finished on 55000/74915 queries. users per second: 40908.2</pre>"
      ],
      "text/plain": [
       "recommendations finished on 55000/74915 queries. users per second: 40908.2"
      ]
     },
     "metadata": {},
     "output_type": "display_data"
    },
    {
     "data": {
      "text/html": [
       "<pre>recommendations finished on 56000/74915 queries. users per second: 41048.2</pre>"
      ],
      "text/plain": [
       "recommendations finished on 56000/74915 queries. users per second: 41048.2"
      ]
     },
     "metadata": {},
     "output_type": "display_data"
    },
    {
     "data": {
      "text/html": [
       "<pre>recommendations finished on 57000/74915 queries. users per second: 41084.9</pre>"
      ],
      "text/plain": [
       "recommendations finished on 57000/74915 queries. users per second: 41084.9"
      ]
     },
     "metadata": {},
     "output_type": "display_data"
    },
    {
     "data": {
      "text/html": [
       "<pre>recommendations finished on 58000/74915 queries. users per second: 41065.3</pre>"
      ],
      "text/plain": [
       "recommendations finished on 58000/74915 queries. users per second: 41065.3"
      ]
     },
     "metadata": {},
     "output_type": "display_data"
    },
    {
     "data": {
      "text/html": [
       "<pre>recommendations finished on 59000/74915 queries. users per second: 41164.4</pre>"
      ],
      "text/plain": [
       "recommendations finished on 59000/74915 queries. users per second: 41164.4"
      ]
     },
     "metadata": {},
     "output_type": "display_data"
    },
    {
     "data": {
      "text/html": [
       "<pre>recommendations finished on 60000/74915 queries. users per second: 40808.6</pre>"
      ],
      "text/plain": [
       "recommendations finished on 60000/74915 queries. users per second: 40808.6"
      ]
     },
     "metadata": {},
     "output_type": "display_data"
    },
    {
     "data": {
      "text/html": [
       "<pre>recommendations finished on 61000/74915 queries. users per second: 40641.7</pre>"
      ],
      "text/plain": [
       "recommendations finished on 61000/74915 queries. users per second: 40641.7"
      ]
     },
     "metadata": {},
     "output_type": "display_data"
    },
    {
     "data": {
      "text/html": [
       "<pre>recommendations finished on 62000/74915 queries. users per second: 40466.5</pre>"
      ],
      "text/plain": [
       "recommendations finished on 62000/74915 queries. users per second: 40466.5"
      ]
     },
     "metadata": {},
     "output_type": "display_data"
    },
    {
     "data": {
      "text/html": [
       "<pre>recommendations finished on 63000/74915 queries. users per second: 40260.1</pre>"
      ],
      "text/plain": [
       "recommendations finished on 63000/74915 queries. users per second: 40260.1"
      ]
     },
     "metadata": {},
     "output_type": "display_data"
    },
    {
     "data": {
      "text/html": [
       "<pre>recommendations finished on 64000/74915 queries. users per second: 39975.5</pre>"
      ],
      "text/plain": [
       "recommendations finished on 64000/74915 queries. users per second: 39975.5"
      ]
     },
     "metadata": {},
     "output_type": "display_data"
    },
    {
     "data": {
      "text/html": [
       "<pre>recommendations finished on 65000/74915 queries. users per second: 40023.3</pre>"
      ],
      "text/plain": [
       "recommendations finished on 65000/74915 queries. users per second: 40023.3"
      ]
     },
     "metadata": {},
     "output_type": "display_data"
    },
    {
     "data": {
      "text/html": [
       "<pre>recommendations finished on 66000/74915 queries. users per second: 39966.3</pre>"
      ],
      "text/plain": [
       "recommendations finished on 66000/74915 queries. users per second: 39966.3"
      ]
     },
     "metadata": {},
     "output_type": "display_data"
    },
    {
     "data": {
      "text/html": [
       "<pre>recommendations finished on 67000/74915 queries. users per second: 39802.7</pre>"
      ],
      "text/plain": [
       "recommendations finished on 67000/74915 queries. users per second: 39802.7"
      ]
     },
     "metadata": {},
     "output_type": "display_data"
    },
    {
     "data": {
      "text/html": [
       "<pre>recommendations finished on 68000/74915 queries. users per second: 39719</pre>"
      ],
      "text/plain": [
       "recommendations finished on 68000/74915 queries. users per second: 39719"
      ]
     },
     "metadata": {},
     "output_type": "display_data"
    },
    {
     "data": {
      "text/html": [
       "<pre>recommendations finished on 69000/74915 queries. users per second: 39633.1</pre>"
      ],
      "text/plain": [
       "recommendations finished on 69000/74915 queries. users per second: 39633.1"
      ]
     },
     "metadata": {},
     "output_type": "display_data"
    },
    {
     "data": {
      "text/html": [
       "<pre>recommendations finished on 70000/74915 queries. users per second: 28996.2</pre>"
      ],
      "text/plain": [
       "recommendations finished on 70000/74915 queries. users per second: 28996.2"
      ]
     },
     "metadata": {},
     "output_type": "display_data"
    },
    {
     "data": {
      "text/html": [
       "<pre>recommendations finished on 71000/74915 queries. users per second: 18552.9</pre>"
      ],
      "text/plain": [
       "recommendations finished on 71000/74915 queries. users per second: 18552.9"
      ]
     },
     "metadata": {},
     "output_type": "display_data"
    },
    {
     "data": {
      "text/html": [
       "<pre>recommendations finished on 72000/74915 queries. users per second: 13800.2</pre>"
      ],
      "text/plain": [
       "recommendations finished on 72000/74915 queries. users per second: 13800.2"
      ]
     },
     "metadata": {},
     "output_type": "display_data"
    },
    {
     "data": {
      "text/html": [
       "<pre>recommendations finished on 73000/74915 queries. users per second: 13660.9</pre>"
      ],
      "text/plain": [
       "recommendations finished on 73000/74915 queries. users per second: 13660.9"
      ]
     },
     "metadata": {},
     "output_type": "display_data"
    },
    {
     "data": {
      "text/html": [
       "<pre>recommendations finished on 74000/74915 queries. users per second: 13729.4</pre>"
      ],
      "text/plain": [
       "recommendations finished on 74000/74915 queries. users per second: 13729.4"
      ]
     },
     "metadata": {},
     "output_type": "display_data"
    },
    {
     "name": "stdout",
     "output_type": "stream",
     "text": [
      "+--------+-----------+------------------+------+\n",
      "| UserId | productid |      score       | rank |\n",
      "+--------+-----------+------------------+------+\n",
      "|   0    |  11714428 |       0.0        |  1   |\n",
      "|   0    |  12657960 |       0.0        |  2   |\n",
      "|   0    |  11659770 |       0.0        |  3   |\n",
      "|   0    |  12658084 |       0.0        |  4   |\n",
      "|   0    |  12658452 |       0.0        |  5   |\n",
      "|   0    |  12360462 |       0.0        |  6   |\n",
      "|   0    |  11659708 |       0.0        |  7   |\n",
      "|   0    |  11237192 |       0.0        |  8   |\n",
      "|   0    |  12657706 |       0.0        |  9   |\n",
      "|   0    |  12657712 |       0.0        |  10  |\n",
      "|   1    |  11714428 |       0.0        |  1   |\n",
      "|   1    |  12657960 |       0.0        |  2   |\n",
      "|   1    |  11659770 |       0.0        |  3   |\n",
      "|   1    |  12658084 |       0.0        |  4   |\n",
      "|   1    |  12658452 |       0.0        |  5   |\n",
      "|   1    |  12360462 |       0.0        |  6   |\n",
      "|   1    |  11659708 |       0.0        |  7   |\n",
      "|   1    |  11237192 |       0.0        |  8   |\n",
      "|   1    |  12657706 |       0.0        |  9   |\n",
      "|   1    |  12657712 |       0.0        |  10  |\n",
      "|   2    |  12407908 | 0.00802453637123 |  1   |\n",
      "|   2    |  11660232 | 0.00802453517914 |  2   |\n",
      "|   2    |  11659654 | 0.00802453517914 |  3   |\n",
      "|   2    |  11714300 | 0.00802453517914 |  4   |\n",
      "|   2    |  12990080 | 0.00802453517914 |  5   |\n",
      "|   2    |  13038724 | 0.00802453517914 |  6   |\n",
      "|   2    |  11659002 | 0.00802453517914 |  7   |\n",
      "|   2    |  13649992 | 0.00802453517914 |  8   |\n",
      "|   2    |  13039576 | 0.00802453517914 |  9   |\n",
      "|   2    |  11714608 | 0.00802453517914 |  10  |\n",
      "+--------+-----------+------------------+------+\n",
      "[749150 rows x 4 columns]\n",
      "\n"
     ]
    }
   ],
   "source": [
    "name = 'cosine'\n",
    "target = 'scaled_purchase_freq'\n",
    "user_id = 'UserId'\n",
    "item_id = 'productid'\n",
    "users_to_recommend = list(mydf['UserId'])\n",
    "n_rec = 10\n",
    "n_display = 30\n",
    "cos_norm = model(train_data_norm, name, user_id, item_id, target, users_to_recommend, n_rec, n_display)"
   ]
  },
  {
   "cell_type": "code",
   "execution_count": 211,
   "metadata": {},
   "outputs": [
    {
     "data": {
      "text/html": [
       "<pre>Preparing data set.</pre>"
      ],
      "text/plain": [
       "Preparing data set."
      ]
     },
     "metadata": {},
     "output_type": "display_data"
    },
    {
     "data": {
      "text/html": [
       "<pre>    Data has 59932 observations with 24804 users and 2981 items.</pre>"
      ],
      "text/plain": [
       "    Data has 59932 observations with 24804 users and 2981 items."
      ]
     },
     "metadata": {},
     "output_type": "display_data"
    },
    {
     "data": {
      "text/html": [
       "<pre>    Data prepared in: 0.09718s</pre>"
      ],
      "text/plain": [
       "    Data prepared in: 0.09718s"
      ]
     },
     "metadata": {},
     "output_type": "display_data"
    },
    {
     "data": {
      "text/html": [
       "<pre>Training model from provided data.</pre>"
      ],
      "text/plain": [
       "Training model from provided data."
      ]
     },
     "metadata": {},
     "output_type": "display_data"
    },
    {
     "data": {
      "text/html": [
       "<pre>Gathering per-item and per-user statistics.</pre>"
      ],
      "text/plain": [
       "Gathering per-item and per-user statistics."
      ]
     },
     "metadata": {},
     "output_type": "display_data"
    },
    {
     "data": {
      "text/html": [
       "<pre>+--------------------------------+------------+</pre>"
      ],
      "text/plain": [
       "+--------------------------------+------------+"
      ]
     },
     "metadata": {},
     "output_type": "display_data"
    },
    {
     "data": {
      "text/html": [
       "<pre>| Elapsed Time (Item Statistics) | % Complete |</pre>"
      ],
      "text/plain": [
       "| Elapsed Time (Item Statistics) | % Complete |"
      ]
     },
     "metadata": {},
     "output_type": "display_data"
    },
    {
     "data": {
      "text/html": [
       "<pre>+--------------------------------+------------+</pre>"
      ],
      "text/plain": [
       "+--------------------------------+------------+"
      ]
     },
     "metadata": {},
     "output_type": "display_data"
    },
    {
     "data": {
      "text/html": [
       "<pre>| 1.298ms                        | 4          |</pre>"
      ],
      "text/plain": [
       "| 1.298ms                        | 4          |"
      ]
     },
     "metadata": {},
     "output_type": "display_data"
    },
    {
     "data": {
      "text/html": [
       "<pre>| 18.273ms                       | 100        |</pre>"
      ],
      "text/plain": [
       "| 18.273ms                       | 100        |"
      ]
     },
     "metadata": {},
     "output_type": "display_data"
    },
    {
     "data": {
      "text/html": [
       "<pre>+--------------------------------+------------+</pre>"
      ],
      "text/plain": [
       "+--------------------------------+------------+"
      ]
     },
     "metadata": {},
     "output_type": "display_data"
    },
    {
     "data": {
      "text/html": [
       "<pre>Setting up lookup tables.</pre>"
      ],
      "text/plain": [
       "Setting up lookup tables."
      ]
     },
     "metadata": {},
     "output_type": "display_data"
    },
    {
     "data": {
      "text/html": [
       "<pre>Processing data in one pass using dense lookup tables.</pre>"
      ],
      "text/plain": [
       "Processing data in one pass using dense lookup tables."
      ]
     },
     "metadata": {},
     "output_type": "display_data"
    },
    {
     "data": {
      "text/html": [
       "<pre>+-------------------------------------+------------------+-----------------+</pre>"
      ],
      "text/plain": [
       "+-------------------------------------+------------------+-----------------+"
      ]
     },
     "metadata": {},
     "output_type": "display_data"
    },
    {
     "data": {
      "text/html": [
       "<pre>| Elapsed Time (Constructing Lookups) | Total % Complete | Items Processed |</pre>"
      ],
      "text/plain": [
       "| Elapsed Time (Constructing Lookups) | Total % Complete | Items Processed |"
      ]
     },
     "metadata": {},
     "output_type": "display_data"
    },
    {
     "data": {
      "text/html": [
       "<pre>+-------------------------------------+------------------+-----------------+</pre>"
      ],
      "text/plain": [
       "+-------------------------------------+------------------+-----------------+"
      ]
     },
     "metadata": {},
     "output_type": "display_data"
    },
    {
     "data": {
      "text/html": [
       "<pre>| 69.521ms                            | 0.5              | 15              |</pre>"
      ],
      "text/plain": [
       "| 69.521ms                            | 0.5              | 15              |"
      ]
     },
     "metadata": {},
     "output_type": "display_data"
    },
    {
     "data": {
      "text/html": [
       "<pre>| 244.8ms                             | 100              | 2981            |</pre>"
      ],
      "text/plain": [
       "| 244.8ms                             | 100              | 2981            |"
      ]
     },
     "metadata": {},
     "output_type": "display_data"
    },
    {
     "data": {
      "text/html": [
       "<pre>+-------------------------------------+------------------+-----------------+</pre>"
      ],
      "text/plain": [
       "+-------------------------------------+------------------+-----------------+"
      ]
     },
     "metadata": {},
     "output_type": "display_data"
    },
    {
     "data": {
      "text/html": [
       "<pre>Finalizing lookup tables.</pre>"
      ],
      "text/plain": [
       "Finalizing lookup tables."
      ]
     },
     "metadata": {},
     "output_type": "display_data"
    },
    {
     "data": {
      "text/html": [
       "<pre>Generating candidate set for working with new users.</pre>"
      ],
      "text/plain": [
       "Generating candidate set for working with new users."
      ]
     },
     "metadata": {},
     "output_type": "display_data"
    },
    {
     "data": {
      "text/html": [
       "<pre>Finished training in 0.257196s</pre>"
      ],
      "text/plain": [
       "Finished training in 0.257196s"
      ]
     },
     "metadata": {},
     "output_type": "display_data"
    },
    {
     "data": {
      "text/html": [
       "<pre>recommendations finished on 1000/74915 queries. users per second: 29855.2</pre>"
      ],
      "text/plain": [
       "recommendations finished on 1000/74915 queries. users per second: 29855.2"
      ]
     },
     "metadata": {},
     "output_type": "display_data"
    },
    {
     "data": {
      "text/html": [
       "<pre>recommendations finished on 2000/74915 queries. users per second: 32850.4</pre>"
      ],
      "text/plain": [
       "recommendations finished on 2000/74915 queries. users per second: 32850.4"
      ]
     },
     "metadata": {},
     "output_type": "display_data"
    },
    {
     "data": {
      "text/html": [
       "<pre>recommendations finished on 3000/74915 queries. users per second: 33596.9</pre>"
      ],
      "text/plain": [
       "recommendations finished on 3000/74915 queries. users per second: 33596.9"
      ]
     },
     "metadata": {},
     "output_type": "display_data"
    },
    {
     "data": {
      "text/html": [
       "<pre>recommendations finished on 4000/74915 queries. users per second: 34041.7</pre>"
      ],
      "text/plain": [
       "recommendations finished on 4000/74915 queries. users per second: 34041.7"
      ]
     },
     "metadata": {},
     "output_type": "display_data"
    },
    {
     "data": {
      "text/html": [
       "<pre>recommendations finished on 5000/74915 queries. users per second: 33979.2</pre>"
      ],
      "text/plain": [
       "recommendations finished on 5000/74915 queries. users per second: 33979.2"
      ]
     },
     "metadata": {},
     "output_type": "display_data"
    },
    {
     "data": {
      "text/html": [
       "<pre>recommendations finished on 6000/74915 queries. users per second: 34853.5</pre>"
      ],
      "text/plain": [
       "recommendations finished on 6000/74915 queries. users per second: 34853.5"
      ]
     },
     "metadata": {},
     "output_type": "display_data"
    },
    {
     "data": {
      "text/html": [
       "<pre>recommendations finished on 7000/74915 queries. users per second: 35443.8</pre>"
      ],
      "text/plain": [
       "recommendations finished on 7000/74915 queries. users per second: 35443.8"
      ]
     },
     "metadata": {},
     "output_type": "display_data"
    },
    {
     "data": {
      "text/html": [
       "<pre>recommendations finished on 8000/74915 queries. users per second: 35158.8</pre>"
      ],
      "text/plain": [
       "recommendations finished on 8000/74915 queries. users per second: 35158.8"
      ]
     },
     "metadata": {},
     "output_type": "display_data"
    },
    {
     "data": {
      "text/html": [
       "<pre>recommendations finished on 9000/74915 queries. users per second: 35663.8</pre>"
      ],
      "text/plain": [
       "recommendations finished on 9000/74915 queries. users per second: 35663.8"
      ]
     },
     "metadata": {},
     "output_type": "display_data"
    },
    {
     "data": {
      "text/html": [
       "<pre>recommendations finished on 10000/74915 queries. users per second: 35664.4</pre>"
      ],
      "text/plain": [
       "recommendations finished on 10000/74915 queries. users per second: 35664.4"
      ]
     },
     "metadata": {},
     "output_type": "display_data"
    },
    {
     "data": {
      "text/html": [
       "<pre>recommendations finished on 11000/74915 queries. users per second: 36267.5</pre>"
      ],
      "text/plain": [
       "recommendations finished on 11000/74915 queries. users per second: 36267.5"
      ]
     },
     "metadata": {},
     "output_type": "display_data"
    },
    {
     "data": {
      "text/html": [
       "<pre>recommendations finished on 12000/74915 queries. users per second: 36340.4</pre>"
      ],
      "text/plain": [
       "recommendations finished on 12000/74915 queries. users per second: 36340.4"
      ]
     },
     "metadata": {},
     "output_type": "display_data"
    },
    {
     "data": {
      "text/html": [
       "<pre>recommendations finished on 13000/74915 queries. users per second: 36461.6</pre>"
      ],
      "text/plain": [
       "recommendations finished on 13000/74915 queries. users per second: 36461.6"
      ]
     },
     "metadata": {},
     "output_type": "display_data"
    },
    {
     "data": {
      "text/html": [
       "<pre>recommendations finished on 14000/74915 queries. users per second: 36613.8</pre>"
      ],
      "text/plain": [
       "recommendations finished on 14000/74915 queries. users per second: 36613.8"
      ]
     },
     "metadata": {},
     "output_type": "display_data"
    },
    {
     "data": {
      "text/html": [
       "<pre>recommendations finished on 15000/74915 queries. users per second: 36899</pre>"
      ],
      "text/plain": [
       "recommendations finished on 15000/74915 queries. users per second: 36899"
      ]
     },
     "metadata": {},
     "output_type": "display_data"
    },
    {
     "data": {
      "text/html": [
       "<pre>recommendations finished on 16000/74915 queries. users per second: 36717.3</pre>"
      ],
      "text/plain": [
       "recommendations finished on 16000/74915 queries. users per second: 36717.3"
      ]
     },
     "metadata": {},
     "output_type": "display_data"
    },
    {
     "data": {
      "text/html": [
       "<pre>recommendations finished on 17000/74915 queries. users per second: 36450.5</pre>"
      ],
      "text/plain": [
       "recommendations finished on 17000/74915 queries. users per second: 36450.5"
      ]
     },
     "metadata": {},
     "output_type": "display_data"
    },
    {
     "data": {
      "text/html": [
       "<pre>recommendations finished on 18000/74915 queries. users per second: 36383</pre>"
      ],
      "text/plain": [
       "recommendations finished on 18000/74915 queries. users per second: 36383"
      ]
     },
     "metadata": {},
     "output_type": "display_data"
    },
    {
     "data": {
      "text/html": [
       "<pre>recommendations finished on 19000/74915 queries. users per second: 36686.8</pre>"
      ],
      "text/plain": [
       "recommendations finished on 19000/74915 queries. users per second: 36686.8"
      ]
     },
     "metadata": {},
     "output_type": "display_data"
    },
    {
     "data": {
      "text/html": [
       "<pre>recommendations finished on 20000/74915 queries. users per second: 36507.1</pre>"
      ],
      "text/plain": [
       "recommendations finished on 20000/74915 queries. users per second: 36507.1"
      ]
     },
     "metadata": {},
     "output_type": "display_data"
    },
    {
     "data": {
      "text/html": [
       "<pre>recommendations finished on 21000/74915 queries. users per second: 35088.7</pre>"
      ],
      "text/plain": [
       "recommendations finished on 21000/74915 queries. users per second: 35088.7"
      ]
     },
     "metadata": {},
     "output_type": "display_data"
    },
    {
     "data": {
      "text/html": [
       "<pre>recommendations finished on 22000/74915 queries. users per second: 31744.4</pre>"
      ],
      "text/plain": [
       "recommendations finished on 22000/74915 queries. users per second: 31744.4"
      ]
     },
     "metadata": {},
     "output_type": "display_data"
    },
    {
     "data": {
      "text/html": [
       "<pre>recommendations finished on 23000/74915 queries. users per second: 27332.2</pre>"
      ],
      "text/plain": [
       "recommendations finished on 23000/74915 queries. users per second: 27332.2"
      ]
     },
     "metadata": {},
     "output_type": "display_data"
    },
    {
     "data": {
      "text/html": [
       "<pre>recommendations finished on 24000/74915 queries. users per second: 26423.9</pre>"
      ],
      "text/plain": [
       "recommendations finished on 24000/74915 queries. users per second: 26423.9"
      ]
     },
     "metadata": {},
     "output_type": "display_data"
    },
    {
     "data": {
      "text/html": [
       "<pre>recommendations finished on 25000/74915 queries. users per second: 25692.7</pre>"
      ],
      "text/plain": [
       "recommendations finished on 25000/74915 queries. users per second: 25692.7"
      ]
     },
     "metadata": {},
     "output_type": "display_data"
    },
    {
     "data": {
      "text/html": [
       "<pre>recommendations finished on 26000/74915 queries. users per second: 24763.9</pre>"
      ],
      "text/plain": [
       "recommendations finished on 26000/74915 queries. users per second: 24763.9"
      ]
     },
     "metadata": {},
     "output_type": "display_data"
    },
    {
     "data": {
      "text/html": [
       "<pre>recommendations finished on 27000/74915 queries. users per second: 24097.2</pre>"
      ],
      "text/plain": [
       "recommendations finished on 27000/74915 queries. users per second: 24097.2"
      ]
     },
     "metadata": {},
     "output_type": "display_data"
    },
    {
     "data": {
      "text/html": [
       "<pre>recommendations finished on 28000/74915 queries. users per second: 23906.7</pre>"
      ],
      "text/plain": [
       "recommendations finished on 28000/74915 queries. users per second: 23906.7"
      ]
     },
     "metadata": {},
     "output_type": "display_data"
    },
    {
     "data": {
      "text/html": [
       "<pre>recommendations finished on 29000/74915 queries. users per second: 24186.9</pre>"
      ],
      "text/plain": [
       "recommendations finished on 29000/74915 queries. users per second: 24186.9"
      ]
     },
     "metadata": {},
     "output_type": "display_data"
    },
    {
     "data": {
      "text/html": [
       "<pre>recommendations finished on 30000/74915 queries. users per second: 24444.5</pre>"
      ],
      "text/plain": [
       "recommendations finished on 30000/74915 queries. users per second: 24444.5"
      ]
     },
     "metadata": {},
     "output_type": "display_data"
    },
    {
     "data": {
      "text/html": [
       "<pre>recommendations finished on 31000/74915 queries. users per second: 24712.5</pre>"
      ],
      "text/plain": [
       "recommendations finished on 31000/74915 queries. users per second: 24712.5"
      ]
     },
     "metadata": {},
     "output_type": "display_data"
    },
    {
     "data": {
      "text/html": [
       "<pre>recommendations finished on 32000/74915 queries. users per second: 24971.3</pre>"
      ],
      "text/plain": [
       "recommendations finished on 32000/74915 queries. users per second: 24971.3"
      ]
     },
     "metadata": {},
     "output_type": "display_data"
    },
    {
     "data": {
      "text/html": [
       "<pre>recommendations finished on 33000/74915 queries. users per second: 25228.8</pre>"
      ],
      "text/plain": [
       "recommendations finished on 33000/74915 queries. users per second: 25228.8"
      ]
     },
     "metadata": {},
     "output_type": "display_data"
    },
    {
     "data": {
      "text/html": [
       "<pre>recommendations finished on 34000/74915 queries. users per second: 25503.7</pre>"
      ],
      "text/plain": [
       "recommendations finished on 34000/74915 queries. users per second: 25503.7"
      ]
     },
     "metadata": {},
     "output_type": "display_data"
    },
    {
     "data": {
      "text/html": [
       "<pre>recommendations finished on 35000/74915 queries. users per second: 25738.8</pre>"
      ],
      "text/plain": [
       "recommendations finished on 35000/74915 queries. users per second: 25738.8"
      ]
     },
     "metadata": {},
     "output_type": "display_data"
    },
    {
     "data": {
      "text/html": [
       "<pre>recommendations finished on 36000/74915 queries. users per second: 25881</pre>"
      ],
      "text/plain": [
       "recommendations finished on 36000/74915 queries. users per second: 25881"
      ]
     },
     "metadata": {},
     "output_type": "display_data"
    },
    {
     "data": {
      "text/html": [
       "<pre>recommendations finished on 37000/74915 queries. users per second: 26135.9</pre>"
      ],
      "text/plain": [
       "recommendations finished on 37000/74915 queries. users per second: 26135.9"
      ]
     },
     "metadata": {},
     "output_type": "display_data"
    },
    {
     "data": {
      "text/html": [
       "<pre>recommendations finished on 38000/74915 queries. users per second: 26424.3</pre>"
      ],
      "text/plain": [
       "recommendations finished on 38000/74915 queries. users per second: 26424.3"
      ]
     },
     "metadata": {},
     "output_type": "display_data"
    },
    {
     "data": {
      "text/html": [
       "<pre>recommendations finished on 39000/74915 queries. users per second: 26612.9</pre>"
      ],
      "text/plain": [
       "recommendations finished on 39000/74915 queries. users per second: 26612.9"
      ]
     },
     "metadata": {},
     "output_type": "display_data"
    },
    {
     "data": {
      "text/html": [
       "<pre>recommendations finished on 40000/74915 queries. users per second: 26825.1</pre>"
      ],
      "text/plain": [
       "recommendations finished on 40000/74915 queries. users per second: 26825.1"
      ]
     },
     "metadata": {},
     "output_type": "display_data"
    },
    {
     "data": {
      "text/html": [
       "<pre>recommendations finished on 41000/74915 queries. users per second: 27014.5</pre>"
      ],
      "text/plain": [
       "recommendations finished on 41000/74915 queries. users per second: 27014.5"
      ]
     },
     "metadata": {},
     "output_type": "display_data"
    },
    {
     "data": {
      "text/html": [
       "<pre>recommendations finished on 42000/74915 queries. users per second: 27232.1</pre>"
      ],
      "text/plain": [
       "recommendations finished on 42000/74915 queries. users per second: 27232.1"
      ]
     },
     "metadata": {},
     "output_type": "display_data"
    },
    {
     "data": {
      "text/html": [
       "<pre>recommendations finished on 43000/74915 queries. users per second: 27401.2</pre>"
      ],
      "text/plain": [
       "recommendations finished on 43000/74915 queries. users per second: 27401.2"
      ]
     },
     "metadata": {},
     "output_type": "display_data"
    },
    {
     "data": {
      "text/html": [
       "<pre>recommendations finished on 44000/74915 queries. users per second: 27542.5</pre>"
      ],
      "text/plain": [
       "recommendations finished on 44000/74915 queries. users per second: 27542.5"
      ]
     },
     "metadata": {},
     "output_type": "display_data"
    },
    {
     "data": {
      "text/html": [
       "<pre>recommendations finished on 45000/74915 queries. users per second: 27764.6</pre>"
      ],
      "text/plain": [
       "recommendations finished on 45000/74915 queries. users per second: 27764.6"
      ]
     },
     "metadata": {},
     "output_type": "display_data"
    },
    {
     "data": {
      "text/html": [
       "<pre>recommendations finished on 46000/74915 queries. users per second: 27924.6</pre>"
      ],
      "text/plain": [
       "recommendations finished on 46000/74915 queries. users per second: 27924.6"
      ]
     },
     "metadata": {},
     "output_type": "display_data"
    },
    {
     "data": {
      "text/html": [
       "<pre>recommendations finished on 47000/74915 queries. users per second: 28125.2</pre>"
      ],
      "text/plain": [
       "recommendations finished on 47000/74915 queries. users per second: 28125.2"
      ]
     },
     "metadata": {},
     "output_type": "display_data"
    },
    {
     "data": {
      "text/html": [
       "<pre>recommendations finished on 48000/74915 queries. users per second: 28290.8</pre>"
      ],
      "text/plain": [
       "recommendations finished on 48000/74915 queries. users per second: 28290.8"
      ]
     },
     "metadata": {},
     "output_type": "display_data"
    },
    {
     "data": {
      "text/html": [
       "<pre>recommendations finished on 49000/74915 queries. users per second: 28396.1</pre>"
      ],
      "text/plain": [
       "recommendations finished on 49000/74915 queries. users per second: 28396.1"
      ]
     },
     "metadata": {},
     "output_type": "display_data"
    },
    {
     "data": {
      "text/html": [
       "<pre>recommendations finished on 50000/74915 queries. users per second: 28559.9</pre>"
      ],
      "text/plain": [
       "recommendations finished on 50000/74915 queries. users per second: 28559.9"
      ]
     },
     "metadata": {},
     "output_type": "display_data"
    },
    {
     "data": {
      "text/html": [
       "<pre>recommendations finished on 51000/74915 queries. users per second: 28623.8</pre>"
      ],
      "text/plain": [
       "recommendations finished on 51000/74915 queries. users per second: 28623.8"
      ]
     },
     "metadata": {},
     "output_type": "display_data"
    },
    {
     "data": {
      "text/html": [
       "<pre>recommendations finished on 52000/74915 queries. users per second: 28770.1</pre>"
      ],
      "text/plain": [
       "recommendations finished on 52000/74915 queries. users per second: 28770.1"
      ]
     },
     "metadata": {},
     "output_type": "display_data"
    },
    {
     "data": {
      "text/html": [
       "<pre>recommendations finished on 53000/74915 queries. users per second: 28828.2</pre>"
      ],
      "text/plain": [
       "recommendations finished on 53000/74915 queries. users per second: 28828.2"
      ]
     },
     "metadata": {},
     "output_type": "display_data"
    },
    {
     "data": {
      "text/html": [
       "<pre>recommendations finished on 54000/74915 queries. users per second: 28971.7</pre>"
      ],
      "text/plain": [
       "recommendations finished on 54000/74915 queries. users per second: 28971.7"
      ]
     },
     "metadata": {},
     "output_type": "display_data"
    },
    {
     "data": {
      "text/html": [
       "<pre>recommendations finished on 55000/74915 queries. users per second: 28957.8</pre>"
      ],
      "text/plain": [
       "recommendations finished on 55000/74915 queries. users per second: 28957.8"
      ]
     },
     "metadata": {},
     "output_type": "display_data"
    },
    {
     "data": {
      "text/html": [
       "<pre>recommendations finished on 56000/74915 queries. users per second: 29013.7</pre>"
      ],
      "text/plain": [
       "recommendations finished on 56000/74915 queries. users per second: 29013.7"
      ]
     },
     "metadata": {},
     "output_type": "display_data"
    },
    {
     "data": {
      "text/html": [
       "<pre>recommendations finished on 57000/74915 queries. users per second: 29038.2</pre>"
      ],
      "text/plain": [
       "recommendations finished on 57000/74915 queries. users per second: 29038.2"
      ]
     },
     "metadata": {},
     "output_type": "display_data"
    },
    {
     "data": {
      "text/html": [
       "<pre>recommendations finished on 58000/74915 queries. users per second: 28977.7</pre>"
      ],
      "text/plain": [
       "recommendations finished on 58000/74915 queries. users per second: 28977.7"
      ]
     },
     "metadata": {},
     "output_type": "display_data"
    },
    {
     "data": {
      "text/html": [
       "<pre>recommendations finished on 59000/74915 queries. users per second: 28943.2</pre>"
      ],
      "text/plain": [
       "recommendations finished on 59000/74915 queries. users per second: 28943.2"
      ]
     },
     "metadata": {},
     "output_type": "display_data"
    },
    {
     "data": {
      "text/html": [
       "<pre>recommendations finished on 60000/74915 queries. users per second: 28947.5</pre>"
      ],
      "text/plain": [
       "recommendations finished on 60000/74915 queries. users per second: 28947.5"
      ]
     },
     "metadata": {},
     "output_type": "display_data"
    },
    {
     "data": {
      "text/html": [
       "<pre>recommendations finished on 61000/74915 queries. users per second: 28927.7</pre>"
      ],
      "text/plain": [
       "recommendations finished on 61000/74915 queries. users per second: 28927.7"
      ]
     },
     "metadata": {},
     "output_type": "display_data"
    },
    {
     "data": {
      "text/html": [
       "<pre>recommendations finished on 62000/74915 queries. users per second: 28946.8</pre>"
      ],
      "text/plain": [
       "recommendations finished on 62000/74915 queries. users per second: 28946.8"
      ]
     },
     "metadata": {},
     "output_type": "display_data"
    },
    {
     "data": {
      "text/html": [
       "<pre>recommendations finished on 63000/74915 queries. users per second: 28970.2</pre>"
      ],
      "text/plain": [
       "recommendations finished on 63000/74915 queries. users per second: 28970.2"
      ]
     },
     "metadata": {},
     "output_type": "display_data"
    },
    {
     "data": {
      "text/html": [
       "<pre>recommendations finished on 64000/74915 queries. users per second: 28903.4</pre>"
      ],
      "text/plain": [
       "recommendations finished on 64000/74915 queries. users per second: 28903.4"
      ]
     },
     "metadata": {},
     "output_type": "display_data"
    },
    {
     "data": {
      "text/html": [
       "<pre>recommendations finished on 65000/74915 queries. users per second: 29026.7</pre>"
      ],
      "text/plain": [
       "recommendations finished on 65000/74915 queries. users per second: 29026.7"
      ]
     },
     "metadata": {},
     "output_type": "display_data"
    },
    {
     "data": {
      "text/html": [
       "<pre>recommendations finished on 66000/74915 queries. users per second: 29004</pre>"
      ],
      "text/plain": [
       "recommendations finished on 66000/74915 queries. users per second: 29004"
      ]
     },
     "metadata": {},
     "output_type": "display_data"
    },
    {
     "data": {
      "text/html": [
       "<pre>recommendations finished on 67000/74915 queries. users per second: 28979.7</pre>"
      ],
      "text/plain": [
       "recommendations finished on 67000/74915 queries. users per second: 28979.7"
      ]
     },
     "metadata": {},
     "output_type": "display_data"
    },
    {
     "data": {
      "text/html": [
       "<pre>recommendations finished on 68000/74915 queries. users per second: 28835.3</pre>"
      ],
      "text/plain": [
       "recommendations finished on 68000/74915 queries. users per second: 28835.3"
      ]
     },
     "metadata": {},
     "output_type": "display_data"
    },
    {
     "data": {
      "text/html": [
       "<pre>recommendations finished on 69000/74915 queries. users per second: 28655.2</pre>"
      ],
      "text/plain": [
       "recommendations finished on 69000/74915 queries. users per second: 28655.2"
      ]
     },
     "metadata": {},
     "output_type": "display_data"
    },
    {
     "data": {
      "text/html": [
       "<pre>recommendations finished on 70000/74915 queries. users per second: 22013.5</pre>"
      ],
      "text/plain": [
       "recommendations finished on 70000/74915 queries. users per second: 22013.5"
      ]
     },
     "metadata": {},
     "output_type": "display_data"
    },
    {
     "data": {
      "text/html": [
       "<pre>recommendations finished on 71000/74915 queries. users per second: 14527.3</pre>"
      ],
      "text/plain": [
       "recommendations finished on 71000/74915 queries. users per second: 14527.3"
      ]
     },
     "metadata": {},
     "output_type": "display_data"
    },
    {
     "data": {
      "text/html": [
       "<pre>recommendations finished on 72000/74915 queries. users per second: 10888.9</pre>"
      ],
      "text/plain": [
       "recommendations finished on 72000/74915 queries. users per second: 10888.9"
      ]
     },
     "metadata": {},
     "output_type": "display_data"
    },
    {
     "data": {
      "text/html": [
       "<pre>recommendations finished on 73000/74915 queries. users per second: 10800.5</pre>"
      ],
      "text/plain": [
       "recommendations finished on 73000/74915 queries. users per second: 10800.5"
      ]
     },
     "metadata": {},
     "output_type": "display_data"
    },
    {
     "data": {
      "text/html": [
       "<pre>recommendations finished on 74000/74915 queries. users per second: 10870.1</pre>"
      ],
      "text/plain": [
       "recommendations finished on 74000/74915 queries. users per second: 10870.1"
      ]
     },
     "metadata": {},
     "output_type": "display_data"
    },
    {
     "name": "stdout",
     "output_type": "stream",
     "text": [
      "+--------+-----------+---------------+------+\n",
      "| UserId | productid |     score     | rank |\n",
      "+--------+-----------+---------------+------+\n",
      "|   0    |  12936598 |      10.0     |  1   |\n",
      "|   0    |  12658082 |      8.0      |  2   |\n",
      "|   0    |  12371276 |     7.125     |  3   |\n",
      "|   0    |  12658250 |      7.0      |  4   |\n",
      "|   0    |  12407912 | 6.83333333333 |  5   |\n",
      "|   0    |  13039152 | 6.66666666667 |  6   |\n",
      "|   0    |  11360688 |      6.5      |  7   |\n",
      "|   0    |  13653580 |      6.5      |  8   |\n",
      "|   0    |  12658338 |      6.0      |  9   |\n",
      "|   0    |  13653682 |      5.75     |  10  |\n",
      "|   1    |  12936598 |      10.0     |  1   |\n",
      "|   1    |  12658082 |      8.0      |  2   |\n",
      "|   1    |  12371276 |     7.125     |  3   |\n",
      "|   1    |  12658250 |      7.0      |  4   |\n",
      "|   1    |  12407912 | 6.83333333333 |  5   |\n",
      "|   1    |  13039152 | 6.66666666667 |  6   |\n",
      "|   1    |  11360688 |      6.5      |  7   |\n",
      "|   1    |  13653580 |      6.5      |  8   |\n",
      "|   1    |  12658338 |      6.0      |  9   |\n",
      "|   1    |  13653682 |      5.75     |  10  |\n",
      "|   2    |  12936598 |      10.0     |  1   |\n",
      "|   2    |  12658082 |      8.0      |  2   |\n",
      "|   2    |  12371276 |     7.125     |  3   |\n",
      "|   2    |  12658250 |      7.0      |  4   |\n",
      "|   2    |  12407912 | 6.83333333333 |  5   |\n",
      "|   2    |  13039152 | 6.66666666667 |  6   |\n",
      "|   2    |  11360688 |      6.5      |  7   |\n",
      "|   2    |  13653580 |      6.5      |  8   |\n",
      "|   2    |  12658338 |      6.0      |  9   |\n",
      "|   2    |  13653682 |      5.75     |  10  |\n",
      "+--------+-----------+---------------+------+\n",
      "[749150 rows x 4 columns]\n",
      "\n"
     ]
    }
   ],
   "source": [
    "name = 'pearson'\n",
    "target = 'frequency'\n",
    "user_id = 'UserId'\n",
    "item_id = 'productid'\n",
    "users_to_recommend = list(mydf['UserId'])\n",
    "n_rec = 10\n",
    "n_display = 30\n",
    "pear = model(train_data, name, user_id, item_id, target, users_to_recommend, n_rec, n_display)"
   ]
  },
  {
   "cell_type": "code",
   "execution_count": 212,
   "metadata": {},
   "outputs": [
    {
     "data": {
      "text/html": [
       "<pre>Warning: Ignoring columns frequency;</pre>"
      ],
      "text/plain": [
       "Warning: Ignoring columns frequency;"
      ]
     },
     "metadata": {},
     "output_type": "display_data"
    },
    {
     "data": {
      "text/html": [
       "<pre>    To use these columns in scoring predictions, use a model that allows the use of additional features.</pre>"
      ],
      "text/plain": [
       "    To use these columns in scoring predictions, use a model that allows the use of additional features."
      ]
     },
     "metadata": {},
     "output_type": "display_data"
    },
    {
     "data": {
      "text/html": [
       "<pre>Preparing data set.</pre>"
      ],
      "text/plain": [
       "Preparing data set."
      ]
     },
     "metadata": {},
     "output_type": "display_data"
    },
    {
     "data": {
      "text/html": [
       "<pre>    Data has 59932 observations with 24775 users and 2977 items.</pre>"
      ],
      "text/plain": [
       "    Data has 59932 observations with 24775 users and 2977 items."
      ]
     },
     "metadata": {},
     "output_type": "display_data"
    },
    {
     "data": {
      "text/html": [
       "<pre>    Data prepared in: 0.098299s</pre>"
      ],
      "text/plain": [
       "    Data prepared in: 0.098299s"
      ]
     },
     "metadata": {},
     "output_type": "display_data"
    },
    {
     "data": {
      "text/html": [
       "<pre>Training model from provided data.</pre>"
      ],
      "text/plain": [
       "Training model from provided data."
      ]
     },
     "metadata": {},
     "output_type": "display_data"
    },
    {
     "data": {
      "text/html": [
       "<pre>Gathering per-item and per-user statistics.</pre>"
      ],
      "text/plain": [
       "Gathering per-item and per-user statistics."
      ]
     },
     "metadata": {},
     "output_type": "display_data"
    },
    {
     "data": {
      "text/html": [
       "<pre>+--------------------------------+------------+</pre>"
      ],
      "text/plain": [
       "+--------------------------------+------------+"
      ]
     },
     "metadata": {},
     "output_type": "display_data"
    },
    {
     "data": {
      "text/html": [
       "<pre>| Elapsed Time (Item Statistics) | % Complete |</pre>"
      ],
      "text/plain": [
       "| Elapsed Time (Item Statistics) | % Complete |"
      ]
     },
     "metadata": {},
     "output_type": "display_data"
    },
    {
     "data": {
      "text/html": [
       "<pre>+--------------------------------+------------+</pre>"
      ],
      "text/plain": [
       "+--------------------------------+------------+"
      ]
     },
     "metadata": {},
     "output_type": "display_data"
    },
    {
     "data": {
      "text/html": [
       "<pre>| 1.251ms                        | 4          |</pre>"
      ],
      "text/plain": [
       "| 1.251ms                        | 4          |"
      ]
     },
     "metadata": {},
     "output_type": "display_data"
    },
    {
     "data": {
      "text/html": [
       "<pre>| 9.272ms                        | 100        |</pre>"
      ],
      "text/plain": [
       "| 9.272ms                        | 100        |"
      ]
     },
     "metadata": {},
     "output_type": "display_data"
    },
    {
     "data": {
      "text/html": [
       "<pre>+--------------------------------+------------+</pre>"
      ],
      "text/plain": [
       "+--------------------------------+------------+"
      ]
     },
     "metadata": {},
     "output_type": "display_data"
    },
    {
     "data": {
      "text/html": [
       "<pre>Setting up lookup tables.</pre>"
      ],
      "text/plain": [
       "Setting up lookup tables."
      ]
     },
     "metadata": {},
     "output_type": "display_data"
    },
    {
     "data": {
      "text/html": [
       "<pre>Processing data in one pass using dense lookup tables.</pre>"
      ],
      "text/plain": [
       "Processing data in one pass using dense lookup tables."
      ]
     },
     "metadata": {},
     "output_type": "display_data"
    },
    {
     "data": {
      "text/html": [
       "<pre>+-------------------------------------+------------------+-----------------+</pre>"
      ],
      "text/plain": [
       "+-------------------------------------+------------------+-----------------+"
      ]
     },
     "metadata": {},
     "output_type": "display_data"
    },
    {
     "data": {
      "text/html": [
       "<pre>| Elapsed Time (Constructing Lookups) | Total % Complete | Items Processed |</pre>"
      ],
      "text/plain": [
       "| Elapsed Time (Constructing Lookups) | Total % Complete | Items Processed |"
      ]
     },
     "metadata": {},
     "output_type": "display_data"
    },
    {
     "data": {
      "text/html": [
       "<pre>+-------------------------------------+------------------+-----------------+</pre>"
      ],
      "text/plain": [
       "+-------------------------------------+------------------+-----------------+"
      ]
     },
     "metadata": {},
     "output_type": "display_data"
    },
    {
     "data": {
      "text/html": [
       "<pre>| 90.406ms                            | 0                | 0               |</pre>"
      ],
      "text/plain": [
       "| 90.406ms                            | 0                | 0               |"
      ]
     },
     "metadata": {},
     "output_type": "display_data"
    },
    {
     "data": {
      "text/html": [
       "<pre>| 243.14ms                            | 100              | 2977            |</pre>"
      ],
      "text/plain": [
       "| 243.14ms                            | 100              | 2977            |"
      ]
     },
     "metadata": {},
     "output_type": "display_data"
    },
    {
     "data": {
      "text/html": [
       "<pre>+-------------------------------------+------------------+-----------------+</pre>"
      ],
      "text/plain": [
       "+-------------------------------------+------------------+-----------------+"
      ]
     },
     "metadata": {},
     "output_type": "display_data"
    },
    {
     "data": {
      "text/html": [
       "<pre>Finalizing lookup tables.</pre>"
      ],
      "text/plain": [
       "Finalizing lookup tables."
      ]
     },
     "metadata": {},
     "output_type": "display_data"
    },
    {
     "data": {
      "text/html": [
       "<pre>Generating candidate set for working with new users.</pre>"
      ],
      "text/plain": [
       "Generating candidate set for working with new users."
      ]
     },
     "metadata": {},
     "output_type": "display_data"
    },
    {
     "data": {
      "text/html": [
       "<pre>Finished training in 0.250722s</pre>"
      ],
      "text/plain": [
       "Finished training in 0.250722s"
      ]
     },
     "metadata": {},
     "output_type": "display_data"
    },
    {
     "data": {
      "text/html": [
       "<pre>recommendations finished on 1000/74915 queries. users per second: 26205.5</pre>"
      ],
      "text/plain": [
       "recommendations finished on 1000/74915 queries. users per second: 26205.5"
      ]
     },
     "metadata": {},
     "output_type": "display_data"
    },
    {
     "data": {
      "text/html": [
       "<pre>recommendations finished on 2000/74915 queries. users per second: 29218.4</pre>"
      ],
      "text/plain": [
       "recommendations finished on 2000/74915 queries. users per second: 29218.4"
      ]
     },
     "metadata": {},
     "output_type": "display_data"
    },
    {
     "data": {
      "text/html": [
       "<pre>recommendations finished on 3000/74915 queries. users per second: 28507.1</pre>"
      ],
      "text/plain": [
       "recommendations finished on 3000/74915 queries. users per second: 28507.1"
      ]
     },
     "metadata": {},
     "output_type": "display_data"
    },
    {
     "data": {
      "text/html": [
       "<pre>recommendations finished on 4000/74915 queries. users per second: 28501</pre>"
      ],
      "text/plain": [
       "recommendations finished on 4000/74915 queries. users per second: 28501"
      ]
     },
     "metadata": {},
     "output_type": "display_data"
    },
    {
     "data": {
      "text/html": [
       "<pre>recommendations finished on 5000/74915 queries. users per second: 27514.4</pre>"
      ],
      "text/plain": [
       "recommendations finished on 5000/74915 queries. users per second: 27514.4"
      ]
     },
     "metadata": {},
     "output_type": "display_data"
    },
    {
     "data": {
      "text/html": [
       "<pre>recommendations finished on 6000/74915 queries. users per second: 28062.2</pre>"
      ],
      "text/plain": [
       "recommendations finished on 6000/74915 queries. users per second: 28062.2"
      ]
     },
     "metadata": {},
     "output_type": "display_data"
    },
    {
     "data": {
      "text/html": [
       "<pre>recommendations finished on 7000/74915 queries. users per second: 28719.2</pre>"
      ],
      "text/plain": [
       "recommendations finished on 7000/74915 queries. users per second: 28719.2"
      ]
     },
     "metadata": {},
     "output_type": "display_data"
    },
    {
     "data": {
      "text/html": [
       "<pre>recommendations finished on 8000/74915 queries. users per second: 29354.9</pre>"
      ],
      "text/plain": [
       "recommendations finished on 8000/74915 queries. users per second: 29354.9"
      ]
     },
     "metadata": {},
     "output_type": "display_data"
    },
    {
     "data": {
      "text/html": [
       "<pre>recommendations finished on 9000/74915 queries. users per second: 29977.4</pre>"
      ],
      "text/plain": [
       "recommendations finished on 9000/74915 queries. users per second: 29977.4"
      ]
     },
     "metadata": {},
     "output_type": "display_data"
    },
    {
     "data": {
      "text/html": [
       "<pre>recommendations finished on 10000/74915 queries. users per second: 30541.9</pre>"
      ],
      "text/plain": [
       "recommendations finished on 10000/74915 queries. users per second: 30541.9"
      ]
     },
     "metadata": {},
     "output_type": "display_data"
    },
    {
     "data": {
      "text/html": [
       "<pre>recommendations finished on 11000/74915 queries. users per second: 30883.4</pre>"
      ],
      "text/plain": [
       "recommendations finished on 11000/74915 queries. users per second: 30883.4"
      ]
     },
     "metadata": {},
     "output_type": "display_data"
    },
    {
     "data": {
      "text/html": [
       "<pre>recommendations finished on 12000/74915 queries. users per second: 31199.3</pre>"
      ],
      "text/plain": [
       "recommendations finished on 12000/74915 queries. users per second: 31199.3"
      ]
     },
     "metadata": {},
     "output_type": "display_data"
    },
    {
     "data": {
      "text/html": [
       "<pre>recommendations finished on 13000/74915 queries. users per second: 30912.7</pre>"
      ],
      "text/plain": [
       "recommendations finished on 13000/74915 queries. users per second: 30912.7"
      ]
     },
     "metadata": {},
     "output_type": "display_data"
    },
    {
     "data": {
      "text/html": [
       "<pre>recommendations finished on 14000/74915 queries. users per second: 22449.5</pre>"
      ],
      "text/plain": [
       "recommendations finished on 14000/74915 queries. users per second: 22449.5"
      ]
     },
     "metadata": {},
     "output_type": "display_data"
    },
    {
     "data": {
      "text/html": [
       "<pre>recommendations finished on 15000/74915 queries. users per second: 18712.7</pre>"
      ],
      "text/plain": [
       "recommendations finished on 15000/74915 queries. users per second: 18712.7"
      ]
     },
     "metadata": {},
     "output_type": "display_data"
    },
    {
     "data": {
      "text/html": [
       "<pre>recommendations finished on 16000/74915 queries. users per second: 15769.9</pre>"
      ],
      "text/plain": [
       "recommendations finished on 16000/74915 queries. users per second: 15769.9"
      ]
     },
     "metadata": {},
     "output_type": "display_data"
    },
    {
     "data": {
      "text/html": [
       "<pre>recommendations finished on 17000/74915 queries. users per second: 15000.1</pre>"
      ],
      "text/plain": [
       "recommendations finished on 17000/74915 queries. users per second: 15000.1"
      ]
     },
     "metadata": {},
     "output_type": "display_data"
    },
    {
     "data": {
      "text/html": [
       "<pre>recommendations finished on 18000/74915 queries. users per second: 15432.6</pre>"
      ],
      "text/plain": [
       "recommendations finished on 18000/74915 queries. users per second: 15432.6"
      ]
     },
     "metadata": {},
     "output_type": "display_data"
    },
    {
     "data": {
      "text/html": [
       "<pre>recommendations finished on 19000/74915 queries. users per second: 15922.3</pre>"
      ],
      "text/plain": [
       "recommendations finished on 19000/74915 queries. users per second: 15922.3"
      ]
     },
     "metadata": {},
     "output_type": "display_data"
    },
    {
     "data": {
      "text/html": [
       "<pre>recommendations finished on 20000/74915 queries. users per second: 16383.3</pre>"
      ],
      "text/plain": [
       "recommendations finished on 20000/74915 queries. users per second: 16383.3"
      ]
     },
     "metadata": {},
     "output_type": "display_data"
    },
    {
     "data": {
      "text/html": [
       "<pre>recommendations finished on 21000/74915 queries. users per second: 16786.2</pre>"
      ],
      "text/plain": [
       "recommendations finished on 21000/74915 queries. users per second: 16786.2"
      ]
     },
     "metadata": {},
     "output_type": "display_data"
    },
    {
     "data": {
      "text/html": [
       "<pre>recommendations finished on 22000/74915 queries. users per second: 17219.9</pre>"
      ],
      "text/plain": [
       "recommendations finished on 22000/74915 queries. users per second: 17219.9"
      ]
     },
     "metadata": {},
     "output_type": "display_data"
    },
    {
     "data": {
      "text/html": [
       "<pre>recommendations finished on 23000/74915 queries. users per second: 17634.9</pre>"
      ],
      "text/plain": [
       "recommendations finished on 23000/74915 queries. users per second: 17634.9"
      ]
     },
     "metadata": {},
     "output_type": "display_data"
    },
    {
     "data": {
      "text/html": [
       "<pre>recommendations finished on 24000/74915 queries. users per second: 18052</pre>"
      ],
      "text/plain": [
       "recommendations finished on 24000/74915 queries. users per second: 18052"
      ]
     },
     "metadata": {},
     "output_type": "display_data"
    },
    {
     "data": {
      "text/html": [
       "<pre>recommendations finished on 25000/74915 queries. users per second: 18355.9</pre>"
      ],
      "text/plain": [
       "recommendations finished on 25000/74915 queries. users per second: 18355.9"
      ]
     },
     "metadata": {},
     "output_type": "display_data"
    },
    {
     "data": {
      "text/html": [
       "<pre>recommendations finished on 26000/74915 queries. users per second: 18577.7</pre>"
      ],
      "text/plain": [
       "recommendations finished on 26000/74915 queries. users per second: 18577.7"
      ]
     },
     "metadata": {},
     "output_type": "display_data"
    },
    {
     "data": {
      "text/html": [
       "<pre>recommendations finished on 27000/74915 queries. users per second: 18760.6</pre>"
      ],
      "text/plain": [
       "recommendations finished on 27000/74915 queries. users per second: 18760.6"
      ]
     },
     "metadata": {},
     "output_type": "display_data"
    },
    {
     "data": {
      "text/html": [
       "<pre>recommendations finished on 28000/74915 queries. users per second: 18958.7</pre>"
      ],
      "text/plain": [
       "recommendations finished on 28000/74915 queries. users per second: 18958.7"
      ]
     },
     "metadata": {},
     "output_type": "display_data"
    },
    {
     "data": {
      "text/html": [
       "<pre>recommendations finished on 29000/74915 queries. users per second: 19173</pre>"
      ],
      "text/plain": [
       "recommendations finished on 29000/74915 queries. users per second: 19173"
      ]
     },
     "metadata": {},
     "output_type": "display_data"
    },
    {
     "data": {
      "text/html": [
       "<pre>recommendations finished on 30000/74915 queries. users per second: 19337.4</pre>"
      ],
      "text/plain": [
       "recommendations finished on 30000/74915 queries. users per second: 19337.4"
      ]
     },
     "metadata": {},
     "output_type": "display_data"
    },
    {
     "data": {
      "text/html": [
       "<pre>recommendations finished on 31000/74915 queries. users per second: 19448.5</pre>"
      ],
      "text/plain": [
       "recommendations finished on 31000/74915 queries. users per second: 19448.5"
      ]
     },
     "metadata": {},
     "output_type": "display_data"
    },
    {
     "data": {
      "text/html": [
       "<pre>recommendations finished on 32000/74915 queries. users per second: 19630.5</pre>"
      ],
      "text/plain": [
       "recommendations finished on 32000/74915 queries. users per second: 19630.5"
      ]
     },
     "metadata": {},
     "output_type": "display_data"
    },
    {
     "data": {
      "text/html": [
       "<pre>recommendations finished on 33000/74915 queries. users per second: 19849.3</pre>"
      ],
      "text/plain": [
       "recommendations finished on 33000/74915 queries. users per second: 19849.3"
      ]
     },
     "metadata": {},
     "output_type": "display_data"
    },
    {
     "data": {
      "text/html": [
       "<pre>recommendations finished on 34000/74915 queries. users per second: 20074.3</pre>"
      ],
      "text/plain": [
       "recommendations finished on 34000/74915 queries. users per second: 20074.3"
      ]
     },
     "metadata": {},
     "output_type": "display_data"
    },
    {
     "data": {
      "text/html": [
       "<pre>recommendations finished on 35000/74915 queries. users per second: 20330.1</pre>"
      ],
      "text/plain": [
       "recommendations finished on 35000/74915 queries. users per second: 20330.1"
      ]
     },
     "metadata": {},
     "output_type": "display_data"
    },
    {
     "data": {
      "text/html": [
       "<pre>recommendations finished on 36000/74915 queries. users per second: 20597.1</pre>"
      ],
      "text/plain": [
       "recommendations finished on 36000/74915 queries. users per second: 20597.1"
      ]
     },
     "metadata": {},
     "output_type": "display_data"
    },
    {
     "data": {
      "text/html": [
       "<pre>recommendations finished on 37000/74915 queries. users per second: 20822.9</pre>"
      ],
      "text/plain": [
       "recommendations finished on 37000/74915 queries. users per second: 20822.9"
      ]
     },
     "metadata": {},
     "output_type": "display_data"
    },
    {
     "data": {
      "text/html": [
       "<pre>recommendations finished on 38000/74915 queries. users per second: 20956.4</pre>"
      ],
      "text/plain": [
       "recommendations finished on 38000/74915 queries. users per second: 20956.4"
      ]
     },
     "metadata": {},
     "output_type": "display_data"
    },
    {
     "data": {
      "text/html": [
       "<pre>recommendations finished on 39000/74915 queries. users per second: 21084.3</pre>"
      ],
      "text/plain": [
       "recommendations finished on 39000/74915 queries. users per second: 21084.3"
      ]
     },
     "metadata": {},
     "output_type": "display_data"
    },
    {
     "data": {
      "text/html": [
       "<pre>recommendations finished on 40000/74915 queries. users per second: 21225.4</pre>"
      ],
      "text/plain": [
       "recommendations finished on 40000/74915 queries. users per second: 21225.4"
      ]
     },
     "metadata": {},
     "output_type": "display_data"
    },
    {
     "data": {
      "text/html": [
       "<pre>recommendations finished on 41000/74915 queries. users per second: 21330.8</pre>"
      ],
      "text/plain": [
       "recommendations finished on 41000/74915 queries. users per second: 21330.8"
      ]
     },
     "metadata": {},
     "output_type": "display_data"
    },
    {
     "data": {
      "text/html": [
       "<pre>recommendations finished on 42000/74915 queries. users per second: 21492.9</pre>"
      ],
      "text/plain": [
       "recommendations finished on 42000/74915 queries. users per second: 21492.9"
      ]
     },
     "metadata": {},
     "output_type": "display_data"
    },
    {
     "data": {
      "text/html": [
       "<pre>recommendations finished on 43000/74915 queries. users per second: 21603.6</pre>"
      ],
      "text/plain": [
       "recommendations finished on 43000/74915 queries. users per second: 21603.6"
      ]
     },
     "metadata": {},
     "output_type": "display_data"
    },
    {
     "data": {
      "text/html": [
       "<pre>recommendations finished on 44000/74915 queries. users per second: 21668</pre>"
      ],
      "text/plain": [
       "recommendations finished on 44000/74915 queries. users per second: 21668"
      ]
     },
     "metadata": {},
     "output_type": "display_data"
    },
    {
     "data": {
      "text/html": [
       "<pre>recommendations finished on 45000/74915 queries. users per second: 21815.7</pre>"
      ],
      "text/plain": [
       "recommendations finished on 45000/74915 queries. users per second: 21815.7"
      ]
     },
     "metadata": {},
     "output_type": "display_data"
    },
    {
     "data": {
      "text/html": [
       "<pre>recommendations finished on 46000/74915 queries. users per second: 21930</pre>"
      ],
      "text/plain": [
       "recommendations finished on 46000/74915 queries. users per second: 21930"
      ]
     },
     "metadata": {},
     "output_type": "display_data"
    },
    {
     "data": {
      "text/html": [
       "<pre>recommendations finished on 47000/74915 queries. users per second: 22026.5</pre>"
      ],
      "text/plain": [
       "recommendations finished on 47000/74915 queries. users per second: 22026.5"
      ]
     },
     "metadata": {},
     "output_type": "display_data"
    },
    {
     "data": {
      "text/html": [
       "<pre>recommendations finished on 48000/74915 queries. users per second: 22117.8</pre>"
      ],
      "text/plain": [
       "recommendations finished on 48000/74915 queries. users per second: 22117.8"
      ]
     },
     "metadata": {},
     "output_type": "display_data"
    },
    {
     "data": {
      "text/html": [
       "<pre>recommendations finished on 49000/74915 queries. users per second: 22196.6</pre>"
      ],
      "text/plain": [
       "recommendations finished on 49000/74915 queries. users per second: 22196.6"
      ]
     },
     "metadata": {},
     "output_type": "display_data"
    },
    {
     "data": {
      "text/html": [
       "<pre>recommendations finished on 50000/74915 queries. users per second: 22297.5</pre>"
      ],
      "text/plain": [
       "recommendations finished on 50000/74915 queries. users per second: 22297.5"
      ]
     },
     "metadata": {},
     "output_type": "display_data"
    },
    {
     "data": {
      "text/html": [
       "<pre>recommendations finished on 51000/74915 queries. users per second: 22389.2</pre>"
      ],
      "text/plain": [
       "recommendations finished on 51000/74915 queries. users per second: 22389.2"
      ]
     },
     "metadata": {},
     "output_type": "display_data"
    },
    {
     "data": {
      "text/html": [
       "<pre>recommendations finished on 52000/74915 queries. users per second: 22327.8</pre>"
      ],
      "text/plain": [
       "recommendations finished on 52000/74915 queries. users per second: 22327.8"
      ]
     },
     "metadata": {},
     "output_type": "display_data"
    },
    {
     "data": {
      "text/html": [
       "<pre>recommendations finished on 53000/74915 queries. users per second: 22384</pre>"
      ],
      "text/plain": [
       "recommendations finished on 53000/74915 queries. users per second: 22384"
      ]
     },
     "metadata": {},
     "output_type": "display_data"
    },
    {
     "data": {
      "text/html": [
       "<pre>recommendations finished on 54000/74915 queries. users per second: 22474.1</pre>"
      ],
      "text/plain": [
       "recommendations finished on 54000/74915 queries. users per second: 22474.1"
      ]
     },
     "metadata": {},
     "output_type": "display_data"
    },
    {
     "data": {
      "text/html": [
       "<pre>recommendations finished on 55000/74915 queries. users per second: 22589.7</pre>"
      ],
      "text/plain": [
       "recommendations finished on 55000/74915 queries. users per second: 22589.7"
      ]
     },
     "metadata": {},
     "output_type": "display_data"
    },
    {
     "data": {
      "text/html": [
       "<pre>recommendations finished on 56000/74915 queries. users per second: 22698.9</pre>"
      ],
      "text/plain": [
       "recommendations finished on 56000/74915 queries. users per second: 22698.9"
      ]
     },
     "metadata": {},
     "output_type": "display_data"
    },
    {
     "data": {
      "text/html": [
       "<pre>recommendations finished on 57000/74915 queries. users per second: 22837.5</pre>"
      ],
      "text/plain": [
       "recommendations finished on 57000/74915 queries. users per second: 22837.5"
      ]
     },
     "metadata": {},
     "output_type": "display_data"
    },
    {
     "data": {
      "text/html": [
       "<pre>recommendations finished on 58000/74915 queries. users per second: 22896.7</pre>"
      ],
      "text/plain": [
       "recommendations finished on 58000/74915 queries. users per second: 22896.7"
      ]
     },
     "metadata": {},
     "output_type": "display_data"
    },
    {
     "data": {
      "text/html": [
       "<pre>recommendations finished on 59000/74915 queries. users per second: 22974.4</pre>"
      ],
      "text/plain": [
       "recommendations finished on 59000/74915 queries. users per second: 22974.4"
      ]
     },
     "metadata": {},
     "output_type": "display_data"
    },
    {
     "data": {
      "text/html": [
       "<pre>recommendations finished on 60000/74915 queries. users per second: 23066.8</pre>"
      ],
      "text/plain": [
       "recommendations finished on 60000/74915 queries. users per second: 23066.8"
      ]
     },
     "metadata": {},
     "output_type": "display_data"
    },
    {
     "data": {
      "text/html": [
       "<pre>recommendations finished on 61000/74915 queries. users per second: 23097</pre>"
      ],
      "text/plain": [
       "recommendations finished on 61000/74915 queries. users per second: 23097"
      ]
     },
     "metadata": {},
     "output_type": "display_data"
    },
    {
     "data": {
      "text/html": [
       "<pre>recommendations finished on 62000/74915 queries. users per second: 23173.3</pre>"
      ],
      "text/plain": [
       "recommendations finished on 62000/74915 queries. users per second: 23173.3"
      ]
     },
     "metadata": {},
     "output_type": "display_data"
    },
    {
     "data": {
      "text/html": [
       "<pre>recommendations finished on 63000/74915 queries. users per second: 23249.2</pre>"
      ],
      "text/plain": [
       "recommendations finished on 63000/74915 queries. users per second: 23249.2"
      ]
     },
     "metadata": {},
     "output_type": "display_data"
    },
    {
     "data": {
      "text/html": [
       "<pre>recommendations finished on 64000/74915 queries. users per second: 23310.8</pre>"
      ],
      "text/plain": [
       "recommendations finished on 64000/74915 queries. users per second: 23310.8"
      ]
     },
     "metadata": {},
     "output_type": "display_data"
    },
    {
     "data": {
      "text/html": [
       "<pre>recommendations finished on 65000/74915 queries. users per second: 23376.4</pre>"
      ],
      "text/plain": [
       "recommendations finished on 65000/74915 queries. users per second: 23376.4"
      ]
     },
     "metadata": {},
     "output_type": "display_data"
    },
    {
     "data": {
      "text/html": [
       "<pre>recommendations finished on 66000/74915 queries. users per second: 23452</pre>"
      ],
      "text/plain": [
       "recommendations finished on 66000/74915 queries. users per second: 23452"
      ]
     },
     "metadata": {},
     "output_type": "display_data"
    },
    {
     "data": {
      "text/html": [
       "<pre>recommendations finished on 67000/74915 queries. users per second: 23503.8</pre>"
      ],
      "text/plain": [
       "recommendations finished on 67000/74915 queries. users per second: 23503.8"
      ]
     },
     "metadata": {},
     "output_type": "display_data"
    },
    {
     "data": {
      "text/html": [
       "<pre>recommendations finished on 68000/74915 queries. users per second: 23627.4</pre>"
      ],
      "text/plain": [
       "recommendations finished on 68000/74915 queries. users per second: 23627.4"
      ]
     },
     "metadata": {},
     "output_type": "display_data"
    },
    {
     "data": {
      "text/html": [
       "<pre>recommendations finished on 69000/74915 queries. users per second: 23664.7</pre>"
      ],
      "text/plain": [
       "recommendations finished on 69000/74915 queries. users per second: 23664.7"
      ]
     },
     "metadata": {},
     "output_type": "display_data"
    },
    {
     "data": {
      "text/html": [
       "<pre>recommendations finished on 70000/74915 queries. users per second: 23662.3</pre>"
      ],
      "text/plain": [
       "recommendations finished on 70000/74915 queries. users per second: 23662.3"
      ]
     },
     "metadata": {},
     "output_type": "display_data"
    },
    {
     "data": {
      "text/html": [
       "<pre>recommendations finished on 71000/74915 queries. users per second: 23622.3</pre>"
      ],
      "text/plain": [
       "recommendations finished on 71000/74915 queries. users per second: 23622.3"
      ]
     },
     "metadata": {},
     "output_type": "display_data"
    },
    {
     "data": {
      "text/html": [
       "<pre>recommendations finished on 72000/74915 queries. users per second: 23687.9</pre>"
      ],
      "text/plain": [
       "recommendations finished on 72000/74915 queries. users per second: 23687.9"
      ]
     },
     "metadata": {},
     "output_type": "display_data"
    },
    {
     "data": {
      "text/html": [
       "<pre>recommendations finished on 73000/74915 queries. users per second: 23795.1</pre>"
      ],
      "text/plain": [
       "recommendations finished on 73000/74915 queries. users per second: 23795.1"
      ]
     },
     "metadata": {},
     "output_type": "display_data"
    },
    {
     "data": {
      "text/html": [
       "<pre>recommendations finished on 74000/74915 queries. users per second: 23891.7</pre>"
      ],
      "text/plain": [
       "recommendations finished on 74000/74915 queries. users per second: 23891.7"
      ]
     },
     "metadata": {},
     "output_type": "display_data"
    },
    {
     "name": "stdout",
     "output_type": "stream",
     "text": [
      "+--------+-----------+-------+------+\n",
      "| UserId | productid | score | rank |\n",
      "+--------+-----------+-------+------+\n",
      "|   0    |  12657746 |  0.0  |  1   |\n",
      "|   0    |  11660004 |  0.0  |  2   |\n",
      "|   0    |  13653672 |  0.0  |  3   |\n",
      "|   0    |  11407194 |  0.0  |  4   |\n",
      "|   0    |  12360438 |  0.0  |  5   |\n",
      "|   0    |  12658528 |  0.0  |  6   |\n",
      "|   0    |  12657972 |  0.0  |  7   |\n",
      "|   0    |  12445210 |  0.0  |  8   |\n",
      "|   0    |  12407772 |  0.0  |  9   |\n",
      "|   0    |  13039496 |  0.0  |  10  |\n",
      "|   1    |  12657746 |  0.0  |  1   |\n",
      "|   1    |  11660004 |  0.0  |  2   |\n",
      "|   1    |  13653672 |  0.0  |  3   |\n",
      "|   1    |  11407194 |  0.0  |  4   |\n",
      "|   1    |  12360438 |  0.0  |  5   |\n",
      "|   1    |  12658528 |  0.0  |  6   |\n",
      "|   1    |  12657972 |  0.0  |  7   |\n",
      "|   1    |  12445210 |  0.0  |  8   |\n",
      "|   1    |  12407772 |  0.0  |  9   |\n",
      "|   1    |  13039496 |  0.0  |  10  |\n",
      "|   2    |  12657746 |  0.0  |  1   |\n",
      "|   2    |  11660004 |  0.0  |  2   |\n",
      "|   2    |  13653672 |  0.0  |  3   |\n",
      "|   2    |  11407194 |  0.0  |  4   |\n",
      "|   2    |  12360438 |  0.0  |  5   |\n",
      "|   2    |  12658528 |  0.0  |  6   |\n",
      "|   2    |  12657972 |  0.0  |  7   |\n",
      "|   2    |  12445210 |  0.0  |  8   |\n",
      "|   2    |  12407772 |  0.0  |  9   |\n",
      "|   2    |  13039496 |  0.0  |  10  |\n",
      "+--------+-----------+-------+------+\n",
      "[749150 rows x 4 columns]\n",
      "\n"
     ]
    }
   ],
   "source": [
    "name = 'pearson'\n",
    "target = 'purchase_dummy'\n",
    "user_id = 'UserId'\n",
    "item_id = 'productid'\n",
    "users_to_recommend = list(mydf['UserId'])\n",
    "n_rec = 10\n",
    "n_display = 30\n",
    "pear_dummy = model(train_data_dummy, name, user_id, item_id, target, users_to_recommend, n_rec, n_display)"
   ]
  },
  {
   "cell_type": "code",
   "execution_count": 213,
   "metadata": {},
   "outputs": [
    {
     "data": {
      "text/html": [
       "<pre>Preparing data set.</pre>"
      ],
      "text/plain": [
       "Preparing data set."
      ]
     },
     "metadata": {},
     "output_type": "display_data"
    },
    {
     "data": {
      "text/html": [
       "<pre>    Data has 58920 observations with 24570 users and 2504 items.</pre>"
      ],
      "text/plain": [
       "    Data has 58920 observations with 24570 users and 2504 items."
      ]
     },
     "metadata": {},
     "output_type": "display_data"
    },
    {
     "data": {
      "text/html": [
       "<pre>    Data prepared in: 0.099296s</pre>"
      ],
      "text/plain": [
       "    Data prepared in: 0.099296s"
      ]
     },
     "metadata": {},
     "output_type": "display_data"
    },
    {
     "data": {
      "text/html": [
       "<pre>Training model from provided data.</pre>"
      ],
      "text/plain": [
       "Training model from provided data."
      ]
     },
     "metadata": {},
     "output_type": "display_data"
    },
    {
     "data": {
      "text/html": [
       "<pre>Gathering per-item and per-user statistics.</pre>"
      ],
      "text/plain": [
       "Gathering per-item and per-user statistics."
      ]
     },
     "metadata": {},
     "output_type": "display_data"
    },
    {
     "data": {
      "text/html": [
       "<pre>+--------------------------------+------------+</pre>"
      ],
      "text/plain": [
       "+--------------------------------+------------+"
      ]
     },
     "metadata": {},
     "output_type": "display_data"
    },
    {
     "data": {
      "text/html": [
       "<pre>| Elapsed Time (Item Statistics) | % Complete |</pre>"
      ],
      "text/plain": [
       "| Elapsed Time (Item Statistics) | % Complete |"
      ]
     },
     "metadata": {},
     "output_type": "display_data"
    },
    {
     "data": {
      "text/html": [
       "<pre>+--------------------------------+------------+</pre>"
      ],
      "text/plain": [
       "+--------------------------------+------------+"
      ]
     },
     "metadata": {},
     "output_type": "display_data"
    },
    {
     "data": {
      "text/html": [
       "<pre>| 1.953ms                        | 4          |</pre>"
      ],
      "text/plain": [
       "| 1.953ms                        | 4          |"
      ]
     },
     "metadata": {},
     "output_type": "display_data"
    },
    {
     "data": {
      "text/html": [
       "<pre>| 9.292ms                        | 100        |</pre>"
      ],
      "text/plain": [
       "| 9.292ms                        | 100        |"
      ]
     },
     "metadata": {},
     "output_type": "display_data"
    },
    {
     "data": {
      "text/html": [
       "<pre>+--------------------------------+------------+</pre>"
      ],
      "text/plain": [
       "+--------------------------------+------------+"
      ]
     },
     "metadata": {},
     "output_type": "display_data"
    },
    {
     "data": {
      "text/html": [
       "<pre>Setting up lookup tables.</pre>"
      ],
      "text/plain": [
       "Setting up lookup tables."
      ]
     },
     "metadata": {},
     "output_type": "display_data"
    },
    {
     "data": {
      "text/html": [
       "<pre>Processing data in one pass using dense lookup tables.</pre>"
      ],
      "text/plain": [
       "Processing data in one pass using dense lookup tables."
      ]
     },
     "metadata": {},
     "output_type": "display_data"
    },
    {
     "data": {
      "text/html": [
       "<pre>+-------------------------------------+------------------+-----------------+</pre>"
      ],
      "text/plain": [
       "+-------------------------------------+------------------+-----------------+"
      ]
     },
     "metadata": {},
     "output_type": "display_data"
    },
    {
     "data": {
      "text/html": [
       "<pre>| Elapsed Time (Constructing Lookups) | Total % Complete | Items Processed |</pre>"
      ],
      "text/plain": [
       "| Elapsed Time (Constructing Lookups) | Total % Complete | Items Processed |"
      ]
     },
     "metadata": {},
     "output_type": "display_data"
    },
    {
     "data": {
      "text/html": [
       "<pre>+-------------------------------------+------------------+-----------------+</pre>"
      ],
      "text/plain": [
       "+-------------------------------------+------------------+-----------------+"
      ]
     },
     "metadata": {},
     "output_type": "display_data"
    },
    {
     "data": {
      "text/html": [
       "<pre>| 35.454ms                            | 0                | 0               |</pre>"
      ],
      "text/plain": [
       "| 35.454ms                            | 0                | 0               |"
      ]
     },
     "metadata": {},
     "output_type": "display_data"
    },
    {
     "data": {
      "text/html": [
       "<pre>| 193.798ms                           | 100              | 2504            |</pre>"
      ],
      "text/plain": [
       "| 193.798ms                           | 100              | 2504            |"
      ]
     },
     "metadata": {},
     "output_type": "display_data"
    },
    {
     "data": {
      "text/html": [
       "<pre>+-------------------------------------+------------------+-----------------+</pre>"
      ],
      "text/plain": [
       "+-------------------------------------+------------------+-----------------+"
      ]
     },
     "metadata": {},
     "output_type": "display_data"
    },
    {
     "data": {
      "text/html": [
       "<pre>Finalizing lookup tables.</pre>"
      ],
      "text/plain": [
       "Finalizing lookup tables."
      ]
     },
     "metadata": {},
     "output_type": "display_data"
    },
    {
     "data": {
      "text/html": [
       "<pre>Generating candidate set for working with new users.</pre>"
      ],
      "text/plain": [
       "Generating candidate set for working with new users."
      ]
     },
     "metadata": {},
     "output_type": "display_data"
    },
    {
     "data": {
      "text/html": [
       "<pre>Finished training in 0.204096s</pre>"
      ],
      "text/plain": [
       "Finished training in 0.204096s"
      ]
     },
     "metadata": {},
     "output_type": "display_data"
    },
    {
     "data": {
      "text/html": [
       "<pre>recommendations finished on 1000/74915 queries. users per second: 24352.8</pre>"
      ],
      "text/plain": [
       "recommendations finished on 1000/74915 queries. users per second: 24352.8"
      ]
     },
     "metadata": {},
     "output_type": "display_data"
    },
    {
     "data": {
      "text/html": [
       "<pre>recommendations finished on 2000/74915 queries. users per second: 30561.9</pre>"
      ],
      "text/plain": [
       "recommendations finished on 2000/74915 queries. users per second: 30561.9"
      ]
     },
     "metadata": {},
     "output_type": "display_data"
    },
    {
     "data": {
      "text/html": [
       "<pre>recommendations finished on 3000/74915 queries. users per second: 33059.3</pre>"
      ],
      "text/plain": [
       "recommendations finished on 3000/74915 queries. users per second: 33059.3"
      ]
     },
     "metadata": {},
     "output_type": "display_data"
    },
    {
     "data": {
      "text/html": [
       "<pre>recommendations finished on 4000/74915 queries. users per second: 34652.7</pre>"
      ],
      "text/plain": [
       "recommendations finished on 4000/74915 queries. users per second: 34652.7"
      ]
     },
     "metadata": {},
     "output_type": "display_data"
    },
    {
     "data": {
      "text/html": [
       "<pre>recommendations finished on 5000/74915 queries. users per second: 35065.1</pre>"
      ],
      "text/plain": [
       "recommendations finished on 5000/74915 queries. users per second: 35065.1"
      ]
     },
     "metadata": {},
     "output_type": "display_data"
    },
    {
     "data": {
      "text/html": [
       "<pre>recommendations finished on 6000/74915 queries. users per second: 35646</pre>"
      ],
      "text/plain": [
       "recommendations finished on 6000/74915 queries. users per second: 35646"
      ]
     },
     "metadata": {},
     "output_type": "display_data"
    },
    {
     "data": {
      "text/html": [
       "<pre>recommendations finished on 7000/74915 queries. users per second: 32715.8</pre>"
      ],
      "text/plain": [
       "recommendations finished on 7000/74915 queries. users per second: 32715.8"
      ]
     },
     "metadata": {},
     "output_type": "display_data"
    },
    {
     "data": {
      "text/html": [
       "<pre>recommendations finished on 8000/74915 queries. users per second: 33565.6</pre>"
      ],
      "text/plain": [
       "recommendations finished on 8000/74915 queries. users per second: 33565.6"
      ]
     },
     "metadata": {},
     "output_type": "display_data"
    },
    {
     "data": {
      "text/html": [
       "<pre>recommendations finished on 9000/74915 queries. users per second: 34394.2</pre>"
      ],
      "text/plain": [
       "recommendations finished on 9000/74915 queries. users per second: 34394.2"
      ]
     },
     "metadata": {},
     "output_type": "display_data"
    },
    {
     "data": {
      "text/html": [
       "<pre>recommendations finished on 10000/74915 queries. users per second: 35284.9</pre>"
      ],
      "text/plain": [
       "recommendations finished on 10000/74915 queries. users per second: 35284.9"
      ]
     },
     "metadata": {},
     "output_type": "display_data"
    },
    {
     "data": {
      "text/html": [
       "<pre>recommendations finished on 11000/74915 queries. users per second: 35880.6</pre>"
      ],
      "text/plain": [
       "recommendations finished on 11000/74915 queries. users per second: 35880.6"
      ]
     },
     "metadata": {},
     "output_type": "display_data"
    },
    {
     "data": {
      "text/html": [
       "<pre>recommendations finished on 12000/74915 queries. users per second: 36376</pre>"
      ],
      "text/plain": [
       "recommendations finished on 12000/74915 queries. users per second: 36376"
      ]
     },
     "metadata": {},
     "output_type": "display_data"
    },
    {
     "data": {
      "text/html": [
       "<pre>recommendations finished on 13000/74915 queries. users per second: 36822.8</pre>"
      ],
      "text/plain": [
       "recommendations finished on 13000/74915 queries. users per second: 36822.8"
      ]
     },
     "metadata": {},
     "output_type": "display_data"
    },
    {
     "data": {
      "text/html": [
       "<pre>recommendations finished on 14000/74915 queries. users per second: 37175.8</pre>"
      ],
      "text/plain": [
       "recommendations finished on 14000/74915 queries. users per second: 37175.8"
      ]
     },
     "metadata": {},
     "output_type": "display_data"
    },
    {
     "data": {
      "text/html": [
       "<pre>recommendations finished on 15000/74915 queries. users per second: 37072</pre>"
      ],
      "text/plain": [
       "recommendations finished on 15000/74915 queries. users per second: 37072"
      ]
     },
     "metadata": {},
     "output_type": "display_data"
    },
    {
     "data": {
      "text/html": [
       "<pre>recommendations finished on 16000/74915 queries. users per second: 36730.9</pre>"
      ],
      "text/plain": [
       "recommendations finished on 16000/74915 queries. users per second: 36730.9"
      ]
     },
     "metadata": {},
     "output_type": "display_data"
    },
    {
     "data": {
      "text/html": [
       "<pre>recommendations finished on 17000/74915 queries. users per second: 36821.5</pre>"
      ],
      "text/plain": [
       "recommendations finished on 17000/74915 queries. users per second: 36821.5"
      ]
     },
     "metadata": {},
     "output_type": "display_data"
    },
    {
     "data": {
      "text/html": [
       "<pre>recommendations finished on 18000/74915 queries. users per second: 37127</pre>"
      ],
      "text/plain": [
       "recommendations finished on 18000/74915 queries. users per second: 37127"
      ]
     },
     "metadata": {},
     "output_type": "display_data"
    },
    {
     "data": {
      "text/html": [
       "<pre>recommendations finished on 19000/74915 queries. users per second: 36872</pre>"
      ],
      "text/plain": [
       "recommendations finished on 19000/74915 queries. users per second: 36872"
      ]
     },
     "metadata": {},
     "output_type": "display_data"
    },
    {
     "data": {
      "text/html": [
       "<pre>recommendations finished on 20000/74915 queries. users per second: 36106.2</pre>"
      ],
      "text/plain": [
       "recommendations finished on 20000/74915 queries. users per second: 36106.2"
      ]
     },
     "metadata": {},
     "output_type": "display_data"
    },
    {
     "data": {
      "text/html": [
       "<pre>recommendations finished on 21000/74915 queries. users per second: 35890.2</pre>"
      ],
      "text/plain": [
       "recommendations finished on 21000/74915 queries. users per second: 35890.2"
      ]
     },
     "metadata": {},
     "output_type": "display_data"
    },
    {
     "data": {
      "text/html": [
       "<pre>recommendations finished on 22000/74915 queries. users per second: 36015</pre>"
      ],
      "text/plain": [
       "recommendations finished on 22000/74915 queries. users per second: 36015"
      ]
     },
     "metadata": {},
     "output_type": "display_data"
    },
    {
     "data": {
      "text/html": [
       "<pre>recommendations finished on 23000/74915 queries. users per second: 36089.1</pre>"
      ],
      "text/plain": [
       "recommendations finished on 23000/74915 queries. users per second: 36089.1"
      ]
     },
     "metadata": {},
     "output_type": "display_data"
    },
    {
     "data": {
      "text/html": [
       "<pre>recommendations finished on 24000/74915 queries. users per second: 36363.5</pre>"
      ],
      "text/plain": [
       "recommendations finished on 24000/74915 queries. users per second: 36363.5"
      ]
     },
     "metadata": {},
     "output_type": "display_data"
    },
    {
     "data": {
      "text/html": [
       "<pre>recommendations finished on 25000/74915 queries. users per second: 36133.6</pre>"
      ],
      "text/plain": [
       "recommendations finished on 25000/74915 queries. users per second: 36133.6"
      ]
     },
     "metadata": {},
     "output_type": "display_data"
    },
    {
     "data": {
      "text/html": [
       "<pre>recommendations finished on 26000/74915 queries. users per second: 36004.9</pre>"
      ],
      "text/plain": [
       "recommendations finished on 26000/74915 queries. users per second: 36004.9"
      ]
     },
     "metadata": {},
     "output_type": "display_data"
    },
    {
     "data": {
      "text/html": [
       "<pre>recommendations finished on 27000/74915 queries. users per second: 36154.9</pre>"
      ],
      "text/plain": [
       "recommendations finished on 27000/74915 queries. users per second: 36154.9"
      ]
     },
     "metadata": {},
     "output_type": "display_data"
    },
    {
     "data": {
      "text/html": [
       "<pre>recommendations finished on 28000/74915 queries. users per second: 36249</pre>"
      ],
      "text/plain": [
       "recommendations finished on 28000/74915 queries. users per second: 36249"
      ]
     },
     "metadata": {},
     "output_type": "display_data"
    },
    {
     "data": {
      "text/html": [
       "<pre>recommendations finished on 29000/74915 queries. users per second: 36152.1</pre>"
      ],
      "text/plain": [
       "recommendations finished on 29000/74915 queries. users per second: 36152.1"
      ]
     },
     "metadata": {},
     "output_type": "display_data"
    },
    {
     "data": {
      "text/html": [
       "<pre>recommendations finished on 30000/74915 queries. users per second: 36123.1</pre>"
      ],
      "text/plain": [
       "recommendations finished on 30000/74915 queries. users per second: 36123.1"
      ]
     },
     "metadata": {},
     "output_type": "display_data"
    },
    {
     "data": {
      "text/html": [
       "<pre>recommendations finished on 31000/74915 queries. users per second: 36370.8</pre>"
      ],
      "text/plain": [
       "recommendations finished on 31000/74915 queries. users per second: 36370.8"
      ]
     },
     "metadata": {},
     "output_type": "display_data"
    },
    {
     "data": {
      "text/html": [
       "<pre>recommendations finished on 32000/74915 queries. users per second: 36549</pre>"
      ],
      "text/plain": [
       "recommendations finished on 32000/74915 queries. users per second: 36549"
      ]
     },
     "metadata": {},
     "output_type": "display_data"
    },
    {
     "data": {
      "text/html": [
       "<pre>recommendations finished on 33000/74915 queries. users per second: 36562.4</pre>"
      ],
      "text/plain": [
       "recommendations finished on 33000/74915 queries. users per second: 36562.4"
      ]
     },
     "metadata": {},
     "output_type": "display_data"
    },
    {
     "data": {
      "text/html": [
       "<pre>recommendations finished on 34000/74915 queries. users per second: 36469.3</pre>"
      ],
      "text/plain": [
       "recommendations finished on 34000/74915 queries. users per second: 36469.3"
      ]
     },
     "metadata": {},
     "output_type": "display_data"
    },
    {
     "data": {
      "text/html": [
       "<pre>recommendations finished on 35000/74915 queries. users per second: 36550.6</pre>"
      ],
      "text/plain": [
       "recommendations finished on 35000/74915 queries. users per second: 36550.6"
      ]
     },
     "metadata": {},
     "output_type": "display_data"
    },
    {
     "data": {
      "text/html": [
       "<pre>recommendations finished on 36000/74915 queries. users per second: 36326.3</pre>"
      ],
      "text/plain": [
       "recommendations finished on 36000/74915 queries. users per second: 36326.3"
      ]
     },
     "metadata": {},
     "output_type": "display_data"
    },
    {
     "data": {
      "text/html": [
       "<pre>recommendations finished on 37000/74915 queries. users per second: 36356.5</pre>"
      ],
      "text/plain": [
       "recommendations finished on 37000/74915 queries. users per second: 36356.5"
      ]
     },
     "metadata": {},
     "output_type": "display_data"
    },
    {
     "data": {
      "text/html": [
       "<pre>recommendations finished on 38000/74915 queries. users per second: 36387.6</pre>"
      ],
      "text/plain": [
       "recommendations finished on 38000/74915 queries. users per second: 36387.6"
      ]
     },
     "metadata": {},
     "output_type": "display_data"
    },
    {
     "data": {
      "text/html": [
       "<pre>recommendations finished on 39000/74915 queries. users per second: 36380</pre>"
      ],
      "text/plain": [
       "recommendations finished on 39000/74915 queries. users per second: 36380"
      ]
     },
     "metadata": {},
     "output_type": "display_data"
    },
    {
     "data": {
      "text/html": [
       "<pre>recommendations finished on 40000/74915 queries. users per second: 36464.1</pre>"
      ],
      "text/plain": [
       "recommendations finished on 40000/74915 queries. users per second: 36464.1"
      ]
     },
     "metadata": {},
     "output_type": "display_data"
    },
    {
     "data": {
      "text/html": [
       "<pre>recommendations finished on 41000/74915 queries. users per second: 36512.4</pre>"
      ],
      "text/plain": [
       "recommendations finished on 41000/74915 queries. users per second: 36512.4"
      ]
     },
     "metadata": {},
     "output_type": "display_data"
    },
    {
     "data": {
      "text/html": [
       "<pre>recommendations finished on 42000/74915 queries. users per second: 36673.9</pre>"
      ],
      "text/plain": [
       "recommendations finished on 42000/74915 queries. users per second: 36673.9"
      ]
     },
     "metadata": {},
     "output_type": "display_data"
    },
    {
     "data": {
      "text/html": [
       "<pre>recommendations finished on 43000/74915 queries. users per second: 36933.9</pre>"
      ],
      "text/plain": [
       "recommendations finished on 43000/74915 queries. users per second: 36933.9"
      ]
     },
     "metadata": {},
     "output_type": "display_data"
    },
    {
     "data": {
      "text/html": [
       "<pre>recommendations finished on 44000/74915 queries. users per second: 37133.4</pre>"
      ],
      "text/plain": [
       "recommendations finished on 44000/74915 queries. users per second: 37133.4"
      ]
     },
     "metadata": {},
     "output_type": "display_data"
    },
    {
     "data": {
      "text/html": [
       "<pre>recommendations finished on 45000/74915 queries. users per second: 37281.3</pre>"
      ],
      "text/plain": [
       "recommendations finished on 45000/74915 queries. users per second: 37281.3"
      ]
     },
     "metadata": {},
     "output_type": "display_data"
    },
    {
     "data": {
      "text/html": [
       "<pre>recommendations finished on 46000/74915 queries. users per second: 37342</pre>"
      ],
      "text/plain": [
       "recommendations finished on 46000/74915 queries. users per second: 37342"
      ]
     },
     "metadata": {},
     "output_type": "display_data"
    },
    {
     "data": {
      "text/html": [
       "<pre>recommendations finished on 47000/74915 queries. users per second: 37501.2</pre>"
      ],
      "text/plain": [
       "recommendations finished on 47000/74915 queries. users per second: 37501.2"
      ]
     },
     "metadata": {},
     "output_type": "display_data"
    },
    {
     "data": {
      "text/html": [
       "<pre>recommendations finished on 48000/74915 queries. users per second: 37648.5</pre>"
      ],
      "text/plain": [
       "recommendations finished on 48000/74915 queries. users per second: 37648.5"
      ]
     },
     "metadata": {},
     "output_type": "display_data"
    },
    {
     "data": {
      "text/html": [
       "<pre>recommendations finished on 49000/74915 queries. users per second: 37567</pre>"
      ],
      "text/plain": [
       "recommendations finished on 49000/74915 queries. users per second: 37567"
      ]
     },
     "metadata": {},
     "output_type": "display_data"
    },
    {
     "data": {
      "text/html": [
       "<pre>recommendations finished on 50000/74915 queries. users per second: 37561.3</pre>"
      ],
      "text/plain": [
       "recommendations finished on 50000/74915 queries. users per second: 37561.3"
      ]
     },
     "metadata": {},
     "output_type": "display_data"
    },
    {
     "data": {
      "text/html": [
       "<pre>recommendations finished on 51000/74915 queries. users per second: 37454.5</pre>"
      ],
      "text/plain": [
       "recommendations finished on 51000/74915 queries. users per second: 37454.5"
      ]
     },
     "metadata": {},
     "output_type": "display_data"
    },
    {
     "data": {
      "text/html": [
       "<pre>recommendations finished on 52000/74915 queries. users per second: 37332.9</pre>"
      ],
      "text/plain": [
       "recommendations finished on 52000/74915 queries. users per second: 37332.9"
      ]
     },
     "metadata": {},
     "output_type": "display_data"
    },
    {
     "data": {
      "text/html": [
       "<pre>recommendations finished on 53000/74915 queries. users per second: 37315.7</pre>"
      ],
      "text/plain": [
       "recommendations finished on 53000/74915 queries. users per second: 37315.7"
      ]
     },
     "metadata": {},
     "output_type": "display_data"
    },
    {
     "data": {
      "text/html": [
       "<pre>recommendations finished on 54000/74915 queries. users per second: 37202.2</pre>"
      ],
      "text/plain": [
       "recommendations finished on 54000/74915 queries. users per second: 37202.2"
      ]
     },
     "metadata": {},
     "output_type": "display_data"
    },
    {
     "data": {
      "text/html": [
       "<pre>recommendations finished on 55000/74915 queries. users per second: 37227.2</pre>"
      ],
      "text/plain": [
       "recommendations finished on 55000/74915 queries. users per second: 37227.2"
      ]
     },
     "metadata": {},
     "output_type": "display_data"
    },
    {
     "data": {
      "text/html": [
       "<pre>recommendations finished on 56000/74915 queries. users per second: 37121.4</pre>"
      ],
      "text/plain": [
       "recommendations finished on 56000/74915 queries. users per second: 37121.4"
      ]
     },
     "metadata": {},
     "output_type": "display_data"
    },
    {
     "data": {
      "text/html": [
       "<pre>recommendations finished on 57000/74915 queries. users per second: 36963.4</pre>"
      ],
      "text/plain": [
       "recommendations finished on 57000/74915 queries. users per second: 36963.4"
      ]
     },
     "metadata": {},
     "output_type": "display_data"
    },
    {
     "data": {
      "text/html": [
       "<pre>recommendations finished on 58000/74915 queries. users per second: 36758.3</pre>"
      ],
      "text/plain": [
       "recommendations finished on 58000/74915 queries. users per second: 36758.3"
      ]
     },
     "metadata": {},
     "output_type": "display_data"
    },
    {
     "data": {
      "text/html": [
       "<pre>recommendations finished on 59000/74915 queries. users per second: 36519.3</pre>"
      ],
      "text/plain": [
       "recommendations finished on 59000/74915 queries. users per second: 36519.3"
      ]
     },
     "metadata": {},
     "output_type": "display_data"
    },
    {
     "data": {
      "text/html": [
       "<pre>recommendations finished on 60000/74915 queries. users per second: 36328.5</pre>"
      ],
      "text/plain": [
       "recommendations finished on 60000/74915 queries. users per second: 36328.5"
      ]
     },
     "metadata": {},
     "output_type": "display_data"
    },
    {
     "data": {
      "text/html": [
       "<pre>recommendations finished on 61000/74915 queries. users per second: 36192.9</pre>"
      ],
      "text/plain": [
       "recommendations finished on 61000/74915 queries. users per second: 36192.9"
      ]
     },
     "metadata": {},
     "output_type": "display_data"
    },
    {
     "data": {
      "text/html": [
       "<pre>recommendations finished on 62000/74915 queries. users per second: 35957.9</pre>"
      ],
      "text/plain": [
       "recommendations finished on 62000/74915 queries. users per second: 35957.9"
      ]
     },
     "metadata": {},
     "output_type": "display_data"
    },
    {
     "data": {
      "text/html": [
       "<pre>recommendations finished on 63000/74915 queries. users per second: 35850.7</pre>"
      ],
      "text/plain": [
       "recommendations finished on 63000/74915 queries. users per second: 35850.7"
      ]
     },
     "metadata": {},
     "output_type": "display_data"
    },
    {
     "data": {
      "text/html": [
       "<pre>recommendations finished on 64000/74915 queries. users per second: 35599.7</pre>"
      ],
      "text/plain": [
       "recommendations finished on 64000/74915 queries. users per second: 35599.7"
      ]
     },
     "metadata": {},
     "output_type": "display_data"
    },
    {
     "data": {
      "text/html": [
       "<pre>recommendations finished on 65000/74915 queries. users per second: 35430.9</pre>"
      ],
      "text/plain": [
       "recommendations finished on 65000/74915 queries. users per second: 35430.9"
      ]
     },
     "metadata": {},
     "output_type": "display_data"
    },
    {
     "data": {
      "text/html": [
       "<pre>recommendations finished on 66000/74915 queries. users per second: 35376.7</pre>"
      ],
      "text/plain": [
       "recommendations finished on 66000/74915 queries. users per second: 35376.7"
      ]
     },
     "metadata": {},
     "output_type": "display_data"
    },
    {
     "data": {
      "text/html": [
       "<pre>recommendations finished on 67000/74915 queries. users per second: 35331.1</pre>"
      ],
      "text/plain": [
       "recommendations finished on 67000/74915 queries. users per second: 35331.1"
      ]
     },
     "metadata": {},
     "output_type": "display_data"
    },
    {
     "data": {
      "text/html": [
       "<pre>recommendations finished on 68000/74915 queries. users per second: 35213.1</pre>"
      ],
      "text/plain": [
       "recommendations finished on 68000/74915 queries. users per second: 35213.1"
      ]
     },
     "metadata": {},
     "output_type": "display_data"
    },
    {
     "data": {
      "text/html": [
       "<pre>recommendations finished on 69000/74915 queries. users per second: 34995.1</pre>"
      ],
      "text/plain": [
       "recommendations finished on 69000/74915 queries. users per second: 34995.1"
      ]
     },
     "metadata": {},
     "output_type": "display_data"
    },
    {
     "data": {
      "text/html": [
       "<pre>recommendations finished on 70000/74915 queries. users per second: 24521.6</pre>"
      ],
      "text/plain": [
       "recommendations finished on 70000/74915 queries. users per second: 24521.6"
      ]
     },
     "metadata": {},
     "output_type": "display_data"
    },
    {
     "data": {
      "text/html": [
       "<pre>recommendations finished on 71000/74915 queries. users per second: 15297.6</pre>"
      ],
      "text/plain": [
       "recommendations finished on 71000/74915 queries. users per second: 15297.6"
      ]
     },
     "metadata": {},
     "output_type": "display_data"
    },
    {
     "data": {
      "text/html": [
       "<pre>recommendations finished on 72000/74915 queries. users per second: 11425.3</pre>"
      ],
      "text/plain": [
       "recommendations finished on 72000/74915 queries. users per second: 11425.3"
      ]
     },
     "metadata": {},
     "output_type": "display_data"
    },
    {
     "data": {
      "text/html": [
       "<pre>recommendations finished on 73000/74915 queries. users per second: 11335.4</pre>"
      ],
      "text/plain": [
       "recommendations finished on 73000/74915 queries. users per second: 11335.4"
      ]
     },
     "metadata": {},
     "output_type": "display_data"
    },
    {
     "data": {
      "text/html": [
       "<pre>recommendations finished on 74000/74915 queries. users per second: 11419.6</pre>"
      ],
      "text/plain": [
       "recommendations finished on 74000/74915 queries. users per second: 11419.6"
      ]
     },
     "metadata": {},
     "output_type": "display_data"
    },
    {
     "name": "stdout",
     "output_type": "stream",
     "text": [
      "+--------+-----------+-------+------+\n",
      "| UserId | productid | score | rank |\n",
      "+--------+-----------+-------+------+\n",
      "|   0    |  12437280 |  1.0  |  1   |\n",
      "|   0    |  12936586 |  1.0  |  2   |\n",
      "|   0    |  11149934 |  1.0  |  3   |\n",
      "|   0    |  13650182 |  1.0  |  4   |\n",
      "|   0    |  12936644 |  1.0  |  5   |\n",
      "|   0    |  11659948 |  1.0  |  6   |\n",
      "|   0    |  11407434 |  1.0  |  7   |\n",
      "|   0    |  12360402 |  1.0  |  8   |\n",
      "|   0    |  12936754 |  1.0  |  9   |\n",
      "|   0    |  11660042 |  1.0  |  10  |\n",
      "|   1    |  12437280 |  1.0  |  1   |\n",
      "|   1    |  12936586 |  1.0  |  2   |\n",
      "|   1    |  11149934 |  1.0  |  3   |\n",
      "|   1    |  13650182 |  1.0  |  4   |\n",
      "|   1    |  12936644 |  1.0  |  5   |\n",
      "|   1    |  11659948 |  1.0  |  6   |\n",
      "|   1    |  11407434 |  1.0  |  7   |\n",
      "|   1    |  12360402 |  1.0  |  8   |\n",
      "|   1    |  12936754 |  1.0  |  9   |\n",
      "|   1    |  11660042 |  1.0  |  10  |\n",
      "|   2    |  12437280 |  1.0  |  1   |\n",
      "|   2    |  12936586 |  1.0  |  2   |\n",
      "|   2    |  11149934 |  1.0  |  3   |\n",
      "|   2    |  13650182 |  1.0  |  4   |\n",
      "|   2    |  12936644 |  1.0  |  5   |\n",
      "|   2    |  11659948 |  1.0  |  6   |\n",
      "|   2    |  11407434 |  1.0  |  7   |\n",
      "|   2    |  12360402 |  1.0  |  8   |\n",
      "|   2    |  12936754 |  1.0  |  9   |\n",
      "|   2    |  11660042 |  1.0  |  10  |\n",
      "+--------+-----------+-------+------+\n",
      "[749150 rows x 4 columns]\n",
      "\n"
     ]
    }
   ],
   "source": [
    "name = 'pearson'\n",
    "target = 'scaled_purchase_freq'\n",
    "user_id = 'UserId'\n",
    "item_id = 'productid'\n",
    "users_to_recommend = list(mydf['UserId'])\n",
    "n_rec = 10\n",
    "n_display = 30\n",
    "pear_norm = model(train_data_norm, name, user_id, item_id, target, users_to_recommend, n_rec, n_display)"
   ]
  },
  {
   "cell_type": "code",
   "execution_count": 214,
   "metadata": {},
   "outputs": [],
   "source": [
    "models_w_counts = [popularity, cos, pear]\n",
    "models_w_dummy = [pop_dummy, cos_dummy, pear_dummy]\n",
    "models_w_norm = [pop_norm, cos_norm, pear_norm]\n",
    "names_w_counts = ['Popularity Model on Purchase Counts', 'Cosine Similarity on Purchase Counts', 'Pearson Similarity on Purchase Counts']\n",
    "names_w_dummy = ['Popularity Model on Purchase Dummy', 'Cosine Similarity on Purchase Dummy', 'Pearson Similarity on Purchase Dummy']\n",
    "names_w_norm = ['Popularity Model on Scaled Purchase Counts', 'Cosine Similarity on Scaled Purchase Counts', 'Pearson Similarity on Scaled Purchase Counts']"
   ]
  },
  {
   "cell_type": "code",
   "execution_count": 215,
   "metadata": {},
   "outputs": [
    {
     "name": "stdout",
     "output_type": "stream",
     "text": [
      "PROGRESS: Evaluate model Popularity Model on Purchase Counts\n"
     ]
    },
    {
     "data": {
      "text/html": [
       "<pre>recommendations finished on 1000/10109 queries. users per second: 23143.3</pre>"
      ],
      "text/plain": [
       "recommendations finished on 1000/10109 queries. users per second: 23143.3"
      ]
     },
     "metadata": {},
     "output_type": "display_data"
    },
    {
     "data": {
      "text/html": [
       "<pre>recommendations finished on 2000/10109 queries. users per second: 26625.5</pre>"
      ],
      "text/plain": [
       "recommendations finished on 2000/10109 queries. users per second: 26625.5"
      ]
     },
     "metadata": {},
     "output_type": "display_data"
    },
    {
     "data": {
      "text/html": [
       "<pre>recommendations finished on 3000/10109 queries. users per second: 25914.3</pre>"
      ],
      "text/plain": [
       "recommendations finished on 3000/10109 queries. users per second: 25914.3"
      ]
     },
     "metadata": {},
     "output_type": "display_data"
    },
    {
     "data": {
      "text/html": [
       "<pre>recommendations finished on 4000/10109 queries. users per second: 26248.4</pre>"
      ],
      "text/plain": [
       "recommendations finished on 4000/10109 queries. users per second: 26248.4"
      ]
     },
     "metadata": {},
     "output_type": "display_data"
    },
    {
     "data": {
      "text/html": [
       "<pre>recommendations finished on 5000/10109 queries. users per second: 27261.2</pre>"
      ],
      "text/plain": [
       "recommendations finished on 5000/10109 queries. users per second: 27261.2"
      ]
     },
     "metadata": {},
     "output_type": "display_data"
    },
    {
     "data": {
      "text/html": [
       "<pre>recommendations finished on 6000/10109 queries. users per second: 26813</pre>"
      ],
      "text/plain": [
       "recommendations finished on 6000/10109 queries. users per second: 26813"
      ]
     },
     "metadata": {},
     "output_type": "display_data"
    },
    {
     "data": {
      "text/html": [
       "<pre>recommendations finished on 7000/10109 queries. users per second: 27331.8</pre>"
      ],
      "text/plain": [
       "recommendations finished on 7000/10109 queries. users per second: 27331.8"
      ]
     },
     "metadata": {},
     "output_type": "display_data"
    },
    {
     "data": {
      "text/html": [
       "<pre>recommendations finished on 8000/10109 queries. users per second: 27682.8</pre>"
      ],
      "text/plain": [
       "recommendations finished on 8000/10109 queries. users per second: 27682.8"
      ]
     },
     "metadata": {},
     "output_type": "display_data"
    },
    {
     "data": {
      "text/html": [
       "<pre>recommendations finished on 9000/10109 queries. users per second: 28060.5</pre>"
      ],
      "text/plain": [
       "recommendations finished on 9000/10109 queries. users per second: 28060.5"
      ]
     },
     "metadata": {},
     "output_type": "display_data"
    },
    {
     "data": {
      "text/html": [
       "<pre>recommendations finished on 10000/10109 queries. users per second: 28293.6</pre>"
      ],
      "text/plain": [
       "recommendations finished on 10000/10109 queries. users per second: 28293.6"
      ]
     },
     "metadata": {},
     "output_type": "display_data"
    },
    {
     "name": "stdout",
     "output_type": "stream",
     "text": [
      "\n",
      "Precision and recall summary statistics by cutoff\n",
      "+--------+-------------------+-------------------+\n",
      "| cutoff |   mean_precision  |    mean_recall    |\n",
      "+--------+-------------------+-------------------+\n",
      "|   1    |        0.0        |        0.0        |\n",
      "|   2    |        0.0        |        0.0        |\n",
      "|   3    | 3.29739176312e-05 |  1.9208107358e-07 |\n",
      "|   4    | 7.41913146701e-05 | 1.13754680242e-05 |\n",
      "|   5    | 9.89217528935e-05 | 0.000110489301991 |\n",
      "|   6    | 9.89217528935e-05 | 0.000110681383065 |\n",
      "|   7    | 9.89217528935e-05 | 0.000209603135958 |\n",
      "|   8    | 0.000123652191117 | 0.000222685021197 |\n",
      "|   9    | 0.000109913058771 | 0.000222685021197 |\n",
      "|   10   | 0.000128598278761 |  0.00046998940343 |\n",
      "+--------+-------------------+-------------------+\n",
      "[10 rows x 3 columns]\n",
      "\n",
      "\n",
      "Overall RMSE: 4.45964642541\n",
      "\n",
      "Per User RMSE (best)\n",
      "+--------+-------+------+\n",
      "| UserId | count | rmse |\n",
      "+--------+-------+------+\n",
      "| 26069  |   1   | 0.0  |\n",
      "+--------+-------+------+\n",
      "[1 rows x 3 columns]\n",
      "\n",
      "\n",
      "Per User RMSE (worst)\n",
      "+--------+-------+---------------+\n",
      "| UserId | count |      rmse     |\n",
      "+--------+-------+---------------+\n",
      "| 26784  |  515  | 23.3715976811 |\n",
      "+--------+-------+---------------+\n",
      "[1 rows x 3 columns]\n",
      "\n",
      "\n",
      "Per Item RMSE (best)\n",
      "+-----------+-------+------+\n",
      "| productid | count | rmse |\n",
      "+-----------+-------+------+\n",
      "|  12437356 |   3   | 0.0  |\n",
      "+-----------+-------+------+\n",
      "[1 rows x 3 columns]\n",
      "\n",
      "\n",
      "Per Item RMSE (worst)\n",
      "+-----------+-------+---------------+\n",
      "| productid | count |      rmse     |\n",
      "+-----------+-------+---------------+\n",
      "|  12407394 |   24  | 25.8793390613 |\n",
      "+-----------+-------+---------------+\n",
      "[1 rows x 3 columns]\n",
      "\n",
      "PROGRESS: Evaluate model Cosine Similarity on Purchase Counts\n"
     ]
    },
    {
     "data": {
      "text/html": [
       "<pre>recommendations finished on 1000/10109 queries. users per second: 27078.3</pre>"
      ],
      "text/plain": [
       "recommendations finished on 1000/10109 queries. users per second: 27078.3"
      ]
     },
     "metadata": {},
     "output_type": "display_data"
    },
    {
     "data": {
      "text/html": [
       "<pre>recommendations finished on 2000/10109 queries. users per second: 22224.4</pre>"
      ],
      "text/plain": [
       "recommendations finished on 2000/10109 queries. users per second: 22224.4"
      ]
     },
     "metadata": {},
     "output_type": "display_data"
    },
    {
     "data": {
      "text/html": [
       "<pre>recommendations finished on 3000/10109 queries. users per second: 22833.1</pre>"
      ],
      "text/plain": [
       "recommendations finished on 3000/10109 queries. users per second: 22833.1"
      ]
     },
     "metadata": {},
     "output_type": "display_data"
    },
    {
     "data": {
      "text/html": [
       "<pre>recommendations finished on 4000/10109 queries. users per second: 22858.2</pre>"
      ],
      "text/plain": [
       "recommendations finished on 4000/10109 queries. users per second: 22858.2"
      ]
     },
     "metadata": {},
     "output_type": "display_data"
    },
    {
     "data": {
      "text/html": [
       "<pre>recommendations finished on 5000/10109 queries. users per second: 20762.2</pre>"
      ],
      "text/plain": [
       "recommendations finished on 5000/10109 queries. users per second: 20762.2"
      ]
     },
     "metadata": {},
     "output_type": "display_data"
    },
    {
     "data": {
      "text/html": [
       "<pre>recommendations finished on 6000/10109 queries. users per second: 19593.4</pre>"
      ],
      "text/plain": [
       "recommendations finished on 6000/10109 queries. users per second: 19593.4"
      ]
     },
     "metadata": {},
     "output_type": "display_data"
    },
    {
     "data": {
      "text/html": [
       "<pre>recommendations finished on 7000/10109 queries. users per second: 20348.2</pre>"
      ],
      "text/plain": [
       "recommendations finished on 7000/10109 queries. users per second: 20348.2"
      ]
     },
     "metadata": {},
     "output_type": "display_data"
    },
    {
     "data": {
      "text/html": [
       "<pre>recommendations finished on 8000/10109 queries. users per second: 20894.5</pre>"
      ],
      "text/plain": [
       "recommendations finished on 8000/10109 queries. users per second: 20894.5"
      ]
     },
     "metadata": {},
     "output_type": "display_data"
    },
    {
     "data": {
      "text/html": [
       "<pre>recommendations finished on 9000/10109 queries. users per second: 21297</pre>"
      ],
      "text/plain": [
       "recommendations finished on 9000/10109 queries. users per second: 21297"
      ]
     },
     "metadata": {},
     "output_type": "display_data"
    },
    {
     "data": {
      "text/html": [
       "<pre>recommendations finished on 10000/10109 queries. users per second: 21756.3</pre>"
      ],
      "text/plain": [
       "recommendations finished on 10000/10109 queries. users per second: 21756.3"
      ]
     },
     "metadata": {},
     "output_type": "display_data"
    },
    {
     "name": "stdout",
     "output_type": "stream",
     "text": [
      "\n",
      "Precision and recall summary statistics by cutoff\n",
      "+--------+-------------------+-------------------+\n",
      "| cutoff |   mean_precision  |    mean_recall    |\n",
      "+--------+-------------------+-------------------+\n",
      "|   1    | 0.000692452270254 | 0.000354661695608 |\n",
      "|   2    | 0.000791374023148 | 0.000876796183396 |\n",
      "|   3    | 0.000626504434992 | 0.000988275236475 |\n",
      "|   4    | 0.000667721832031 |  0.00139239780853 |\n",
      "|   5    | 0.000652883569097 |  0.00177178994236 |\n",
      "|   6    | 0.000593530517361 |  0.00196982552922 |\n",
      "|   7    | 0.000565267159391 |  0.00221732199253 |\n",
      "|   8    | 0.000593530517361 |  0.00273190718865 |\n",
      "|   9    |  0.00056055659973 |  0.00292975069444 |\n",
      "|   10   | 0.000553961816203 |  0.00327616891064 |\n",
      "+--------+-------------------+-------------------+\n",
      "[10 rows x 3 columns]\n",
      "\n",
      "\n",
      "Overall RMSE: 4.72312373697\n",
      "\n",
      "Per User RMSE (best)\n",
      "+--------+-------+------+\n",
      "| UserId | count | rmse |\n",
      "+--------+-------+------+\n",
      "| 25177  |   1   | 0.0  |\n",
      "+--------+-------+------+\n",
      "[1 rows x 3 columns]\n",
      "\n",
      "\n",
      "Per User RMSE (worst)\n",
      "+--------+-------+---------------+\n",
      "| UserId | count |      rmse     |\n",
      "+--------+-------+---------------+\n",
      "| 15270  |   1   | 41.0728534758 |\n",
      "+--------+-------+---------------+\n",
      "[1 rows x 3 columns]\n",
      "\n",
      "\n",
      "Per Item RMSE (best)\n",
      "+-----------+-------+-----------------+\n",
      "| productid | count |       rmse      |\n",
      "+-----------+-------+-----------------+\n",
      "|  13039912 |   1   | 0.0739870369434 |\n",
      "+-----------+-------+-----------------+\n",
      "[1 rows x 3 columns]\n",
      "\n",
      "\n",
      "Per Item RMSE (worst)\n",
      "+-----------+-------+---------------+\n",
      "| productid | count |      rmse     |\n",
      "+-----------+-------+---------------+\n",
      "|  12407394 |   24  | 26.1659528637 |\n",
      "+-----------+-------+---------------+\n",
      "[1 rows x 3 columns]\n",
      "\n",
      "PROGRESS: Evaluate model Pearson Similarity on Purchase Counts\n"
     ]
    },
    {
     "data": {
      "text/html": [
       "<pre>recommendations finished on 1000/10109 queries. users per second: 14157.3</pre>"
      ],
      "text/plain": [
       "recommendations finished on 1000/10109 queries. users per second: 14157.3"
      ]
     },
     "metadata": {},
     "output_type": "display_data"
    },
    {
     "data": {
      "text/html": [
       "<pre>recommendations finished on 2000/10109 queries. users per second: 16661.5</pre>"
      ],
      "text/plain": [
       "recommendations finished on 2000/10109 queries. users per second: 16661.5"
      ]
     },
     "metadata": {},
     "output_type": "display_data"
    },
    {
     "data": {
      "text/html": [
       "<pre>recommendations finished on 3000/10109 queries. users per second: 17820.9</pre>"
      ],
      "text/plain": [
       "recommendations finished on 3000/10109 queries. users per second: 17820.9"
      ]
     },
     "metadata": {},
     "output_type": "display_data"
    },
    {
     "data": {
      "text/html": [
       "<pre>recommendations finished on 4000/10109 queries. users per second: 18998.3</pre>"
      ],
      "text/plain": [
       "recommendations finished on 4000/10109 queries. users per second: 18998.3"
      ]
     },
     "metadata": {},
     "output_type": "display_data"
    },
    {
     "data": {
      "text/html": [
       "<pre>recommendations finished on 5000/10109 queries. users per second: 19788.3</pre>"
      ],
      "text/plain": [
       "recommendations finished on 5000/10109 queries. users per second: 19788.3"
      ]
     },
     "metadata": {},
     "output_type": "display_data"
    },
    {
     "data": {
      "text/html": [
       "<pre>recommendations finished on 6000/10109 queries. users per second: 20072.4</pre>"
      ],
      "text/plain": [
       "recommendations finished on 6000/10109 queries. users per second: 20072.4"
      ]
     },
     "metadata": {},
     "output_type": "display_data"
    },
    {
     "data": {
      "text/html": [
       "<pre>recommendations finished on 7000/10109 queries. users per second: 20324.1</pre>"
      ],
      "text/plain": [
       "recommendations finished on 7000/10109 queries. users per second: 20324.1"
      ]
     },
     "metadata": {},
     "output_type": "display_data"
    },
    {
     "data": {
      "text/html": [
       "<pre>recommendations finished on 8000/10109 queries. users per second: 20241.7</pre>"
      ],
      "text/plain": [
       "recommendations finished on 8000/10109 queries. users per second: 20241.7"
      ]
     },
     "metadata": {},
     "output_type": "display_data"
    },
    {
     "data": {
      "text/html": [
       "<pre>recommendations finished on 9000/10109 queries. users per second: 20418.8</pre>"
      ],
      "text/plain": [
       "recommendations finished on 9000/10109 queries. users per second: 20418.8"
      ]
     },
     "metadata": {},
     "output_type": "display_data"
    },
    {
     "data": {
      "text/html": [
       "<pre>recommendations finished on 10000/10109 queries. users per second: 20417.9</pre>"
      ],
      "text/plain": [
       "recommendations finished on 10000/10109 queries. users per second: 20417.9"
      ]
     },
     "metadata": {},
     "output_type": "display_data"
    },
    {
     "name": "stdout",
     "output_type": "stream",
     "text": [
      "\n",
      "Precision and recall summary statistics by cutoff\n",
      "+--------+-------------------+-------------------+\n",
      "| cutoff |   mean_precision  |    mean_recall    |\n",
      "+--------+-------------------+-------------------+\n",
      "|   1    |        0.0        |        0.0        |\n",
      "|   2    |        0.0        |        0.0        |\n",
      "|   3    | 3.29739176312e-05 |  1.9208107358e-07 |\n",
      "|   4    | 7.41913146701e-05 | 1.13754680242e-05 |\n",
      "|   5    | 9.89217528935e-05 | 0.000110489301991 |\n",
      "|   6    | 9.89217528935e-05 | 0.000110681383065 |\n",
      "|   7    | 0.000113053431878 | 0.000209795217032 |\n",
      "|   8    | 0.000123652191117 | 0.000222685021197 |\n",
      "|   9    | 0.000109913058771 | 0.000222685021197 |\n",
      "|   10   | 0.000108813928183 |  0.00032160677409 |\n",
      "+--------+-------------------+-------------------+\n",
      "[10 rows x 3 columns]\n",
      "\n",
      "\n",
      "Overall RMSE: 4.45368474529\n",
      "\n",
      "Per User RMSE (best)\n",
      "+--------+-------+------+\n",
      "| UserId | count | rmse |\n",
      "+--------+-------+------+\n",
      "| 26069  |   1   | 0.0  |\n",
      "+--------+-------+------+\n",
      "[1 rows x 3 columns]\n",
      "\n",
      "\n",
      "Per User RMSE (worst)\n",
      "+--------+-------+---------------+\n",
      "| UserId | count |      rmse     |\n",
      "+--------+-------+---------------+\n",
      "| 26784  |  515  | 23.3733448555 |\n",
      "+--------+-------+---------------+\n",
      "[1 rows x 3 columns]\n",
      "\n",
      "\n",
      "Per Item RMSE (best)\n",
      "+-----------+-------+------+\n",
      "| productid | count | rmse |\n",
      "+-----------+-------+------+\n",
      "|  12437356 |   3   | 0.0  |\n",
      "+-----------+-------+------+\n",
      "[1 rows x 3 columns]\n",
      "\n",
      "\n",
      "Per Item RMSE (worst)\n",
      "+-----------+-------+---------------+\n",
      "| productid | count |      rmse     |\n",
      "+-----------+-------+---------------+\n",
      "|  12407394 |   24  | 25.8793391307 |\n",
      "+-----------+-------+---------------+\n",
      "[1 rows x 3 columns]\n",
      "\n",
      "PROGRESS: Evaluate model Popularity Model on Purchase Dummy\n"
     ]
    },
    {
     "data": {
      "text/html": [
       "<pre>recommendations finished on 1000/10118 queries. users per second: 27522.4</pre>"
      ],
      "text/plain": [
       "recommendations finished on 1000/10118 queries. users per second: 27522.4"
      ]
     },
     "metadata": {},
     "output_type": "display_data"
    },
    {
     "data": {
      "text/html": [
       "<pre>recommendations finished on 2000/10118 queries. users per second: 33314.5</pre>"
      ],
      "text/plain": [
       "recommendations finished on 2000/10118 queries. users per second: 33314.5"
      ]
     },
     "metadata": {},
     "output_type": "display_data"
    },
    {
     "data": {
      "text/html": [
       "<pre>recommendations finished on 3000/10118 queries. users per second: 32570.8</pre>"
      ],
      "text/plain": [
       "recommendations finished on 3000/10118 queries. users per second: 32570.8"
      ]
     },
     "metadata": {},
     "output_type": "display_data"
    },
    {
     "data": {
      "text/html": [
       "<pre>recommendations finished on 4000/10118 queries. users per second: 32471.7</pre>"
      ],
      "text/plain": [
       "recommendations finished on 4000/10118 queries. users per second: 32471.7"
      ]
     },
     "metadata": {},
     "output_type": "display_data"
    },
    {
     "data": {
      "text/html": [
       "<pre>recommendations finished on 5000/10118 queries. users per second: 33663.2</pre>"
      ],
      "text/plain": [
       "recommendations finished on 5000/10118 queries. users per second: 33663.2"
      ]
     },
     "metadata": {},
     "output_type": "display_data"
    },
    {
     "data": {
      "text/html": [
       "<pre>recommendations finished on 6000/10118 queries. users per second: 32715.9</pre>"
      ],
      "text/plain": [
       "recommendations finished on 6000/10118 queries. users per second: 32715.9"
      ]
     },
     "metadata": {},
     "output_type": "display_data"
    },
    {
     "data": {
      "text/html": [
       "<pre>recommendations finished on 7000/10118 queries. users per second: 33200.5</pre>"
      ],
      "text/plain": [
       "recommendations finished on 7000/10118 queries. users per second: 33200.5"
      ]
     },
     "metadata": {},
     "output_type": "display_data"
    },
    {
     "data": {
      "text/html": [
       "<pre>recommendations finished on 8000/10118 queries. users per second: 33093.5</pre>"
      ],
      "text/plain": [
       "recommendations finished on 8000/10118 queries. users per second: 33093.5"
      ]
     },
     "metadata": {},
     "output_type": "display_data"
    },
    {
     "data": {
      "text/html": [
       "<pre>recommendations finished on 9000/10118 queries. users per second: 33474</pre>"
      ],
      "text/plain": [
       "recommendations finished on 9000/10118 queries. users per second: 33474"
      ]
     },
     "metadata": {},
     "output_type": "display_data"
    },
    {
     "data": {
      "text/html": [
       "<pre>recommendations finished on 10000/10118 queries. users per second: 31829.6</pre>"
      ],
      "text/plain": [
       "recommendations finished on 10000/10118 queries. users per second: 31829.6"
      ]
     },
     "metadata": {},
     "output_type": "display_data"
    },
    {
     "name": "stdout",
     "output_type": "stream",
     "text": [
      "\n",
      "Precision and recall summary statistics by cutoff\n",
      "+--------+-------------------+------------------+\n",
      "| cutoff |   mean_precision  |   mean_recall    |\n",
      "+--------+-------------------+------------------+\n",
      "|   1    |  0.00148250642419 | 0.00120247743296 |\n",
      "|   2    |  0.00123542202016 | 0.00189450870263 |\n",
      "|   3    | 0.000856559267312 | 0.00189470364102 |\n",
      "|   4    | 0.000790670092904 | 0.00232317821306 |\n",
      "|   5    | 0.000731369835936 | 0.00249848079431 |\n",
      "|   6    |  0.00141661724979 | 0.00605492626216 |\n",
      "|   7    |  0.00134131533618 | 0.00656576230221 |\n",
      "|   8    |  0.00123542202016 | 0.00696129228705 |\n",
      "|   9    |  0.00115306055215 | 0.00710150172105 |\n",
      "|   10   |  0.00112670488239 | 0.00772764381632 |\n",
      "+--------+-------------------+------------------+\n",
      "[10 rows x 3 columns]\n",
      "\n",
      "\n",
      "Overall RMSE: 0.0\n",
      "\n",
      "Per User RMSE (best)\n",
      "+--------+-------+------+\n",
      "| UserId | count | rmse |\n",
      "+--------+-------+------+\n",
      "| 13301  |   1   | 0.0  |\n",
      "+--------+-------+------+\n",
      "[1 rows x 3 columns]\n",
      "\n",
      "\n",
      "Per User RMSE (worst)\n",
      "+--------+-------+------+\n",
      "| UserId | count | rmse |\n",
      "+--------+-------+------+\n",
      "| 26319  |   1   | 0.0  |\n",
      "+--------+-------+------+\n",
      "[1 rows x 3 columns]\n",
      "\n",
      "\n",
      "Per Item RMSE (best)\n",
      "+-----------+-------+------+\n",
      "| productid | count | rmse |\n",
      "+-----------+-------+------+\n",
      "|  11141644 |   1   | 0.0  |\n",
      "+-----------+-------+------+\n",
      "[1 rows x 3 columns]\n",
      "\n",
      "\n",
      "Per Item RMSE (worst)\n",
      "+-----------+-------+------+\n",
      "| productid | count | rmse |\n",
      "+-----------+-------+------+\n",
      "|  11460916 |   4   | 0.0  |\n",
      "+-----------+-------+------+\n",
      "[1 rows x 3 columns]\n",
      "\n",
      "PROGRESS: Evaluate model Cosine Similarity on Purchase Dummy\n"
     ]
    },
    {
     "data": {
      "text/html": [
       "<pre>recommendations finished on 1000/10118 queries. users per second: 23412.6</pre>"
      ],
      "text/plain": [
       "recommendations finished on 1000/10118 queries. users per second: 23412.6"
      ]
     },
     "metadata": {},
     "output_type": "display_data"
    },
    {
     "data": {
      "text/html": [
       "<pre>recommendations finished on 2000/10118 queries. users per second: 25661.1</pre>"
      ],
      "text/plain": [
       "recommendations finished on 2000/10118 queries. users per second: 25661.1"
      ]
     },
     "metadata": {},
     "output_type": "display_data"
    },
    {
     "data": {
      "text/html": [
       "<pre>recommendations finished on 3000/10118 queries. users per second: 25906.7</pre>"
      ],
      "text/plain": [
       "recommendations finished on 3000/10118 queries. users per second: 25906.7"
      ]
     },
     "metadata": {},
     "output_type": "display_data"
    },
    {
     "data": {
      "text/html": [
       "<pre>recommendations finished on 4000/10118 queries. users per second: 26024.9</pre>"
      ],
      "text/plain": [
       "recommendations finished on 4000/10118 queries. users per second: 26024.9"
      ]
     },
     "metadata": {},
     "output_type": "display_data"
    },
    {
     "data": {
      "text/html": [
       "<pre>recommendations finished on 5000/10118 queries. users per second: 27313.3</pre>"
      ],
      "text/plain": [
       "recommendations finished on 5000/10118 queries. users per second: 27313.3"
      ]
     },
     "metadata": {},
     "output_type": "display_data"
    },
    {
     "data": {
      "text/html": [
       "<pre>recommendations finished on 6000/10118 queries. users per second: 27803.9</pre>"
      ],
      "text/plain": [
       "recommendations finished on 6000/10118 queries. users per second: 27803.9"
      ]
     },
     "metadata": {},
     "output_type": "display_data"
    },
    {
     "data": {
      "text/html": [
       "<pre>recommendations finished on 7000/10118 queries. users per second: 28365.1</pre>"
      ],
      "text/plain": [
       "recommendations finished on 7000/10118 queries. users per second: 28365.1"
      ]
     },
     "metadata": {},
     "output_type": "display_data"
    },
    {
     "data": {
      "text/html": [
       "<pre>recommendations finished on 8000/10118 queries. users per second: 29188.1</pre>"
      ],
      "text/plain": [
       "recommendations finished on 8000/10118 queries. users per second: 29188.1"
      ]
     },
     "metadata": {},
     "output_type": "display_data"
    },
    {
     "data": {
      "text/html": [
       "<pre>recommendations finished on 9000/10118 queries. users per second: 29571.8</pre>"
      ],
      "text/plain": [
       "recommendations finished on 9000/10118 queries. users per second: 29571.8"
      ]
     },
     "metadata": {},
     "output_type": "display_data"
    },
    {
     "data": {
      "text/html": [
       "<pre>recommendations finished on 10000/10118 queries. users per second: 29782</pre>"
      ],
      "text/plain": [
       "recommendations finished on 10000/10118 queries. users per second: 29782"
      ]
     },
     "metadata": {},
     "output_type": "display_data"
    },
    {
     "name": "stdout",
     "output_type": "stream",
     "text": [
      "\n",
      "Precision and recall summary statistics by cutoff\n",
      "+--------+-------------------+------------------+\n",
      "| cutoff |   mean_precision  |   mean_recall    |\n",
      "+--------+-------------------+------------------+\n",
      "|   1    |  0.00128483890097 | 0.00108984256049 |\n",
      "|   2    |  0.00084008697371 | 0.00148517760694 |\n",
      "|   3    | 0.000625947156882 | 0.00168284513017 |\n",
      "|   4    | 0.000543585688871 | 0.00197934641501 |\n",
      "|   5    |  0.00045463530342 | 0.00207818017662 |\n",
      "|   6    | 0.000708308624893 | 0.00400543852807 |\n",
      "|   7    | 0.000635359896083 | 0.00410446722807 |\n",
      "|   8    | 0.000580648349476 | 0.0043021347513  |\n",
      "|   9    | 0.000549076453405 | 0.0044505803321  |\n",
      "|   10   | 0.000513935560387 | 0.00464824785533 |\n",
      "+--------+-------------------+------------------+\n",
      "[10 rows x 3 columns]\n",
      "\n",
      "\n",
      "Overall RMSE: 0.997447771752\n",
      "\n",
      "Per User RMSE (best)\n",
      "+--------+-------+----------------+\n",
      "| UserId | count |      rmse      |\n",
      "+--------+-------+----------------+\n",
      "|  6370  |   1   | 0.566987276077 |\n",
      "+--------+-------+----------------+\n",
      "[1 rows x 3 columns]\n",
      "\n",
      "\n",
      "Per User RMSE (worst)\n",
      "+--------+-------+------+\n",
      "| UserId | count | rmse |\n",
      "+--------+-------+------+\n",
      "| 26319  |   1   | 1.0  |\n",
      "+--------+-------+------+\n",
      "[1 rows x 3 columns]\n",
      "\n",
      "\n",
      "Per Item RMSE (best)\n",
      "+-----------+-------+----------------+\n",
      "| productid | count |      rmse      |\n",
      "+-----------+-------+----------------+\n",
      "|  13039492 |   1   | 0.724990427494 |\n",
      "+-----------+-------+----------------+\n",
      "[1 rows x 3 columns]\n",
      "\n",
      "\n",
      "Per Item RMSE (worst)\n",
      "+-----------+-------+------+\n",
      "| productid | count | rmse |\n",
      "+-----------+-------+------+\n",
      "|  12360436 |   17  | 1.0  |\n",
      "+-----------+-------+------+\n",
      "[1 rows x 3 columns]\n",
      "\n",
      "PROGRESS: Evaluate model Pearson Similarity on Purchase Dummy\n"
     ]
    },
    {
     "data": {
      "text/html": [
       "<pre>recommendations finished on 1000/10118 queries. users per second: 15477.7</pre>"
      ],
      "text/plain": [
       "recommendations finished on 1000/10118 queries. users per second: 15477.7"
      ]
     },
     "metadata": {},
     "output_type": "display_data"
    },
    {
     "data": {
      "text/html": [
       "<pre>recommendations finished on 2000/10118 queries. users per second: 14202</pre>"
      ],
      "text/plain": [
       "recommendations finished on 2000/10118 queries. users per second: 14202"
      ]
     },
     "metadata": {},
     "output_type": "display_data"
    },
    {
     "data": {
      "text/html": [
       "<pre>recommendations finished on 3000/10118 queries. users per second: 16608</pre>"
      ],
      "text/plain": [
       "recommendations finished on 3000/10118 queries. users per second: 16608"
      ]
     },
     "metadata": {},
     "output_type": "display_data"
    },
    {
     "data": {
      "text/html": [
       "<pre>recommendations finished on 4000/10118 queries. users per second: 18531.9</pre>"
      ],
      "text/plain": [
       "recommendations finished on 4000/10118 queries. users per second: 18531.9"
      ]
     },
     "metadata": {},
     "output_type": "display_data"
    },
    {
     "data": {
      "text/html": [
       "<pre>recommendations finished on 5000/10118 queries. users per second: 20026.4</pre>"
      ],
      "text/plain": [
       "recommendations finished on 5000/10118 queries. users per second: 20026.4"
      ]
     },
     "metadata": {},
     "output_type": "display_data"
    },
    {
     "data": {
      "text/html": [
       "<pre>recommendations finished on 6000/10118 queries. users per second: 20379.1</pre>"
      ],
      "text/plain": [
       "recommendations finished on 6000/10118 queries. users per second: 20379.1"
      ]
     },
     "metadata": {},
     "output_type": "display_data"
    },
    {
     "data": {
      "text/html": [
       "<pre>recommendations finished on 7000/10118 queries. users per second: 21164.1</pre>"
      ],
      "text/plain": [
       "recommendations finished on 7000/10118 queries. users per second: 21164.1"
      ]
     },
     "metadata": {},
     "output_type": "display_data"
    },
    {
     "data": {
      "text/html": [
       "<pre>recommendations finished on 8000/10118 queries. users per second: 21736.5</pre>"
      ],
      "text/plain": [
       "recommendations finished on 8000/10118 queries. users per second: 21736.5"
      ]
     },
     "metadata": {},
     "output_type": "display_data"
    },
    {
     "data": {
      "text/html": [
       "<pre>recommendations finished on 9000/10118 queries. users per second: 21493.7</pre>"
      ],
      "text/plain": [
       "recommendations finished on 9000/10118 queries. users per second: 21493.7"
      ]
     },
     "metadata": {},
     "output_type": "display_data"
    },
    {
     "data": {
      "text/html": [
       "<pre>recommendations finished on 10000/10118 queries. users per second: 20855</pre>"
      ],
      "text/plain": [
       "recommendations finished on 10000/10118 queries. users per second: 20855"
      ]
     },
     "metadata": {},
     "output_type": "display_data"
    },
    {
     "name": "stdout",
     "output_type": "stream",
     "text": [
      "\n",
      "Precision and recall summary statistics by cutoff\n",
      "+--------+-------------------+------------------+\n",
      "| cutoff |   mean_precision  |   mean_recall    |\n",
      "+--------+-------------------+------------------+\n",
      "|   1    |  0.00148250642419 | 0.00120247743296 |\n",
      "|   2    |  0.00123542202016 | 0.00189450870263 |\n",
      "|   3    | 0.000856559267312 | 0.00189470364102 |\n",
      "|   4    | 0.000790670092904 | 0.00232317821306 |\n",
      "|   5    | 0.000731369835936 | 0.00249848079431 |\n",
      "|   6    |  0.00141661724979 | 0.00605492626216 |\n",
      "|   7    |  0.00134131533618 | 0.00656576230221 |\n",
      "|   8    |  0.00123542202016 | 0.00696129228705 |\n",
      "|   9    |  0.00115306055215 | 0.00710150172105 |\n",
      "|   10   |  0.00112670488239 | 0.00772764381632 |\n",
      "+--------+-------------------+------------------+\n",
      "[10 rows x 3 columns]\n",
      "\n",
      "\n",
      "Overall RMSE: 1.0\n",
      "\n",
      "Per User RMSE (best)\n",
      "+--------+-------+------+\n",
      "| UserId | count | rmse |\n",
      "+--------+-------+------+\n",
      "| 13301  |   1   | 1.0  |\n",
      "+--------+-------+------+\n",
      "[1 rows x 3 columns]\n",
      "\n",
      "\n",
      "Per User RMSE (worst)\n",
      "+--------+-------+------+\n",
      "| UserId | count | rmse |\n",
      "+--------+-------+------+\n",
      "| 26319  |   1   | 1.0  |\n",
      "+--------+-------+------+\n",
      "[1 rows x 3 columns]\n",
      "\n",
      "\n",
      "Per Item RMSE (best)\n",
      "+-----------+-------+------+\n",
      "| productid | count | rmse |\n",
      "+-----------+-------+------+\n",
      "|  11141644 |   1   | 1.0  |\n",
      "+-----------+-------+------+\n",
      "[1 rows x 3 columns]\n",
      "\n",
      "\n",
      "Per Item RMSE (worst)\n",
      "+-----------+-------+------+\n",
      "| productid | count | rmse |\n",
      "+-----------+-------+------+\n",
      "|  11460916 |   4   | 1.0  |\n",
      "+-----------+-------+------+\n",
      "[1 rows x 3 columns]\n",
      "\n",
      "PROGRESS: Evaluate model Popularity Model on Scaled Purchase Counts\n"
     ]
    },
    {
     "data": {
      "text/html": [
       "<pre>recommendations finished on 1000/10058 queries. users per second: 21335.2</pre>"
      ],
      "text/plain": [
       "recommendations finished on 1000/10058 queries. users per second: 21335.2"
      ]
     },
     "metadata": {},
     "output_type": "display_data"
    },
    {
     "data": {
      "text/html": [
       "<pre>recommendations finished on 2000/10058 queries. users per second: 22529.4</pre>"
      ],
      "text/plain": [
       "recommendations finished on 2000/10058 queries. users per second: 22529.4"
      ]
     },
     "metadata": {},
     "output_type": "display_data"
    },
    {
     "data": {
      "text/html": [
       "<pre>recommendations finished on 3000/10058 queries. users per second: 23039</pre>"
      ],
      "text/plain": [
       "recommendations finished on 3000/10058 queries. users per second: 23039"
      ]
     },
     "metadata": {},
     "output_type": "display_data"
    },
    {
     "data": {
      "text/html": [
       "<pre>recommendations finished on 4000/10058 queries. users per second: 23879.7</pre>"
      ],
      "text/plain": [
       "recommendations finished on 4000/10058 queries. users per second: 23879.7"
      ]
     },
     "metadata": {},
     "output_type": "display_data"
    },
    {
     "data": {
      "text/html": [
       "<pre>recommendations finished on 5000/10058 queries. users per second: 25502.9</pre>"
      ],
      "text/plain": [
       "recommendations finished on 5000/10058 queries. users per second: 25502.9"
      ]
     },
     "metadata": {},
     "output_type": "display_data"
    },
    {
     "data": {
      "text/html": [
       "<pre>recommendations finished on 6000/10058 queries. users per second: 26496.6</pre>"
      ],
      "text/plain": [
       "recommendations finished on 6000/10058 queries. users per second: 26496.6"
      ]
     },
     "metadata": {},
     "output_type": "display_data"
    },
    {
     "data": {
      "text/html": [
       "<pre>recommendations finished on 7000/10058 queries. users per second: 27436.6</pre>"
      ],
      "text/plain": [
       "recommendations finished on 7000/10058 queries. users per second: 27436.6"
      ]
     },
     "metadata": {},
     "output_type": "display_data"
    },
    {
     "data": {
      "text/html": [
       "<pre>recommendations finished on 8000/10058 queries. users per second: 28344.9</pre>"
      ],
      "text/plain": [
       "recommendations finished on 8000/10058 queries. users per second: 28344.9"
      ]
     },
     "metadata": {},
     "output_type": "display_data"
    },
    {
     "data": {
      "text/html": [
       "<pre>recommendations finished on 9000/10058 queries. users per second: 29117.7</pre>"
      ],
      "text/plain": [
       "recommendations finished on 9000/10058 queries. users per second: 29117.7"
      ]
     },
     "metadata": {},
     "output_type": "display_data"
    },
    {
     "data": {
      "text/html": [
       "<pre>recommendations finished on 10000/10058 queries. users per second: 28971.9</pre>"
      ],
      "text/plain": [
       "recommendations finished on 10000/10058 queries. users per second: 28971.9"
      ]
     },
     "metadata": {},
     "output_type": "display_data"
    },
    {
     "name": "stdout",
     "output_type": "stream",
     "text": [
      "\n",
      "Precision and recall summary statistics by cutoff\n",
      "+--------+-------------------+-------------------+\n",
      "| cutoff |   mean_precision  |    mean_recall    |\n",
      "+--------+-------------------+-------------------+\n",
      "|   1    | 0.000298270033804 | 0.000144163849672 |\n",
      "|   2    | 0.000149135016902 | 0.000144163849672 |\n",
      "|   3    | 0.000132564459468 | 0.000193875521973 |\n",
      "|   4    | 0.000173990853052 | 0.000318357194261 |\n",
      "|   5    | 0.000178962020282 | 0.000328502020258 |\n",
      "|   6    | 0.000182276131769 |  0.00047763703716 |\n",
      "|   7    | 0.000170440019317 | 0.000577060381761 |\n",
      "|   8    | 0.000161562934977 | 0.000676483726363 |\n",
      "|   9    | 0.000154658536046 | 0.000775907070964 |\n",
      "|   10   | 0.000169019685822 | 0.000974753760167 |\n",
      "+--------+-------------------+-------------------+\n",
      "[10 rows x 3 columns]\n",
      "\n",
      "\n",
      "Overall RMSE: 0.206526372305\n",
      "\n",
      "Per User RMSE (best)\n",
      "+--------+-------+------+\n",
      "| UserId | count | rmse |\n",
      "+--------+-------+------+\n",
      "| 13821  |   1   | 0.0  |\n",
      "+--------+-------+------+\n",
      "[1 rows x 3 columns]\n",
      "\n",
      "\n",
      "Per User RMSE (worst)\n",
      "+--------+-------+------+\n",
      "| UserId | count | rmse |\n",
      "+--------+-------+------+\n",
      "|  8892  |   1   | 1.0  |\n",
      "+--------+-------+------+\n",
      "[1 rows x 3 columns]\n",
      "\n",
      "\n",
      "Per Item RMSE (best)\n",
      "+-----------+-------+------+\n",
      "| productid | count | rmse |\n",
      "+-----------+-------+------+\n",
      "|  13039436 |   1   | 0.0  |\n",
      "+-----------+-------+------+\n",
      "[1 rows x 3 columns]\n",
      "\n",
      "\n",
      "Per Item RMSE (worst)\n",
      "+-----------+-------+------+\n",
      "| productid | count | rmse |\n",
      "+-----------+-------+------+\n",
      "|  13653538 |   1   | 1.0  |\n",
      "+-----------+-------+------+\n",
      "[1 rows x 3 columns]\n",
      "\n",
      "PROGRESS: Evaluate model Cosine Similarity on Scaled Purchase Counts\n"
     ]
    },
    {
     "data": {
      "text/html": [
       "<pre>recommendations finished on 1000/10058 queries. users per second: 23169.6</pre>"
      ],
      "text/plain": [
       "recommendations finished on 1000/10058 queries. users per second: 23169.6"
      ]
     },
     "metadata": {},
     "output_type": "display_data"
    },
    {
     "data": {
      "text/html": [
       "<pre>recommendations finished on 2000/10058 queries. users per second: 20226.1</pre>"
      ],
      "text/plain": [
       "recommendations finished on 2000/10058 queries. users per second: 20226.1"
      ]
     },
     "metadata": {},
     "output_type": "display_data"
    },
    {
     "data": {
      "text/html": [
       "<pre>recommendations finished on 3000/10058 queries. users per second: 21378.2</pre>"
      ],
      "text/plain": [
       "recommendations finished on 3000/10058 queries. users per second: 21378.2"
      ]
     },
     "metadata": {},
     "output_type": "display_data"
    },
    {
     "data": {
      "text/html": [
       "<pre>recommendations finished on 4000/10058 queries. users per second: 23553.4</pre>"
      ],
      "text/plain": [
       "recommendations finished on 4000/10058 queries. users per second: 23553.4"
      ]
     },
     "metadata": {},
     "output_type": "display_data"
    },
    {
     "data": {
      "text/html": [
       "<pre>recommendations finished on 5000/10058 queries. users per second: 25127</pre>"
      ],
      "text/plain": [
       "recommendations finished on 5000/10058 queries. users per second: 25127"
      ]
     },
     "metadata": {},
     "output_type": "display_data"
    },
    {
     "data": {
      "text/html": [
       "<pre>recommendations finished on 6000/10058 queries. users per second: 26540.1</pre>"
      ],
      "text/plain": [
       "recommendations finished on 6000/10058 queries. users per second: 26540.1"
      ]
     },
     "metadata": {},
     "output_type": "display_data"
    },
    {
     "data": {
      "text/html": [
       "<pre>recommendations finished on 7000/10058 queries. users per second: 27321.6</pre>"
      ],
      "text/plain": [
       "recommendations finished on 7000/10058 queries. users per second: 27321.6"
      ]
     },
     "metadata": {},
     "output_type": "display_data"
    },
    {
     "data": {
      "text/html": [
       "<pre>recommendations finished on 8000/10058 queries. users per second: 28141.9</pre>"
      ],
      "text/plain": [
       "recommendations finished on 8000/10058 queries. users per second: 28141.9"
      ]
     },
     "metadata": {},
     "output_type": "display_data"
    },
    {
     "data": {
      "text/html": [
       "<pre>recommendations finished on 9000/10058 queries. users per second: 27673.3</pre>"
      ],
      "text/plain": [
       "recommendations finished on 9000/10058 queries. users per second: 27673.3"
      ]
     },
     "metadata": {},
     "output_type": "display_data"
    },
    {
     "data": {
      "text/html": [
       "<pre>recommendations finished on 10000/10058 queries. users per second: 27584.6</pre>"
      ],
      "text/plain": [
       "recommendations finished on 10000/10058 queries. users per second: 27584.6"
      ]
     },
     "metadata": {},
     "output_type": "display_data"
    },
    {
     "name": "stdout",
     "output_type": "stream",
     "text": [
      "\n",
      "Precision and recall summary statistics by cutoff\n",
      "+--------+-------------------+-------------------+\n",
      "| cutoff |   mean_precision  |    mean_recall    |\n",
      "+--------+-------------------+-------------------+\n",
      "|   1    | 0.000397693378405 | 0.000232190295607 |\n",
      "|   2    | 0.000397693378405 | 0.000381527804045 |\n",
      "|   3    | 0.000298270033804 | 0.000381730295582 |\n",
      "|   4    | 0.000323125869954 | 0.000613920591189 |\n",
      "|   5    | 0.000338039371644 | 0.000812969771928 |\n",
      "|   6    | 0.000381122820972 |  0.00124400675674 |\n",
      "|   7    | 0.000397693378405 |  0.00144561520551 |\n",
      "|   8    | 0.000397693378405 |  0.00164466438625 |\n",
      "|   9    | 0.000408740416694 |  0.00204256025619 |\n",
      "|   10   | 0.000427520381786 |  0.00234688121357 |\n",
      "+--------+-------------------+-------------------+\n",
      "[10 rows x 3 columns]\n",
      "\n",
      "\n",
      "Overall RMSE: 0.200083624662\n",
      "\n",
      "Per User RMSE (best)\n",
      "+--------+-------+------+\n",
      "| UserId | count | rmse |\n",
      "+--------+-------+------+\n",
      "| 23618  |   1   | 0.0  |\n",
      "+--------+-------+------+\n",
      "[1 rows x 3 columns]\n",
      "\n",
      "\n",
      "Per User RMSE (worst)\n",
      "+--------+-------+------+\n",
      "| UserId | count | rmse |\n",
      "+--------+-------+------+\n",
      "| 15981  |   1   | 1.0  |\n",
      "+--------+-------+------+\n",
      "[1 rows x 3 columns]\n",
      "\n",
      "\n",
      "Per Item RMSE (best)\n",
      "+-----------+-------+------+\n",
      "| productid | count | rmse |\n",
      "+-----------+-------+------+\n",
      "|  12657898 |   3   | 0.0  |\n",
      "+-----------+-------+------+\n",
      "[1 rows x 3 columns]\n",
      "\n",
      "\n",
      "Per Item RMSE (worst)\n",
      "+-----------+-------+------+\n",
      "| productid | count | rmse |\n",
      "+-----------+-------+------+\n",
      "|  13653538 |   1   | 1.0  |\n",
      "+-----------+-------+------+\n",
      "[1 rows x 3 columns]\n",
      "\n",
      "PROGRESS: Evaluate model Pearson Similarity on Scaled Purchase Counts\n"
     ]
    },
    {
     "data": {
      "text/html": [
       "<pre>recommendations finished on 1000/10058 queries. users per second: 25953.8</pre>"
      ],
      "text/plain": [
       "recommendations finished on 1000/10058 queries. users per second: 25953.8"
      ]
     },
     "metadata": {},
     "output_type": "display_data"
    },
    {
     "data": {
      "text/html": [
       "<pre>recommendations finished on 2000/10058 queries. users per second: 23165.3</pre>"
      ],
      "text/plain": [
       "recommendations finished on 2000/10058 queries. users per second: 23165.3"
      ]
     },
     "metadata": {},
     "output_type": "display_data"
    },
    {
     "data": {
      "text/html": [
       "<pre>recommendations finished on 3000/10058 queries. users per second: 23203.8</pre>"
      ],
      "text/plain": [
       "recommendations finished on 3000/10058 queries. users per second: 23203.8"
      ]
     },
     "metadata": {},
     "output_type": "display_data"
    },
    {
     "data": {
      "text/html": [
       "<pre>recommendations finished on 4000/10058 queries. users per second: 22871.5</pre>"
      ],
      "text/plain": [
       "recommendations finished on 4000/10058 queries. users per second: 22871.5"
      ]
     },
     "metadata": {},
     "output_type": "display_data"
    },
    {
     "data": {
      "text/html": [
       "<pre>recommendations finished on 5000/10058 queries. users per second: 22697.1</pre>"
      ],
      "text/plain": [
       "recommendations finished on 5000/10058 queries. users per second: 22697.1"
      ]
     },
     "metadata": {},
     "output_type": "display_data"
    },
    {
     "data": {
      "text/html": [
       "<pre>recommendations finished on 6000/10058 queries. users per second: 21319.1</pre>"
      ],
      "text/plain": [
       "recommendations finished on 6000/10058 queries. users per second: 21319.1"
      ]
     },
     "metadata": {},
     "output_type": "display_data"
    },
    {
     "data": {
      "text/html": [
       "<pre>recommendations finished on 7000/10058 queries. users per second: 21758.8</pre>"
      ],
      "text/plain": [
       "recommendations finished on 7000/10058 queries. users per second: 21758.8"
      ]
     },
     "metadata": {},
     "output_type": "display_data"
    },
    {
     "data": {
      "text/html": [
       "<pre>recommendations finished on 8000/10058 queries. users per second: 22252.7</pre>"
      ],
      "text/plain": [
       "recommendations finished on 8000/10058 queries. users per second: 22252.7"
      ]
     },
     "metadata": {},
     "output_type": "display_data"
    },
    {
     "data": {
      "text/html": [
       "<pre>recommendations finished on 9000/10058 queries. users per second: 22586.7</pre>"
      ],
      "text/plain": [
       "recommendations finished on 9000/10058 queries. users per second: 22586.7"
      ]
     },
     "metadata": {},
     "output_type": "display_data"
    },
    {
     "data": {
      "text/html": [
       "<pre>recommendations finished on 10000/10058 queries. users per second: 22949.7</pre>"
      ],
      "text/plain": [
       "recommendations finished on 10000/10058 queries. users per second: 22949.7"
      ]
     },
     "metadata": {},
     "output_type": "display_data"
    },
    {
     "name": "stdout",
     "output_type": "stream",
     "text": [
      "\n",
      "Precision and recall summary statistics by cutoff\n",
      "+--------+-------------------+-------------------+\n",
      "| cutoff |   mean_precision  |    mean_recall    |\n",
      "+--------+-------------------+-------------------+\n",
      "|   1    | 9.94233446013e-05 | 9.94233446013e-05 |\n",
      "|   2    | 9.94233446013e-05 | 0.000119308013522 |\n",
      "|   3    | 0.000132564459468 | 0.000243587194273 |\n",
      "|   4    | 0.000149135016902 |  0.00025373202027 |\n",
      "|   5    | 0.000159077351362 | 0.000303646184108 |\n",
      "|   6    | 0.000165705574336 | 0.000427925364859 |\n",
      "|   7    | 0.000156236684373 | 0.000527348709461 |\n",
      "|   8    | 0.000149135016902 | 0.000626772054062 |\n",
      "|   9    | 0.000165705574336 | 0.000825618743265 |\n",
      "|   10   | 0.000149135016902 | 0.000825618743265 |\n",
      "+--------+-------------------+-------------------+\n",
      "[10 rows x 3 columns]\n",
      "\n",
      "\n",
      "Overall RMSE: 0.20669275015\n",
      "\n",
      "Per User RMSE (best)\n",
      "+--------+-------+------+\n",
      "| UserId | count | rmse |\n",
      "+--------+-------+------+\n",
      "| 13821  |   1   | 0.0  |\n",
      "+--------+-------+------+\n",
      "[1 rows x 3 columns]\n",
      "\n",
      "\n",
      "Per User RMSE (worst)\n",
      "+--------+-------+------+\n",
      "| UserId | count | rmse |\n",
      "+--------+-------+------+\n",
      "|  8892  |   1   | 1.0  |\n",
      "+--------+-------+------+\n",
      "[1 rows x 3 columns]\n",
      "\n",
      "\n",
      "Per Item RMSE (best)\n",
      "+-----------+-------+-------------------+\n",
      "| productid | count |        rmse       |\n",
      "+-----------+-------+-------------------+\n",
      "|  12407346 |   1   | 1.38777878078e-17 |\n",
      "+-----------+-------+-------------------+\n",
      "[1 rows x 3 columns]\n",
      "\n",
      "\n",
      "Per Item RMSE (worst)\n",
      "+-----------+-------+------+\n",
      "| productid | count | rmse |\n",
      "+-----------+-------+------+\n",
      "|  13653538 |   1   | 1.0  |\n",
      "+-----------+-------+------+\n",
      "[1 rows x 3 columns]\n",
      "\n"
     ]
    }
   ],
   "source": [
    "eval_counts = tc.recommender.util.compare_models(test_data, models_w_counts, model_names=names_w_counts)\n",
    "eval_dummy = tc.recommender.util.compare_models(test_data_dummy, models_w_dummy, model_names=names_w_dummy)\n",
    "eval_norm = tc.recommender.util.compare_models(test_data_norm, models_w_norm, model_names=names_w_norm)"
   ]
  },
  {
   "cell_type": "code",
   "execution_count": 323,
   "metadata": {},
   "outputs": [],
   "source": [
    "name = 'cosine'\n",
    "target = 'scaled_purchase_freq'\n",
    "user_id = 'UserId'\n",
    "item_id = 'productid'\n",
    "users_to_recommend = list(test['UserId'])\n",
    "n_rec = 10\n",
    "n_display = 30"
   ]
  },
  {
   "cell_type": "code",
   "execution_count": 34,
   "metadata": {},
   "outputs": [
    {
     "data": {
      "text/html": [
       "<pre>Preparing data set.</pre>"
      ],
      "text/plain": [
       "Preparing data set."
      ]
     },
     "metadata": {},
     "output_type": "display_data"
    },
    {
     "data": {
      "text/html": [
       "<pre>    Data has 73650 observations with 27633 users and 2506 items.</pre>"
      ],
      "text/plain": [
       "    Data has 73650 observations with 27633 users and 2506 items."
      ]
     },
     "metadata": {},
     "output_type": "display_data"
    },
    {
     "data": {
      "text/html": [
       "<pre>    Data prepared in: 0.116733s</pre>"
      ],
      "text/plain": [
       "    Data prepared in: 0.116733s"
      ]
     },
     "metadata": {},
     "output_type": "display_data"
    },
    {
     "data": {
      "text/html": [
       "<pre>Training model from provided data.</pre>"
      ],
      "text/plain": [
       "Training model from provided data."
      ]
     },
     "metadata": {},
     "output_type": "display_data"
    },
    {
     "data": {
      "text/html": [
       "<pre>Gathering per-item and per-user statistics.</pre>"
      ],
      "text/plain": [
       "Gathering per-item and per-user statistics."
      ]
     },
     "metadata": {},
     "output_type": "display_data"
    },
    {
     "data": {
      "text/html": [
       "<pre>+--------------------------------+------------+</pre>"
      ],
      "text/plain": [
       "+--------------------------------+------------+"
      ]
     },
     "metadata": {},
     "output_type": "display_data"
    },
    {
     "data": {
      "text/html": [
       "<pre>| Elapsed Time (Item Statistics) | % Complete |</pre>"
      ],
      "text/plain": [
       "| Elapsed Time (Item Statistics) | % Complete |"
      ]
     },
     "metadata": {},
     "output_type": "display_data"
    },
    {
     "data": {
      "text/html": [
       "<pre>+--------------------------------+------------+</pre>"
      ],
      "text/plain": [
       "+--------------------------------+------------+"
      ]
     },
     "metadata": {},
     "output_type": "display_data"
    },
    {
     "data": {
      "text/html": [
       "<pre>| 1.609ms                        | 3.5        |</pre>"
      ],
      "text/plain": [
       "| 1.609ms                        | 3.5        |"
      ]
     },
     "metadata": {},
     "output_type": "display_data"
    },
    {
     "data": {
      "text/html": [
       "<pre>| 13.223ms                       | 100        |</pre>"
      ],
      "text/plain": [
       "| 13.223ms                       | 100        |"
      ]
     },
     "metadata": {},
     "output_type": "display_data"
    },
    {
     "data": {
      "text/html": [
       "<pre>+--------------------------------+------------+</pre>"
      ],
      "text/plain": [
       "+--------------------------------+------------+"
      ]
     },
     "metadata": {},
     "output_type": "display_data"
    },
    {
     "data": {
      "text/html": [
       "<pre>Setting up lookup tables.</pre>"
      ],
      "text/plain": [
       "Setting up lookup tables."
      ]
     },
     "metadata": {},
     "output_type": "display_data"
    },
    {
     "data": {
      "text/html": [
       "<pre>Processing data in one pass using dense lookup tables.</pre>"
      ],
      "text/plain": [
       "Processing data in one pass using dense lookup tables."
      ]
     },
     "metadata": {},
     "output_type": "display_data"
    },
    {
     "data": {
      "text/html": [
       "<pre>+-------------------------------------+------------------+-----------------+</pre>"
      ],
      "text/plain": [
       "+-------------------------------------+------------------+-----------------+"
      ]
     },
     "metadata": {},
     "output_type": "display_data"
    },
    {
     "data": {
      "text/html": [
       "<pre>| Elapsed Time (Constructing Lookups) | Total % Complete | Items Processed |</pre>"
      ],
      "text/plain": [
       "| Elapsed Time (Constructing Lookups) | Total % Complete | Items Processed |"
      ]
     },
     "metadata": {},
     "output_type": "display_data"
    },
    {
     "data": {
      "text/html": [
       "<pre>+-------------------------------------+------------------+-----------------+</pre>"
      ],
      "text/plain": [
       "+-------------------------------------+------------------+-----------------+"
      ]
     },
     "metadata": {},
     "output_type": "display_data"
    },
    {
     "data": {
      "text/html": [
       "<pre>| 64.43ms                             | 0                | 0               |</pre>"
      ],
      "text/plain": [
       "| 64.43ms                             | 0                | 0               |"
      ]
     },
     "metadata": {},
     "output_type": "display_data"
    },
    {
     "data": {
      "text/html": [
       "<pre>| 166.664ms                           | 100              | 2506            |</pre>"
      ],
      "text/plain": [
       "| 166.664ms                           | 100              | 2506            |"
      ]
     },
     "metadata": {},
     "output_type": "display_data"
    },
    {
     "data": {
      "text/html": [
       "<pre>+-------------------------------------+------------------+-----------------+</pre>"
      ],
      "text/plain": [
       "+-------------------------------------+------------------+-----------------+"
      ]
     },
     "metadata": {},
     "output_type": "display_data"
    },
    {
     "data": {
      "text/html": [
       "<pre>Finalizing lookup tables.</pre>"
      ],
      "text/plain": [
       "Finalizing lookup tables."
      ]
     },
     "metadata": {},
     "output_type": "display_data"
    },
    {
     "data": {
      "text/html": [
       "<pre>Generating candidate set for working with new users.</pre>"
      ],
      "text/plain": [
       "Generating candidate set for working with new users."
      ]
     },
     "metadata": {},
     "output_type": "display_data"
    },
    {
     "data": {
      "text/html": [
       "<pre>Finished training in 0.187916s</pre>"
      ],
      "text/plain": [
       "Finished training in 0.187916s"
      ]
     },
     "metadata": {},
     "output_type": "display_data"
    },
    {
     "data": {
      "text/html": [
       "<pre>recommendations finished on 1000/2350 queries. users per second: 26081.1</pre>"
      ],
      "text/plain": [
       "recommendations finished on 1000/2350 queries. users per second: 26081.1"
      ]
     },
     "metadata": {},
     "output_type": "display_data"
    },
    {
     "data": {
      "text/html": [
       "<pre>recommendations finished on 2000/2350 queries. users per second: 31643.6</pre>"
      ],
      "text/plain": [
       "recommendations finished on 2000/2350 queries. users per second: 31643.6"
      ]
     },
     "metadata": {},
     "output_type": "display_data"
    }
   ],
   "source": [
    "name = 'cosine'\n",
    "target = 'scaled_purchase_freq'\n",
    "user_id = 'UserId'\n",
    "item_id = 'productid'\n",
    "users_to_recommend = list(test['UserId'])\n",
    "n_rec = 10\n",
    "n_display = 30\n",
    "final_model = tc.item_similarity_recommender.create(tc.SFrame(data_norm),user_id=user_id, item_id = item_id, target=target, similarity_type=name)\n",
    "recom = final_model.recommend(users=users_to_recommend, k=n_rec)\n",
    "df_rec = recom.to_dataframe()\n",
    "temp_rec = df_rec.copy()\n",
    "temp_df_df = temp_rec.groupby('UserId')['productid'].apply(list)"
   ]
  },
  {
   "cell_type": "code",
   "execution_count": 35,
   "metadata": {},
   "outputs": [],
   "source": [
    "temp_df_df.to_csv('/Users/rahulsharma/Teams/Cappilary_Hackathon/cosi3.csv')"
   ]
  },
  {
   "cell_type": "code",
   "execution_count": 327,
   "metadata": {},
   "outputs": [
    {
     "data": {
      "text/html": [
       "<div>\n",
       "<style scoped>\n",
       "    .dataframe tbody tr th:only-of-type {\n",
       "        vertical-align: middle;\n",
       "    }\n",
       "\n",
       "    .dataframe tbody tr th {\n",
       "        vertical-align: top;\n",
       "    }\n",
       "\n",
       "    .dataframe thead th {\n",
       "        text-align: right;\n",
       "    }\n",
       "</style>\n",
       "<table border=\"1\" class=\"dataframe\">\n",
       "  <thead>\n",
       "    <tr style=\"text-align: right;\">\n",
       "      <th></th>\n",
       "      <th>UserId</th>\n",
       "      <th>productid</th>\n",
       "      <th>score</th>\n",
       "      <th>rank</th>\n",
       "    </tr>\n",
       "  </thead>\n",
       "  <tbody>\n",
       "    <tr>\n",
       "      <th>0</th>\n",
       "      <td>2</td>\n",
       "      <td>11141328</td>\n",
       "      <td>0.000000</td>\n",
       "      <td>1</td>\n",
       "    </tr>\n",
       "    <tr>\n",
       "      <th>1</th>\n",
       "      <td>2</td>\n",
       "      <td>11141326</td>\n",
       "      <td>0.000000</td>\n",
       "      <td>2</td>\n",
       "    </tr>\n",
       "    <tr>\n",
       "      <th>2</th>\n",
       "      <td>2</td>\n",
       "      <td>11141324</td>\n",
       "      <td>0.000000</td>\n",
       "      <td>3</td>\n",
       "    </tr>\n",
       "    <tr>\n",
       "      <th>3</th>\n",
       "      <td>2</td>\n",
       "      <td>11141320</td>\n",
       "      <td>0.000000</td>\n",
       "      <td>4</td>\n",
       "    </tr>\n",
       "    <tr>\n",
       "      <th>4</th>\n",
       "      <td>2</td>\n",
       "      <td>11141306</td>\n",
       "      <td>0.000000</td>\n",
       "      <td>5</td>\n",
       "    </tr>\n",
       "    <tr>\n",
       "      <th>5</th>\n",
       "      <td>2</td>\n",
       "      <td>11139650</td>\n",
       "      <td>0.000000</td>\n",
       "      <td>6</td>\n",
       "    </tr>\n",
       "    <tr>\n",
       "      <th>6</th>\n",
       "      <td>2</td>\n",
       "      <td>11139560</td>\n",
       "      <td>0.000000</td>\n",
       "      <td>7</td>\n",
       "    </tr>\n",
       "    <tr>\n",
       "      <th>7</th>\n",
       "      <td>2</td>\n",
       "      <td>11139524</td>\n",
       "      <td>0.000000</td>\n",
       "      <td>8</td>\n",
       "    </tr>\n",
       "    <tr>\n",
       "      <th>8</th>\n",
       "      <td>2</td>\n",
       "      <td>11139194</td>\n",
       "      <td>0.000000</td>\n",
       "      <td>9</td>\n",
       "    </tr>\n",
       "    <tr>\n",
       "      <th>9</th>\n",
       "      <td>2</td>\n",
       "      <td>11139192</td>\n",
       "      <td>0.000000</td>\n",
       "      <td>10</td>\n",
       "    </tr>\n",
       "    <tr>\n",
       "      <th>10</th>\n",
       "      <td>28</td>\n",
       "      <td>11149964</td>\n",
       "      <td>0.029862</td>\n",
       "      <td>1</td>\n",
       "    </tr>\n",
       "    <tr>\n",
       "      <th>11</th>\n",
       "      <td>28</td>\n",
       "      <td>11148980</td>\n",
       "      <td>0.029862</td>\n",
       "      <td>2</td>\n",
       "    </tr>\n",
       "    <tr>\n",
       "      <th>12</th>\n",
       "      <td>28</td>\n",
       "      <td>11148920</td>\n",
       "      <td>0.029862</td>\n",
       "      <td>3</td>\n",
       "    </tr>\n",
       "    <tr>\n",
       "      <th>13</th>\n",
       "      <td>28</td>\n",
       "      <td>11148854</td>\n",
       "      <td>0.029862</td>\n",
       "      <td>4</td>\n",
       "    </tr>\n",
       "    <tr>\n",
       "      <th>14</th>\n",
       "      <td>28</td>\n",
       "      <td>11145728</td>\n",
       "      <td>0.029862</td>\n",
       "      <td>5</td>\n",
       "    </tr>\n",
       "    <tr>\n",
       "      <th>15</th>\n",
       "      <td>28</td>\n",
       "      <td>11145726</td>\n",
       "      <td>0.029862</td>\n",
       "      <td>6</td>\n",
       "    </tr>\n",
       "    <tr>\n",
       "      <th>16</th>\n",
       "      <td>28</td>\n",
       "      <td>11145640</td>\n",
       "      <td>0.029862</td>\n",
       "      <td>7</td>\n",
       "    </tr>\n",
       "    <tr>\n",
       "      <th>17</th>\n",
       "      <td>28</td>\n",
       "      <td>11145634</td>\n",
       "      <td>0.029862</td>\n",
       "      <td>8</td>\n",
       "    </tr>\n",
       "    <tr>\n",
       "      <th>18</th>\n",
       "      <td>28</td>\n",
       "      <td>11145614</td>\n",
       "      <td>0.029862</td>\n",
       "      <td>9</td>\n",
       "    </tr>\n",
       "    <tr>\n",
       "      <th>19</th>\n",
       "      <td>28</td>\n",
       "      <td>11141346</td>\n",
       "      <td>0.029862</td>\n",
       "      <td>10</td>\n",
       "    </tr>\n",
       "    <tr>\n",
       "      <th>20</th>\n",
       "      <td>36</td>\n",
       "      <td>11141328</td>\n",
       "      <td>0.000000</td>\n",
       "      <td>1</td>\n",
       "    </tr>\n",
       "    <tr>\n",
       "      <th>21</th>\n",
       "      <td>36</td>\n",
       "      <td>11141326</td>\n",
       "      <td>0.000000</td>\n",
       "      <td>2</td>\n",
       "    </tr>\n",
       "    <tr>\n",
       "      <th>22</th>\n",
       "      <td>36</td>\n",
       "      <td>11141324</td>\n",
       "      <td>0.000000</td>\n",
       "      <td>3</td>\n",
       "    </tr>\n",
       "    <tr>\n",
       "      <th>23</th>\n",
       "      <td>36</td>\n",
       "      <td>11141320</td>\n",
       "      <td>0.000000</td>\n",
       "      <td>4</td>\n",
       "    </tr>\n",
       "    <tr>\n",
       "      <th>24</th>\n",
       "      <td>36</td>\n",
       "      <td>11141306</td>\n",
       "      <td>0.000000</td>\n",
       "      <td>5</td>\n",
       "    </tr>\n",
       "    <tr>\n",
       "      <th>25</th>\n",
       "      <td>36</td>\n",
       "      <td>11139650</td>\n",
       "      <td>0.000000</td>\n",
       "      <td>6</td>\n",
       "    </tr>\n",
       "    <tr>\n",
       "      <th>26</th>\n",
       "      <td>36</td>\n",
       "      <td>11139560</td>\n",
       "      <td>0.000000</td>\n",
       "      <td>7</td>\n",
       "    </tr>\n",
       "    <tr>\n",
       "      <th>27</th>\n",
       "      <td>36</td>\n",
       "      <td>11139524</td>\n",
       "      <td>0.000000</td>\n",
       "      <td>8</td>\n",
       "    </tr>\n",
       "    <tr>\n",
       "      <th>28</th>\n",
       "      <td>36</td>\n",
       "      <td>11139194</td>\n",
       "      <td>0.000000</td>\n",
       "      <td>9</td>\n",
       "    </tr>\n",
       "    <tr>\n",
       "      <th>29</th>\n",
       "      <td>36</td>\n",
       "      <td>11139192</td>\n",
       "      <td>0.000000</td>\n",
       "      <td>10</td>\n",
       "    </tr>\n",
       "    <tr>\n",
       "      <th>...</th>\n",
       "      <td>...</td>\n",
       "      <td>...</td>\n",
       "      <td>...</td>\n",
       "      <td>...</td>\n",
       "    </tr>\n",
       "    <tr>\n",
       "      <th>23470</th>\n",
       "      <td>27755</td>\n",
       "      <td>11141328</td>\n",
       "      <td>0.000000</td>\n",
       "      <td>1</td>\n",
       "    </tr>\n",
       "    <tr>\n",
       "      <th>23471</th>\n",
       "      <td>27755</td>\n",
       "      <td>11141326</td>\n",
       "      <td>0.000000</td>\n",
       "      <td>2</td>\n",
       "    </tr>\n",
       "    <tr>\n",
       "      <th>23472</th>\n",
       "      <td>27755</td>\n",
       "      <td>11141324</td>\n",
       "      <td>0.000000</td>\n",
       "      <td>3</td>\n",
       "    </tr>\n",
       "    <tr>\n",
       "      <th>23473</th>\n",
       "      <td>27755</td>\n",
       "      <td>11141320</td>\n",
       "      <td>0.000000</td>\n",
       "      <td>4</td>\n",
       "    </tr>\n",
       "    <tr>\n",
       "      <th>23474</th>\n",
       "      <td>27755</td>\n",
       "      <td>11141306</td>\n",
       "      <td>0.000000</td>\n",
       "      <td>5</td>\n",
       "    </tr>\n",
       "    <tr>\n",
       "      <th>23475</th>\n",
       "      <td>27755</td>\n",
       "      <td>11139650</td>\n",
       "      <td>0.000000</td>\n",
       "      <td>6</td>\n",
       "    </tr>\n",
       "    <tr>\n",
       "      <th>23476</th>\n",
       "      <td>27755</td>\n",
       "      <td>11139560</td>\n",
       "      <td>0.000000</td>\n",
       "      <td>7</td>\n",
       "    </tr>\n",
       "    <tr>\n",
       "      <th>23477</th>\n",
       "      <td>27755</td>\n",
       "      <td>11139524</td>\n",
       "      <td>0.000000</td>\n",
       "      <td>8</td>\n",
       "    </tr>\n",
       "    <tr>\n",
       "      <th>23478</th>\n",
       "      <td>27755</td>\n",
       "      <td>11139194</td>\n",
       "      <td>0.000000</td>\n",
       "      <td>9</td>\n",
       "    </tr>\n",
       "    <tr>\n",
       "      <th>23479</th>\n",
       "      <td>27755</td>\n",
       "      <td>11139192</td>\n",
       "      <td>0.000000</td>\n",
       "      <td>10</td>\n",
       "    </tr>\n",
       "    <tr>\n",
       "      <th>23480</th>\n",
       "      <td>27756</td>\n",
       "      <td>11141328</td>\n",
       "      <td>0.000000</td>\n",
       "      <td>1</td>\n",
       "    </tr>\n",
       "    <tr>\n",
       "      <th>23481</th>\n",
       "      <td>27756</td>\n",
       "      <td>11141326</td>\n",
       "      <td>0.000000</td>\n",
       "      <td>2</td>\n",
       "    </tr>\n",
       "    <tr>\n",
       "      <th>23482</th>\n",
       "      <td>27756</td>\n",
       "      <td>11141324</td>\n",
       "      <td>0.000000</td>\n",
       "      <td>3</td>\n",
       "    </tr>\n",
       "    <tr>\n",
       "      <th>23483</th>\n",
       "      <td>27756</td>\n",
       "      <td>11141320</td>\n",
       "      <td>0.000000</td>\n",
       "      <td>4</td>\n",
       "    </tr>\n",
       "    <tr>\n",
       "      <th>23484</th>\n",
       "      <td>27756</td>\n",
       "      <td>11141306</td>\n",
       "      <td>0.000000</td>\n",
       "      <td>5</td>\n",
       "    </tr>\n",
       "    <tr>\n",
       "      <th>23485</th>\n",
       "      <td>27756</td>\n",
       "      <td>11139650</td>\n",
       "      <td>0.000000</td>\n",
       "      <td>6</td>\n",
       "    </tr>\n",
       "    <tr>\n",
       "      <th>23486</th>\n",
       "      <td>27756</td>\n",
       "      <td>11139560</td>\n",
       "      <td>0.000000</td>\n",
       "      <td>7</td>\n",
       "    </tr>\n",
       "    <tr>\n",
       "      <th>23487</th>\n",
       "      <td>27756</td>\n",
       "      <td>11139524</td>\n",
       "      <td>0.000000</td>\n",
       "      <td>8</td>\n",
       "    </tr>\n",
       "    <tr>\n",
       "      <th>23488</th>\n",
       "      <td>27756</td>\n",
       "      <td>11139194</td>\n",
       "      <td>0.000000</td>\n",
       "      <td>9</td>\n",
       "    </tr>\n",
       "    <tr>\n",
       "      <th>23489</th>\n",
       "      <td>27756</td>\n",
       "      <td>11139192</td>\n",
       "      <td>0.000000</td>\n",
       "      <td>10</td>\n",
       "    </tr>\n",
       "    <tr>\n",
       "      <th>23490</th>\n",
       "      <td>27766</td>\n",
       "      <td>11141328</td>\n",
       "      <td>0.000000</td>\n",
       "      <td>1</td>\n",
       "    </tr>\n",
       "    <tr>\n",
       "      <th>23491</th>\n",
       "      <td>27766</td>\n",
       "      <td>11141326</td>\n",
       "      <td>0.000000</td>\n",
       "      <td>2</td>\n",
       "    </tr>\n",
       "    <tr>\n",
       "      <th>23492</th>\n",
       "      <td>27766</td>\n",
       "      <td>11141324</td>\n",
       "      <td>0.000000</td>\n",
       "      <td>3</td>\n",
       "    </tr>\n",
       "    <tr>\n",
       "      <th>23493</th>\n",
       "      <td>27766</td>\n",
       "      <td>11141320</td>\n",
       "      <td>0.000000</td>\n",
       "      <td>4</td>\n",
       "    </tr>\n",
       "    <tr>\n",
       "      <th>23494</th>\n",
       "      <td>27766</td>\n",
       "      <td>11141306</td>\n",
       "      <td>0.000000</td>\n",
       "      <td>5</td>\n",
       "    </tr>\n",
       "    <tr>\n",
       "      <th>23495</th>\n",
       "      <td>27766</td>\n",
       "      <td>11139650</td>\n",
       "      <td>0.000000</td>\n",
       "      <td>6</td>\n",
       "    </tr>\n",
       "    <tr>\n",
       "      <th>23496</th>\n",
       "      <td>27766</td>\n",
       "      <td>11139560</td>\n",
       "      <td>0.000000</td>\n",
       "      <td>7</td>\n",
       "    </tr>\n",
       "    <tr>\n",
       "      <th>23497</th>\n",
       "      <td>27766</td>\n",
       "      <td>11139524</td>\n",
       "      <td>0.000000</td>\n",
       "      <td>8</td>\n",
       "    </tr>\n",
       "    <tr>\n",
       "      <th>23498</th>\n",
       "      <td>27766</td>\n",
       "      <td>11139194</td>\n",
       "      <td>0.000000</td>\n",
       "      <td>9</td>\n",
       "    </tr>\n",
       "    <tr>\n",
       "      <th>23499</th>\n",
       "      <td>27766</td>\n",
       "      <td>11139192</td>\n",
       "      <td>0.000000</td>\n",
       "      <td>10</td>\n",
       "    </tr>\n",
       "  </tbody>\n",
       "</table>\n",
       "<p>23500 rows × 4 columns</p>\n",
       "</div>"
      ],
      "text/plain": [
       "       UserId  productid     score  rank\n",
       "0           2   11141328  0.000000     1\n",
       "1           2   11141326  0.000000     2\n",
       "2           2   11141324  0.000000     3\n",
       "3           2   11141320  0.000000     4\n",
       "4           2   11141306  0.000000     5\n",
       "5           2   11139650  0.000000     6\n",
       "6           2   11139560  0.000000     7\n",
       "7           2   11139524  0.000000     8\n",
       "8           2   11139194  0.000000     9\n",
       "9           2   11139192  0.000000    10\n",
       "10         28   11149964  0.029862     1\n",
       "11         28   11148980  0.029862     2\n",
       "12         28   11148920  0.029862     3\n",
       "13         28   11148854  0.029862     4\n",
       "14         28   11145728  0.029862     5\n",
       "15         28   11145726  0.029862     6\n",
       "16         28   11145640  0.029862     7\n",
       "17         28   11145634  0.029862     8\n",
       "18         28   11145614  0.029862     9\n",
       "19         28   11141346  0.029862    10\n",
       "20         36   11141328  0.000000     1\n",
       "21         36   11141326  0.000000     2\n",
       "22         36   11141324  0.000000     3\n",
       "23         36   11141320  0.000000     4\n",
       "24         36   11141306  0.000000     5\n",
       "25         36   11139650  0.000000     6\n",
       "26         36   11139560  0.000000     7\n",
       "27         36   11139524  0.000000     8\n",
       "28         36   11139194  0.000000     9\n",
       "29         36   11139192  0.000000    10\n",
       "...       ...        ...       ...   ...\n",
       "23470   27755   11141328  0.000000     1\n",
       "23471   27755   11141326  0.000000     2\n",
       "23472   27755   11141324  0.000000     3\n",
       "23473   27755   11141320  0.000000     4\n",
       "23474   27755   11141306  0.000000     5\n",
       "23475   27755   11139650  0.000000     6\n",
       "23476   27755   11139560  0.000000     7\n",
       "23477   27755   11139524  0.000000     8\n",
       "23478   27755   11139194  0.000000     9\n",
       "23479   27755   11139192  0.000000    10\n",
       "23480   27756   11141328  0.000000     1\n",
       "23481   27756   11141326  0.000000     2\n",
       "23482   27756   11141324  0.000000     3\n",
       "23483   27756   11141320  0.000000     4\n",
       "23484   27756   11141306  0.000000     5\n",
       "23485   27756   11139650  0.000000     6\n",
       "23486   27756   11139560  0.000000     7\n",
       "23487   27756   11139524  0.000000     8\n",
       "23488   27756   11139194  0.000000     9\n",
       "23489   27756   11139192  0.000000    10\n",
       "23490   27766   11141328  0.000000     1\n",
       "23491   27766   11141326  0.000000     2\n",
       "23492   27766   11141324  0.000000     3\n",
       "23493   27766   11141320  0.000000     4\n",
       "23494   27766   11141306  0.000000     5\n",
       "23495   27766   11139650  0.000000     6\n",
       "23496   27766   11139560  0.000000     7\n",
       "23497   27766   11139524  0.000000     8\n",
       "23498   27766   11139194  0.000000     9\n",
       "23499   27766   11139192  0.000000    10\n",
       "\n",
       "[23500 rows x 4 columns]"
      ]
     },
     "execution_count": 327,
     "metadata": {},
     "output_type": "execute_result"
    }
   ],
   "source": [
    "df_rec"
   ]
  },
  {
   "cell_type": "code",
   "execution_count": 227,
   "metadata": {},
   "outputs": [],
   "source": [
    "samp = pd.read_csv('/Users/rahulsharma/Teams/Cappilary_Hackathon/sample_submi.csv')"
   ]
  },
  {
   "cell_type": "code",
   "execution_count": 320,
   "metadata": {},
   "outputs": [
    {
     "ename": "NameError",
     "evalue": "name 'test_sub' is not defined",
     "output_type": "error",
     "traceback": [
      "\u001b[0;31m---------------------------------------------------------------------------\u001b[0m",
      "\u001b[0;31mNameError\u001b[0m                                 Traceback (most recent call last)",
      "\u001b[0;32m<ipython-input-320-785fbf20dfbf>\u001b[0m in \u001b[0;36m<module>\u001b[0;34m()\u001b[0m\n\u001b[0;32m----> 1\u001b[0;31m \u001b[0mtest_sub\u001b[0m\u001b[0;34m\u001b[0m\u001b[0m\n\u001b[0m",
      "\u001b[0;31mNameError\u001b[0m: name 'test_sub' is not defined"
     ]
    }
   ],
   "source": [
    "test_sub"
   ]
  },
  {
   "cell_type": "code",
   "execution_count": 238,
   "metadata": {},
   "outputs": [],
   "source": [
    "temp_df_df = temp_rec.groupby('UserId')['productid'].apply(list)"
   ]
  },
  {
   "cell_type": "code",
   "execution_count": null,
   "metadata": {},
   "outputs": [],
   "source": []
  },
  {
   "cell_type": "code",
   "execution_count": 302,
   "metadata": {},
   "outputs": [
    {
     "data": {
      "text/html": [
       "<div>\n",
       "<style scoped>\n",
       "    .dataframe tbody tr th:only-of-type {\n",
       "        vertical-align: middle;\n",
       "    }\n",
       "\n",
       "    .dataframe tbody tr th {\n",
       "        vertical-align: top;\n",
       "    }\n",
       "\n",
       "    .dataframe thead th {\n",
       "        text-align: right;\n",
       "    }\n",
       "</style>\n",
       "<table border=\"1\" class=\"dataframe\">\n",
       "  <thead>\n",
       "    <tr style=\"text-align: right;\">\n",
       "      <th></th>\n",
       "      <th>UserId</th>\n",
       "    </tr>\n",
       "  </thead>\n",
       "  <tbody>\n",
       "    <tr>\n",
       "      <th>0</th>\n",
       "      <td>2</td>\n",
       "    </tr>\n",
       "    <tr>\n",
       "      <th>1</th>\n",
       "      <td>28</td>\n",
       "    </tr>\n",
       "    <tr>\n",
       "      <th>2</th>\n",
       "      <td>36</td>\n",
       "    </tr>\n",
       "    <tr>\n",
       "      <th>3</th>\n",
       "      <td>38</td>\n",
       "    </tr>\n",
       "    <tr>\n",
       "      <th>4</th>\n",
       "      <td>41</td>\n",
       "    </tr>\n",
       "  </tbody>\n",
       "</table>\n",
       "</div>"
      ],
      "text/plain": [
       "   UserId\n",
       "0       2\n",
       "1      28\n",
       "2      36\n",
       "3      38\n",
       "4      41"
      ]
     },
     "execution_count": 302,
     "metadata": {},
     "output_type": "execute_result"
    }
   ],
   "source": [
    "test.head()"
   ]
  },
  {
   "cell_type": "code",
   "execution_count": 284,
   "metadata": {},
   "outputs": [],
   "source": [
    "temp_df_df.to_csv('/Users/rahulsharma/Teams/Cappilary_Hackathon/submi_1.csv')"
   ]
  },
  {
   "cell_type": "code",
   "execution_count": 309,
   "metadata": {},
   "outputs": [],
   "source": [
    "test_submi1 = pd.read_csv('/Users/rahulsharma/Teams/Cappilary_Hackathon/submi_1.csv')"
   ]
  },
  {
   "cell_type": "code",
   "execution_count": 311,
   "metadata": {},
   "outputs": [
    {
     "data": {
      "text/plain": [
       "(2350, 2)"
      ]
     },
     "execution_count": 311,
     "metadata": {},
     "output_type": "execute_result"
    }
   ],
   "source": [
    "test_submi1.shape"
   ]
  },
  {
   "cell_type": "code",
   "execution_count": 312,
   "metadata": {},
   "outputs": [
    {
     "data": {
      "text/plain": [
       "(2350, 1)"
      ]
     },
     "execution_count": 312,
     "metadata": {},
     "output_type": "execute_result"
    }
   ],
   "source": [
    "test.shape"
   ]
  },
  {
   "cell_type": "code",
   "execution_count": 299,
   "metadata": {},
   "outputs": [
    {
     "data": {
      "text/html": [
       "<div>\n",
       "<style scoped>\n",
       "    .dataframe tbody tr th:only-of-type {\n",
       "        vertical-align: middle;\n",
       "    }\n",
       "\n",
       "    .dataframe tbody tr th {\n",
       "        vertical-align: top;\n",
       "    }\n",
       "\n",
       "    .dataframe thead th {\n",
       "        text-align: right;\n",
       "    }\n",
       "</style>\n",
       "<table border=\"1\" class=\"dataframe\">\n",
       "  <thead>\n",
       "    <tr style=\"text-align: right;\">\n",
       "      <th></th>\n",
       "      <th>2</th>\n",
       "      <th>[11141328, 11141326, 11141324, 11141320, 11141306, 11139650, 11139560, 11139524, 11139194, 11139192]</th>\n",
       "    </tr>\n",
       "  </thead>\n",
       "  <tbody>\n",
       "    <tr>\n",
       "      <th>0</th>\n",
       "      <td>28</td>\n",
       "      <td>[11149964, 11148980, 11148920, 11148854, 11145...</td>\n",
       "    </tr>\n",
       "    <tr>\n",
       "      <th>1</th>\n",
       "      <td>36</td>\n",
       "      <td>[11141328, 11141326, 11141324, 11141320, 11141...</td>\n",
       "    </tr>\n",
       "    <tr>\n",
       "      <th>2</th>\n",
       "      <td>38</td>\n",
       "      <td>[11141328, 11141326, 11141324, 11141320, 11141...</td>\n",
       "    </tr>\n",
       "    <tr>\n",
       "      <th>3</th>\n",
       "      <td>41</td>\n",
       "      <td>[11141328, 11141326, 11141324, 11141320, 11141...</td>\n",
       "    </tr>\n",
       "    <tr>\n",
       "      <th>4</th>\n",
       "      <td>52</td>\n",
       "      <td>[11141328, 11141326, 11141324, 11141320, 11141...</td>\n",
       "    </tr>\n",
       "  </tbody>\n",
       "</table>\n",
       "</div>"
      ],
      "text/plain": [
       "    2  \\\n",
       "0  28   \n",
       "1  36   \n",
       "2  38   \n",
       "3  41   \n",
       "4  52   \n",
       "\n",
       "  [11141328, 11141326, 11141324, 11141320, 11141306, 11139650, 11139560, 11139524, 11139194, 11139192]  \n",
       "0  [11149964, 11148980, 11148920, 11148854, 11145...                                                    \n",
       "1  [11141328, 11141326, 11141324, 11141320, 11141...                                                    \n",
       "2  [11141328, 11141326, 11141324, 11141320, 11141...                                                    \n",
       "3  [11141328, 11141326, 11141324, 11141320, 11141...                                                    \n",
       "4  [11141328, 11141326, 11141324, 11141320, 11141...                                                    "
      ]
     },
     "execution_count": 299,
     "metadata": {},
     "output_type": "execute_result"
    }
   ],
   "source": [
    "test_submi1.head()"
   ]
  },
  {
   "cell_type": "code",
   "execution_count": 288,
   "metadata": {},
   "outputs": [
    {
     "data": {
      "text/plain": [
       "(2350, 1)"
      ]
     },
     "execution_count": 288,
     "metadata": {},
     "output_type": "execute_result"
    }
   ],
   "source": [
    "test.shape"
   ]
  },
  {
   "cell_type": "code",
   "execution_count": 260,
   "metadata": {},
   "outputs": [],
   "source": [
    "temp_df_df.to_csv('/Users/rahulsharma/Teams/Cappilary_Hackathon/test_sub.csv', index=False)"
   ]
  },
  {
   "cell_type": "code",
   "execution_count": 261,
   "metadata": {},
   "outputs": [],
   "source": [
    "test_su = pd.read_csv('/Users/rahulsharma/Teams/Cappilary_Hackathon/test_sub.csv')"
   ]
  },
  {
   "cell_type": "code",
   "execution_count": 267,
   "metadata": {},
   "outputs": [],
   "source": [
    "test_su.rename(columns={'[11141328, 11141326, 11141324, 11141320, 11141306, 11139650, 11139560, 11139524, 11139194, 11139192]': 'product_list'}, inplace=True)"
   ]
  },
  {
   "cell_type": "code",
   "execution_count": 269,
   "metadata": {},
   "outputs": [
    {
     "data": {
      "text/html": [
       "<div>\n",
       "<style scoped>\n",
       "    .dataframe tbody tr th:only-of-type {\n",
       "        vertical-align: middle;\n",
       "    }\n",
       "\n",
       "    .dataframe tbody tr th {\n",
       "        vertical-align: top;\n",
       "    }\n",
       "\n",
       "    .dataframe thead th {\n",
       "        text-align: right;\n",
       "    }\n",
       "</style>\n",
       "<table border=\"1\" class=\"dataframe\">\n",
       "  <thead>\n",
       "    <tr style=\"text-align: right;\">\n",
       "      <th></th>\n",
       "      <th>product_list</th>\n",
       "    </tr>\n",
       "  </thead>\n",
       "  <tbody>\n",
       "    <tr>\n",
       "      <th>0</th>\n",
       "      <td>[11149964, 11148980, 11148920, 11148854, 11145...</td>\n",
       "    </tr>\n",
       "    <tr>\n",
       "      <th>1</th>\n",
       "      <td>[11141328, 11141326, 11141324, 11141320, 11141...</td>\n",
       "    </tr>\n",
       "    <tr>\n",
       "      <th>2</th>\n",
       "      <td>[11141328, 11141326, 11141324, 11141320, 11141...</td>\n",
       "    </tr>\n",
       "    <tr>\n",
       "      <th>3</th>\n",
       "      <td>[11141328, 11141326, 11141324, 11141320, 11141...</td>\n",
       "    </tr>\n",
       "    <tr>\n",
       "      <th>4</th>\n",
       "      <td>[11141328, 11141326, 11141324, 11141320, 11141...</td>\n",
       "    </tr>\n",
       "    <tr>\n",
       "      <th>5</th>\n",
       "      <td>[11141328, 11141326, 11141324, 11141320, 11141...</td>\n",
       "    </tr>\n",
       "    <tr>\n",
       "      <th>6</th>\n",
       "      <td>[11141328, 11141326, 11141324, 11141320, 11141...</td>\n",
       "    </tr>\n",
       "    <tr>\n",
       "      <th>7</th>\n",
       "      <td>[11141328, 11141326, 11141324, 11141320, 11141...</td>\n",
       "    </tr>\n",
       "    <tr>\n",
       "      <th>8</th>\n",
       "      <td>[11149964, 11148980, 11148920, 11148854, 11145...</td>\n",
       "    </tr>\n",
       "    <tr>\n",
       "      <th>9</th>\n",
       "      <td>[11149964, 11148980, 11148920, 11148854, 11145...</td>\n",
       "    </tr>\n",
       "    <tr>\n",
       "      <th>10</th>\n",
       "      <td>[11141328, 11141326, 11141324, 11141320, 11141...</td>\n",
       "    </tr>\n",
       "    <tr>\n",
       "      <th>11</th>\n",
       "      <td>[11141328, 11141326, 11141324, 11141320, 11141...</td>\n",
       "    </tr>\n",
       "    <tr>\n",
       "      <th>12</th>\n",
       "      <td>[11141328, 11141326, 11141324, 11141320, 11141...</td>\n",
       "    </tr>\n",
       "    <tr>\n",
       "      <th>13</th>\n",
       "      <td>[11141328, 11141326, 11141324, 11141320, 11141...</td>\n",
       "    </tr>\n",
       "    <tr>\n",
       "      <th>14</th>\n",
       "      <td>[11141328, 11141326, 11141324, 11141320, 11141...</td>\n",
       "    </tr>\n",
       "    <tr>\n",
       "      <th>15</th>\n",
       "      <td>[11141328, 11141326, 11141324, 11141320, 11141...</td>\n",
       "    </tr>\n",
       "    <tr>\n",
       "      <th>16</th>\n",
       "      <td>[12658428, 13038866, 13038956, 11659050, 11659...</td>\n",
       "    </tr>\n",
       "    <tr>\n",
       "      <th>17</th>\n",
       "      <td>[11149964, 11148980, 11148920, 11148854, 11145...</td>\n",
       "    </tr>\n",
       "    <tr>\n",
       "      <th>18</th>\n",
       "      <td>[11141328, 11141326, 11141324, 11141320, 11141...</td>\n",
       "    </tr>\n",
       "    <tr>\n",
       "      <th>19</th>\n",
       "      <td>[11141328, 11141326, 11141324, 11141320, 11141...</td>\n",
       "    </tr>\n",
       "    <tr>\n",
       "      <th>20</th>\n",
       "      <td>[11141328, 11141326, 11141324, 11141320, 11141...</td>\n",
       "    </tr>\n",
       "    <tr>\n",
       "      <th>21</th>\n",
       "      <td>[11141328, 11141326, 11141324, 11141320, 11141...</td>\n",
       "    </tr>\n",
       "    <tr>\n",
       "      <th>22</th>\n",
       "      <td>[11360886, 11481072, 13038922, 11659420, 13038...</td>\n",
       "    </tr>\n",
       "    <tr>\n",
       "      <th>23</th>\n",
       "      <td>[11245920, 11150120, 11141346, 11237222, 11237...</td>\n",
       "    </tr>\n",
       "    <tr>\n",
       "      <th>24</th>\n",
       "      <td>[11141328, 11141326, 11141324, 11141320, 11141...</td>\n",
       "    </tr>\n",
       "    <tr>\n",
       "      <th>25</th>\n",
       "      <td>[11141328, 11141326, 11141324, 11141320, 11141...</td>\n",
       "    </tr>\n",
       "    <tr>\n",
       "      <th>26</th>\n",
       "      <td>[11141328, 11141326, 11141324, 11141320, 11141...</td>\n",
       "    </tr>\n",
       "    <tr>\n",
       "      <th>27</th>\n",
       "      <td>[11149964, 11148980, 11148920, 11148854, 11145...</td>\n",
       "    </tr>\n",
       "    <tr>\n",
       "      <th>28</th>\n",
       "      <td>[11141328, 11141326, 11141324, 11141320, 11141...</td>\n",
       "    </tr>\n",
       "    <tr>\n",
       "      <th>29</th>\n",
       "      <td>[11150120, 11149964, 11148980, 11148920, 11148...</td>\n",
       "    </tr>\n",
       "    <tr>\n",
       "      <th>...</th>\n",
       "      <td>...</td>\n",
       "    </tr>\n",
       "    <tr>\n",
       "      <th>2319</th>\n",
       "      <td>[11141328, 11141326, 11141324, 11141320, 11141...</td>\n",
       "    </tr>\n",
       "    <tr>\n",
       "      <th>2320</th>\n",
       "      <td>[11149964, 11148980, 11148920, 11148854, 11145...</td>\n",
       "    </tr>\n",
       "    <tr>\n",
       "      <th>2321</th>\n",
       "      <td>[11141328, 11141326, 11141324, 11141320, 11141...</td>\n",
       "    </tr>\n",
       "    <tr>\n",
       "      <th>2322</th>\n",
       "      <td>[11141328, 11141326, 11141324, 11141320, 11141...</td>\n",
       "    </tr>\n",
       "    <tr>\n",
       "      <th>2323</th>\n",
       "      <td>[11141328, 11141326, 11141324, 11141320, 11141...</td>\n",
       "    </tr>\n",
       "    <tr>\n",
       "      <th>2324</th>\n",
       "      <td>[11141328, 11141326, 11141324, 11141320, 11141...</td>\n",
       "    </tr>\n",
       "    <tr>\n",
       "      <th>2325</th>\n",
       "      <td>[13653564, 12658192, 12657374, 12657686, 12658...</td>\n",
       "    </tr>\n",
       "    <tr>\n",
       "      <th>2326</th>\n",
       "      <td>[11141328, 11141326, 11141324, 11141320, 11141...</td>\n",
       "    </tr>\n",
       "    <tr>\n",
       "      <th>2327</th>\n",
       "      <td>[11141328, 11141326, 11141324, 11141320, 11141...</td>\n",
       "    </tr>\n",
       "    <tr>\n",
       "      <th>2328</th>\n",
       "      <td>[11141328, 11141326, 11141324, 11141320, 11141...</td>\n",
       "    </tr>\n",
       "    <tr>\n",
       "      <th>2329</th>\n",
       "      <td>[11141328, 11141326, 11141324, 11141320, 11141...</td>\n",
       "    </tr>\n",
       "    <tr>\n",
       "      <th>2330</th>\n",
       "      <td>[11141328, 11141326, 11141324, 11141320, 11141...</td>\n",
       "    </tr>\n",
       "    <tr>\n",
       "      <th>2331</th>\n",
       "      <td>[11141328, 11141326, 11141324, 11141320, 11141...</td>\n",
       "    </tr>\n",
       "    <tr>\n",
       "      <th>2332</th>\n",
       "      <td>[11141328, 11141326, 11141324, 11141320, 11141...</td>\n",
       "    </tr>\n",
       "    <tr>\n",
       "      <th>2333</th>\n",
       "      <td>[11149964, 11148980, 11148920, 11148854, 11145...</td>\n",
       "    </tr>\n",
       "    <tr>\n",
       "      <th>2334</th>\n",
       "      <td>[11141328, 11141326, 11141324, 11141320, 11141...</td>\n",
       "    </tr>\n",
       "    <tr>\n",
       "      <th>2335</th>\n",
       "      <td>[11149964, 11148980, 11148920, 11148854, 11145...</td>\n",
       "    </tr>\n",
       "    <tr>\n",
       "      <th>2336</th>\n",
       "      <td>[11141328, 11141326, 11141324, 11141320, 11141...</td>\n",
       "    </tr>\n",
       "    <tr>\n",
       "      <th>2337</th>\n",
       "      <td>[11141328, 11141326, 11141324, 11141320, 11141...</td>\n",
       "    </tr>\n",
       "    <tr>\n",
       "      <th>2338</th>\n",
       "      <td>[11141328, 11141326, 11141324, 11141320, 11141...</td>\n",
       "    </tr>\n",
       "    <tr>\n",
       "      <th>2339</th>\n",
       "      <td>[11149964, 11148980, 11148920, 11148854, 11145...</td>\n",
       "    </tr>\n",
       "    <tr>\n",
       "      <th>2340</th>\n",
       "      <td>[11141330, 11141328, 11141326, 11141324, 11141...</td>\n",
       "    </tr>\n",
       "    <tr>\n",
       "      <th>2341</th>\n",
       "      <td>[11141328, 11141326, 11141324, 11141320, 11141...</td>\n",
       "    </tr>\n",
       "    <tr>\n",
       "      <th>2342</th>\n",
       "      <td>[11141328, 11141326, 11141324, 11141320, 11141...</td>\n",
       "    </tr>\n",
       "    <tr>\n",
       "      <th>2343</th>\n",
       "      <td>[11237116, 11150120, 11149964, 11148980, 11148...</td>\n",
       "    </tr>\n",
       "    <tr>\n",
       "      <th>2344</th>\n",
       "      <td>[11141328, 11141326, 11141324, 11141320, 11141...</td>\n",
       "    </tr>\n",
       "    <tr>\n",
       "      <th>2345</th>\n",
       "      <td>[11237116, 11150120, 11149964, 11148980, 11148...</td>\n",
       "    </tr>\n",
       "    <tr>\n",
       "      <th>2346</th>\n",
       "      <td>[11141328, 11141326, 11141324, 11141320, 11141...</td>\n",
       "    </tr>\n",
       "    <tr>\n",
       "      <th>2347</th>\n",
       "      <td>[11141328, 11141326, 11141324, 11141320, 11141...</td>\n",
       "    </tr>\n",
       "    <tr>\n",
       "      <th>2348</th>\n",
       "      <td>[11141328, 11141326, 11141324, 11141320, 11141...</td>\n",
       "    </tr>\n",
       "  </tbody>\n",
       "</table>\n",
       "<p>2349 rows × 1 columns</p>\n",
       "</div>"
      ],
      "text/plain": [
       "                                           product_list\n",
       "0     [11149964, 11148980, 11148920, 11148854, 11145...\n",
       "1     [11141328, 11141326, 11141324, 11141320, 11141...\n",
       "2     [11141328, 11141326, 11141324, 11141320, 11141...\n",
       "3     [11141328, 11141326, 11141324, 11141320, 11141...\n",
       "4     [11141328, 11141326, 11141324, 11141320, 11141...\n",
       "5     [11141328, 11141326, 11141324, 11141320, 11141...\n",
       "6     [11141328, 11141326, 11141324, 11141320, 11141...\n",
       "7     [11141328, 11141326, 11141324, 11141320, 11141...\n",
       "8     [11149964, 11148980, 11148920, 11148854, 11145...\n",
       "9     [11149964, 11148980, 11148920, 11148854, 11145...\n",
       "10    [11141328, 11141326, 11141324, 11141320, 11141...\n",
       "11    [11141328, 11141326, 11141324, 11141320, 11141...\n",
       "12    [11141328, 11141326, 11141324, 11141320, 11141...\n",
       "13    [11141328, 11141326, 11141324, 11141320, 11141...\n",
       "14    [11141328, 11141326, 11141324, 11141320, 11141...\n",
       "15    [11141328, 11141326, 11141324, 11141320, 11141...\n",
       "16    [12658428, 13038866, 13038956, 11659050, 11659...\n",
       "17    [11149964, 11148980, 11148920, 11148854, 11145...\n",
       "18    [11141328, 11141326, 11141324, 11141320, 11141...\n",
       "19    [11141328, 11141326, 11141324, 11141320, 11141...\n",
       "20    [11141328, 11141326, 11141324, 11141320, 11141...\n",
       "21    [11141328, 11141326, 11141324, 11141320, 11141...\n",
       "22    [11360886, 11481072, 13038922, 11659420, 13038...\n",
       "23    [11245920, 11150120, 11141346, 11237222, 11237...\n",
       "24    [11141328, 11141326, 11141324, 11141320, 11141...\n",
       "25    [11141328, 11141326, 11141324, 11141320, 11141...\n",
       "26    [11141328, 11141326, 11141324, 11141320, 11141...\n",
       "27    [11149964, 11148980, 11148920, 11148854, 11145...\n",
       "28    [11141328, 11141326, 11141324, 11141320, 11141...\n",
       "29    [11150120, 11149964, 11148980, 11148920, 11148...\n",
       "...                                                 ...\n",
       "2319  [11141328, 11141326, 11141324, 11141320, 11141...\n",
       "2320  [11149964, 11148980, 11148920, 11148854, 11145...\n",
       "2321  [11141328, 11141326, 11141324, 11141320, 11141...\n",
       "2322  [11141328, 11141326, 11141324, 11141320, 11141...\n",
       "2323  [11141328, 11141326, 11141324, 11141320, 11141...\n",
       "2324  [11141328, 11141326, 11141324, 11141320, 11141...\n",
       "2325  [13653564, 12658192, 12657374, 12657686, 12658...\n",
       "2326  [11141328, 11141326, 11141324, 11141320, 11141...\n",
       "2327  [11141328, 11141326, 11141324, 11141320, 11141...\n",
       "2328  [11141328, 11141326, 11141324, 11141320, 11141...\n",
       "2329  [11141328, 11141326, 11141324, 11141320, 11141...\n",
       "2330  [11141328, 11141326, 11141324, 11141320, 11141...\n",
       "2331  [11141328, 11141326, 11141324, 11141320, 11141...\n",
       "2332  [11141328, 11141326, 11141324, 11141320, 11141...\n",
       "2333  [11149964, 11148980, 11148920, 11148854, 11145...\n",
       "2334  [11141328, 11141326, 11141324, 11141320, 11141...\n",
       "2335  [11149964, 11148980, 11148920, 11148854, 11145...\n",
       "2336  [11141328, 11141326, 11141324, 11141320, 11141...\n",
       "2337  [11141328, 11141326, 11141324, 11141320, 11141...\n",
       "2338  [11141328, 11141326, 11141324, 11141320, 11141...\n",
       "2339  [11149964, 11148980, 11148920, 11148854, 11145...\n",
       "2340  [11141330, 11141328, 11141326, 11141324, 11141...\n",
       "2341  [11141328, 11141326, 11141324, 11141320, 11141...\n",
       "2342  [11141328, 11141326, 11141324, 11141320, 11141...\n",
       "2343  [11237116, 11150120, 11149964, 11148980, 11148...\n",
       "2344  [11141328, 11141326, 11141324, 11141320, 11141...\n",
       "2345  [11237116, 11150120, 11149964, 11148980, 11148...\n",
       "2346  [11141328, 11141326, 11141324, 11141320, 11141...\n",
       "2347  [11141328, 11141326, 11141324, 11141320, 11141...\n",
       "2348  [11141328, 11141326, 11141324, 11141320, 11141...\n",
       "\n",
       "[2349 rows x 1 columns]"
      ]
     },
     "execution_count": 269,
     "metadata": {},
     "output_type": "execute_result"
    }
   ],
   "source": [
    "test_su"
   ]
  },
  {
   "cell_type": "code",
   "execution_count": 271,
   "metadata": {},
   "outputs": [],
   "source": [
    "test_temp['product_list'] = test_su['product_list']"
   ]
  },
  {
   "cell_type": "code",
   "execution_count": 272,
   "metadata": {},
   "outputs": [
    {
     "data": {
      "text/html": [
       "<div>\n",
       "<style scoped>\n",
       "    .dataframe tbody tr th:only-of-type {\n",
       "        vertical-align: middle;\n",
       "    }\n",
       "\n",
       "    .dataframe tbody tr th {\n",
       "        vertical-align: top;\n",
       "    }\n",
       "\n",
       "    .dataframe thead th {\n",
       "        text-align: right;\n",
       "    }\n",
       "</style>\n",
       "<table border=\"1\" class=\"dataframe\">\n",
       "  <thead>\n",
       "    <tr style=\"text-align: right;\">\n",
       "      <th></th>\n",
       "      <th>UserId</th>\n",
       "      <th>product_list</th>\n",
       "    </tr>\n",
       "  </thead>\n",
       "  <tbody>\n",
       "    <tr>\n",
       "      <th>0</th>\n",
       "      <td>2</td>\n",
       "      <td>[11149964, 11148980, 11148920, 11148854, 11145...</td>\n",
       "    </tr>\n",
       "    <tr>\n",
       "      <th>1</th>\n",
       "      <td>28</td>\n",
       "      <td>[11141328, 11141326, 11141324, 11141320, 11141...</td>\n",
       "    </tr>\n",
       "    <tr>\n",
       "      <th>2</th>\n",
       "      <td>36</td>\n",
       "      <td>[11141328, 11141326, 11141324, 11141320, 11141...</td>\n",
       "    </tr>\n",
       "    <tr>\n",
       "      <th>3</th>\n",
       "      <td>38</td>\n",
       "      <td>[11141328, 11141326, 11141324, 11141320, 11141...</td>\n",
       "    </tr>\n",
       "    <tr>\n",
       "      <th>4</th>\n",
       "      <td>41</td>\n",
       "      <td>[11141328, 11141326, 11141324, 11141320, 11141...</td>\n",
       "    </tr>\n",
       "    <tr>\n",
       "      <th>5</th>\n",
       "      <td>52</td>\n",
       "      <td>[11141328, 11141326, 11141324, 11141320, 11141...</td>\n",
       "    </tr>\n",
       "    <tr>\n",
       "      <th>6</th>\n",
       "      <td>67</td>\n",
       "      <td>[11141328, 11141326, 11141324, 11141320, 11141...</td>\n",
       "    </tr>\n",
       "    <tr>\n",
       "      <th>7</th>\n",
       "      <td>69</td>\n",
       "      <td>[11141328, 11141326, 11141324, 11141320, 11141...</td>\n",
       "    </tr>\n",
       "    <tr>\n",
       "      <th>8</th>\n",
       "      <td>80</td>\n",
       "      <td>[11149964, 11148980, 11148920, 11148854, 11145...</td>\n",
       "    </tr>\n",
       "    <tr>\n",
       "      <th>9</th>\n",
       "      <td>97</td>\n",
       "      <td>[11149964, 11148980, 11148920, 11148854, 11145...</td>\n",
       "    </tr>\n",
       "    <tr>\n",
       "      <th>10</th>\n",
       "      <td>100</td>\n",
       "      <td>[11141328, 11141326, 11141324, 11141320, 11141...</td>\n",
       "    </tr>\n",
       "    <tr>\n",
       "      <th>11</th>\n",
       "      <td>102</td>\n",
       "      <td>[11141328, 11141326, 11141324, 11141320, 11141...</td>\n",
       "    </tr>\n",
       "    <tr>\n",
       "      <th>12</th>\n",
       "      <td>137</td>\n",
       "      <td>[11141328, 11141326, 11141324, 11141320, 11141...</td>\n",
       "    </tr>\n",
       "    <tr>\n",
       "      <th>13</th>\n",
       "      <td>142</td>\n",
       "      <td>[11141328, 11141326, 11141324, 11141320, 11141...</td>\n",
       "    </tr>\n",
       "    <tr>\n",
       "      <th>14</th>\n",
       "      <td>159</td>\n",
       "      <td>[11141328, 11141326, 11141324, 11141320, 11141...</td>\n",
       "    </tr>\n",
       "    <tr>\n",
       "      <th>15</th>\n",
       "      <td>161</td>\n",
       "      <td>[11141328, 11141326, 11141324, 11141320, 11141...</td>\n",
       "    </tr>\n",
       "    <tr>\n",
       "      <th>16</th>\n",
       "      <td>208</td>\n",
       "      <td>[12658428, 13038866, 13038956, 11659050, 11659...</td>\n",
       "    </tr>\n",
       "    <tr>\n",
       "      <th>17</th>\n",
       "      <td>224</td>\n",
       "      <td>[11149964, 11148980, 11148920, 11148854, 11145...</td>\n",
       "    </tr>\n",
       "    <tr>\n",
       "      <th>18</th>\n",
       "      <td>238</td>\n",
       "      <td>[11141328, 11141326, 11141324, 11141320, 11141...</td>\n",
       "    </tr>\n",
       "    <tr>\n",
       "      <th>19</th>\n",
       "      <td>244</td>\n",
       "      <td>[11141328, 11141326, 11141324, 11141320, 11141...</td>\n",
       "    </tr>\n",
       "    <tr>\n",
       "      <th>20</th>\n",
       "      <td>247</td>\n",
       "      <td>[11141328, 11141326, 11141324, 11141320, 11141...</td>\n",
       "    </tr>\n",
       "    <tr>\n",
       "      <th>21</th>\n",
       "      <td>284</td>\n",
       "      <td>[11141328, 11141326, 11141324, 11141320, 11141...</td>\n",
       "    </tr>\n",
       "    <tr>\n",
       "      <th>22</th>\n",
       "      <td>299</td>\n",
       "      <td>[11360886, 11481072, 13038922, 11659420, 13038...</td>\n",
       "    </tr>\n",
       "    <tr>\n",
       "      <th>23</th>\n",
       "      <td>322</td>\n",
       "      <td>[11245920, 11150120, 11141346, 11237222, 11237...</td>\n",
       "    </tr>\n",
       "    <tr>\n",
       "      <th>24</th>\n",
       "      <td>348</td>\n",
       "      <td>[11141328, 11141326, 11141324, 11141320, 11141...</td>\n",
       "    </tr>\n",
       "    <tr>\n",
       "      <th>25</th>\n",
       "      <td>360</td>\n",
       "      <td>[11141328, 11141326, 11141324, 11141320, 11141...</td>\n",
       "    </tr>\n",
       "    <tr>\n",
       "      <th>26</th>\n",
       "      <td>377</td>\n",
       "      <td>[11141328, 11141326, 11141324, 11141320, 11141...</td>\n",
       "    </tr>\n",
       "    <tr>\n",
       "      <th>27</th>\n",
       "      <td>378</td>\n",
       "      <td>[11149964, 11148980, 11148920, 11148854, 11145...</td>\n",
       "    </tr>\n",
       "    <tr>\n",
       "      <th>28</th>\n",
       "      <td>382</td>\n",
       "      <td>[11141328, 11141326, 11141324, 11141320, 11141...</td>\n",
       "    </tr>\n",
       "    <tr>\n",
       "      <th>29</th>\n",
       "      <td>402</td>\n",
       "      <td>[11150120, 11149964, 11148980, 11148920, 11148...</td>\n",
       "    </tr>\n",
       "    <tr>\n",
       "      <th>...</th>\n",
       "      <td>...</td>\n",
       "      <td>...</td>\n",
       "    </tr>\n",
       "    <tr>\n",
       "      <th>2320</th>\n",
       "      <td>27439</td>\n",
       "      <td>[11149964, 11148980, 11148920, 11148854, 11145...</td>\n",
       "    </tr>\n",
       "    <tr>\n",
       "      <th>2321</th>\n",
       "      <td>27464</td>\n",
       "      <td>[11141328, 11141326, 11141324, 11141320, 11141...</td>\n",
       "    </tr>\n",
       "    <tr>\n",
       "      <th>2322</th>\n",
       "      <td>27485</td>\n",
       "      <td>[11141328, 11141326, 11141324, 11141320, 11141...</td>\n",
       "    </tr>\n",
       "    <tr>\n",
       "      <th>2323</th>\n",
       "      <td>27498</td>\n",
       "      <td>[11141328, 11141326, 11141324, 11141320, 11141...</td>\n",
       "    </tr>\n",
       "    <tr>\n",
       "      <th>2324</th>\n",
       "      <td>27502</td>\n",
       "      <td>[11141328, 11141326, 11141324, 11141320, 11141...</td>\n",
       "    </tr>\n",
       "    <tr>\n",
       "      <th>2325</th>\n",
       "      <td>27507</td>\n",
       "      <td>[13653564, 12658192, 12657374, 12657686, 12658...</td>\n",
       "    </tr>\n",
       "    <tr>\n",
       "      <th>2326</th>\n",
       "      <td>27509</td>\n",
       "      <td>[11141328, 11141326, 11141324, 11141320, 11141...</td>\n",
       "    </tr>\n",
       "    <tr>\n",
       "      <th>2327</th>\n",
       "      <td>27523</td>\n",
       "      <td>[11141328, 11141326, 11141324, 11141320, 11141...</td>\n",
       "    </tr>\n",
       "    <tr>\n",
       "      <th>2328</th>\n",
       "      <td>27560</td>\n",
       "      <td>[11141328, 11141326, 11141324, 11141320, 11141...</td>\n",
       "    </tr>\n",
       "    <tr>\n",
       "      <th>2329</th>\n",
       "      <td>27562</td>\n",
       "      <td>[11141328, 11141326, 11141324, 11141320, 11141...</td>\n",
       "    </tr>\n",
       "    <tr>\n",
       "      <th>2330</th>\n",
       "      <td>27573</td>\n",
       "      <td>[11141328, 11141326, 11141324, 11141320, 11141...</td>\n",
       "    </tr>\n",
       "    <tr>\n",
       "      <th>2331</th>\n",
       "      <td>27577</td>\n",
       "      <td>[11141328, 11141326, 11141324, 11141320, 11141...</td>\n",
       "    </tr>\n",
       "    <tr>\n",
       "      <th>2332</th>\n",
       "      <td>27578</td>\n",
       "      <td>[11141328, 11141326, 11141324, 11141320, 11141...</td>\n",
       "    </tr>\n",
       "    <tr>\n",
       "      <th>2333</th>\n",
       "      <td>27580</td>\n",
       "      <td>[11149964, 11148980, 11148920, 11148854, 11145...</td>\n",
       "    </tr>\n",
       "    <tr>\n",
       "      <th>2334</th>\n",
       "      <td>27598</td>\n",
       "      <td>[11141328, 11141326, 11141324, 11141320, 11141...</td>\n",
       "    </tr>\n",
       "    <tr>\n",
       "      <th>2335</th>\n",
       "      <td>27623</td>\n",
       "      <td>[11149964, 11148980, 11148920, 11148854, 11145...</td>\n",
       "    </tr>\n",
       "    <tr>\n",
       "      <th>2336</th>\n",
       "      <td>27639</td>\n",
       "      <td>[11141328, 11141326, 11141324, 11141320, 11141...</td>\n",
       "    </tr>\n",
       "    <tr>\n",
       "      <th>2337</th>\n",
       "      <td>27664</td>\n",
       "      <td>[11141328, 11141326, 11141324, 11141320, 11141...</td>\n",
       "    </tr>\n",
       "    <tr>\n",
       "      <th>2338</th>\n",
       "      <td>27685</td>\n",
       "      <td>[11141328, 11141326, 11141324, 11141320, 11141...</td>\n",
       "    </tr>\n",
       "    <tr>\n",
       "      <th>2339</th>\n",
       "      <td>27688</td>\n",
       "      <td>[11149964, 11148980, 11148920, 11148854, 11145...</td>\n",
       "    </tr>\n",
       "    <tr>\n",
       "      <th>2340</th>\n",
       "      <td>27692</td>\n",
       "      <td>[11141330, 11141328, 11141326, 11141324, 11141...</td>\n",
       "    </tr>\n",
       "    <tr>\n",
       "      <th>2341</th>\n",
       "      <td>27701</td>\n",
       "      <td>[11141328, 11141326, 11141324, 11141320, 11141...</td>\n",
       "    </tr>\n",
       "    <tr>\n",
       "      <th>2342</th>\n",
       "      <td>27705</td>\n",
       "      <td>[11141328, 11141326, 11141324, 11141320, 11141...</td>\n",
       "    </tr>\n",
       "    <tr>\n",
       "      <th>2343</th>\n",
       "      <td>27715</td>\n",
       "      <td>[11237116, 11150120, 11149964, 11148980, 11148...</td>\n",
       "    </tr>\n",
       "    <tr>\n",
       "      <th>2344</th>\n",
       "      <td>27725</td>\n",
       "      <td>[11141328, 11141326, 11141324, 11141320, 11141...</td>\n",
       "    </tr>\n",
       "    <tr>\n",
       "      <th>2345</th>\n",
       "      <td>27727</td>\n",
       "      <td>[11237116, 11150120, 11149964, 11148980, 11148...</td>\n",
       "    </tr>\n",
       "    <tr>\n",
       "      <th>2346</th>\n",
       "      <td>27731</td>\n",
       "      <td>[11141328, 11141326, 11141324, 11141320, 11141...</td>\n",
       "    </tr>\n",
       "    <tr>\n",
       "      <th>2347</th>\n",
       "      <td>27755</td>\n",
       "      <td>[11141328, 11141326, 11141324, 11141320, 11141...</td>\n",
       "    </tr>\n",
       "    <tr>\n",
       "      <th>2348</th>\n",
       "      <td>27756</td>\n",
       "      <td>[11141328, 11141326, 11141324, 11141320, 11141...</td>\n",
       "    </tr>\n",
       "    <tr>\n",
       "      <th>2349</th>\n",
       "      <td>27766</td>\n",
       "      <td>NaN</td>\n",
       "    </tr>\n",
       "  </tbody>\n",
       "</table>\n",
       "<p>2350 rows × 2 columns</p>\n",
       "</div>"
      ],
      "text/plain": [
       "      UserId                                       product_list\n",
       "0          2  [11149964, 11148980, 11148920, 11148854, 11145...\n",
       "1         28  [11141328, 11141326, 11141324, 11141320, 11141...\n",
       "2         36  [11141328, 11141326, 11141324, 11141320, 11141...\n",
       "3         38  [11141328, 11141326, 11141324, 11141320, 11141...\n",
       "4         41  [11141328, 11141326, 11141324, 11141320, 11141...\n",
       "5         52  [11141328, 11141326, 11141324, 11141320, 11141...\n",
       "6         67  [11141328, 11141326, 11141324, 11141320, 11141...\n",
       "7         69  [11141328, 11141326, 11141324, 11141320, 11141...\n",
       "8         80  [11149964, 11148980, 11148920, 11148854, 11145...\n",
       "9         97  [11149964, 11148980, 11148920, 11148854, 11145...\n",
       "10       100  [11141328, 11141326, 11141324, 11141320, 11141...\n",
       "11       102  [11141328, 11141326, 11141324, 11141320, 11141...\n",
       "12       137  [11141328, 11141326, 11141324, 11141320, 11141...\n",
       "13       142  [11141328, 11141326, 11141324, 11141320, 11141...\n",
       "14       159  [11141328, 11141326, 11141324, 11141320, 11141...\n",
       "15       161  [11141328, 11141326, 11141324, 11141320, 11141...\n",
       "16       208  [12658428, 13038866, 13038956, 11659050, 11659...\n",
       "17       224  [11149964, 11148980, 11148920, 11148854, 11145...\n",
       "18       238  [11141328, 11141326, 11141324, 11141320, 11141...\n",
       "19       244  [11141328, 11141326, 11141324, 11141320, 11141...\n",
       "20       247  [11141328, 11141326, 11141324, 11141320, 11141...\n",
       "21       284  [11141328, 11141326, 11141324, 11141320, 11141...\n",
       "22       299  [11360886, 11481072, 13038922, 11659420, 13038...\n",
       "23       322  [11245920, 11150120, 11141346, 11237222, 11237...\n",
       "24       348  [11141328, 11141326, 11141324, 11141320, 11141...\n",
       "25       360  [11141328, 11141326, 11141324, 11141320, 11141...\n",
       "26       377  [11141328, 11141326, 11141324, 11141320, 11141...\n",
       "27       378  [11149964, 11148980, 11148920, 11148854, 11145...\n",
       "28       382  [11141328, 11141326, 11141324, 11141320, 11141...\n",
       "29       402  [11150120, 11149964, 11148980, 11148920, 11148...\n",
       "...      ...                                                ...\n",
       "2320   27439  [11149964, 11148980, 11148920, 11148854, 11145...\n",
       "2321   27464  [11141328, 11141326, 11141324, 11141320, 11141...\n",
       "2322   27485  [11141328, 11141326, 11141324, 11141320, 11141...\n",
       "2323   27498  [11141328, 11141326, 11141324, 11141320, 11141...\n",
       "2324   27502  [11141328, 11141326, 11141324, 11141320, 11141...\n",
       "2325   27507  [13653564, 12658192, 12657374, 12657686, 12658...\n",
       "2326   27509  [11141328, 11141326, 11141324, 11141320, 11141...\n",
       "2327   27523  [11141328, 11141326, 11141324, 11141320, 11141...\n",
       "2328   27560  [11141328, 11141326, 11141324, 11141320, 11141...\n",
       "2329   27562  [11141328, 11141326, 11141324, 11141320, 11141...\n",
       "2330   27573  [11141328, 11141326, 11141324, 11141320, 11141...\n",
       "2331   27577  [11141328, 11141326, 11141324, 11141320, 11141...\n",
       "2332   27578  [11141328, 11141326, 11141324, 11141320, 11141...\n",
       "2333   27580  [11149964, 11148980, 11148920, 11148854, 11145...\n",
       "2334   27598  [11141328, 11141326, 11141324, 11141320, 11141...\n",
       "2335   27623  [11149964, 11148980, 11148920, 11148854, 11145...\n",
       "2336   27639  [11141328, 11141326, 11141324, 11141320, 11141...\n",
       "2337   27664  [11141328, 11141326, 11141324, 11141320, 11141...\n",
       "2338   27685  [11141328, 11141326, 11141324, 11141320, 11141...\n",
       "2339   27688  [11149964, 11148980, 11148920, 11148854, 11145...\n",
       "2340   27692  [11141330, 11141328, 11141326, 11141324, 11141...\n",
       "2341   27701  [11141328, 11141326, 11141324, 11141320, 11141...\n",
       "2342   27705  [11141328, 11141326, 11141324, 11141320, 11141...\n",
       "2343   27715  [11237116, 11150120, 11149964, 11148980, 11148...\n",
       "2344   27725  [11141328, 11141326, 11141324, 11141320, 11141...\n",
       "2345   27727  [11237116, 11150120, 11149964, 11148980, 11148...\n",
       "2346   27731  [11141328, 11141326, 11141324, 11141320, 11141...\n",
       "2347   27755  [11141328, 11141326, 11141324, 11141320, 11141...\n",
       "2348   27756  [11141328, 11141326, 11141324, 11141320, 11141...\n",
       "2349   27766                                                NaN\n",
       "\n",
       "[2350 rows x 2 columns]"
      ]
     },
     "execution_count": 272,
     "metadata": {},
     "output_type": "execute_result"
    }
   ],
   "source": [
    "test_temp"
   ]
  },
  {
   "cell_type": "code",
   "execution_count": 275,
   "metadata": {},
   "outputs": [],
   "source": [
    "test_temp.to_csv('/Users/rahulsharma/Teams/Cappilary_Hackathon/submi_2.csv', index=False)"
   ]
  },
  {
   "cell_type": "code",
   "execution_count": 278,
   "metadata": {},
   "outputs": [],
   "source": [
    "samp.to_csv('/Users/rahulsharma/Teams/Cappilary_Hackathon/submi_3.csv')"
   ]
  },
  {
   "cell_type": "code",
   "execution_count": 279,
   "metadata": {},
   "outputs": [],
   "source": [
    "samp_1 = pd.read_csv('/Users/rahulsharma/Teams/Cappilary_Hackathon/sample_submi.csv')"
   ]
  },
  {
   "cell_type": "code",
   "execution_count": 280,
   "metadata": {},
   "outputs": [
    {
     "data": {
      "text/html": [
       "<div>\n",
       "<style scoped>\n",
       "    .dataframe tbody tr th:only-of-type {\n",
       "        vertical-align: middle;\n",
       "    }\n",
       "\n",
       "    .dataframe tbody tr th {\n",
       "        vertical-align: top;\n",
       "    }\n",
       "\n",
       "    .dataframe thead th {\n",
       "        text-align: right;\n",
       "    }\n",
       "</style>\n",
       "<table border=\"1\" class=\"dataframe\">\n",
       "  <thead>\n",
       "    <tr style=\"text-align: right;\">\n",
       "      <th></th>\n",
       "      <th>UserId</th>\n",
       "      <th>product_list</th>\n",
       "    </tr>\n",
       "  </thead>\n",
       "  <tbody>\n",
       "    <tr>\n",
       "      <th>0</th>\n",
       "      <td>2</td>\n",
       "      <td>[12658382, 12658382, 12658382, 12658382, 12658...</td>\n",
       "    </tr>\n",
       "    <tr>\n",
       "      <th>1</th>\n",
       "      <td>28</td>\n",
       "      <td>[12658382, 12658382, 12658382, 12658382, 12658...</td>\n",
       "    </tr>\n",
       "    <tr>\n",
       "      <th>2</th>\n",
       "      <td>36</td>\n",
       "      <td>[12658382, 12658382, 12658382, 12658382, 12658...</td>\n",
       "    </tr>\n",
       "    <tr>\n",
       "      <th>3</th>\n",
       "      <td>38</td>\n",
       "      <td>[12658382, 12658382, 12658382, 12658382, 12658...</td>\n",
       "    </tr>\n",
       "    <tr>\n",
       "      <th>4</th>\n",
       "      <td>41</td>\n",
       "      <td>[12658382, 12658382, 12658382, 12658382, 12658...</td>\n",
       "    </tr>\n",
       "    <tr>\n",
       "      <th>5</th>\n",
       "      <td>52</td>\n",
       "      <td>[12658382, 12658382, 12658382, 12658382, 12658...</td>\n",
       "    </tr>\n",
       "    <tr>\n",
       "      <th>6</th>\n",
       "      <td>67</td>\n",
       "      <td>[12658382, 12658382, 12658382, 12658382, 12658...</td>\n",
       "    </tr>\n",
       "    <tr>\n",
       "      <th>7</th>\n",
       "      <td>69</td>\n",
       "      <td>[12658382, 12658382, 12658382, 12658382, 12658...</td>\n",
       "    </tr>\n",
       "    <tr>\n",
       "      <th>8</th>\n",
       "      <td>80</td>\n",
       "      <td>[12658382, 12658382, 12658382, 12658382, 12658...</td>\n",
       "    </tr>\n",
       "    <tr>\n",
       "      <th>9</th>\n",
       "      <td>97</td>\n",
       "      <td>[12658382, 12658382, 12658382, 12658382, 12658...</td>\n",
       "    </tr>\n",
       "    <tr>\n",
       "      <th>10</th>\n",
       "      <td>100</td>\n",
       "      <td>[12658382, 12658382, 12658382, 12658382, 12658...</td>\n",
       "    </tr>\n",
       "    <tr>\n",
       "      <th>11</th>\n",
       "      <td>102</td>\n",
       "      <td>[12658382, 12658382, 12658382, 12658382, 12658...</td>\n",
       "    </tr>\n",
       "    <tr>\n",
       "      <th>12</th>\n",
       "      <td>137</td>\n",
       "      <td>[12658382, 12658382, 12658382, 12658382, 12658...</td>\n",
       "    </tr>\n",
       "    <tr>\n",
       "      <th>13</th>\n",
       "      <td>142</td>\n",
       "      <td>[12658382, 12658382, 12658382, 12658382, 12658...</td>\n",
       "    </tr>\n",
       "    <tr>\n",
       "      <th>14</th>\n",
       "      <td>159</td>\n",
       "      <td>[12658382, 12658382, 12658382, 12658382, 12658...</td>\n",
       "    </tr>\n",
       "    <tr>\n",
       "      <th>15</th>\n",
       "      <td>161</td>\n",
       "      <td>[12658382, 12658382, 12658382, 12658382, 12658...</td>\n",
       "    </tr>\n",
       "    <tr>\n",
       "      <th>16</th>\n",
       "      <td>208</td>\n",
       "      <td>[12658382, 12658382, 12658382, 12658382, 12658...</td>\n",
       "    </tr>\n",
       "    <tr>\n",
       "      <th>17</th>\n",
       "      <td>224</td>\n",
       "      <td>[12658382, 12658382, 12658382, 12658382, 12658...</td>\n",
       "    </tr>\n",
       "    <tr>\n",
       "      <th>18</th>\n",
       "      <td>238</td>\n",
       "      <td>[12658382, 12658382, 12658382, 12658382, 12658...</td>\n",
       "    </tr>\n",
       "    <tr>\n",
       "      <th>19</th>\n",
       "      <td>244</td>\n",
       "      <td>[12658382, 12658382, 12658382, 12658382, 12658...</td>\n",
       "    </tr>\n",
       "    <tr>\n",
       "      <th>20</th>\n",
       "      <td>247</td>\n",
       "      <td>[12658382, 12658382, 12658382, 12658382, 12658...</td>\n",
       "    </tr>\n",
       "    <tr>\n",
       "      <th>21</th>\n",
       "      <td>284</td>\n",
       "      <td>[12658382, 12658382, 12658382, 12658382, 12658...</td>\n",
       "    </tr>\n",
       "    <tr>\n",
       "      <th>22</th>\n",
       "      <td>299</td>\n",
       "      <td>[12658382, 12658382, 12658382, 12658382, 12658...</td>\n",
       "    </tr>\n",
       "    <tr>\n",
       "      <th>23</th>\n",
       "      <td>322</td>\n",
       "      <td>[12658382, 12658382, 12658382, 12658382, 12658...</td>\n",
       "    </tr>\n",
       "    <tr>\n",
       "      <th>24</th>\n",
       "      <td>348</td>\n",
       "      <td>[12658382, 12658382, 12658382, 12658382, 12658...</td>\n",
       "    </tr>\n",
       "    <tr>\n",
       "      <th>25</th>\n",
       "      <td>360</td>\n",
       "      <td>[12658382, 12658382, 12658382, 12658382, 12658...</td>\n",
       "    </tr>\n",
       "    <tr>\n",
       "      <th>26</th>\n",
       "      <td>377</td>\n",
       "      <td>[12658382, 12658382, 12658382, 12658382, 12658...</td>\n",
       "    </tr>\n",
       "    <tr>\n",
       "      <th>27</th>\n",
       "      <td>378</td>\n",
       "      <td>[12658382, 12658382, 12658382, 12658382, 12658...</td>\n",
       "    </tr>\n",
       "    <tr>\n",
       "      <th>28</th>\n",
       "      <td>382</td>\n",
       "      <td>[12658382, 12658382, 12658382, 12658382, 12658...</td>\n",
       "    </tr>\n",
       "    <tr>\n",
       "      <th>29</th>\n",
       "      <td>402</td>\n",
       "      <td>[12658382, 12658382, 12658382, 12658382, 12658...</td>\n",
       "    </tr>\n",
       "    <tr>\n",
       "      <th>...</th>\n",
       "      <td>...</td>\n",
       "      <td>...</td>\n",
       "    </tr>\n",
       "    <tr>\n",
       "      <th>2320</th>\n",
       "      <td>27439</td>\n",
       "      <td>[12658382, 12658382, 12658382, 12658382, 12658...</td>\n",
       "    </tr>\n",
       "    <tr>\n",
       "      <th>2321</th>\n",
       "      <td>27464</td>\n",
       "      <td>[12658382, 12658382, 12658382, 12658382, 12658...</td>\n",
       "    </tr>\n",
       "    <tr>\n",
       "      <th>2322</th>\n",
       "      <td>27485</td>\n",
       "      <td>[12658382, 12658382, 12658382, 12658382, 12658...</td>\n",
       "    </tr>\n",
       "    <tr>\n",
       "      <th>2323</th>\n",
       "      <td>27498</td>\n",
       "      <td>[12658382, 12658382, 12658382, 12658382, 12658...</td>\n",
       "    </tr>\n",
       "    <tr>\n",
       "      <th>2324</th>\n",
       "      <td>27502</td>\n",
       "      <td>[12658382, 12658382, 12658382, 12658382, 12658...</td>\n",
       "    </tr>\n",
       "    <tr>\n",
       "      <th>2325</th>\n",
       "      <td>27507</td>\n",
       "      <td>[12658382, 12658382, 12658382, 12658382, 12658...</td>\n",
       "    </tr>\n",
       "    <tr>\n",
       "      <th>2326</th>\n",
       "      <td>27509</td>\n",
       "      <td>[12658382, 12658382, 12658382, 12658382, 12658...</td>\n",
       "    </tr>\n",
       "    <tr>\n",
       "      <th>2327</th>\n",
       "      <td>27523</td>\n",
       "      <td>[12658382, 12658382, 12658382, 12658382, 12658...</td>\n",
       "    </tr>\n",
       "    <tr>\n",
       "      <th>2328</th>\n",
       "      <td>27560</td>\n",
       "      <td>[12658382, 12658382, 12658382, 12658382, 12658...</td>\n",
       "    </tr>\n",
       "    <tr>\n",
       "      <th>2329</th>\n",
       "      <td>27562</td>\n",
       "      <td>[12658382, 12658382, 12658382, 12658382, 12658...</td>\n",
       "    </tr>\n",
       "    <tr>\n",
       "      <th>2330</th>\n",
       "      <td>27573</td>\n",
       "      <td>[12658382, 12658382, 12658382, 12658382, 12658...</td>\n",
       "    </tr>\n",
       "    <tr>\n",
       "      <th>2331</th>\n",
       "      <td>27577</td>\n",
       "      <td>[12658382, 12658382, 12658382, 12658382, 12658...</td>\n",
       "    </tr>\n",
       "    <tr>\n",
       "      <th>2332</th>\n",
       "      <td>27578</td>\n",
       "      <td>[12658382, 12658382, 12658382, 12658382, 12658...</td>\n",
       "    </tr>\n",
       "    <tr>\n",
       "      <th>2333</th>\n",
       "      <td>27580</td>\n",
       "      <td>[12658382, 12658382, 12658382, 12658382, 12658...</td>\n",
       "    </tr>\n",
       "    <tr>\n",
       "      <th>2334</th>\n",
       "      <td>27598</td>\n",
       "      <td>[12658382, 12658382, 12658382, 12658382, 12658...</td>\n",
       "    </tr>\n",
       "    <tr>\n",
       "      <th>2335</th>\n",
       "      <td>27623</td>\n",
       "      <td>[12658382, 12658382, 12658382, 12658382, 12658...</td>\n",
       "    </tr>\n",
       "    <tr>\n",
       "      <th>2336</th>\n",
       "      <td>27639</td>\n",
       "      <td>[12658382, 12658382, 12658382, 12658382, 12658...</td>\n",
       "    </tr>\n",
       "    <tr>\n",
       "      <th>2337</th>\n",
       "      <td>27664</td>\n",
       "      <td>[12658382, 12658382, 12658382, 12658382, 12658...</td>\n",
       "    </tr>\n",
       "    <tr>\n",
       "      <th>2338</th>\n",
       "      <td>27685</td>\n",
       "      <td>[12658382, 12658382, 12658382, 12658382, 12658...</td>\n",
       "    </tr>\n",
       "    <tr>\n",
       "      <th>2339</th>\n",
       "      <td>27688</td>\n",
       "      <td>[12658382, 12658382, 12658382, 12658382, 12658...</td>\n",
       "    </tr>\n",
       "    <tr>\n",
       "      <th>2340</th>\n",
       "      <td>27692</td>\n",
       "      <td>[12658382, 12658382, 12658382, 12658382, 12658...</td>\n",
       "    </tr>\n",
       "    <tr>\n",
       "      <th>2341</th>\n",
       "      <td>27701</td>\n",
       "      <td>[12658382, 12658382, 12658382, 12658382, 12658...</td>\n",
       "    </tr>\n",
       "    <tr>\n",
       "      <th>2342</th>\n",
       "      <td>27705</td>\n",
       "      <td>[12658382, 12658382, 12658382, 12658382, 12658...</td>\n",
       "    </tr>\n",
       "    <tr>\n",
       "      <th>2343</th>\n",
       "      <td>27715</td>\n",
       "      <td>[12658382, 12658382, 12658382, 12658382, 12658...</td>\n",
       "    </tr>\n",
       "    <tr>\n",
       "      <th>2344</th>\n",
       "      <td>27725</td>\n",
       "      <td>[12658382, 12658382, 12658382, 12658382, 12658...</td>\n",
       "    </tr>\n",
       "    <tr>\n",
       "      <th>2345</th>\n",
       "      <td>27727</td>\n",
       "      <td>[12658382, 12658382, 12658382, 12658382, 12658...</td>\n",
       "    </tr>\n",
       "    <tr>\n",
       "      <th>2346</th>\n",
       "      <td>27731</td>\n",
       "      <td>[12658382, 12658382, 12658382, 12658382, 12658...</td>\n",
       "    </tr>\n",
       "    <tr>\n",
       "      <th>2347</th>\n",
       "      <td>27755</td>\n",
       "      <td>[12658382, 12658382, 12658382, 12658382, 12658...</td>\n",
       "    </tr>\n",
       "    <tr>\n",
       "      <th>2348</th>\n",
       "      <td>27756</td>\n",
       "      <td>[12658382, 12658382, 12658382, 12658382, 12658...</td>\n",
       "    </tr>\n",
       "    <tr>\n",
       "      <th>2349</th>\n",
       "      <td>27766</td>\n",
       "      <td>[12658382, 12658382, 12658382, 12658382, 12658...</td>\n",
       "    </tr>\n",
       "  </tbody>\n",
       "</table>\n",
       "<p>2350 rows × 2 columns</p>\n",
       "</div>"
      ],
      "text/plain": [
       "      UserId                                       product_list\n",
       "0          2  [12658382, 12658382, 12658382, 12658382, 12658...\n",
       "1         28  [12658382, 12658382, 12658382, 12658382, 12658...\n",
       "2         36  [12658382, 12658382, 12658382, 12658382, 12658...\n",
       "3         38  [12658382, 12658382, 12658382, 12658382, 12658...\n",
       "4         41  [12658382, 12658382, 12658382, 12658382, 12658...\n",
       "5         52  [12658382, 12658382, 12658382, 12658382, 12658...\n",
       "6         67  [12658382, 12658382, 12658382, 12658382, 12658...\n",
       "7         69  [12658382, 12658382, 12658382, 12658382, 12658...\n",
       "8         80  [12658382, 12658382, 12658382, 12658382, 12658...\n",
       "9         97  [12658382, 12658382, 12658382, 12658382, 12658...\n",
       "10       100  [12658382, 12658382, 12658382, 12658382, 12658...\n",
       "11       102  [12658382, 12658382, 12658382, 12658382, 12658...\n",
       "12       137  [12658382, 12658382, 12658382, 12658382, 12658...\n",
       "13       142  [12658382, 12658382, 12658382, 12658382, 12658...\n",
       "14       159  [12658382, 12658382, 12658382, 12658382, 12658...\n",
       "15       161  [12658382, 12658382, 12658382, 12658382, 12658...\n",
       "16       208  [12658382, 12658382, 12658382, 12658382, 12658...\n",
       "17       224  [12658382, 12658382, 12658382, 12658382, 12658...\n",
       "18       238  [12658382, 12658382, 12658382, 12658382, 12658...\n",
       "19       244  [12658382, 12658382, 12658382, 12658382, 12658...\n",
       "20       247  [12658382, 12658382, 12658382, 12658382, 12658...\n",
       "21       284  [12658382, 12658382, 12658382, 12658382, 12658...\n",
       "22       299  [12658382, 12658382, 12658382, 12658382, 12658...\n",
       "23       322  [12658382, 12658382, 12658382, 12658382, 12658...\n",
       "24       348  [12658382, 12658382, 12658382, 12658382, 12658...\n",
       "25       360  [12658382, 12658382, 12658382, 12658382, 12658...\n",
       "26       377  [12658382, 12658382, 12658382, 12658382, 12658...\n",
       "27       378  [12658382, 12658382, 12658382, 12658382, 12658...\n",
       "28       382  [12658382, 12658382, 12658382, 12658382, 12658...\n",
       "29       402  [12658382, 12658382, 12658382, 12658382, 12658...\n",
       "...      ...                                                ...\n",
       "2320   27439  [12658382, 12658382, 12658382, 12658382, 12658...\n",
       "2321   27464  [12658382, 12658382, 12658382, 12658382, 12658...\n",
       "2322   27485  [12658382, 12658382, 12658382, 12658382, 12658...\n",
       "2323   27498  [12658382, 12658382, 12658382, 12658382, 12658...\n",
       "2324   27502  [12658382, 12658382, 12658382, 12658382, 12658...\n",
       "2325   27507  [12658382, 12658382, 12658382, 12658382, 12658...\n",
       "2326   27509  [12658382, 12658382, 12658382, 12658382, 12658...\n",
       "2327   27523  [12658382, 12658382, 12658382, 12658382, 12658...\n",
       "2328   27560  [12658382, 12658382, 12658382, 12658382, 12658...\n",
       "2329   27562  [12658382, 12658382, 12658382, 12658382, 12658...\n",
       "2330   27573  [12658382, 12658382, 12658382, 12658382, 12658...\n",
       "2331   27577  [12658382, 12658382, 12658382, 12658382, 12658...\n",
       "2332   27578  [12658382, 12658382, 12658382, 12658382, 12658...\n",
       "2333   27580  [12658382, 12658382, 12658382, 12658382, 12658...\n",
       "2334   27598  [12658382, 12658382, 12658382, 12658382, 12658...\n",
       "2335   27623  [12658382, 12658382, 12658382, 12658382, 12658...\n",
       "2336   27639  [12658382, 12658382, 12658382, 12658382, 12658...\n",
       "2337   27664  [12658382, 12658382, 12658382, 12658382, 12658...\n",
       "2338   27685  [12658382, 12658382, 12658382, 12658382, 12658...\n",
       "2339   27688  [12658382, 12658382, 12658382, 12658382, 12658...\n",
       "2340   27692  [12658382, 12658382, 12658382, 12658382, 12658...\n",
       "2341   27701  [12658382, 12658382, 12658382, 12658382, 12658...\n",
       "2342   27705  [12658382, 12658382, 12658382, 12658382, 12658...\n",
       "2343   27715  [12658382, 12658382, 12658382, 12658382, 12658...\n",
       "2344   27725  [12658382, 12658382, 12658382, 12658382, 12658...\n",
       "2345   27727  [12658382, 12658382, 12658382, 12658382, 12658...\n",
       "2346   27731  [12658382, 12658382, 12658382, 12658382, 12658...\n",
       "2347   27755  [12658382, 12658382, 12658382, 12658382, 12658...\n",
       "2348   27756  [12658382, 12658382, 12658382, 12658382, 12658...\n",
       "2349   27766  [12658382, 12658382, 12658382, 12658382, 12658...\n",
       "\n",
       "[2350 rows x 2 columns]"
      ]
     },
     "execution_count": 280,
     "metadata": {},
     "output_type": "execute_result"
    }
   ],
   "source": [
    "samp_1"
   ]
  },
  {
   "cell_type": "code",
   "execution_count": 356,
   "metadata": {},
   "outputs": [
    {
     "data": {
      "text/html": [
       "<div>\n",
       "<style scoped>\n",
       "    .dataframe tbody tr th:only-of-type {\n",
       "        vertical-align: middle;\n",
       "    }\n",
       "\n",
       "    .dataframe tbody tr th {\n",
       "        vertical-align: top;\n",
       "    }\n",
       "\n",
       "    .dataframe thead th {\n",
       "        text-align: right;\n",
       "    }\n",
       "</style>\n",
       "<table border=\"1\" class=\"dataframe\">\n",
       "  <thead>\n",
       "    <tr style=\"text-align: right;\">\n",
       "      <th></th>\n",
       "      <th>productid</th>\n",
       "      <th>attribute_name</th>\n",
       "      <th>attributevalue</th>\n",
       "    </tr>\n",
       "  </thead>\n",
       "  <tbody>\n",
       "    <tr>\n",
       "      <th>0</th>\n",
       "      <td>11145600</td>\n",
       "      <td>Fit</td>\n",
       "      <td>37</td>\n",
       "    </tr>\n",
       "    <tr>\n",
       "      <th>1</th>\n",
       "      <td>11145600</td>\n",
       "      <td>Sleeve Length</td>\n",
       "      <td>23</td>\n",
       "    </tr>\n",
       "    <tr>\n",
       "      <th>2</th>\n",
       "      <td>11145600</td>\n",
       "      <td>Fabric</td>\n",
       "      <td>16</td>\n",
       "    </tr>\n",
       "    <tr>\n",
       "      <th>3</th>\n",
       "      <td>11145600</td>\n",
       "      <td>Color</td>\n",
       "      <td>25</td>\n",
       "    </tr>\n",
       "    <tr>\n",
       "      <th>4</th>\n",
       "      <td>11145600</td>\n",
       "      <td>Neckline</td>\n",
       "      <td>51</td>\n",
       "    </tr>\n",
       "  </tbody>\n",
       "</table>\n",
       "</div>"
      ],
      "text/plain": [
       "   productid attribute_name  attributevalue\n",
       "0   11145600            Fit              37\n",
       "1   11145600  Sleeve Length              23\n",
       "2   11145600         Fabric              16\n",
       "3   11145600          Color              25\n",
       "4   11145600       Neckline              51"
      ]
     },
     "execution_count": 356,
     "metadata": {},
     "output_type": "execute_result"
    }
   ],
   "source": [
    "pro_att.head()"
   ]
  },
  {
   "cell_type": "code",
   "execution_count": 357,
   "metadata": {},
   "outputs": [
    {
     "data": {
      "text/html": [
       "<div>\n",
       "<style scoped>\n",
       "    .dataframe tbody tr th:only-of-type {\n",
       "        vertical-align: middle;\n",
       "    }\n",
       "\n",
       "    .dataframe tbody tr th {\n",
       "        vertical-align: top;\n",
       "    }\n",
       "\n",
       "    .dataframe thead th {\n",
       "        text-align: right;\n",
       "    }\n",
       "</style>\n",
       "<table border=\"1\" class=\"dataframe\">\n",
       "  <thead>\n",
       "    <tr style=\"text-align: right;\">\n",
       "      <th></th>\n",
       "      <th>UserId</th>\n",
       "      <th>productid</th>\n",
       "      <th>frequency</th>\n",
       "    </tr>\n",
       "  </thead>\n",
       "  <tbody>\n",
       "    <tr>\n",
       "      <th>0</th>\n",
       "      <td>0</td>\n",
       "      <td>11659624</td>\n",
       "      <td>1</td>\n",
       "    </tr>\n",
       "    <tr>\n",
       "      <th>1</th>\n",
       "      <td>1</td>\n",
       "      <td>12406904</td>\n",
       "      <td>1</td>\n",
       "    </tr>\n",
       "    <tr>\n",
       "      <th>2</th>\n",
       "      <td>2</td>\n",
       "      <td>11660064</td>\n",
       "      <td>1</td>\n",
       "    </tr>\n",
       "    <tr>\n",
       "      <th>3</th>\n",
       "      <td>3</td>\n",
       "      <td>12360440</td>\n",
       "      <td>3</td>\n",
       "    </tr>\n",
       "    <tr>\n",
       "      <th>4</th>\n",
       "      <td>3</td>\n",
       "      <td>12371354</td>\n",
       "      <td>3</td>\n",
       "    </tr>\n",
       "  </tbody>\n",
       "</table>\n",
       "</div>"
      ],
      "text/plain": [
       "   UserId  productid  frequency\n",
       "0       0   11659624          1\n",
       "1       1   12406904          1\n",
       "2       2   11660064          1\n",
       "3       3   12360440          3\n",
       "4       3   12371354          3"
      ]
     },
     "execution_count": 357,
     "metadata": {},
     "output_type": "execute_result"
    }
   ],
   "source": [
    "mydf.head()"
   ]
  },
  {
   "cell_type": "code",
   "execution_count": 358,
   "metadata": {},
   "outputs": [
    {
     "data": {
      "text/html": [
       "<div>\n",
       "<style scoped>\n",
       "    .dataframe tbody tr th:only-of-type {\n",
       "        vertical-align: middle;\n",
       "    }\n",
       "\n",
       "    .dataframe tbody tr th {\n",
       "        vertical-align: top;\n",
       "    }\n",
       "\n",
       "    .dataframe thead th {\n",
       "        text-align: right;\n",
       "    }\n",
       "</style>\n",
       "<table border=\"1\" class=\"dataframe\">\n",
       "  <thead>\n",
       "    <tr style=\"text-align: right;\">\n",
       "      <th></th>\n",
       "      <th>productid</th>\n",
       "      <th>attribute_name</th>\n",
       "      <th>attributevalue</th>\n",
       "    </tr>\n",
       "  </thead>\n",
       "  <tbody>\n",
       "    <tr>\n",
       "      <th>0</th>\n",
       "      <td>11145600</td>\n",
       "      <td>Fit</td>\n",
       "      <td>37</td>\n",
       "    </tr>\n",
       "    <tr>\n",
       "      <th>1</th>\n",
       "      <td>11145600</td>\n",
       "      <td>Sleeve Length</td>\n",
       "      <td>23</td>\n",
       "    </tr>\n",
       "    <tr>\n",
       "      <th>2</th>\n",
       "      <td>11145600</td>\n",
       "      <td>Fabric</td>\n",
       "      <td>16</td>\n",
       "    </tr>\n",
       "    <tr>\n",
       "      <th>3</th>\n",
       "      <td>11145600</td>\n",
       "      <td>Color</td>\n",
       "      <td>25</td>\n",
       "    </tr>\n",
       "    <tr>\n",
       "      <th>4</th>\n",
       "      <td>11145600</td>\n",
       "      <td>Neckline</td>\n",
       "      <td>51</td>\n",
       "    </tr>\n",
       "    <tr>\n",
       "      <th>547</th>\n",
       "      <td>11145600</td>\n",
       "      <td>Category</td>\n",
       "      <td>1</td>\n",
       "    </tr>\n",
       "    <tr>\n",
       "      <th>1213</th>\n",
       "      <td>11145600</td>\n",
       "      <td>Season</td>\n",
       "      <td>42</td>\n",
       "    </tr>\n",
       "  </tbody>\n",
       "</table>\n",
       "</div>"
      ],
      "text/plain": [
       "      productid attribute_name  attributevalue\n",
       "0      11145600            Fit              37\n",
       "1      11145600  Sleeve Length              23\n",
       "2      11145600         Fabric              16\n",
       "3      11145600          Color              25\n",
       "4      11145600       Neckline              51\n",
       "547    11145600       Category               1\n",
       "1213   11145600         Season              42"
      ]
     },
     "execution_count": 358,
     "metadata": {},
     "output_type": "execute_result"
    }
   ],
   "source": [
    "pro_att[pro_att['productid']==11145600]"
   ]
  },
  {
   "cell_type": "code",
   "execution_count": 360,
   "metadata": {},
   "outputs": [
    {
     "data": {
      "text/html": [
       "<div>\n",
       "<style scoped>\n",
       "    .dataframe tbody tr th:only-of-type {\n",
       "        vertical-align: middle;\n",
       "    }\n",
       "\n",
       "    .dataframe tbody tr th {\n",
       "        vertical-align: top;\n",
       "    }\n",
       "\n",
       "    .dataframe thead th {\n",
       "        text-align: right;\n",
       "    }\n",
       "</style>\n",
       "<table border=\"1\" class=\"dataframe\">\n",
       "  <thead>\n",
       "    <tr style=\"text-align: right;\">\n",
       "      <th></th>\n",
       "      <th>UserId</th>\n",
       "      <th>productid</th>\n",
       "      <th>frequency</th>\n",
       "    </tr>\n",
       "  </thead>\n",
       "  <tbody>\n",
       "    <tr>\n",
       "      <th>8597</th>\n",
       "      <td>3295</td>\n",
       "      <td>12437280</td>\n",
       "      <td>1</td>\n",
       "    </tr>\n",
       "    <tr>\n",
       "      <th>70862</th>\n",
       "      <td>26784</td>\n",
       "      <td>12437280</td>\n",
       "      <td>3</td>\n",
       "    </tr>\n",
       "  </tbody>\n",
       "</table>\n",
       "</div>"
      ],
      "text/plain": [
       "       UserId  productid  frequency\n",
       "8597     3295   12437280          1\n",
       "70862   26784   12437280          3"
      ]
     },
     "execution_count": 360,
     "metadata": {},
     "output_type": "execute_result"
    }
   ],
   "source": [
    "mydf[mydf['productid']==12437280]"
   ]
  },
  {
   "cell_type": "code",
   "execution_count": 361,
   "metadata": {},
   "outputs": [
    {
     "data": {
      "text/html": [
       "<div>\n",
       "<style scoped>\n",
       "    .dataframe tbody tr th:only-of-type {\n",
       "        vertical-align: middle;\n",
       "    }\n",
       "\n",
       "    .dataframe tbody tr th {\n",
       "        vertical-align: top;\n",
       "    }\n",
       "\n",
       "    .dataframe thead th {\n",
       "        text-align: right;\n",
       "    }\n",
       "</style>\n",
       "<table border=\"1\" class=\"dataframe\">\n",
       "  <thead>\n",
       "    <tr style=\"text-align: right;\">\n",
       "      <th></th>\n",
       "      <th>UserId</th>\n",
       "      <th>productid</th>\n",
       "      <th>Quantity</th>\n",
       "      <th>OrderDate</th>\n",
       "    </tr>\n",
       "  </thead>\n",
       "  <tbody>\n",
       "    <tr>\n",
       "      <th>43186</th>\n",
       "      <td>26784</td>\n",
       "      <td>12437280</td>\n",
       "      <td>1</td>\n",
       "      <td>22/06/18</td>\n",
       "    </tr>\n",
       "    <tr>\n",
       "      <th>61407</th>\n",
       "      <td>26784</td>\n",
       "      <td>12437280</td>\n",
       "      <td>1</td>\n",
       "      <td>08/07/18</td>\n",
       "    </tr>\n",
       "    <tr>\n",
       "      <th>73070</th>\n",
       "      <td>3295</td>\n",
       "      <td>12437280</td>\n",
       "      <td>1</td>\n",
       "      <td>19/07/18</td>\n",
       "    </tr>\n",
       "    <tr>\n",
       "      <th>94057</th>\n",
       "      <td>26784</td>\n",
       "      <td>12437280</td>\n",
       "      <td>1</td>\n",
       "      <td>10/08/18</td>\n",
       "    </tr>\n",
       "  </tbody>\n",
       "</table>\n",
       "</div>"
      ],
      "text/plain": [
       "       UserId  productid  Quantity OrderDate\n",
       "43186   26784   12437280         1  22/06/18\n",
       "61407   26784   12437280         1  08/07/18\n",
       "73070    3295   12437280         1  19/07/18\n",
       "94057   26784   12437280         1  10/08/18"
      ]
     },
     "execution_count": 361,
     "metadata": {},
     "output_type": "execute_result"
    }
   ],
   "source": [
    "train[train['productid']==12437280]"
   ]
  },
  {
   "cell_type": "code",
   "execution_count": 362,
   "metadata": {},
   "outputs": [
    {
     "data": {
      "text/html": [
       "<div>\n",
       "<style scoped>\n",
       "    .dataframe tbody tr th:only-of-type {\n",
       "        vertical-align: middle;\n",
       "    }\n",
       "\n",
       "    .dataframe tbody tr th {\n",
       "        vertical-align: top;\n",
       "    }\n",
       "\n",
       "    .dataframe thead th {\n",
       "        text-align: right;\n",
       "    }\n",
       "</style>\n",
       "<table border=\"1\" class=\"dataframe\">\n",
       "  <thead>\n",
       "    <tr style=\"text-align: right;\">\n",
       "      <th></th>\n",
       "      <th>productid</th>\n",
       "      <th>attribute_name</th>\n",
       "      <th>attributevalue</th>\n",
       "    </tr>\n",
       "  </thead>\n",
       "  <tbody>\n",
       "    <tr>\n",
       "      <th>10365</th>\n",
       "      <td>12437280</td>\n",
       "      <td>Category</td>\n",
       "      <td>29</td>\n",
       "    </tr>\n",
       "    <tr>\n",
       "      <th>10366</th>\n",
       "      <td>12437280</td>\n",
       "      <td>Season</td>\n",
       "      <td>5</td>\n",
       "    </tr>\n",
       "    <tr>\n",
       "      <th>10611</th>\n",
       "      <td>12437280</td>\n",
       "      <td>Fabric</td>\n",
       "      <td>2</td>\n",
       "    </tr>\n",
       "    <tr>\n",
       "      <th>10612</th>\n",
       "      <td>12437280</td>\n",
       "      <td>Color</td>\n",
       "      <td>38</td>\n",
       "    </tr>\n",
       "  </tbody>\n",
       "</table>\n",
       "</div>"
      ],
      "text/plain": [
       "       productid attribute_name  attributevalue\n",
       "10365   12437280       Category              29\n",
       "10366   12437280         Season               5\n",
       "10611   12437280         Fabric               2\n",
       "10612   12437280          Color              38"
      ]
     },
     "execution_count": 362,
     "metadata": {},
     "output_type": "execute_result"
    }
   ],
   "source": [
    "pro_att[pro_att['productid']==12437280]"
   ]
  },
  {
   "cell_type": "code",
   "execution_count": 364,
   "metadata": {},
   "outputs": [
    {
     "data": {
      "text/plain": [
       "0      1501\n",
       "1      1478\n",
       "2      1260\n",
       "3      1176\n",
       "4      1133\n",
       "5       863\n",
       "6       709\n",
       "7       702\n",
       "8       659\n",
       "9       530\n",
       "10      458\n",
       "11      431\n",
       "12      393\n",
       "13      363\n",
       "14      325\n",
       "15      324\n",
       "16      301\n",
       "17      266\n",
       "18      245\n",
       "19      241\n",
       "20      236\n",
       "21      225\n",
       "22      222\n",
       "23      220\n",
       "24      201\n",
       "25      185\n",
       "26      184\n",
       "28      168\n",
       "27      168\n",
       "29      154\n",
       "       ... \n",
       "175       1\n",
       "191       1\n",
       "201       1\n",
       "185       1\n",
       "169       1\n",
       "232       1\n",
       "211       1\n",
       "227       1\n",
       "180       1\n",
       "196       1\n",
       "212       1\n",
       "228       1\n",
       "181       1\n",
       "197       1\n",
       "213       1\n",
       "229       1\n",
       "182       1\n",
       "198       1\n",
       "214       1\n",
       "230       1\n",
       "167       1\n",
       "207       1\n",
       "199       1\n",
       "215       1\n",
       "231       1\n",
       "168       1\n",
       "184       1\n",
       "200       1\n",
       "216       1\n",
       "183       1\n",
       "Name: attributevalue, Length: 234, dtype: int64"
      ]
     },
     "execution_count": 364,
     "metadata": {},
     "output_type": "execute_result"
    }
   ],
   "source": [
    "pro_att['attributevalue'].value_counts()"
   ]
  },
  {
   "cell_type": "code",
   "execution_count": 365,
   "metadata": {},
   "outputs": [],
   "source": [
    "from sklearn import preprocessing"
   ]
  },
  {
   "cell_type": "code",
   "execution_count": 368,
   "metadata": {},
   "outputs": [
    {
     "ename": "ValueError",
     "evalue": "Expected 2D array, got 1D array instead:\narray=[37. 23. 16. ...  8.  8. 24.].\nReshape your data either using array.reshape(-1, 1) if your data has a single feature or array.reshape(1, -1) if it contains a single sample.",
     "output_type": "error",
     "traceback": [
      "\u001b[0;31m---------------------------------------------------------------------------\u001b[0m",
      "\u001b[0;31mValueError\u001b[0m                                Traceback (most recent call last)",
      "\u001b[0;32m<ipython-input-368-f39b917403ba>\u001b[0m in \u001b[0;36m<module>\u001b[0;34m()\u001b[0m\n\u001b[1;32m      1\u001b[0m \u001b[0mmin_max_scaler\u001b[0m \u001b[0;34m=\u001b[0m \u001b[0mpreprocessing\u001b[0m\u001b[0;34m.\u001b[0m\u001b[0mMinMaxScaler\u001b[0m\u001b[0;34m(\u001b[0m\u001b[0;34m)\u001b[0m\u001b[0;34m\u001b[0m\u001b[0m\n\u001b[0;32m----> 2\u001b[0;31m \u001b[0mnp_scaled\u001b[0m \u001b[0;34m=\u001b[0m \u001b[0mmin_max_scaler\u001b[0m\u001b[0;34m.\u001b[0m\u001b[0mfit_transform\u001b[0m\u001b[0;34m(\u001b[0m\u001b[0mpro_att\u001b[0m\u001b[0;34m[\u001b[0m\u001b[0;34m'attributevalue'\u001b[0m\u001b[0;34m]\u001b[0m\u001b[0;34m)\u001b[0m\u001b[0;34m\u001b[0m\u001b[0m\n\u001b[0m",
      "\u001b[0;32m/Users/rahulsharma/anaconda2/lib/python2.7/site-packages/sklearn/base.pyc\u001b[0m in \u001b[0;36mfit_transform\u001b[0;34m(self, X, y, **fit_params)\u001b[0m\n\u001b[1;32m    460\u001b[0m         \u001b[0;32mif\u001b[0m \u001b[0my\u001b[0m \u001b[0;32mis\u001b[0m \u001b[0mNone\u001b[0m\u001b[0;34m:\u001b[0m\u001b[0;34m\u001b[0m\u001b[0m\n\u001b[1;32m    461\u001b[0m             \u001b[0;31m# fit method of arity 1 (unsupervised transformation)\u001b[0m\u001b[0;34m\u001b[0m\u001b[0;34m\u001b[0m\u001b[0m\n\u001b[0;32m--> 462\u001b[0;31m             \u001b[0;32mreturn\u001b[0m \u001b[0mself\u001b[0m\u001b[0;34m.\u001b[0m\u001b[0mfit\u001b[0m\u001b[0;34m(\u001b[0m\u001b[0mX\u001b[0m\u001b[0;34m,\u001b[0m \u001b[0;34m**\u001b[0m\u001b[0mfit_params\u001b[0m\u001b[0;34m)\u001b[0m\u001b[0;34m.\u001b[0m\u001b[0mtransform\u001b[0m\u001b[0;34m(\u001b[0m\u001b[0mX\u001b[0m\u001b[0;34m)\u001b[0m\u001b[0;34m\u001b[0m\u001b[0m\n\u001b[0m\u001b[1;32m    463\u001b[0m         \u001b[0;32melse\u001b[0m\u001b[0;34m:\u001b[0m\u001b[0;34m\u001b[0m\u001b[0m\n\u001b[1;32m    464\u001b[0m             \u001b[0;31m# fit method of arity 2 (supervised transformation)\u001b[0m\u001b[0;34m\u001b[0m\u001b[0;34m\u001b[0m\u001b[0m\n",
      "\u001b[0;32m/Users/rahulsharma/anaconda2/lib/python2.7/site-packages/sklearn/preprocessing/data.pyc\u001b[0m in \u001b[0;36mfit\u001b[0;34m(self, X, y)\u001b[0m\n\u001b[1;32m    321\u001b[0m         \u001b[0;31m# Reset internal state before fitting\u001b[0m\u001b[0;34m\u001b[0m\u001b[0;34m\u001b[0m\u001b[0m\n\u001b[1;32m    322\u001b[0m         \u001b[0mself\u001b[0m\u001b[0;34m.\u001b[0m\u001b[0m_reset\u001b[0m\u001b[0;34m(\u001b[0m\u001b[0;34m)\u001b[0m\u001b[0;34m\u001b[0m\u001b[0m\n\u001b[0;32m--> 323\u001b[0;31m         \u001b[0;32mreturn\u001b[0m \u001b[0mself\u001b[0m\u001b[0;34m.\u001b[0m\u001b[0mpartial_fit\u001b[0m\u001b[0;34m(\u001b[0m\u001b[0mX\u001b[0m\u001b[0;34m,\u001b[0m \u001b[0my\u001b[0m\u001b[0;34m)\u001b[0m\u001b[0;34m\u001b[0m\u001b[0m\n\u001b[0m\u001b[1;32m    324\u001b[0m \u001b[0;34m\u001b[0m\u001b[0m\n\u001b[1;32m    325\u001b[0m     \u001b[0;32mdef\u001b[0m \u001b[0mpartial_fit\u001b[0m\u001b[0;34m(\u001b[0m\u001b[0mself\u001b[0m\u001b[0;34m,\u001b[0m \u001b[0mX\u001b[0m\u001b[0;34m,\u001b[0m \u001b[0my\u001b[0m\u001b[0;34m=\u001b[0m\u001b[0mNone\u001b[0m\u001b[0;34m)\u001b[0m\u001b[0;34m:\u001b[0m\u001b[0;34m\u001b[0m\u001b[0m\n",
      "\u001b[0;32m/Users/rahulsharma/anaconda2/lib/python2.7/site-packages/sklearn/preprocessing/data.pyc\u001b[0m in \u001b[0;36mpartial_fit\u001b[0;34m(self, X, y)\u001b[0m\n\u001b[1;32m    349\u001b[0m         X = check_array(X, copy=self.copy, warn_on_dtype=True,\n\u001b[1;32m    350\u001b[0m                         \u001b[0mestimator\u001b[0m\u001b[0;34m=\u001b[0m\u001b[0mself\u001b[0m\u001b[0;34m,\u001b[0m \u001b[0mdtype\u001b[0m\u001b[0;34m=\u001b[0m\u001b[0mFLOAT_DTYPES\u001b[0m\u001b[0;34m,\u001b[0m\u001b[0;34m\u001b[0m\u001b[0m\n\u001b[0;32m--> 351\u001b[0;31m                         force_all_finite=\"allow-nan\")\n\u001b[0m\u001b[1;32m    352\u001b[0m \u001b[0;34m\u001b[0m\u001b[0m\n\u001b[1;32m    353\u001b[0m         \u001b[0mdata_min\u001b[0m \u001b[0;34m=\u001b[0m \u001b[0mnp\u001b[0m\u001b[0;34m.\u001b[0m\u001b[0mnanmin\u001b[0m\u001b[0;34m(\u001b[0m\u001b[0mX\u001b[0m\u001b[0;34m,\u001b[0m \u001b[0maxis\u001b[0m\u001b[0;34m=\u001b[0m\u001b[0;36m0\u001b[0m\u001b[0;34m)\u001b[0m\u001b[0;34m\u001b[0m\u001b[0m\n",
      "\u001b[0;32m/Users/rahulsharma/anaconda2/lib/python2.7/site-packages/sklearn/utils/validation.pyc\u001b[0m in \u001b[0;36mcheck_array\u001b[0;34m(array, accept_sparse, accept_large_sparse, dtype, order, copy, force_all_finite, ensure_2d, allow_nd, ensure_min_samples, ensure_min_features, warn_on_dtype, estimator)\u001b[0m\n\u001b[1;32m    550\u001b[0m                     \u001b[0;34m\"Reshape your data either using array.reshape(-1, 1) if \"\u001b[0m\u001b[0;34m\u001b[0m\u001b[0m\n\u001b[1;32m    551\u001b[0m                     \u001b[0;34m\"your data has a single feature or array.reshape(1, -1) \"\u001b[0m\u001b[0;34m\u001b[0m\u001b[0m\n\u001b[0;32m--> 552\u001b[0;31m                     \"if it contains a single sample.\".format(array))\n\u001b[0m\u001b[1;32m    553\u001b[0m \u001b[0;34m\u001b[0m\u001b[0m\n\u001b[1;32m    554\u001b[0m         \u001b[0;31m# in the future np.flexible dtypes will be handled like object dtypes\u001b[0m\u001b[0;34m\u001b[0m\u001b[0;34m\u001b[0m\u001b[0m\n",
      "\u001b[0;31mValueError\u001b[0m: Expected 2D array, got 1D array instead:\narray=[37. 23. 16. ...  8.  8. 24.].\nReshape your data either using array.reshape(-1, 1) if your data has a single feature or array.reshape(1, -1) if it contains a single sample."
     ]
    }
   ],
   "source": [
    "min_max_scaler = preprocessing.MinMaxScaler()\n",
    "np_scaled = min_max_scaler.fit_transform(pro_att['attributevalue'])"
   ]
  },
  {
   "cell_type": "code",
   "execution_count": 369,
   "metadata": {},
   "outputs": [
    {
     "data": {
      "text/html": [
       "<div>\n",
       "<style scoped>\n",
       "    .dataframe tbody tr th:only-of-type {\n",
       "        vertical-align: middle;\n",
       "    }\n",
       "\n",
       "    .dataframe tbody tr th {\n",
       "        vertical-align: top;\n",
       "    }\n",
       "\n",
       "    .dataframe thead th {\n",
       "        text-align: right;\n",
       "    }\n",
       "</style>\n",
       "<table border=\"1\" class=\"dataframe\">\n",
       "  <thead>\n",
       "    <tr style=\"text-align: right;\">\n",
       "      <th></th>\n",
       "      <th>productid</th>\n",
       "      <th>attribute_name</th>\n",
       "      <th>attributevalue</th>\n",
       "    </tr>\n",
       "  </thead>\n",
       "  <tbody>\n",
       "    <tr>\n",
       "      <th>0</th>\n",
       "      <td>11145600</td>\n",
       "      <td>Fit</td>\n",
       "      <td>37</td>\n",
       "    </tr>\n",
       "    <tr>\n",
       "      <th>1</th>\n",
       "      <td>11145600</td>\n",
       "      <td>Sleeve Length</td>\n",
       "      <td>23</td>\n",
       "    </tr>\n",
       "    <tr>\n",
       "      <th>2</th>\n",
       "      <td>11145600</td>\n",
       "      <td>Fabric</td>\n",
       "      <td>16</td>\n",
       "    </tr>\n",
       "    <tr>\n",
       "      <th>3</th>\n",
       "      <td>11145600</td>\n",
       "      <td>Color</td>\n",
       "      <td>25</td>\n",
       "    </tr>\n",
       "    <tr>\n",
       "      <th>4</th>\n",
       "      <td>11145600</td>\n",
       "      <td>Neckline</td>\n",
       "      <td>51</td>\n",
       "    </tr>\n",
       "    <tr>\n",
       "      <th>5</th>\n",
       "      <td>11145602</td>\n",
       "      <td>Fit</td>\n",
       "      <td>37</td>\n",
       "    </tr>\n",
       "    <tr>\n",
       "      <th>6</th>\n",
       "      <td>11145602</td>\n",
       "      <td>Sleeve Length</td>\n",
       "      <td>3</td>\n",
       "    </tr>\n",
       "    <tr>\n",
       "      <th>7</th>\n",
       "      <td>11145602</td>\n",
       "      <td>Fabric</td>\n",
       "      <td>58</td>\n",
       "    </tr>\n",
       "    <tr>\n",
       "      <th>8</th>\n",
       "      <td>11145602</td>\n",
       "      <td>Color</td>\n",
       "      <td>17</td>\n",
       "    </tr>\n",
       "    <tr>\n",
       "      <th>9</th>\n",
       "      <td>11145602</td>\n",
       "      <td>Neckline</td>\n",
       "      <td>4</td>\n",
       "    </tr>\n",
       "    <tr>\n",
       "      <th>10</th>\n",
       "      <td>11145612</td>\n",
       "      <td>Fit</td>\n",
       "      <td>37</td>\n",
       "    </tr>\n",
       "    <tr>\n",
       "      <th>11</th>\n",
       "      <td>11145612</td>\n",
       "      <td>Sleeve Length</td>\n",
       "      <td>21</td>\n",
       "    </tr>\n",
       "    <tr>\n",
       "      <th>12</th>\n",
       "      <td>11145612</td>\n",
       "      <td>Fabric</td>\n",
       "      <td>58</td>\n",
       "    </tr>\n",
       "    <tr>\n",
       "      <th>13</th>\n",
       "      <td>11145612</td>\n",
       "      <td>Color</td>\n",
       "      <td>17</td>\n",
       "    </tr>\n",
       "    <tr>\n",
       "      <th>14</th>\n",
       "      <td>11145612</td>\n",
       "      <td>Neckline</td>\n",
       "      <td>8</td>\n",
       "    </tr>\n",
       "    <tr>\n",
       "      <th>15</th>\n",
       "      <td>11145614</td>\n",
       "      <td>Fit</td>\n",
       "      <td>37</td>\n",
       "    </tr>\n",
       "    <tr>\n",
       "      <th>16</th>\n",
       "      <td>11145614</td>\n",
       "      <td>Sleeve Length</td>\n",
       "      <td>21</td>\n",
       "    </tr>\n",
       "    <tr>\n",
       "      <th>17</th>\n",
       "      <td>11145614</td>\n",
       "      <td>Fabric</td>\n",
       "      <td>39</td>\n",
       "    </tr>\n",
       "    <tr>\n",
       "      <th>18</th>\n",
       "      <td>11145614</td>\n",
       "      <td>Color</td>\n",
       "      <td>31</td>\n",
       "    </tr>\n",
       "    <tr>\n",
       "      <th>19</th>\n",
       "      <td>11145614</td>\n",
       "      <td>Neckline</td>\n",
       "      <td>8</td>\n",
       "    </tr>\n",
       "    <tr>\n",
       "      <th>20</th>\n",
       "      <td>11145620</td>\n",
       "      <td>Fit</td>\n",
       "      <td>0</td>\n",
       "    </tr>\n",
       "    <tr>\n",
       "      <th>21</th>\n",
       "      <td>11145620</td>\n",
       "      <td>Sleeve Length</td>\n",
       "      <td>23</td>\n",
       "    </tr>\n",
       "    <tr>\n",
       "      <th>22</th>\n",
       "      <td>11145620</td>\n",
       "      <td>Fabric</td>\n",
       "      <td>16</td>\n",
       "    </tr>\n",
       "    <tr>\n",
       "      <th>23</th>\n",
       "      <td>11145620</td>\n",
       "      <td>Color</td>\n",
       "      <td>28</td>\n",
       "    </tr>\n",
       "    <tr>\n",
       "      <th>24</th>\n",
       "      <td>11145620</td>\n",
       "      <td>Neckline</td>\n",
       "      <td>26</td>\n",
       "    </tr>\n",
       "    <tr>\n",
       "      <th>25</th>\n",
       "      <td>11145624</td>\n",
       "      <td>Fit</td>\n",
       "      <td>37</td>\n",
       "    </tr>\n",
       "    <tr>\n",
       "      <th>26</th>\n",
       "      <td>11145624</td>\n",
       "      <td>Sleeve Length</td>\n",
       "      <td>3</td>\n",
       "    </tr>\n",
       "    <tr>\n",
       "      <th>27</th>\n",
       "      <td>11145624</td>\n",
       "      <td>Fabric</td>\n",
       "      <td>2</td>\n",
       "    </tr>\n",
       "    <tr>\n",
       "      <th>28</th>\n",
       "      <td>11145624</td>\n",
       "      <td>Color</td>\n",
       "      <td>18</td>\n",
       "    </tr>\n",
       "    <tr>\n",
       "      <th>29</th>\n",
       "      <td>11145624</td>\n",
       "      <td>Neckline</td>\n",
       "      <td>4</td>\n",
       "    </tr>\n",
       "    <tr>\n",
       "      <th>...</th>\n",
       "      <td>...</td>\n",
       "      <td>...</td>\n",
       "      <td>...</td>\n",
       "    </tr>\n",
       "    <tr>\n",
       "      <th>18720</th>\n",
       "      <td>14122762</td>\n",
       "      <td>Fabric</td>\n",
       "      <td>2</td>\n",
       "    </tr>\n",
       "    <tr>\n",
       "      <th>18721</th>\n",
       "      <td>14122762</td>\n",
       "      <td>Season</td>\n",
       "      <td>9</td>\n",
       "    </tr>\n",
       "    <tr>\n",
       "      <th>18722</th>\n",
       "      <td>14122762</td>\n",
       "      <td>Neckline</td>\n",
       "      <td>8</td>\n",
       "    </tr>\n",
       "    <tr>\n",
       "      <th>18723</th>\n",
       "      <td>14122766</td>\n",
       "      <td>Category</td>\n",
       "      <td>1</td>\n",
       "    </tr>\n",
       "    <tr>\n",
       "      <th>18724</th>\n",
       "      <td>14122766</td>\n",
       "      <td>Fit</td>\n",
       "      <td>0</td>\n",
       "    </tr>\n",
       "    <tr>\n",
       "      <th>18725</th>\n",
       "      <td>14122766</td>\n",
       "      <td>Sleeve Length</td>\n",
       "      <td>3</td>\n",
       "    </tr>\n",
       "    <tr>\n",
       "      <th>18726</th>\n",
       "      <td>14122766</td>\n",
       "      <td>Fabric</td>\n",
       "      <td>2</td>\n",
       "    </tr>\n",
       "    <tr>\n",
       "      <th>18727</th>\n",
       "      <td>14122766</td>\n",
       "      <td>Season</td>\n",
       "      <td>9</td>\n",
       "    </tr>\n",
       "    <tr>\n",
       "      <th>18728</th>\n",
       "      <td>14122766</td>\n",
       "      <td>Neckline</td>\n",
       "      <td>8</td>\n",
       "    </tr>\n",
       "    <tr>\n",
       "      <th>18729</th>\n",
       "      <td>14122834</td>\n",
       "      <td>Category</td>\n",
       "      <td>1</td>\n",
       "    </tr>\n",
       "    <tr>\n",
       "      <th>18730</th>\n",
       "      <td>14122834</td>\n",
       "      <td>Fit</td>\n",
       "      <td>0</td>\n",
       "    </tr>\n",
       "    <tr>\n",
       "      <th>18731</th>\n",
       "      <td>14122834</td>\n",
       "      <td>Sleeve Length</td>\n",
       "      <td>3</td>\n",
       "    </tr>\n",
       "    <tr>\n",
       "      <th>18732</th>\n",
       "      <td>14122834</td>\n",
       "      <td>Fabric</td>\n",
       "      <td>2</td>\n",
       "    </tr>\n",
       "    <tr>\n",
       "      <th>18733</th>\n",
       "      <td>14122834</td>\n",
       "      <td>Season</td>\n",
       "      <td>9</td>\n",
       "    </tr>\n",
       "    <tr>\n",
       "      <th>18734</th>\n",
       "      <td>14122834</td>\n",
       "      <td>Neckline</td>\n",
       "      <td>8</td>\n",
       "    </tr>\n",
       "    <tr>\n",
       "      <th>18735</th>\n",
       "      <td>14122832</td>\n",
       "      <td>Fabric</td>\n",
       "      <td>130</td>\n",
       "    </tr>\n",
       "    <tr>\n",
       "      <th>18736</th>\n",
       "      <td>14122832</td>\n",
       "      <td>Category</td>\n",
       "      <td>7</td>\n",
       "    </tr>\n",
       "    <tr>\n",
       "      <th>18737</th>\n",
       "      <td>14122832</td>\n",
       "      <td>Fit</td>\n",
       "      <td>0</td>\n",
       "    </tr>\n",
       "    <tr>\n",
       "      <th>18738</th>\n",
       "      <td>14122832</td>\n",
       "      <td>Sleeve Length</td>\n",
       "      <td>3</td>\n",
       "    </tr>\n",
       "    <tr>\n",
       "      <th>18739</th>\n",
       "      <td>14122832</td>\n",
       "      <td>Color</td>\n",
       "      <td>57</td>\n",
       "    </tr>\n",
       "    <tr>\n",
       "      <th>18740</th>\n",
       "      <td>14122832</td>\n",
       "      <td>Season</td>\n",
       "      <td>9</td>\n",
       "    </tr>\n",
       "    <tr>\n",
       "      <th>18741</th>\n",
       "      <td>14122832</td>\n",
       "      <td>Neckline</td>\n",
       "      <td>49</td>\n",
       "    </tr>\n",
       "    <tr>\n",
       "      <th>18742</th>\n",
       "      <td>14104334</td>\n",
       "      <td>Category</td>\n",
       "      <td>19</td>\n",
       "    </tr>\n",
       "    <tr>\n",
       "      <th>18743</th>\n",
       "      <td>14104334</td>\n",
       "      <td>Season</td>\n",
       "      <td>9</td>\n",
       "    </tr>\n",
       "    <tr>\n",
       "      <th>18744</th>\n",
       "      <td>14128359</td>\n",
       "      <td>Category</td>\n",
       "      <td>19</td>\n",
       "    </tr>\n",
       "    <tr>\n",
       "      <th>18745</th>\n",
       "      <td>14128359</td>\n",
       "      <td>Season</td>\n",
       "      <td>9</td>\n",
       "    </tr>\n",
       "    <tr>\n",
       "      <th>18746</th>\n",
       "      <td>13039386</td>\n",
       "      <td>Color</td>\n",
       "      <td>164</td>\n",
       "    </tr>\n",
       "    <tr>\n",
       "      <th>18747</th>\n",
       "      <td>13039714</td>\n",
       "      <td>Neckline</td>\n",
       "      <td>8</td>\n",
       "    </tr>\n",
       "    <tr>\n",
       "      <th>18748</th>\n",
       "      <td>14122820</td>\n",
       "      <td>Neckline</td>\n",
       "      <td>8</td>\n",
       "    </tr>\n",
       "    <tr>\n",
       "      <th>18749</th>\n",
       "      <td>13038982</td>\n",
       "      <td>Fit</td>\n",
       "      <td>24</td>\n",
       "    </tr>\n",
       "  </tbody>\n",
       "</table>\n",
       "<p>18750 rows × 3 columns</p>\n",
       "</div>"
      ],
      "text/plain": [
       "       productid attribute_name  attributevalue\n",
       "0       11145600            Fit              37\n",
       "1       11145600  Sleeve Length              23\n",
       "2       11145600         Fabric              16\n",
       "3       11145600          Color              25\n",
       "4       11145600       Neckline              51\n",
       "5       11145602            Fit              37\n",
       "6       11145602  Sleeve Length               3\n",
       "7       11145602         Fabric              58\n",
       "8       11145602          Color              17\n",
       "9       11145602       Neckline               4\n",
       "10      11145612            Fit              37\n",
       "11      11145612  Sleeve Length              21\n",
       "12      11145612         Fabric              58\n",
       "13      11145612          Color              17\n",
       "14      11145612       Neckline               8\n",
       "15      11145614            Fit              37\n",
       "16      11145614  Sleeve Length              21\n",
       "17      11145614         Fabric              39\n",
       "18      11145614          Color              31\n",
       "19      11145614       Neckline               8\n",
       "20      11145620            Fit               0\n",
       "21      11145620  Sleeve Length              23\n",
       "22      11145620         Fabric              16\n",
       "23      11145620          Color              28\n",
       "24      11145620       Neckline              26\n",
       "25      11145624            Fit              37\n",
       "26      11145624  Sleeve Length               3\n",
       "27      11145624         Fabric               2\n",
       "28      11145624          Color              18\n",
       "29      11145624       Neckline               4\n",
       "...          ...            ...             ...\n",
       "18720   14122762         Fabric               2\n",
       "18721   14122762         Season               9\n",
       "18722   14122762       Neckline               8\n",
       "18723   14122766       Category               1\n",
       "18724   14122766            Fit               0\n",
       "18725   14122766  Sleeve Length               3\n",
       "18726   14122766         Fabric               2\n",
       "18727   14122766         Season               9\n",
       "18728   14122766       Neckline               8\n",
       "18729   14122834       Category               1\n",
       "18730   14122834            Fit               0\n",
       "18731   14122834  Sleeve Length               3\n",
       "18732   14122834         Fabric               2\n",
       "18733   14122834         Season               9\n",
       "18734   14122834       Neckline               8\n",
       "18735   14122832         Fabric             130\n",
       "18736   14122832       Category               7\n",
       "18737   14122832            Fit               0\n",
       "18738   14122832  Sleeve Length               3\n",
       "18739   14122832          Color              57\n",
       "18740   14122832         Season               9\n",
       "18741   14122832       Neckline              49\n",
       "18742   14104334       Category              19\n",
       "18743   14104334         Season               9\n",
       "18744   14128359       Category              19\n",
       "18745   14128359         Season               9\n",
       "18746   13039386          Color             164\n",
       "18747   13039714       Neckline               8\n",
       "18748   14122820       Neckline               8\n",
       "18749   13038982            Fit              24\n",
       "\n",
       "[18750 rows x 3 columns]"
      ]
     },
     "execution_count": 369,
     "metadata": {},
     "output_type": "execute_result"
    }
   ],
   "source": [
    "for index, row in pro_att.iterrows():\n",
    "    val = row['attributevalue']\n",
    "    "
   ]
  },
  {
   "cell_type": "code",
   "execution_count": 379,
   "metadata": {},
   "outputs": [],
   "source": [
    "proatt_list_1 = pro_att.groupby('productid')['attribute_name'].apply(list)"
   ]
  },
  {
   "cell_type": "code",
   "execution_count": 383,
   "metadata": {},
   "outputs": [
    {
     "data": {
      "text/plain": [
       "productid\n",
       "11139192               [Fit, Fabric, Color, Category, Season]\n",
       "11139194               [Fit, Fabric, Color, Category, Season]\n",
       "11139524    [Fit, Sleeve Length, Fabric, Color, Neckline, ...\n",
       "11139560    [Fit, Sleeve Length, Fabric, Color, Neckline, ...\n",
       "11139588               [Fit, Fabric, Color, Category, Season]\n",
       "11139650    [Fit, Sleeve Length, Fabric, Color, Neckline, ...\n",
       "11141306                    [Fabric, Color, Category, Season]\n",
       "11141308               [Fit, Fabric, Color, Category, Season]\n",
       "11141318               [Fit, Fabric, Color, Category, Season]\n",
       "11141320               [Fit, Fabric, Color, Category, Season]\n",
       "11141324               [Fit, Fabric, Color, Category, Season]\n",
       "11141326               [Fit, Fabric, Category, Season, Color]\n",
       "11141328                    [Fabric, Color, Category, Season]\n",
       "11141330               [Fit, Fabric, Color, Category, Season]\n",
       "11141338               [Fit, Fabric, Color, Category, Season]\n",
       "11141340               [Fit, Fabric, Color, Category, Season]\n",
       "11141342               [Fit, Fabric, Color, Category, Season]\n",
       "11141346                    [Fabric, Color, Category, Season]\n",
       "11141354                    [Fabric, Color, Category, Season]\n",
       "11141530    [Fit, Sleeve Length, Fabric, Color, Neckline, ...\n",
       "11141538    [Fit, Sleeve Length, Fabric, Neckline, Categor...\n",
       "11141644                    [Fabric, Color, Category, Season]\n",
       "11144136    [Fit, Sleeve Length, Fabric, Color, Neckline, ...\n",
       "11144260    [Fit, Sleeve Length, Fabric, Color, Neckline, ...\n",
       "11145600    [Fit, Sleeve Length, Fabric, Color, Neckline, ...\n",
       "11145602    [Fit, Sleeve Length, Fabric, Color, Neckline, ...\n",
       "11145612    [Fit, Sleeve Length, Fabric, Color, Neckline, ...\n",
       "11145614    [Fit, Sleeve Length, Fabric, Color, Neckline, ...\n",
       "11145620    [Fit, Sleeve Length, Fabric, Color, Neckline, ...\n",
       "11145624    [Fit, Sleeve Length, Fabric, Color, Neckline, ...\n",
       "                                  ...                        \n",
       "14110862           [Category, Fit, Fabric, Color, Collection]\n",
       "14110864           [Category, Fit, Fabric, Color, Collection]\n",
       "14110866           [Category, Fit, Fabric, Color, Collection]\n",
       "14110868           [Category, Fit, Fabric, Color, Collection]\n",
       "14121822                               [Category, Fit, Color]\n",
       "14121824                                      [Category, Fit]\n",
       "14121826                                   [Category, Season]\n",
       "14121828                              [Category, Fit, Season]\n",
       "14121830                      [Category, Fit, Fabric, Season]\n",
       "14121832                           [Category, Fabric, Season]\n",
       "14121834            [Category, Sleeve Length, Fabric, Season]\n",
       "14121836                           [Category, Fabric, Season]\n",
       "14121838            [Category, Sleeve Length, Fabric, Season]\n",
       "14121840                    [Category, Fabric, Color, Season]\n",
       "14121842                       [Category, Fit, Fabric, Color]\n",
       "14121844                           [Category, Fabric, Season]\n",
       "14121846                            [Category, Fabric, Color]\n",
       "14121848                    [Category, Fabric, Color, Season]\n",
       "14122744           [Category, Fit, Fabric, Color, Collection]\n",
       "14122748                    [Category, Fabric, Color, Season]\n",
       "14122750    [Category, Fit, Sleeve Length, Fabric, Season,...\n",
       "14122758    [Category, Fit, Sleeve Length, Fabric, Season,...\n",
       "14122762    [Category, Fit, Sleeve Length, Fabric, Season,...\n",
       "14122766    [Category, Fit, Sleeve Length, Fabric, Season,...\n",
       "14122818    [Category, Fit, Sleeve Length, Fabric, Color, ...\n",
       "14122820    [Category, Fit, Sleeve Length, Fabric, Color, ...\n",
       "14122822    [Category, Fit, Sleeve Length, Fabric, Color, ...\n",
       "14122832    [Fabric, Category, Fit, Sleeve Length, Color, ...\n",
       "14122834    [Category, Fit, Sleeve Length, Fabric, Season,...\n",
       "14128359                                   [Category, Season]\n",
       "Name: attribute_name, Length: 3015, dtype: object"
      ]
     },
     "execution_count": 383,
     "metadata": {},
     "output_type": "execute_result"
    }
   ],
   "source": [
    "proatt_list_1"
   ]
  },
  {
   "cell_type": "code",
   "execution_count": 381,
   "metadata": {},
   "outputs": [],
   "source": [
    "proatt_list_2 = pro_att.groupby('productid')['attributevalue'].apply(list)"
   ]
  },
  {
   "cell_type": "code",
   "execution_count": 382,
   "metadata": {},
   "outputs": [
    {
     "data": {
      "text/plain": [
       "productid\n",
       "11139192                [0, 2, 41, 1, 42]\n",
       "11139194                [0, 2, 25, 1, 42]\n",
       "11139524       [14, 23, 16, 95, 4, 1, 42]\n",
       "11139560       [14, 127, 2, 41, 4, 1, 42]\n",
       "11139588               [0, 58, 25, 1, 42]\n",
       "11139650        [14, 23, 2, 31, 4, 1, 42]\n",
       "11141306                   [2, 28, 1, 56]\n",
       "11141308                [0, 2, 71, 1, 56]\n",
       "11141318               [0, 2, 149, 1, 56]\n",
       "11141320               [0, 2, 149, 1, 56]\n",
       "11141324               [0, 2, 163, 1, 56]\n",
       "11141326               [0, 2, 1, 56, 126]\n",
       "11141328                  [2, 103, 1, 56]\n",
       "11141330                [0, 2, 38, 1, 56]\n",
       "11141338                [0, 2, 61, 1, 56]\n",
       "11141340               [0, 2, 115, 1, 56]\n",
       "11141342                [0, 2, 32, 1, 56]\n",
       "11141346                   [2, 22, 1, 56]\n",
       "11141354                   [2, 17, 1, 56]\n",
       "11141530       [0, 21, 16, 25, 51, 1, 42]\n",
       "11141538        [0, 23, 2, 26, 1, 42, 43]\n",
       "11141644                   [2, 22, 1, 56]\n",
       "11144136        [0, 21, 2, 43, 49, 1, 42]\n",
       "11144260       [0, 21, 16, 31, 49, 1, 42]\n",
       "11145600      [37, 23, 16, 25, 51, 1, 42]\n",
       "11145602        [37, 3, 58, 17, 4, 1, 42]\n",
       "11145612       [37, 21, 58, 17, 8, 1, 42]\n",
       "11145614       [37, 21, 39, 31, 8, 1, 42]\n",
       "11145620       [0, 23, 16, 28, 26, 1, 42]\n",
       "11145624         [37, 3, 2, 18, 4, 1, 42]\n",
       "                        ...              \n",
       "14110862                [1, 0, 2, 62, 50]\n",
       "14110864                [1, 0, 2, 52, 50]\n",
       "14110866                [1, 0, 2, 54, 50]\n",
       "14110868               [1, 0, 2, 137, 50]\n",
       "14121822                      [1, 0, 193]\n",
       "14121824                           [1, 0]\n",
       "14121826                           [1, 9]\n",
       "14121828                        [1, 0, 9]\n",
       "14121830                     [1, 0, 2, 9]\n",
       "14121832                        [1, 2, 9]\n",
       "14121834                     [1, 3, 2, 9]\n",
       "14121836                        [1, 2, 9]\n",
       "14121838                     [1, 3, 2, 9]\n",
       "14121840                    [1, 2, 18, 9]\n",
       "14121842                   [1, 0, 2, 231]\n",
       "14121844                        [1, 2, 9]\n",
       "14121846                       [1, 2, 59]\n",
       "14121848                    [1, 2, 28, 9]\n",
       "14122744               [1, 14, 2, 28, 50]\n",
       "14122748                   [1, 55, 28, 9]\n",
       "14122750               [1, 0, 3, 2, 9, 8]\n",
       "14122758               [1, 0, 3, 2, 9, 8]\n",
       "14122762               [1, 0, 3, 2, 9, 8]\n",
       "14122766               [1, 0, 3, 2, 9, 8]\n",
       "14122818        [7, 37, 48, 39, 17, 9, 4]\n",
       "14122820    [7, 24, 23, 39, 62, 9, 99, 8]\n",
       "14122822        [7, 37, 21, 39, 20, 9, 4]\n",
       "14122832        [130, 7, 0, 3, 57, 9, 49]\n",
       "14122834               [1, 0, 3, 2, 9, 8]\n",
       "14128359                          [19, 9]\n",
       "Name: attributevalue, Length: 3015, dtype: object"
      ]
     },
     "execution_count": 382,
     "metadata": {},
     "output_type": "execute_result"
    }
   ],
   "source": [
    "proatt_list_2"
   ]
  },
  {
   "cell_type": "code",
   "execution_count": 384,
   "metadata": {},
   "outputs": [],
   "source": [
    "dff = pd.get_dummies(data=pro_att)"
   ]
  },
  {
   "cell_type": "code",
   "execution_count": 385,
   "metadata": {},
   "outputs": [
    {
     "data": {
      "text/html": [
       "<div>\n",
       "<style scoped>\n",
       "    .dataframe tbody tr th:only-of-type {\n",
       "        vertical-align: middle;\n",
       "    }\n",
       "\n",
       "    .dataframe tbody tr th {\n",
       "        vertical-align: top;\n",
       "    }\n",
       "\n",
       "    .dataframe thead th {\n",
       "        text-align: right;\n",
       "    }\n",
       "</style>\n",
       "<table border=\"1\" class=\"dataframe\">\n",
       "  <thead>\n",
       "    <tr style=\"text-align: right;\">\n",
       "      <th></th>\n",
       "      <th>productid</th>\n",
       "      <th>attributevalue</th>\n",
       "      <th>attribute_name_Category</th>\n",
       "      <th>attribute_name_Collection</th>\n",
       "      <th>attribute_name_Color</th>\n",
       "      <th>attribute_name_Fabric</th>\n",
       "      <th>attribute_name_Fit</th>\n",
       "      <th>attribute_name_Material</th>\n",
       "      <th>attribute_name_Neckline</th>\n",
       "      <th>attribute_name_Season</th>\n",
       "      <th>attribute_name_Sleeve Length</th>\n",
       "    </tr>\n",
       "  </thead>\n",
       "  <tbody>\n",
       "    <tr>\n",
       "      <th>0</th>\n",
       "      <td>11145600</td>\n",
       "      <td>37</td>\n",
       "      <td>0</td>\n",
       "      <td>0</td>\n",
       "      <td>0</td>\n",
       "      <td>0</td>\n",
       "      <td>1</td>\n",
       "      <td>0</td>\n",
       "      <td>0</td>\n",
       "      <td>0</td>\n",
       "      <td>0</td>\n",
       "    </tr>\n",
       "    <tr>\n",
       "      <th>1</th>\n",
       "      <td>11145600</td>\n",
       "      <td>23</td>\n",
       "      <td>0</td>\n",
       "      <td>0</td>\n",
       "      <td>0</td>\n",
       "      <td>0</td>\n",
       "      <td>0</td>\n",
       "      <td>0</td>\n",
       "      <td>0</td>\n",
       "      <td>0</td>\n",
       "      <td>1</td>\n",
       "    </tr>\n",
       "    <tr>\n",
       "      <th>2</th>\n",
       "      <td>11145600</td>\n",
       "      <td>16</td>\n",
       "      <td>0</td>\n",
       "      <td>0</td>\n",
       "      <td>0</td>\n",
       "      <td>1</td>\n",
       "      <td>0</td>\n",
       "      <td>0</td>\n",
       "      <td>0</td>\n",
       "      <td>0</td>\n",
       "      <td>0</td>\n",
       "    </tr>\n",
       "    <tr>\n",
       "      <th>3</th>\n",
       "      <td>11145600</td>\n",
       "      <td>25</td>\n",
       "      <td>0</td>\n",
       "      <td>0</td>\n",
       "      <td>1</td>\n",
       "      <td>0</td>\n",
       "      <td>0</td>\n",
       "      <td>0</td>\n",
       "      <td>0</td>\n",
       "      <td>0</td>\n",
       "      <td>0</td>\n",
       "    </tr>\n",
       "    <tr>\n",
       "      <th>4</th>\n",
       "      <td>11145600</td>\n",
       "      <td>51</td>\n",
       "      <td>0</td>\n",
       "      <td>0</td>\n",
       "      <td>0</td>\n",
       "      <td>0</td>\n",
       "      <td>0</td>\n",
       "      <td>0</td>\n",
       "      <td>1</td>\n",
       "      <td>0</td>\n",
       "      <td>0</td>\n",
       "    </tr>\n",
       "    <tr>\n",
       "      <th>5</th>\n",
       "      <td>11145602</td>\n",
       "      <td>37</td>\n",
       "      <td>0</td>\n",
       "      <td>0</td>\n",
       "      <td>0</td>\n",
       "      <td>0</td>\n",
       "      <td>1</td>\n",
       "      <td>0</td>\n",
       "      <td>0</td>\n",
       "      <td>0</td>\n",
       "      <td>0</td>\n",
       "    </tr>\n",
       "    <tr>\n",
       "      <th>6</th>\n",
       "      <td>11145602</td>\n",
       "      <td>3</td>\n",
       "      <td>0</td>\n",
       "      <td>0</td>\n",
       "      <td>0</td>\n",
       "      <td>0</td>\n",
       "      <td>0</td>\n",
       "      <td>0</td>\n",
       "      <td>0</td>\n",
       "      <td>0</td>\n",
       "      <td>1</td>\n",
       "    </tr>\n",
       "    <tr>\n",
       "      <th>7</th>\n",
       "      <td>11145602</td>\n",
       "      <td>58</td>\n",
       "      <td>0</td>\n",
       "      <td>0</td>\n",
       "      <td>0</td>\n",
       "      <td>1</td>\n",
       "      <td>0</td>\n",
       "      <td>0</td>\n",
       "      <td>0</td>\n",
       "      <td>0</td>\n",
       "      <td>0</td>\n",
       "    </tr>\n",
       "    <tr>\n",
       "      <th>8</th>\n",
       "      <td>11145602</td>\n",
       "      <td>17</td>\n",
       "      <td>0</td>\n",
       "      <td>0</td>\n",
       "      <td>1</td>\n",
       "      <td>0</td>\n",
       "      <td>0</td>\n",
       "      <td>0</td>\n",
       "      <td>0</td>\n",
       "      <td>0</td>\n",
       "      <td>0</td>\n",
       "    </tr>\n",
       "    <tr>\n",
       "      <th>9</th>\n",
       "      <td>11145602</td>\n",
       "      <td>4</td>\n",
       "      <td>0</td>\n",
       "      <td>0</td>\n",
       "      <td>0</td>\n",
       "      <td>0</td>\n",
       "      <td>0</td>\n",
       "      <td>0</td>\n",
       "      <td>1</td>\n",
       "      <td>0</td>\n",
       "      <td>0</td>\n",
       "    </tr>\n",
       "    <tr>\n",
       "      <th>10</th>\n",
       "      <td>11145612</td>\n",
       "      <td>37</td>\n",
       "      <td>0</td>\n",
       "      <td>0</td>\n",
       "      <td>0</td>\n",
       "      <td>0</td>\n",
       "      <td>1</td>\n",
       "      <td>0</td>\n",
       "      <td>0</td>\n",
       "      <td>0</td>\n",
       "      <td>0</td>\n",
       "    </tr>\n",
       "    <tr>\n",
       "      <th>11</th>\n",
       "      <td>11145612</td>\n",
       "      <td>21</td>\n",
       "      <td>0</td>\n",
       "      <td>0</td>\n",
       "      <td>0</td>\n",
       "      <td>0</td>\n",
       "      <td>0</td>\n",
       "      <td>0</td>\n",
       "      <td>0</td>\n",
       "      <td>0</td>\n",
       "      <td>1</td>\n",
       "    </tr>\n",
       "    <tr>\n",
       "      <th>12</th>\n",
       "      <td>11145612</td>\n",
       "      <td>58</td>\n",
       "      <td>0</td>\n",
       "      <td>0</td>\n",
       "      <td>0</td>\n",
       "      <td>1</td>\n",
       "      <td>0</td>\n",
       "      <td>0</td>\n",
       "      <td>0</td>\n",
       "      <td>0</td>\n",
       "      <td>0</td>\n",
       "    </tr>\n",
       "    <tr>\n",
       "      <th>13</th>\n",
       "      <td>11145612</td>\n",
       "      <td>17</td>\n",
       "      <td>0</td>\n",
       "      <td>0</td>\n",
       "      <td>1</td>\n",
       "      <td>0</td>\n",
       "      <td>0</td>\n",
       "      <td>0</td>\n",
       "      <td>0</td>\n",
       "      <td>0</td>\n",
       "      <td>0</td>\n",
       "    </tr>\n",
       "    <tr>\n",
       "      <th>14</th>\n",
       "      <td>11145612</td>\n",
       "      <td>8</td>\n",
       "      <td>0</td>\n",
       "      <td>0</td>\n",
       "      <td>0</td>\n",
       "      <td>0</td>\n",
       "      <td>0</td>\n",
       "      <td>0</td>\n",
       "      <td>1</td>\n",
       "      <td>0</td>\n",
       "      <td>0</td>\n",
       "    </tr>\n",
       "    <tr>\n",
       "      <th>15</th>\n",
       "      <td>11145614</td>\n",
       "      <td>37</td>\n",
       "      <td>0</td>\n",
       "      <td>0</td>\n",
       "      <td>0</td>\n",
       "      <td>0</td>\n",
       "      <td>1</td>\n",
       "      <td>0</td>\n",
       "      <td>0</td>\n",
       "      <td>0</td>\n",
       "      <td>0</td>\n",
       "    </tr>\n",
       "    <tr>\n",
       "      <th>16</th>\n",
       "      <td>11145614</td>\n",
       "      <td>21</td>\n",
       "      <td>0</td>\n",
       "      <td>0</td>\n",
       "      <td>0</td>\n",
       "      <td>0</td>\n",
       "      <td>0</td>\n",
       "      <td>0</td>\n",
       "      <td>0</td>\n",
       "      <td>0</td>\n",
       "      <td>1</td>\n",
       "    </tr>\n",
       "    <tr>\n",
       "      <th>17</th>\n",
       "      <td>11145614</td>\n",
       "      <td>39</td>\n",
       "      <td>0</td>\n",
       "      <td>0</td>\n",
       "      <td>0</td>\n",
       "      <td>1</td>\n",
       "      <td>0</td>\n",
       "      <td>0</td>\n",
       "      <td>0</td>\n",
       "      <td>0</td>\n",
       "      <td>0</td>\n",
       "    </tr>\n",
       "    <tr>\n",
       "      <th>18</th>\n",
       "      <td>11145614</td>\n",
       "      <td>31</td>\n",
       "      <td>0</td>\n",
       "      <td>0</td>\n",
       "      <td>1</td>\n",
       "      <td>0</td>\n",
       "      <td>0</td>\n",
       "      <td>0</td>\n",
       "      <td>0</td>\n",
       "      <td>0</td>\n",
       "      <td>0</td>\n",
       "    </tr>\n",
       "    <tr>\n",
       "      <th>19</th>\n",
       "      <td>11145614</td>\n",
       "      <td>8</td>\n",
       "      <td>0</td>\n",
       "      <td>0</td>\n",
       "      <td>0</td>\n",
       "      <td>0</td>\n",
       "      <td>0</td>\n",
       "      <td>0</td>\n",
       "      <td>1</td>\n",
       "      <td>0</td>\n",
       "      <td>0</td>\n",
       "    </tr>\n",
       "    <tr>\n",
       "      <th>20</th>\n",
       "      <td>11145620</td>\n",
       "      <td>0</td>\n",
       "      <td>0</td>\n",
       "      <td>0</td>\n",
       "      <td>0</td>\n",
       "      <td>0</td>\n",
       "      <td>1</td>\n",
       "      <td>0</td>\n",
       "      <td>0</td>\n",
       "      <td>0</td>\n",
       "      <td>0</td>\n",
       "    </tr>\n",
       "    <tr>\n",
       "      <th>21</th>\n",
       "      <td>11145620</td>\n",
       "      <td>23</td>\n",
       "      <td>0</td>\n",
       "      <td>0</td>\n",
       "      <td>0</td>\n",
       "      <td>0</td>\n",
       "      <td>0</td>\n",
       "      <td>0</td>\n",
       "      <td>0</td>\n",
       "      <td>0</td>\n",
       "      <td>1</td>\n",
       "    </tr>\n",
       "    <tr>\n",
       "      <th>22</th>\n",
       "      <td>11145620</td>\n",
       "      <td>16</td>\n",
       "      <td>0</td>\n",
       "      <td>0</td>\n",
       "      <td>0</td>\n",
       "      <td>1</td>\n",
       "      <td>0</td>\n",
       "      <td>0</td>\n",
       "      <td>0</td>\n",
       "      <td>0</td>\n",
       "      <td>0</td>\n",
       "    </tr>\n",
       "    <tr>\n",
       "      <th>23</th>\n",
       "      <td>11145620</td>\n",
       "      <td>28</td>\n",
       "      <td>0</td>\n",
       "      <td>0</td>\n",
       "      <td>1</td>\n",
       "      <td>0</td>\n",
       "      <td>0</td>\n",
       "      <td>0</td>\n",
       "      <td>0</td>\n",
       "      <td>0</td>\n",
       "      <td>0</td>\n",
       "    </tr>\n",
       "    <tr>\n",
       "      <th>24</th>\n",
       "      <td>11145620</td>\n",
       "      <td>26</td>\n",
       "      <td>0</td>\n",
       "      <td>0</td>\n",
       "      <td>0</td>\n",
       "      <td>0</td>\n",
       "      <td>0</td>\n",
       "      <td>0</td>\n",
       "      <td>1</td>\n",
       "      <td>0</td>\n",
       "      <td>0</td>\n",
       "    </tr>\n",
       "    <tr>\n",
       "      <th>25</th>\n",
       "      <td>11145624</td>\n",
       "      <td>37</td>\n",
       "      <td>0</td>\n",
       "      <td>0</td>\n",
       "      <td>0</td>\n",
       "      <td>0</td>\n",
       "      <td>1</td>\n",
       "      <td>0</td>\n",
       "      <td>0</td>\n",
       "      <td>0</td>\n",
       "      <td>0</td>\n",
       "    </tr>\n",
       "    <tr>\n",
       "      <th>26</th>\n",
       "      <td>11145624</td>\n",
       "      <td>3</td>\n",
       "      <td>0</td>\n",
       "      <td>0</td>\n",
       "      <td>0</td>\n",
       "      <td>0</td>\n",
       "      <td>0</td>\n",
       "      <td>0</td>\n",
       "      <td>0</td>\n",
       "      <td>0</td>\n",
       "      <td>1</td>\n",
       "    </tr>\n",
       "    <tr>\n",
       "      <th>27</th>\n",
       "      <td>11145624</td>\n",
       "      <td>2</td>\n",
       "      <td>0</td>\n",
       "      <td>0</td>\n",
       "      <td>0</td>\n",
       "      <td>1</td>\n",
       "      <td>0</td>\n",
       "      <td>0</td>\n",
       "      <td>0</td>\n",
       "      <td>0</td>\n",
       "      <td>0</td>\n",
       "    </tr>\n",
       "    <tr>\n",
       "      <th>28</th>\n",
       "      <td>11145624</td>\n",
       "      <td>18</td>\n",
       "      <td>0</td>\n",
       "      <td>0</td>\n",
       "      <td>1</td>\n",
       "      <td>0</td>\n",
       "      <td>0</td>\n",
       "      <td>0</td>\n",
       "      <td>0</td>\n",
       "      <td>0</td>\n",
       "      <td>0</td>\n",
       "    </tr>\n",
       "    <tr>\n",
       "      <th>29</th>\n",
       "      <td>11145624</td>\n",
       "      <td>4</td>\n",
       "      <td>0</td>\n",
       "      <td>0</td>\n",
       "      <td>0</td>\n",
       "      <td>0</td>\n",
       "      <td>0</td>\n",
       "      <td>0</td>\n",
       "      <td>1</td>\n",
       "      <td>0</td>\n",
       "      <td>0</td>\n",
       "    </tr>\n",
       "    <tr>\n",
       "      <th>...</th>\n",
       "      <td>...</td>\n",
       "      <td>...</td>\n",
       "      <td>...</td>\n",
       "      <td>...</td>\n",
       "      <td>...</td>\n",
       "      <td>...</td>\n",
       "      <td>...</td>\n",
       "      <td>...</td>\n",
       "      <td>...</td>\n",
       "      <td>...</td>\n",
       "      <td>...</td>\n",
       "    </tr>\n",
       "    <tr>\n",
       "      <th>18720</th>\n",
       "      <td>14122762</td>\n",
       "      <td>2</td>\n",
       "      <td>0</td>\n",
       "      <td>0</td>\n",
       "      <td>0</td>\n",
       "      <td>1</td>\n",
       "      <td>0</td>\n",
       "      <td>0</td>\n",
       "      <td>0</td>\n",
       "      <td>0</td>\n",
       "      <td>0</td>\n",
       "    </tr>\n",
       "    <tr>\n",
       "      <th>18721</th>\n",
       "      <td>14122762</td>\n",
       "      <td>9</td>\n",
       "      <td>0</td>\n",
       "      <td>0</td>\n",
       "      <td>0</td>\n",
       "      <td>0</td>\n",
       "      <td>0</td>\n",
       "      <td>0</td>\n",
       "      <td>0</td>\n",
       "      <td>1</td>\n",
       "      <td>0</td>\n",
       "    </tr>\n",
       "    <tr>\n",
       "      <th>18722</th>\n",
       "      <td>14122762</td>\n",
       "      <td>8</td>\n",
       "      <td>0</td>\n",
       "      <td>0</td>\n",
       "      <td>0</td>\n",
       "      <td>0</td>\n",
       "      <td>0</td>\n",
       "      <td>0</td>\n",
       "      <td>1</td>\n",
       "      <td>0</td>\n",
       "      <td>0</td>\n",
       "    </tr>\n",
       "    <tr>\n",
       "      <th>18723</th>\n",
       "      <td>14122766</td>\n",
       "      <td>1</td>\n",
       "      <td>1</td>\n",
       "      <td>0</td>\n",
       "      <td>0</td>\n",
       "      <td>0</td>\n",
       "      <td>0</td>\n",
       "      <td>0</td>\n",
       "      <td>0</td>\n",
       "      <td>0</td>\n",
       "      <td>0</td>\n",
       "    </tr>\n",
       "    <tr>\n",
       "      <th>18724</th>\n",
       "      <td>14122766</td>\n",
       "      <td>0</td>\n",
       "      <td>0</td>\n",
       "      <td>0</td>\n",
       "      <td>0</td>\n",
       "      <td>0</td>\n",
       "      <td>1</td>\n",
       "      <td>0</td>\n",
       "      <td>0</td>\n",
       "      <td>0</td>\n",
       "      <td>0</td>\n",
       "    </tr>\n",
       "    <tr>\n",
       "      <th>18725</th>\n",
       "      <td>14122766</td>\n",
       "      <td>3</td>\n",
       "      <td>0</td>\n",
       "      <td>0</td>\n",
       "      <td>0</td>\n",
       "      <td>0</td>\n",
       "      <td>0</td>\n",
       "      <td>0</td>\n",
       "      <td>0</td>\n",
       "      <td>0</td>\n",
       "      <td>1</td>\n",
       "    </tr>\n",
       "    <tr>\n",
       "      <th>18726</th>\n",
       "      <td>14122766</td>\n",
       "      <td>2</td>\n",
       "      <td>0</td>\n",
       "      <td>0</td>\n",
       "      <td>0</td>\n",
       "      <td>1</td>\n",
       "      <td>0</td>\n",
       "      <td>0</td>\n",
       "      <td>0</td>\n",
       "      <td>0</td>\n",
       "      <td>0</td>\n",
       "    </tr>\n",
       "    <tr>\n",
       "      <th>18727</th>\n",
       "      <td>14122766</td>\n",
       "      <td>9</td>\n",
       "      <td>0</td>\n",
       "      <td>0</td>\n",
       "      <td>0</td>\n",
       "      <td>0</td>\n",
       "      <td>0</td>\n",
       "      <td>0</td>\n",
       "      <td>0</td>\n",
       "      <td>1</td>\n",
       "      <td>0</td>\n",
       "    </tr>\n",
       "    <tr>\n",
       "      <th>18728</th>\n",
       "      <td>14122766</td>\n",
       "      <td>8</td>\n",
       "      <td>0</td>\n",
       "      <td>0</td>\n",
       "      <td>0</td>\n",
       "      <td>0</td>\n",
       "      <td>0</td>\n",
       "      <td>0</td>\n",
       "      <td>1</td>\n",
       "      <td>0</td>\n",
       "      <td>0</td>\n",
       "    </tr>\n",
       "    <tr>\n",
       "      <th>18729</th>\n",
       "      <td>14122834</td>\n",
       "      <td>1</td>\n",
       "      <td>1</td>\n",
       "      <td>0</td>\n",
       "      <td>0</td>\n",
       "      <td>0</td>\n",
       "      <td>0</td>\n",
       "      <td>0</td>\n",
       "      <td>0</td>\n",
       "      <td>0</td>\n",
       "      <td>0</td>\n",
       "    </tr>\n",
       "    <tr>\n",
       "      <th>18730</th>\n",
       "      <td>14122834</td>\n",
       "      <td>0</td>\n",
       "      <td>0</td>\n",
       "      <td>0</td>\n",
       "      <td>0</td>\n",
       "      <td>0</td>\n",
       "      <td>1</td>\n",
       "      <td>0</td>\n",
       "      <td>0</td>\n",
       "      <td>0</td>\n",
       "      <td>0</td>\n",
       "    </tr>\n",
       "    <tr>\n",
       "      <th>18731</th>\n",
       "      <td>14122834</td>\n",
       "      <td>3</td>\n",
       "      <td>0</td>\n",
       "      <td>0</td>\n",
       "      <td>0</td>\n",
       "      <td>0</td>\n",
       "      <td>0</td>\n",
       "      <td>0</td>\n",
       "      <td>0</td>\n",
       "      <td>0</td>\n",
       "      <td>1</td>\n",
       "    </tr>\n",
       "    <tr>\n",
       "      <th>18732</th>\n",
       "      <td>14122834</td>\n",
       "      <td>2</td>\n",
       "      <td>0</td>\n",
       "      <td>0</td>\n",
       "      <td>0</td>\n",
       "      <td>1</td>\n",
       "      <td>0</td>\n",
       "      <td>0</td>\n",
       "      <td>0</td>\n",
       "      <td>0</td>\n",
       "      <td>0</td>\n",
       "    </tr>\n",
       "    <tr>\n",
       "      <th>18733</th>\n",
       "      <td>14122834</td>\n",
       "      <td>9</td>\n",
       "      <td>0</td>\n",
       "      <td>0</td>\n",
       "      <td>0</td>\n",
       "      <td>0</td>\n",
       "      <td>0</td>\n",
       "      <td>0</td>\n",
       "      <td>0</td>\n",
       "      <td>1</td>\n",
       "      <td>0</td>\n",
       "    </tr>\n",
       "    <tr>\n",
       "      <th>18734</th>\n",
       "      <td>14122834</td>\n",
       "      <td>8</td>\n",
       "      <td>0</td>\n",
       "      <td>0</td>\n",
       "      <td>0</td>\n",
       "      <td>0</td>\n",
       "      <td>0</td>\n",
       "      <td>0</td>\n",
       "      <td>1</td>\n",
       "      <td>0</td>\n",
       "      <td>0</td>\n",
       "    </tr>\n",
       "    <tr>\n",
       "      <th>18735</th>\n",
       "      <td>14122832</td>\n",
       "      <td>130</td>\n",
       "      <td>0</td>\n",
       "      <td>0</td>\n",
       "      <td>0</td>\n",
       "      <td>1</td>\n",
       "      <td>0</td>\n",
       "      <td>0</td>\n",
       "      <td>0</td>\n",
       "      <td>0</td>\n",
       "      <td>0</td>\n",
       "    </tr>\n",
       "    <tr>\n",
       "      <th>18736</th>\n",
       "      <td>14122832</td>\n",
       "      <td>7</td>\n",
       "      <td>1</td>\n",
       "      <td>0</td>\n",
       "      <td>0</td>\n",
       "      <td>0</td>\n",
       "      <td>0</td>\n",
       "      <td>0</td>\n",
       "      <td>0</td>\n",
       "      <td>0</td>\n",
       "      <td>0</td>\n",
       "    </tr>\n",
       "    <tr>\n",
       "      <th>18737</th>\n",
       "      <td>14122832</td>\n",
       "      <td>0</td>\n",
       "      <td>0</td>\n",
       "      <td>0</td>\n",
       "      <td>0</td>\n",
       "      <td>0</td>\n",
       "      <td>1</td>\n",
       "      <td>0</td>\n",
       "      <td>0</td>\n",
       "      <td>0</td>\n",
       "      <td>0</td>\n",
       "    </tr>\n",
       "    <tr>\n",
       "      <th>18738</th>\n",
       "      <td>14122832</td>\n",
       "      <td>3</td>\n",
       "      <td>0</td>\n",
       "      <td>0</td>\n",
       "      <td>0</td>\n",
       "      <td>0</td>\n",
       "      <td>0</td>\n",
       "      <td>0</td>\n",
       "      <td>0</td>\n",
       "      <td>0</td>\n",
       "      <td>1</td>\n",
       "    </tr>\n",
       "    <tr>\n",
       "      <th>18739</th>\n",
       "      <td>14122832</td>\n",
       "      <td>57</td>\n",
       "      <td>0</td>\n",
       "      <td>0</td>\n",
       "      <td>1</td>\n",
       "      <td>0</td>\n",
       "      <td>0</td>\n",
       "      <td>0</td>\n",
       "      <td>0</td>\n",
       "      <td>0</td>\n",
       "      <td>0</td>\n",
       "    </tr>\n",
       "    <tr>\n",
       "      <th>18740</th>\n",
       "      <td>14122832</td>\n",
       "      <td>9</td>\n",
       "      <td>0</td>\n",
       "      <td>0</td>\n",
       "      <td>0</td>\n",
       "      <td>0</td>\n",
       "      <td>0</td>\n",
       "      <td>0</td>\n",
       "      <td>0</td>\n",
       "      <td>1</td>\n",
       "      <td>0</td>\n",
       "    </tr>\n",
       "    <tr>\n",
       "      <th>18741</th>\n",
       "      <td>14122832</td>\n",
       "      <td>49</td>\n",
       "      <td>0</td>\n",
       "      <td>0</td>\n",
       "      <td>0</td>\n",
       "      <td>0</td>\n",
       "      <td>0</td>\n",
       "      <td>0</td>\n",
       "      <td>1</td>\n",
       "      <td>0</td>\n",
       "      <td>0</td>\n",
       "    </tr>\n",
       "    <tr>\n",
       "      <th>18742</th>\n",
       "      <td>14104334</td>\n",
       "      <td>19</td>\n",
       "      <td>1</td>\n",
       "      <td>0</td>\n",
       "      <td>0</td>\n",
       "      <td>0</td>\n",
       "      <td>0</td>\n",
       "      <td>0</td>\n",
       "      <td>0</td>\n",
       "      <td>0</td>\n",
       "      <td>0</td>\n",
       "    </tr>\n",
       "    <tr>\n",
       "      <th>18743</th>\n",
       "      <td>14104334</td>\n",
       "      <td>9</td>\n",
       "      <td>0</td>\n",
       "      <td>0</td>\n",
       "      <td>0</td>\n",
       "      <td>0</td>\n",
       "      <td>0</td>\n",
       "      <td>0</td>\n",
       "      <td>0</td>\n",
       "      <td>1</td>\n",
       "      <td>0</td>\n",
       "    </tr>\n",
       "    <tr>\n",
       "      <th>18744</th>\n",
       "      <td>14128359</td>\n",
       "      <td>19</td>\n",
       "      <td>1</td>\n",
       "      <td>0</td>\n",
       "      <td>0</td>\n",
       "      <td>0</td>\n",
       "      <td>0</td>\n",
       "      <td>0</td>\n",
       "      <td>0</td>\n",
       "      <td>0</td>\n",
       "      <td>0</td>\n",
       "    </tr>\n",
       "    <tr>\n",
       "      <th>18745</th>\n",
       "      <td>14128359</td>\n",
       "      <td>9</td>\n",
       "      <td>0</td>\n",
       "      <td>0</td>\n",
       "      <td>0</td>\n",
       "      <td>0</td>\n",
       "      <td>0</td>\n",
       "      <td>0</td>\n",
       "      <td>0</td>\n",
       "      <td>1</td>\n",
       "      <td>0</td>\n",
       "    </tr>\n",
       "    <tr>\n",
       "      <th>18746</th>\n",
       "      <td>13039386</td>\n",
       "      <td>164</td>\n",
       "      <td>0</td>\n",
       "      <td>0</td>\n",
       "      <td>1</td>\n",
       "      <td>0</td>\n",
       "      <td>0</td>\n",
       "      <td>0</td>\n",
       "      <td>0</td>\n",
       "      <td>0</td>\n",
       "      <td>0</td>\n",
       "    </tr>\n",
       "    <tr>\n",
       "      <th>18747</th>\n",
       "      <td>13039714</td>\n",
       "      <td>8</td>\n",
       "      <td>0</td>\n",
       "      <td>0</td>\n",
       "      <td>0</td>\n",
       "      <td>0</td>\n",
       "      <td>0</td>\n",
       "      <td>0</td>\n",
       "      <td>1</td>\n",
       "      <td>0</td>\n",
       "      <td>0</td>\n",
       "    </tr>\n",
       "    <tr>\n",
       "      <th>18748</th>\n",
       "      <td>14122820</td>\n",
       "      <td>8</td>\n",
       "      <td>0</td>\n",
       "      <td>0</td>\n",
       "      <td>0</td>\n",
       "      <td>0</td>\n",
       "      <td>0</td>\n",
       "      <td>0</td>\n",
       "      <td>1</td>\n",
       "      <td>0</td>\n",
       "      <td>0</td>\n",
       "    </tr>\n",
       "    <tr>\n",
       "      <th>18749</th>\n",
       "      <td>13038982</td>\n",
       "      <td>24</td>\n",
       "      <td>0</td>\n",
       "      <td>0</td>\n",
       "      <td>0</td>\n",
       "      <td>0</td>\n",
       "      <td>1</td>\n",
       "      <td>0</td>\n",
       "      <td>0</td>\n",
       "      <td>0</td>\n",
       "      <td>0</td>\n",
       "    </tr>\n",
       "  </tbody>\n",
       "</table>\n",
       "<p>18750 rows × 11 columns</p>\n",
       "</div>"
      ],
      "text/plain": [
       "       productid  attributevalue  attribute_name_Category  \\\n",
       "0       11145600              37                        0   \n",
       "1       11145600              23                        0   \n",
       "2       11145600              16                        0   \n",
       "3       11145600              25                        0   \n",
       "4       11145600              51                        0   \n",
       "5       11145602              37                        0   \n",
       "6       11145602               3                        0   \n",
       "7       11145602              58                        0   \n",
       "8       11145602              17                        0   \n",
       "9       11145602               4                        0   \n",
       "10      11145612              37                        0   \n",
       "11      11145612              21                        0   \n",
       "12      11145612              58                        0   \n",
       "13      11145612              17                        0   \n",
       "14      11145612               8                        0   \n",
       "15      11145614              37                        0   \n",
       "16      11145614              21                        0   \n",
       "17      11145614              39                        0   \n",
       "18      11145614              31                        0   \n",
       "19      11145614               8                        0   \n",
       "20      11145620               0                        0   \n",
       "21      11145620              23                        0   \n",
       "22      11145620              16                        0   \n",
       "23      11145620              28                        0   \n",
       "24      11145620              26                        0   \n",
       "25      11145624              37                        0   \n",
       "26      11145624               3                        0   \n",
       "27      11145624               2                        0   \n",
       "28      11145624              18                        0   \n",
       "29      11145624               4                        0   \n",
       "...          ...             ...                      ...   \n",
       "18720   14122762               2                        0   \n",
       "18721   14122762               9                        0   \n",
       "18722   14122762               8                        0   \n",
       "18723   14122766               1                        1   \n",
       "18724   14122766               0                        0   \n",
       "18725   14122766               3                        0   \n",
       "18726   14122766               2                        0   \n",
       "18727   14122766               9                        0   \n",
       "18728   14122766               8                        0   \n",
       "18729   14122834               1                        1   \n",
       "18730   14122834               0                        0   \n",
       "18731   14122834               3                        0   \n",
       "18732   14122834               2                        0   \n",
       "18733   14122834               9                        0   \n",
       "18734   14122834               8                        0   \n",
       "18735   14122832             130                        0   \n",
       "18736   14122832               7                        1   \n",
       "18737   14122832               0                        0   \n",
       "18738   14122832               3                        0   \n",
       "18739   14122832              57                        0   \n",
       "18740   14122832               9                        0   \n",
       "18741   14122832              49                        0   \n",
       "18742   14104334              19                        1   \n",
       "18743   14104334               9                        0   \n",
       "18744   14128359              19                        1   \n",
       "18745   14128359               9                        0   \n",
       "18746   13039386             164                        0   \n",
       "18747   13039714               8                        0   \n",
       "18748   14122820               8                        0   \n",
       "18749   13038982              24                        0   \n",
       "\n",
       "       attribute_name_Collection  attribute_name_Color  attribute_name_Fabric  \\\n",
       "0                              0                     0                      0   \n",
       "1                              0                     0                      0   \n",
       "2                              0                     0                      1   \n",
       "3                              0                     1                      0   \n",
       "4                              0                     0                      0   \n",
       "5                              0                     0                      0   \n",
       "6                              0                     0                      0   \n",
       "7                              0                     0                      1   \n",
       "8                              0                     1                      0   \n",
       "9                              0                     0                      0   \n",
       "10                             0                     0                      0   \n",
       "11                             0                     0                      0   \n",
       "12                             0                     0                      1   \n",
       "13                             0                     1                      0   \n",
       "14                             0                     0                      0   \n",
       "15                             0                     0                      0   \n",
       "16                             0                     0                      0   \n",
       "17                             0                     0                      1   \n",
       "18                             0                     1                      0   \n",
       "19                             0                     0                      0   \n",
       "20                             0                     0                      0   \n",
       "21                             0                     0                      0   \n",
       "22                             0                     0                      1   \n",
       "23                             0                     1                      0   \n",
       "24                             0                     0                      0   \n",
       "25                             0                     0                      0   \n",
       "26                             0                     0                      0   \n",
       "27                             0                     0                      1   \n",
       "28                             0                     1                      0   \n",
       "29                             0                     0                      0   \n",
       "...                          ...                   ...                    ...   \n",
       "18720                          0                     0                      1   \n",
       "18721                          0                     0                      0   \n",
       "18722                          0                     0                      0   \n",
       "18723                          0                     0                      0   \n",
       "18724                          0                     0                      0   \n",
       "18725                          0                     0                      0   \n",
       "18726                          0                     0                      1   \n",
       "18727                          0                     0                      0   \n",
       "18728                          0                     0                      0   \n",
       "18729                          0                     0                      0   \n",
       "18730                          0                     0                      0   \n",
       "18731                          0                     0                      0   \n",
       "18732                          0                     0                      1   \n",
       "18733                          0                     0                      0   \n",
       "18734                          0                     0                      0   \n",
       "18735                          0                     0                      1   \n",
       "18736                          0                     0                      0   \n",
       "18737                          0                     0                      0   \n",
       "18738                          0                     0                      0   \n",
       "18739                          0                     1                      0   \n",
       "18740                          0                     0                      0   \n",
       "18741                          0                     0                      0   \n",
       "18742                          0                     0                      0   \n",
       "18743                          0                     0                      0   \n",
       "18744                          0                     0                      0   \n",
       "18745                          0                     0                      0   \n",
       "18746                          0                     1                      0   \n",
       "18747                          0                     0                      0   \n",
       "18748                          0                     0                      0   \n",
       "18749                          0                     0                      0   \n",
       "\n",
       "       attribute_name_Fit  attribute_name_Material  attribute_name_Neckline  \\\n",
       "0                       1                        0                        0   \n",
       "1                       0                        0                        0   \n",
       "2                       0                        0                        0   \n",
       "3                       0                        0                        0   \n",
       "4                       0                        0                        1   \n",
       "5                       1                        0                        0   \n",
       "6                       0                        0                        0   \n",
       "7                       0                        0                        0   \n",
       "8                       0                        0                        0   \n",
       "9                       0                        0                        1   \n",
       "10                      1                        0                        0   \n",
       "11                      0                        0                        0   \n",
       "12                      0                        0                        0   \n",
       "13                      0                        0                        0   \n",
       "14                      0                        0                        1   \n",
       "15                      1                        0                        0   \n",
       "16                      0                        0                        0   \n",
       "17                      0                        0                        0   \n",
       "18                      0                        0                        0   \n",
       "19                      0                        0                        1   \n",
       "20                      1                        0                        0   \n",
       "21                      0                        0                        0   \n",
       "22                      0                        0                        0   \n",
       "23                      0                        0                        0   \n",
       "24                      0                        0                        1   \n",
       "25                      1                        0                        0   \n",
       "26                      0                        0                        0   \n",
       "27                      0                        0                        0   \n",
       "28                      0                        0                        0   \n",
       "29                      0                        0                        1   \n",
       "...                   ...                      ...                      ...   \n",
       "18720                   0                        0                        0   \n",
       "18721                   0                        0                        0   \n",
       "18722                   0                        0                        1   \n",
       "18723                   0                        0                        0   \n",
       "18724                   1                        0                        0   \n",
       "18725                   0                        0                        0   \n",
       "18726                   0                        0                        0   \n",
       "18727                   0                        0                        0   \n",
       "18728                   0                        0                        1   \n",
       "18729                   0                        0                        0   \n",
       "18730                   1                        0                        0   \n",
       "18731                   0                        0                        0   \n",
       "18732                   0                        0                        0   \n",
       "18733                   0                        0                        0   \n",
       "18734                   0                        0                        1   \n",
       "18735                   0                        0                        0   \n",
       "18736                   0                        0                        0   \n",
       "18737                   1                        0                        0   \n",
       "18738                   0                        0                        0   \n",
       "18739                   0                        0                        0   \n",
       "18740                   0                        0                        0   \n",
       "18741                   0                        0                        1   \n",
       "18742                   0                        0                        0   \n",
       "18743                   0                        0                        0   \n",
       "18744                   0                        0                        0   \n",
       "18745                   0                        0                        0   \n",
       "18746                   0                        0                        0   \n",
       "18747                   0                        0                        1   \n",
       "18748                   0                        0                        1   \n",
       "18749                   1                        0                        0   \n",
       "\n",
       "       attribute_name_Season  attribute_name_Sleeve Length  \n",
       "0                          0                             0  \n",
       "1                          0                             1  \n",
       "2                          0                             0  \n",
       "3                          0                             0  \n",
       "4                          0                             0  \n",
       "5                          0                             0  \n",
       "6                          0                             1  \n",
       "7                          0                             0  \n",
       "8                          0                             0  \n",
       "9                          0                             0  \n",
       "10                         0                             0  \n",
       "11                         0                             1  \n",
       "12                         0                             0  \n",
       "13                         0                             0  \n",
       "14                         0                             0  \n",
       "15                         0                             0  \n",
       "16                         0                             1  \n",
       "17                         0                             0  \n",
       "18                         0                             0  \n",
       "19                         0                             0  \n",
       "20                         0                             0  \n",
       "21                         0                             1  \n",
       "22                         0                             0  \n",
       "23                         0                             0  \n",
       "24                         0                             0  \n",
       "25                         0                             0  \n",
       "26                         0                             1  \n",
       "27                         0                             0  \n",
       "28                         0                             0  \n",
       "29                         0                             0  \n",
       "...                      ...                           ...  \n",
       "18720                      0                             0  \n",
       "18721                      1                             0  \n",
       "18722                      0                             0  \n",
       "18723                      0                             0  \n",
       "18724                      0                             0  \n",
       "18725                      0                             1  \n",
       "18726                      0                             0  \n",
       "18727                      1                             0  \n",
       "18728                      0                             0  \n",
       "18729                      0                             0  \n",
       "18730                      0                             0  \n",
       "18731                      0                             1  \n",
       "18732                      0                             0  \n",
       "18733                      1                             0  \n",
       "18734                      0                             0  \n",
       "18735                      0                             0  \n",
       "18736                      0                             0  \n",
       "18737                      0                             0  \n",
       "18738                      0                             1  \n",
       "18739                      0                             0  \n",
       "18740                      1                             0  \n",
       "18741                      0                             0  \n",
       "18742                      0                             0  \n",
       "18743                      1                             0  \n",
       "18744                      0                             0  \n",
       "18745                      1                             0  \n",
       "18746                      0                             0  \n",
       "18747                      0                             0  \n",
       "18748                      0                             0  \n",
       "18749                      0                             0  \n",
       "\n",
       "[18750 rows x 11 columns]"
      ]
     },
     "execution_count": 385,
     "metadata": {},
     "output_type": "execute_result"
    }
   ],
   "source": [
    "dff"
   ]
  },
  {
   "cell_type": "code",
   "execution_count": 387,
   "metadata": {},
   "outputs": [
    {
     "data": {
      "text/plain": [
       "1      61898\n",
       "2       7435\n",
       "3       2196\n",
       "4        857\n",
       "5        378\n",
       "6        285\n",
       "7        155\n",
       "8        149\n",
       "9        111\n",
       "10       110\n",
       "12        87\n",
       "11        78\n",
       "14        67\n",
       "13        66\n",
       "16        62\n",
       "15        60\n",
       "17        58\n",
       "19        54\n",
       "18        51\n",
       "20        48\n",
       "22        45\n",
       "24        36\n",
       "21        34\n",
       "23        32\n",
       "25        32\n",
       "26        30\n",
       "32        30\n",
       "33        25\n",
       "27        25\n",
       "31        24\n",
       "       ...  \n",
       "74         2\n",
       "75         2\n",
       "91         2\n",
       "96         2\n",
       "88         2\n",
       "84         2\n",
       "86         2\n",
       "106        1\n",
       "128        1\n",
       "62         1\n",
       "272        1\n",
       "182        1\n",
       "80         1\n",
       "115        1\n",
       "112        1\n",
       "85         1\n",
       "132        1\n",
       "143        1\n",
       "77         1\n",
       "101        1\n",
       "70         1\n",
       "142        1\n",
       "199        1\n",
       "97         1\n",
       "81         1\n",
       "95         1\n",
       "156        1\n",
       "87         1\n",
       "92         1\n",
       "127        1\n",
       "Name: frequency, Length: 106, dtype: int64"
      ]
     },
     "execution_count": 387,
     "metadata": {},
     "output_type": "execute_result"
    }
   ],
   "source": [
    "mydf['frequency'].value_counts()"
   ]
  },
  {
   "cell_type": "code",
   "execution_count": 391,
   "metadata": {},
   "outputs": [
    {
     "data": {
      "text/plain": [
       "(74915, 3)"
      ]
     },
     "execution_count": 391,
     "metadata": {},
     "output_type": "execute_result"
    }
   ],
   "source": [
    "mydf.shape"
   ]
  },
  {
   "cell_type": "code",
   "execution_count": 390,
   "metadata": {},
   "outputs": [
    {
     "data": {
      "text/html": [
       "<div>\n",
       "<style scoped>\n",
       "    .dataframe tbody tr th:only-of-type {\n",
       "        vertical-align: middle;\n",
       "    }\n",
       "\n",
       "    .dataframe tbody tr th {\n",
       "        vertical-align: top;\n",
       "    }\n",
       "\n",
       "    .dataframe thead th {\n",
       "        text-align: right;\n",
       "    }\n",
       "</style>\n",
       "<table border=\"1\" class=\"dataframe\">\n",
       "  <thead>\n",
       "    <tr style=\"text-align: right;\">\n",
       "      <th></th>\n",
       "      <th>productid</th>\n",
       "      <th>attribute_name</th>\n",
       "      <th>attributevalue</th>\n",
       "    </tr>\n",
       "  </thead>\n",
       "  <tbody>\n",
       "    <tr>\n",
       "      <th>4107</th>\n",
       "      <td>11660064</td>\n",
       "      <td>Fit</td>\n",
       "      <td>14</td>\n",
       "    </tr>\n",
       "    <tr>\n",
       "      <th>4108</th>\n",
       "      <td>11660064</td>\n",
       "      <td>Sleeve Length</td>\n",
       "      <td>23</td>\n",
       "    </tr>\n",
       "    <tr>\n",
       "      <th>4109</th>\n",
       "      <td>11660064</td>\n",
       "      <td>Fabric</td>\n",
       "      <td>55</td>\n",
       "    </tr>\n",
       "    <tr>\n",
       "      <th>4110</th>\n",
       "      <td>11660064</td>\n",
       "      <td>Color</td>\n",
       "      <td>84</td>\n",
       "    </tr>\n",
       "    <tr>\n",
       "      <th>4111</th>\n",
       "      <td>11660064</td>\n",
       "      <td>Neckline</td>\n",
       "      <td>4</td>\n",
       "    </tr>\n",
       "    <tr>\n",
       "      <th>5564</th>\n",
       "      <td>11660064</td>\n",
       "      <td>Season</td>\n",
       "      <td>11</td>\n",
       "    </tr>\n",
       "    <tr>\n",
       "      <th>5776</th>\n",
       "      <td>11660064</td>\n",
       "      <td>Category</td>\n",
       "      <td>12</td>\n",
       "    </tr>\n",
       "  </tbody>\n",
       "</table>\n",
       "</div>"
      ],
      "text/plain": [
       "      productid attribute_name  attributevalue\n",
       "4107   11660064            Fit              14\n",
       "4108   11660064  Sleeve Length              23\n",
       "4109   11660064         Fabric              55\n",
       "4110   11660064          Color              84\n",
       "4111   11660064       Neckline               4\n",
       "5564   11660064         Season              11\n",
       "5776   11660064       Category              12"
      ]
     },
     "execution_count": 390,
     "metadata": {},
     "output_type": "execute_result"
    }
   ],
   "source": [
    "pro_att[pro_att['productid']==11660064]"
   ]
  },
  {
   "cell_type": "code",
   "execution_count": 393,
   "metadata": {},
   "outputs": [
    {
     "data": {
      "text/plain": [
       "(2350, 1)"
      ]
     },
     "execution_count": 393,
     "metadata": {},
     "output_type": "execute_result"
    }
   ],
   "source": [
    "test.shape"
   ]
  },
  {
   "cell_type": "code",
   "execution_count": 394,
   "metadata": {},
   "outputs": [
    {
     "data": {
      "text/html": [
       "<div>\n",
       "<style scoped>\n",
       "    .dataframe tbody tr th:only-of-type {\n",
       "        vertical-align: middle;\n",
       "    }\n",
       "\n",
       "    .dataframe tbody tr th {\n",
       "        vertical-align: top;\n",
       "    }\n",
       "\n",
       "    .dataframe thead th {\n",
       "        text-align: right;\n",
       "    }\n",
       "</style>\n",
       "<table border=\"1\" class=\"dataframe\">\n",
       "  <thead>\n",
       "    <tr style=\"text-align: right;\">\n",
       "      <th></th>\n",
       "      <th>UserId</th>\n",
       "      <th>productid</th>\n",
       "      <th>Quantity</th>\n",
       "      <th>OrderDate</th>\n",
       "    </tr>\n",
       "  </thead>\n",
       "  <tbody>\n",
       "    <tr>\n",
       "      <th>0</th>\n",
       "      <td>18075</td>\n",
       "      <td>12322648</td>\n",
       "      <td>1</td>\n",
       "      <td>01/04/18</td>\n",
       "    </tr>\n",
       "    <tr>\n",
       "      <th>1</th>\n",
       "      <td>6820</td>\n",
       "      <td>12371370</td>\n",
       "      <td>1</td>\n",
       "      <td>01/04/18</td>\n",
       "    </tr>\n",
       "    <tr>\n",
       "      <th>2</th>\n",
       "      <td>6820</td>\n",
       "      <td>12973004</td>\n",
       "      <td>1</td>\n",
       "      <td>01/04/18</td>\n",
       "    </tr>\n",
       "    <tr>\n",
       "      <th>3</th>\n",
       "      <td>6820</td>\n",
       "      <td>12657560</td>\n",
       "      <td>1</td>\n",
       "      <td>01/04/18</td>\n",
       "    </tr>\n",
       "    <tr>\n",
       "      <th>4</th>\n",
       "      <td>6820</td>\n",
       "      <td>11659914</td>\n",
       "      <td>1</td>\n",
       "      <td>01/04/18</td>\n",
       "    </tr>\n",
       "  </tbody>\n",
       "</table>\n",
       "</div>"
      ],
      "text/plain": [
       "   UserId  productid  Quantity OrderDate\n",
       "0   18075   12322648         1  01/04/18\n",
       "1    6820   12371370         1  01/04/18\n",
       "2    6820   12973004         1  01/04/18\n",
       "3    6820   12657560         1  01/04/18\n",
       "4    6820   11659914         1  01/04/18"
      ]
     },
     "execution_count": 394,
     "metadata": {},
     "output_type": "execute_result"
    }
   ],
   "source": [
    "train.head()"
   ]
  },
  {
   "cell_type": "code",
   "execution_count": 395,
   "metadata": {},
   "outputs": [
    {
     "data": {
      "text/html": [
       "<div>\n",
       "<style scoped>\n",
       "    .dataframe tbody tr th:only-of-type {\n",
       "        vertical-align: middle;\n",
       "    }\n",
       "\n",
       "    .dataframe tbody tr th {\n",
       "        vertical-align: top;\n",
       "    }\n",
       "\n",
       "    .dataframe thead th {\n",
       "        text-align: right;\n",
       "    }\n",
       "</style>\n",
       "<table border=\"1\" class=\"dataframe\">\n",
       "  <thead>\n",
       "    <tr style=\"text-align: right;\">\n",
       "      <th></th>\n",
       "      <th>productid</th>\n",
       "      <th>attribute_name</th>\n",
       "      <th>attributevalue</th>\n",
       "    </tr>\n",
       "  </thead>\n",
       "  <tbody>\n",
       "    <tr>\n",
       "      <th>0</th>\n",
       "      <td>11145600</td>\n",
       "      <td>Fit</td>\n",
       "      <td>37</td>\n",
       "    </tr>\n",
       "    <tr>\n",
       "      <th>1</th>\n",
       "      <td>11145600</td>\n",
       "      <td>Sleeve Length</td>\n",
       "      <td>23</td>\n",
       "    </tr>\n",
       "    <tr>\n",
       "      <th>2</th>\n",
       "      <td>11145600</td>\n",
       "      <td>Fabric</td>\n",
       "      <td>16</td>\n",
       "    </tr>\n",
       "    <tr>\n",
       "      <th>3</th>\n",
       "      <td>11145600</td>\n",
       "      <td>Color</td>\n",
       "      <td>25</td>\n",
       "    </tr>\n",
       "    <tr>\n",
       "      <th>4</th>\n",
       "      <td>11145600</td>\n",
       "      <td>Neckline</td>\n",
       "      <td>51</td>\n",
       "    </tr>\n",
       "  </tbody>\n",
       "</table>\n",
       "</div>"
      ],
      "text/plain": [
       "   productid attribute_name  attributevalue\n",
       "0   11145600            Fit              37\n",
       "1   11145600  Sleeve Length              23\n",
       "2   11145600         Fabric              16\n",
       "3   11145600          Color              25\n",
       "4   11145600       Neckline              51"
      ]
     },
     "execution_count": 395,
     "metadata": {},
     "output_type": "execute_result"
    }
   ],
   "source": [
    "pro_att.head()"
   ]
  },
  {
   "cell_type": "code",
   "execution_count": 396,
   "metadata": {},
   "outputs": [
    {
     "data": {
      "text/html": [
       "<div>\n",
       "<style scoped>\n",
       "    .dataframe tbody tr th:only-of-type {\n",
       "        vertical-align: middle;\n",
       "    }\n",
       "\n",
       "    .dataframe tbody tr th {\n",
       "        vertical-align: top;\n",
       "    }\n",
       "\n",
       "    .dataframe thead th {\n",
       "        text-align: right;\n",
       "    }\n",
       "</style>\n",
       "<table border=\"1\" class=\"dataframe\">\n",
       "  <thead>\n",
       "    <tr style=\"text-align: right;\">\n",
       "      <th></th>\n",
       "      <th>UserId</th>\n",
       "      <th>productid</th>\n",
       "      <th>frequency</th>\n",
       "    </tr>\n",
       "  </thead>\n",
       "  <tbody>\n",
       "    <tr>\n",
       "      <th>55</th>\n",
       "      <td>28</td>\n",
       "      <td>11659838</td>\n",
       "      <td>1</td>\n",
       "    </tr>\n",
       "    <tr>\n",
       "      <th>56</th>\n",
       "      <td>28</td>\n",
       "      <td>12360404</td>\n",
       "      <td>2</td>\n",
       "    </tr>\n",
       "    <tr>\n",
       "      <th>57</th>\n",
       "      <td>28</td>\n",
       "      <td>12407652</td>\n",
       "      <td>1</td>\n",
       "    </tr>\n",
       "    <tr>\n",
       "      <th>58</th>\n",
       "      <td>28</td>\n",
       "      <td>12407706</td>\n",
       "      <td>1</td>\n",
       "    </tr>\n",
       "    <tr>\n",
       "      <th>59</th>\n",
       "      <td>28</td>\n",
       "      <td>13039752</td>\n",
       "      <td>1</td>\n",
       "    </tr>\n",
       "    <tr>\n",
       "      <th>60</th>\n",
       "      <td>28</td>\n",
       "      <td>13039778</td>\n",
       "      <td>2</td>\n",
       "    </tr>\n",
       "    <tr>\n",
       "      <th>61</th>\n",
       "      <td>28</td>\n",
       "      <td>13039812</td>\n",
       "      <td>1</td>\n",
       "    </tr>\n",
       "  </tbody>\n",
       "</table>\n",
       "</div>"
      ],
      "text/plain": [
       "    UserId  productid  frequency\n",
       "55      28   11659838          1\n",
       "56      28   12360404          2\n",
       "57      28   12407652          1\n",
       "58      28   12407706          1\n",
       "59      28   13039752          1\n",
       "60      28   13039778          2\n",
       "61      28   13039812          1"
      ]
     },
     "execution_count": 396,
     "metadata": {},
     "output_type": "execute_result"
    }
   ],
   "source": [
    "mydf[mydf['UserId']==28]"
   ]
  },
  {
   "cell_type": "code",
   "execution_count": 397,
   "metadata": {},
   "outputs": [
    {
     "data": {
      "text/html": [
       "<div>\n",
       "<style scoped>\n",
       "    .dataframe tbody tr th:only-of-type {\n",
       "        vertical-align: middle;\n",
       "    }\n",
       "\n",
       "    .dataframe tbody tr th {\n",
       "        vertical-align: top;\n",
       "    }\n",
       "\n",
       "    .dataframe thead th {\n",
       "        text-align: right;\n",
       "    }\n",
       "</style>\n",
       "<table border=\"1\" class=\"dataframe\">\n",
       "  <thead>\n",
       "    <tr style=\"text-align: right;\">\n",
       "      <th></th>\n",
       "      <th>UserId</th>\n",
       "      <th>productid</th>\n",
       "      <th>Quantity</th>\n",
       "      <th>OrderDate</th>\n",
       "    </tr>\n",
       "  </thead>\n",
       "  <tbody>\n",
       "    <tr>\n",
       "      <th>0</th>\n",
       "      <td>18075</td>\n",
       "      <td>12322648</td>\n",
       "      <td>1</td>\n",
       "      <td>01/04/18</td>\n",
       "    </tr>\n",
       "    <tr>\n",
       "      <th>1</th>\n",
       "      <td>6820</td>\n",
       "      <td>12371370</td>\n",
       "      <td>1</td>\n",
       "      <td>01/04/18</td>\n",
       "    </tr>\n",
       "    <tr>\n",
       "      <th>2</th>\n",
       "      <td>6820</td>\n",
       "      <td>12973004</td>\n",
       "      <td>1</td>\n",
       "      <td>01/04/18</td>\n",
       "    </tr>\n",
       "    <tr>\n",
       "      <th>3</th>\n",
       "      <td>6820</td>\n",
       "      <td>12657560</td>\n",
       "      <td>1</td>\n",
       "      <td>01/04/18</td>\n",
       "    </tr>\n",
       "    <tr>\n",
       "      <th>4</th>\n",
       "      <td>6820</td>\n",
       "      <td>11659914</td>\n",
       "      <td>1</td>\n",
       "      <td>01/04/18</td>\n",
       "    </tr>\n",
       "    <tr>\n",
       "      <th>5</th>\n",
       "      <td>18075</td>\n",
       "      <td>12322648</td>\n",
       "      <td>1</td>\n",
       "      <td>01/04/18</td>\n",
       "    </tr>\n",
       "    <tr>\n",
       "      <th>6</th>\n",
       "      <td>26784</td>\n",
       "      <td>12658110</td>\n",
       "      <td>1</td>\n",
       "      <td>01/04/18</td>\n",
       "    </tr>\n",
       "    <tr>\n",
       "      <th>7</th>\n",
       "      <td>16920</td>\n",
       "      <td>11659532</td>\n",
       "      <td>1</td>\n",
       "      <td>01/04/18</td>\n",
       "    </tr>\n",
       "    <tr>\n",
       "      <th>8</th>\n",
       "      <td>26784</td>\n",
       "      <td>12407108</td>\n",
       "      <td>1</td>\n",
       "      <td>01/04/18</td>\n",
       "    </tr>\n",
       "    <tr>\n",
       "      <th>9</th>\n",
       "      <td>26784</td>\n",
       "      <td>11660062</td>\n",
       "      <td>1</td>\n",
       "      <td>01/04/18</td>\n",
       "    </tr>\n",
       "    <tr>\n",
       "      <th>10</th>\n",
       "      <td>26784</td>\n",
       "      <td>12407166</td>\n",
       "      <td>1</td>\n",
       "      <td>01/04/18</td>\n",
       "    </tr>\n",
       "    <tr>\n",
       "      <th>11</th>\n",
       "      <td>25510</td>\n",
       "      <td>11659666</td>\n",
       "      <td>1</td>\n",
       "      <td>01/04/18</td>\n",
       "    </tr>\n",
       "    <tr>\n",
       "      <th>12</th>\n",
       "      <td>2364</td>\n",
       "      <td>11659826</td>\n",
       "      <td>1</td>\n",
       "      <td>01/04/18</td>\n",
       "    </tr>\n",
       "    <tr>\n",
       "      <th>13</th>\n",
       "      <td>18167</td>\n",
       "      <td>12360458</td>\n",
       "      <td>1</td>\n",
       "      <td>01/04/18</td>\n",
       "    </tr>\n",
       "    <tr>\n",
       "      <th>14</th>\n",
       "      <td>2364</td>\n",
       "      <td>11659826</td>\n",
       "      <td>1</td>\n",
       "      <td>01/04/18</td>\n",
       "    </tr>\n",
       "    <tr>\n",
       "      <th>15</th>\n",
       "      <td>2364</td>\n",
       "      <td>11659826</td>\n",
       "      <td>1</td>\n",
       "      <td>01/04/18</td>\n",
       "    </tr>\n",
       "    <tr>\n",
       "      <th>16</th>\n",
       "      <td>25740</td>\n",
       "      <td>11407272</td>\n",
       "      <td>1</td>\n",
       "      <td>01/04/18</td>\n",
       "    </tr>\n",
       "    <tr>\n",
       "      <th>17</th>\n",
       "      <td>25740</td>\n",
       "      <td>12658034</td>\n",
       "      <td>1</td>\n",
       "      <td>01/04/18</td>\n",
       "    </tr>\n",
       "    <tr>\n",
       "      <th>18</th>\n",
       "      <td>26784</td>\n",
       "      <td>12658532</td>\n",
       "      <td>1</td>\n",
       "      <td>01/04/18</td>\n",
       "    </tr>\n",
       "    <tr>\n",
       "      <th>19</th>\n",
       "      <td>26784</td>\n",
       "      <td>11659704</td>\n",
       "      <td>1</td>\n",
       "      <td>01/04/18</td>\n",
       "    </tr>\n",
       "    <tr>\n",
       "      <th>20</th>\n",
       "      <td>27659</td>\n",
       "      <td>12658150</td>\n",
       "      <td>1</td>\n",
       "      <td>01/04/18</td>\n",
       "    </tr>\n",
       "    <tr>\n",
       "      <th>21</th>\n",
       "      <td>27659</td>\n",
       "      <td>12657614</td>\n",
       "      <td>1</td>\n",
       "      <td>01/04/18</td>\n",
       "    </tr>\n",
       "    <tr>\n",
       "      <th>22</th>\n",
       "      <td>16605</td>\n",
       "      <td>12658510</td>\n",
       "      <td>1</td>\n",
       "      <td>01/04/18</td>\n",
       "    </tr>\n",
       "    <tr>\n",
       "      <th>23</th>\n",
       "      <td>16605</td>\n",
       "      <td>12406986</td>\n",
       "      <td>1</td>\n",
       "      <td>01/04/18</td>\n",
       "    </tr>\n",
       "    <tr>\n",
       "      <th>24</th>\n",
       "      <td>16605</td>\n",
       "      <td>12657638</td>\n",
       "      <td>1</td>\n",
       "      <td>01/04/18</td>\n",
       "    </tr>\n",
       "    <tr>\n",
       "      <th>25</th>\n",
       "      <td>16605</td>\n",
       "      <td>12657642</td>\n",
       "      <td>1</td>\n",
       "      <td>01/04/18</td>\n",
       "    </tr>\n",
       "    <tr>\n",
       "      <th>26</th>\n",
       "      <td>16605</td>\n",
       "      <td>12657644</td>\n",
       "      <td>1</td>\n",
       "      <td>01/04/18</td>\n",
       "    </tr>\n",
       "    <tr>\n",
       "      <th>27</th>\n",
       "      <td>26784</td>\n",
       "      <td>12658532</td>\n",
       "      <td>1</td>\n",
       "      <td>01/04/18</td>\n",
       "    </tr>\n",
       "    <tr>\n",
       "      <th>28</th>\n",
       "      <td>26784</td>\n",
       "      <td>11407102</td>\n",
       "      <td>1</td>\n",
       "      <td>01/04/18</td>\n",
       "    </tr>\n",
       "    <tr>\n",
       "      <th>29</th>\n",
       "      <td>26784</td>\n",
       "      <td>11461020</td>\n",
       "      <td>1</td>\n",
       "      <td>01/04/18</td>\n",
       "    </tr>\n",
       "    <tr>\n",
       "      <th>...</th>\n",
       "      <td>...</td>\n",
       "      <td>...</td>\n",
       "      <td>...</td>\n",
       "      <td>...</td>\n",
       "    </tr>\n",
       "    <tr>\n",
       "      <th>132521</th>\n",
       "      <td>3747</td>\n",
       "      <td>13039034</td>\n",
       "      <td>1</td>\n",
       "      <td>30/10/18</td>\n",
       "    </tr>\n",
       "    <tr>\n",
       "      <th>132522</th>\n",
       "      <td>3747</td>\n",
       "      <td>13039104</td>\n",
       "      <td>1</td>\n",
       "      <td>30/10/18</td>\n",
       "    </tr>\n",
       "    <tr>\n",
       "      <th>132523</th>\n",
       "      <td>26784</td>\n",
       "      <td>12360438</td>\n",
       "      <td>1</td>\n",
       "      <td>30/10/18</td>\n",
       "    </tr>\n",
       "    <tr>\n",
       "      <th>132524</th>\n",
       "      <td>880</td>\n",
       "      <td>13038880</td>\n",
       "      <td>1</td>\n",
       "      <td>30/10/18</td>\n",
       "    </tr>\n",
       "    <tr>\n",
       "      <th>132525</th>\n",
       "      <td>880</td>\n",
       "      <td>13038882</td>\n",
       "      <td>1</td>\n",
       "      <td>30/10/18</td>\n",
       "    </tr>\n",
       "    <tr>\n",
       "      <th>132526</th>\n",
       "      <td>26784</td>\n",
       "      <td>12407888</td>\n",
       "      <td>1</td>\n",
       "      <td>30/10/18</td>\n",
       "    </tr>\n",
       "    <tr>\n",
       "      <th>132527</th>\n",
       "      <td>7185</td>\n",
       "      <td>13039028</td>\n",
       "      <td>1</td>\n",
       "      <td>30/10/18</td>\n",
       "    </tr>\n",
       "    <tr>\n",
       "      <th>132528</th>\n",
       "      <td>25679</td>\n",
       "      <td>13039928</td>\n",
       "      <td>1</td>\n",
       "      <td>30/10/18</td>\n",
       "    </tr>\n",
       "    <tr>\n",
       "      <th>132529</th>\n",
       "      <td>25679</td>\n",
       "      <td>13038830</td>\n",
       "      <td>1</td>\n",
       "      <td>30/10/18</td>\n",
       "    </tr>\n",
       "    <tr>\n",
       "      <th>132530</th>\n",
       "      <td>10146</td>\n",
       "      <td>12658298</td>\n",
       "      <td>1</td>\n",
       "      <td>30/10/18</td>\n",
       "    </tr>\n",
       "    <tr>\n",
       "      <th>132531</th>\n",
       "      <td>127</td>\n",
       "      <td>12406986</td>\n",
       "      <td>1</td>\n",
       "      <td>30/10/18</td>\n",
       "    </tr>\n",
       "    <tr>\n",
       "      <th>132532</th>\n",
       "      <td>21732</td>\n",
       "      <td>12658464</td>\n",
       "      <td>1</td>\n",
       "      <td>30/10/18</td>\n",
       "    </tr>\n",
       "    <tr>\n",
       "      <th>132533</th>\n",
       "      <td>19799</td>\n",
       "      <td>12437304</td>\n",
       "      <td>1</td>\n",
       "      <td>30/10/18</td>\n",
       "    </tr>\n",
       "    <tr>\n",
       "      <th>132534</th>\n",
       "      <td>26784</td>\n",
       "      <td>13653662</td>\n",
       "      <td>1</td>\n",
       "      <td>30/10/18</td>\n",
       "    </tr>\n",
       "    <tr>\n",
       "      <th>132535</th>\n",
       "      <td>97</td>\n",
       "      <td>11520046</td>\n",
       "      <td>1</td>\n",
       "      <td>30/10/18</td>\n",
       "    </tr>\n",
       "    <tr>\n",
       "      <th>132536</th>\n",
       "      <td>1288</td>\n",
       "      <td>13650238</td>\n",
       "      <td>1</td>\n",
       "      <td>30/10/18</td>\n",
       "    </tr>\n",
       "    <tr>\n",
       "      <th>132537</th>\n",
       "      <td>1288</td>\n",
       "      <td>12936782</td>\n",
       "      <td>1</td>\n",
       "      <td>30/10/18</td>\n",
       "    </tr>\n",
       "    <tr>\n",
       "      <th>132538</th>\n",
       "      <td>17372</td>\n",
       "      <td>11360776</td>\n",
       "      <td>1</td>\n",
       "      <td>30/10/18</td>\n",
       "    </tr>\n",
       "    <tr>\n",
       "      <th>132539</th>\n",
       "      <td>20436</td>\n",
       "      <td>11147252</td>\n",
       "      <td>1</td>\n",
       "      <td>30/10/18</td>\n",
       "    </tr>\n",
       "    <tr>\n",
       "      <th>132540</th>\n",
       "      <td>26784</td>\n",
       "      <td>11714462</td>\n",
       "      <td>1</td>\n",
       "      <td>30/10/18</td>\n",
       "    </tr>\n",
       "    <tr>\n",
       "      <th>132541</th>\n",
       "      <td>27276</td>\n",
       "      <td>13039538</td>\n",
       "      <td>1</td>\n",
       "      <td>30/10/18</td>\n",
       "    </tr>\n",
       "    <tr>\n",
       "      <th>132542</th>\n",
       "      <td>17897</td>\n",
       "      <td>13039618</td>\n",
       "      <td>1</td>\n",
       "      <td>30/10/18</td>\n",
       "    </tr>\n",
       "    <tr>\n",
       "      <th>132543</th>\n",
       "      <td>27276</td>\n",
       "      <td>13039538</td>\n",
       "      <td>1</td>\n",
       "      <td>30/10/18</td>\n",
       "    </tr>\n",
       "    <tr>\n",
       "      <th>132544</th>\n",
       "      <td>25284</td>\n",
       "      <td>13650188</td>\n",
       "      <td>1</td>\n",
       "      <td>30/10/18</td>\n",
       "    </tr>\n",
       "    <tr>\n",
       "      <th>132545</th>\n",
       "      <td>25284</td>\n",
       "      <td>13650002</td>\n",
       "      <td>1</td>\n",
       "      <td>30/10/18</td>\n",
       "    </tr>\n",
       "    <tr>\n",
       "      <th>132546</th>\n",
       "      <td>25284</td>\n",
       "      <td>13650016</td>\n",
       "      <td>1</td>\n",
       "      <td>30/10/18</td>\n",
       "    </tr>\n",
       "    <tr>\n",
       "      <th>132547</th>\n",
       "      <td>25284</td>\n",
       "      <td>12936640</td>\n",
       "      <td>1</td>\n",
       "      <td>30/10/18</td>\n",
       "    </tr>\n",
       "    <tr>\n",
       "      <th>132548</th>\n",
       "      <td>19028</td>\n",
       "      <td>12658262</td>\n",
       "      <td>1</td>\n",
       "      <td>30/10/18</td>\n",
       "    </tr>\n",
       "    <tr>\n",
       "      <th>132549</th>\n",
       "      <td>19028</td>\n",
       "      <td>12658262</td>\n",
       "      <td>1</td>\n",
       "      <td>30/10/18</td>\n",
       "    </tr>\n",
       "    <tr>\n",
       "      <th>132550</th>\n",
       "      <td>26784</td>\n",
       "      <td>13039088</td>\n",
       "      <td>1</td>\n",
       "      <td>30/10/18</td>\n",
       "    </tr>\n",
       "  </tbody>\n",
       "</table>\n",
       "<p>132551 rows × 4 columns</p>\n",
       "</div>"
      ],
      "text/plain": [
       "        UserId  productid  Quantity OrderDate\n",
       "0        18075   12322648         1  01/04/18\n",
       "1         6820   12371370         1  01/04/18\n",
       "2         6820   12973004         1  01/04/18\n",
       "3         6820   12657560         1  01/04/18\n",
       "4         6820   11659914         1  01/04/18\n",
       "5        18075   12322648         1  01/04/18\n",
       "6        26784   12658110         1  01/04/18\n",
       "7        16920   11659532         1  01/04/18\n",
       "8        26784   12407108         1  01/04/18\n",
       "9        26784   11660062         1  01/04/18\n",
       "10       26784   12407166         1  01/04/18\n",
       "11       25510   11659666         1  01/04/18\n",
       "12        2364   11659826         1  01/04/18\n",
       "13       18167   12360458         1  01/04/18\n",
       "14        2364   11659826         1  01/04/18\n",
       "15        2364   11659826         1  01/04/18\n",
       "16       25740   11407272         1  01/04/18\n",
       "17       25740   12658034         1  01/04/18\n",
       "18       26784   12658532         1  01/04/18\n",
       "19       26784   11659704         1  01/04/18\n",
       "20       27659   12658150         1  01/04/18\n",
       "21       27659   12657614         1  01/04/18\n",
       "22       16605   12658510         1  01/04/18\n",
       "23       16605   12406986         1  01/04/18\n",
       "24       16605   12657638         1  01/04/18\n",
       "25       16605   12657642         1  01/04/18\n",
       "26       16605   12657644         1  01/04/18\n",
       "27       26784   12658532         1  01/04/18\n",
       "28       26784   11407102         1  01/04/18\n",
       "29       26784   11461020         1  01/04/18\n",
       "...        ...        ...       ...       ...\n",
       "132521    3747   13039034         1  30/10/18\n",
       "132522    3747   13039104         1  30/10/18\n",
       "132523   26784   12360438         1  30/10/18\n",
       "132524     880   13038880         1  30/10/18\n",
       "132525     880   13038882         1  30/10/18\n",
       "132526   26784   12407888         1  30/10/18\n",
       "132527    7185   13039028         1  30/10/18\n",
       "132528   25679   13039928         1  30/10/18\n",
       "132529   25679   13038830         1  30/10/18\n",
       "132530   10146   12658298         1  30/10/18\n",
       "132531     127   12406986         1  30/10/18\n",
       "132532   21732   12658464         1  30/10/18\n",
       "132533   19799   12437304         1  30/10/18\n",
       "132534   26784   13653662         1  30/10/18\n",
       "132535      97   11520046         1  30/10/18\n",
       "132536    1288   13650238         1  30/10/18\n",
       "132537    1288   12936782         1  30/10/18\n",
       "132538   17372   11360776         1  30/10/18\n",
       "132539   20436   11147252         1  30/10/18\n",
       "132540   26784   11714462         1  30/10/18\n",
       "132541   27276   13039538         1  30/10/18\n",
       "132542   17897   13039618         1  30/10/18\n",
       "132543   27276   13039538         1  30/10/18\n",
       "132544   25284   13650188         1  30/10/18\n",
       "132545   25284   13650002         1  30/10/18\n",
       "132546   25284   13650016         1  30/10/18\n",
       "132547   25284   12936640         1  30/10/18\n",
       "132548   19028   12658262         1  30/10/18\n",
       "132549   19028   12658262         1  30/10/18\n",
       "132550   26784   13039088         1  30/10/18\n",
       "\n",
       "[132551 rows x 4 columns]"
      ]
     },
     "execution_count": 397,
     "metadata": {},
     "output_type": "execute_result"
    }
   ],
   "source": [
    " train"
   ]
  },
  {
   "cell_type": "code",
   "execution_count": 429,
   "metadata": {},
   "outputs": [
    {
     "data": {
      "text/html": [
       "<div>\n",
       "<style scoped>\n",
       "    .dataframe tbody tr th:only-of-type {\n",
       "        vertical-align: middle;\n",
       "    }\n",
       "\n",
       "    .dataframe tbody tr th {\n",
       "        vertical-align: top;\n",
       "    }\n",
       "\n",
       "    .dataframe thead th {\n",
       "        text-align: right;\n",
       "    }\n",
       "</style>\n",
       "<table border=\"1\" class=\"dataframe\">\n",
       "  <thead>\n",
       "    <tr style=\"text-align: right;\">\n",
       "      <th></th>\n",
       "      <th>UserId</th>\n",
       "      <th>productid</th>\n",
       "      <th>frequency</th>\n",
       "    </tr>\n",
       "  </thead>\n",
       "  <tbody>\n",
       "    <tr>\n",
       "      <th>0</th>\n",
       "      <td>0</td>\n",
       "      <td>11659624</td>\n",
       "      <td>1</td>\n",
       "    </tr>\n",
       "    <tr>\n",
       "      <th>1</th>\n",
       "      <td>1</td>\n",
       "      <td>12406904</td>\n",
       "      <td>1</td>\n",
       "    </tr>\n",
       "    <tr>\n",
       "      <th>2</th>\n",
       "      <td>2</td>\n",
       "      <td>11660064</td>\n",
       "      <td>1</td>\n",
       "    </tr>\n",
       "    <tr>\n",
       "      <th>3</th>\n",
       "      <td>3</td>\n",
       "      <td>12360440</td>\n",
       "      <td>3</td>\n",
       "    </tr>\n",
       "    <tr>\n",
       "      <th>4</th>\n",
       "      <td>3</td>\n",
       "      <td>12371354</td>\n",
       "      <td>3</td>\n",
       "    </tr>\n",
       "    <tr>\n",
       "      <th>5</th>\n",
       "      <td>3</td>\n",
       "      <td>12407298</td>\n",
       "      <td>3</td>\n",
       "    </tr>\n",
       "    <tr>\n",
       "      <th>6</th>\n",
       "      <td>3</td>\n",
       "      <td>12407522</td>\n",
       "      <td>3</td>\n",
       "    </tr>\n",
       "    <tr>\n",
       "      <th>7</th>\n",
       "      <td>3</td>\n",
       "      <td>12407616</td>\n",
       "      <td>3</td>\n",
       "    </tr>\n",
       "    <tr>\n",
       "      <th>8</th>\n",
       "      <td>3</td>\n",
       "      <td>12658228</td>\n",
       "      <td>3</td>\n",
       "    </tr>\n",
       "    <tr>\n",
       "      <th>9</th>\n",
       "      <td>4</td>\n",
       "      <td>11659934</td>\n",
       "      <td>1</td>\n",
       "    </tr>\n",
       "    <tr>\n",
       "      <th>10</th>\n",
       "      <td>4</td>\n",
       "      <td>12437468</td>\n",
       "      <td>1</td>\n",
       "    </tr>\n",
       "    <tr>\n",
       "      <th>11</th>\n",
       "      <td>5</td>\n",
       "      <td>11145740</td>\n",
       "      <td>1</td>\n",
       "    </tr>\n",
       "    <tr>\n",
       "      <th>12</th>\n",
       "      <td>5</td>\n",
       "      <td>12658512</td>\n",
       "      <td>1</td>\n",
       "    </tr>\n",
       "    <tr>\n",
       "      <th>13</th>\n",
       "      <td>6</td>\n",
       "      <td>13039720</td>\n",
       "      <td>1</td>\n",
       "    </tr>\n",
       "    <tr>\n",
       "      <th>14</th>\n",
       "      <td>7</td>\n",
       "      <td>11659742</td>\n",
       "      <td>1</td>\n",
       "    </tr>\n",
       "    <tr>\n",
       "      <th>15</th>\n",
       "      <td>8</td>\n",
       "      <td>12947668</td>\n",
       "      <td>3</td>\n",
       "    </tr>\n",
       "    <tr>\n",
       "      <th>16</th>\n",
       "      <td>8</td>\n",
       "      <td>13039546</td>\n",
       "      <td>1</td>\n",
       "    </tr>\n",
       "    <tr>\n",
       "      <th>17</th>\n",
       "      <td>9</td>\n",
       "      <td>12658634</td>\n",
       "      <td>1</td>\n",
       "    </tr>\n",
       "    <tr>\n",
       "      <th>18</th>\n",
       "      <td>9</td>\n",
       "      <td>13039040</td>\n",
       "      <td>1</td>\n",
       "    </tr>\n",
       "    <tr>\n",
       "      <th>19</th>\n",
       "      <td>10</td>\n",
       "      <td>11460910</td>\n",
       "      <td>2</td>\n",
       "    </tr>\n",
       "    <tr>\n",
       "      <th>20</th>\n",
       "      <td>11</td>\n",
       "      <td>12657628</td>\n",
       "      <td>1</td>\n",
       "    </tr>\n",
       "    <tr>\n",
       "      <th>21</th>\n",
       "      <td>12</td>\n",
       "      <td>11360912</td>\n",
       "      <td>1</td>\n",
       "    </tr>\n",
       "    <tr>\n",
       "      <th>22</th>\n",
       "      <td>13</td>\n",
       "      <td>11658984</td>\n",
       "      <td>1</td>\n",
       "    </tr>\n",
       "    <tr>\n",
       "      <th>23</th>\n",
       "      <td>13</td>\n",
       "      <td>11659206</td>\n",
       "      <td>1</td>\n",
       "    </tr>\n",
       "    <tr>\n",
       "      <th>24</th>\n",
       "      <td>13</td>\n",
       "      <td>12407424</td>\n",
       "      <td>1</td>\n",
       "    </tr>\n",
       "    <tr>\n",
       "      <th>25</th>\n",
       "      <td>14</td>\n",
       "      <td>11659298</td>\n",
       "      <td>1</td>\n",
       "    </tr>\n",
       "    <tr>\n",
       "      <th>26</th>\n",
       "      <td>14</td>\n",
       "      <td>11660048</td>\n",
       "      <td>1</td>\n",
       "    </tr>\n",
       "    <tr>\n",
       "      <th>27</th>\n",
       "      <td>14</td>\n",
       "      <td>11714316</td>\n",
       "      <td>1</td>\n",
       "    </tr>\n",
       "    <tr>\n",
       "      <th>28</th>\n",
       "      <td>14</td>\n",
       "      <td>12657436</td>\n",
       "      <td>1</td>\n",
       "    </tr>\n",
       "    <tr>\n",
       "      <th>29</th>\n",
       "      <td>15</td>\n",
       "      <td>12407864</td>\n",
       "      <td>2</td>\n",
       "    </tr>\n",
       "    <tr>\n",
       "      <th>...</th>\n",
       "      <td>...</td>\n",
       "      <td>...</td>\n",
       "      <td>...</td>\n",
       "    </tr>\n",
       "    <tr>\n",
       "      <th>74885</th>\n",
       "      <td>27763</td>\n",
       "      <td>12658252</td>\n",
       "      <td>1</td>\n",
       "    </tr>\n",
       "    <tr>\n",
       "      <th>74886</th>\n",
       "      <td>27764</td>\n",
       "      <td>11659902</td>\n",
       "      <td>1</td>\n",
       "    </tr>\n",
       "    <tr>\n",
       "      <th>74887</th>\n",
       "      <td>27764</td>\n",
       "      <td>12407038</td>\n",
       "      <td>1</td>\n",
       "    </tr>\n",
       "    <tr>\n",
       "      <th>74888</th>\n",
       "      <td>27765</td>\n",
       "      <td>12407828</td>\n",
       "      <td>1</td>\n",
       "    </tr>\n",
       "    <tr>\n",
       "      <th>74889</th>\n",
       "      <td>27766</td>\n",
       "      <td>11660198</td>\n",
       "      <td>1</td>\n",
       "    </tr>\n",
       "    <tr>\n",
       "      <th>74890</th>\n",
       "      <td>27766</td>\n",
       "      <td>11660246</td>\n",
       "      <td>1</td>\n",
       "    </tr>\n",
       "    <tr>\n",
       "      <th>74891</th>\n",
       "      <td>27767</td>\n",
       "      <td>12407834</td>\n",
       "      <td>1</td>\n",
       "    </tr>\n",
       "    <tr>\n",
       "      <th>74892</th>\n",
       "      <td>27768</td>\n",
       "      <td>11659552</td>\n",
       "      <td>1</td>\n",
       "    </tr>\n",
       "    <tr>\n",
       "      <th>74893</th>\n",
       "      <td>27768</td>\n",
       "      <td>12657620</td>\n",
       "      <td>1</td>\n",
       "    </tr>\n",
       "    <tr>\n",
       "      <th>74894</th>\n",
       "      <td>27768</td>\n",
       "      <td>13039848</td>\n",
       "      <td>1</td>\n",
       "    </tr>\n",
       "    <tr>\n",
       "      <th>74895</th>\n",
       "      <td>27769</td>\n",
       "      <td>11660134</td>\n",
       "      <td>1</td>\n",
       "    </tr>\n",
       "    <tr>\n",
       "      <th>74896</th>\n",
       "      <td>27769</td>\n",
       "      <td>12360418</td>\n",
       "      <td>1</td>\n",
       "    </tr>\n",
       "    <tr>\n",
       "      <th>74897</th>\n",
       "      <td>27769</td>\n",
       "      <td>12360450</td>\n",
       "      <td>1</td>\n",
       "    </tr>\n",
       "    <tr>\n",
       "      <th>74898</th>\n",
       "      <td>27769</td>\n",
       "      <td>12371378</td>\n",
       "      <td>1</td>\n",
       "    </tr>\n",
       "    <tr>\n",
       "      <th>74899</th>\n",
       "      <td>27769</td>\n",
       "      <td>12407134</td>\n",
       "      <td>1</td>\n",
       "    </tr>\n",
       "    <tr>\n",
       "      <th>74900</th>\n",
       "      <td>27769</td>\n",
       "      <td>12407642</td>\n",
       "      <td>1</td>\n",
       "    </tr>\n",
       "    <tr>\n",
       "      <th>74901</th>\n",
       "      <td>27770</td>\n",
       "      <td>13039534</td>\n",
       "      <td>2</td>\n",
       "    </tr>\n",
       "    <tr>\n",
       "      <th>74902</th>\n",
       "      <td>27771</td>\n",
       "      <td>13039516</td>\n",
       "      <td>1</td>\n",
       "    </tr>\n",
       "    <tr>\n",
       "      <th>74903</th>\n",
       "      <td>27772</td>\n",
       "      <td>11714306</td>\n",
       "      <td>1</td>\n",
       "    </tr>\n",
       "    <tr>\n",
       "      <th>74904</th>\n",
       "      <td>27773</td>\n",
       "      <td>12658426</td>\n",
       "      <td>1</td>\n",
       "    </tr>\n",
       "    <tr>\n",
       "      <th>74905</th>\n",
       "      <td>27774</td>\n",
       "      <td>11659310</td>\n",
       "      <td>1</td>\n",
       "    </tr>\n",
       "    <tr>\n",
       "      <th>74906</th>\n",
       "      <td>27774</td>\n",
       "      <td>11659548</td>\n",
       "      <td>1</td>\n",
       "    </tr>\n",
       "    <tr>\n",
       "      <th>74907</th>\n",
       "      <td>27774</td>\n",
       "      <td>12407382</td>\n",
       "      <td>3</td>\n",
       "    </tr>\n",
       "    <tr>\n",
       "      <th>74908</th>\n",
       "      <td>27775</td>\n",
       "      <td>12657638</td>\n",
       "      <td>1</td>\n",
       "    </tr>\n",
       "    <tr>\n",
       "      <th>74909</th>\n",
       "      <td>27776</td>\n",
       "      <td>11660078</td>\n",
       "      <td>2</td>\n",
       "    </tr>\n",
       "    <tr>\n",
       "      <th>74910</th>\n",
       "      <td>27776</td>\n",
       "      <td>12407176</td>\n",
       "      <td>2</td>\n",
       "    </tr>\n",
       "    <tr>\n",
       "      <th>74911</th>\n",
       "      <td>27776</td>\n",
       "      <td>12658024</td>\n",
       "      <td>2</td>\n",
       "    </tr>\n",
       "    <tr>\n",
       "      <th>74912</th>\n",
       "      <td>27777</td>\n",
       "      <td>11659252</td>\n",
       "      <td>1</td>\n",
       "    </tr>\n",
       "    <tr>\n",
       "      <th>74913</th>\n",
       "      <td>27777</td>\n",
       "      <td>12360390</td>\n",
       "      <td>1</td>\n",
       "    </tr>\n",
       "    <tr>\n",
       "      <th>74914</th>\n",
       "      <td>27777</td>\n",
       "      <td>12360426</td>\n",
       "      <td>1</td>\n",
       "    </tr>\n",
       "  </tbody>\n",
       "</table>\n",
       "<p>74915 rows × 3 columns</p>\n",
       "</div>"
      ],
      "text/plain": [
       "       UserId  productid  frequency\n",
       "0           0   11659624          1\n",
       "1           1   12406904          1\n",
       "2           2   11660064          1\n",
       "3           3   12360440          3\n",
       "4           3   12371354          3\n",
       "5           3   12407298          3\n",
       "6           3   12407522          3\n",
       "7           3   12407616          3\n",
       "8           3   12658228          3\n",
       "9           4   11659934          1\n",
       "10          4   12437468          1\n",
       "11          5   11145740          1\n",
       "12          5   12658512          1\n",
       "13          6   13039720          1\n",
       "14          7   11659742          1\n",
       "15          8   12947668          3\n",
       "16          8   13039546          1\n",
       "17          9   12658634          1\n",
       "18          9   13039040          1\n",
       "19         10   11460910          2\n",
       "20         11   12657628          1\n",
       "21         12   11360912          1\n",
       "22         13   11658984          1\n",
       "23         13   11659206          1\n",
       "24         13   12407424          1\n",
       "25         14   11659298          1\n",
       "26         14   11660048          1\n",
       "27         14   11714316          1\n",
       "28         14   12657436          1\n",
       "29         15   12407864          2\n",
       "...       ...        ...        ...\n",
       "74885   27763   12658252          1\n",
       "74886   27764   11659902          1\n",
       "74887   27764   12407038          1\n",
       "74888   27765   12407828          1\n",
       "74889   27766   11660198          1\n",
       "74890   27766   11660246          1\n",
       "74891   27767   12407834          1\n",
       "74892   27768   11659552          1\n",
       "74893   27768   12657620          1\n",
       "74894   27768   13039848          1\n",
       "74895   27769   11660134          1\n",
       "74896   27769   12360418          1\n",
       "74897   27769   12360450          1\n",
       "74898   27769   12371378          1\n",
       "74899   27769   12407134          1\n",
       "74900   27769   12407642          1\n",
       "74901   27770   13039534          2\n",
       "74902   27771   13039516          1\n",
       "74903   27772   11714306          1\n",
       "74904   27773   12658426          1\n",
       "74905   27774   11659310          1\n",
       "74906   27774   11659548          1\n",
       "74907   27774   12407382          3\n",
       "74908   27775   12657638          1\n",
       "74909   27776   11660078          2\n",
       "74910   27776   12407176          2\n",
       "74911   27776   12658024          2\n",
       "74912   27777   11659252          1\n",
       "74913   27777   12360390          1\n",
       "74914   27777   12360426          1\n",
       "\n",
       "[74915 rows x 3 columns]"
      ]
     },
     "execution_count": 429,
     "metadata": {},
     "output_type": "execute_result"
    }
   ],
   "source": [
    "mydf"
   ]
  },
  {
   "cell_type": "code",
   "execution_count": 426,
   "metadata": {},
   "outputs": [],
   "source": [
    "aaa = mydf.groupby('UserId')['productid'].apply(list)"
   ]
  },
  {
   "cell_type": "code",
   "execution_count": 427,
   "metadata": {},
   "outputs": [
    {
     "data": {
      "text/plain": [
       "UserId\n",
       "0                                               [11659624]\n",
       "1                                               [12406904]\n",
       "2                                               [11660064]\n",
       "3        [12360440, 12371354, 12407298, 12407522, 12407...\n",
       "4                                     [11659934, 12437468]\n",
       "5                                     [11145740, 12658512]\n",
       "6                                               [13039720]\n",
       "7                                               [11659742]\n",
       "8                                     [12947668, 13039546]\n",
       "9                                     [12658634, 13039040]\n",
       "10                                              [11460910]\n",
       "11                                              [12657628]\n",
       "12                                              [11360912]\n",
       "13                          [11658984, 11659206, 12407424]\n",
       "14                [11659298, 11660048, 11714316, 12657436]\n",
       "15       [12407864, 12657716, 12657722, 13038816, 13064...\n",
       "16                                    [13039094, 13039102]\n",
       "17                                              [12407622]\n",
       "18       [12360410, 12371382, 12407826, 12658482, 12658...\n",
       "19                                    [12406880, 12407798]\n",
       "20                                              [12407672]\n",
       "21                                              [12360438]\n",
       "22                                              [12658002]\n",
       "23                                              [12407334]\n",
       "24                          [11481008, 11659298, 11659978]\n",
       "25                                              [12658512]\n",
       "26                                              [12657642]\n",
       "27                                              [12437292]\n",
       "28       [11659838, 12360404, 12407652, 12407706, 13039...\n",
       "29                                    [12407014, 12407386]\n",
       "                               ...                        \n",
       "27748                                           [11360780]\n",
       "27749                                           [12657526]\n",
       "27750                                           [12407766]\n",
       "27751                                           [11659482]\n",
       "27752                                 [11659954, 12658608]\n",
       "27753                                           [12658482]\n",
       "27754                                           [12658190]\n",
       "27755                                 [11407162, 12407488]\n",
       "27756                       [11360996, 11659250, 12407390]\n",
       "27757                                           [13064966]\n",
       "27758    [12407132, 12407158, 12407166, 12658574, 12936...\n",
       "27759                                           [13039494]\n",
       "27760                                           [13039748]\n",
       "27761                                 [12406932, 12696928]\n",
       "27762                                           [11660104]\n",
       "27763                                           [12658252]\n",
       "27764                                 [11659902, 12407038]\n",
       "27765                                           [12407828]\n",
       "27766                                 [11660198, 11660246]\n",
       "27767                                           [12407834]\n",
       "27768                       [11659552, 12657620, 13039848]\n",
       "27769    [11660134, 12360418, 12360450, 12371378, 12407...\n",
       "27770                                           [13039534]\n",
       "27771                                           [13039516]\n",
       "27772                                           [11714306]\n",
       "27773                                           [12658426]\n",
       "27774                       [11659310, 11659548, 12407382]\n",
       "27775                                           [12657638]\n",
       "27776                       [11660078, 12407176, 12658024]\n",
       "27777                       [11659252, 12360390, 12360426]\n",
       "Name: productid, Length: 27778, dtype: object"
      ]
     },
     "execution_count": 427,
     "metadata": {},
     "output_type": "execute_result"
    }
   ],
   "source": [
    "aaa"
   ]
  },
  {
   "cell_type": "code",
   "execution_count": 430,
   "metadata": {},
   "outputs": [
    {
     "data": {
      "text/html": [
       "<div>\n",
       "<style scoped>\n",
       "    .dataframe tbody tr th:only-of-type {\n",
       "        vertical-align: middle;\n",
       "    }\n",
       "\n",
       "    .dataframe tbody tr th {\n",
       "        vertical-align: top;\n",
       "    }\n",
       "\n",
       "    .dataframe thead th {\n",
       "        text-align: right;\n",
       "    }\n",
       "</style>\n",
       "<table border=\"1\" class=\"dataframe\">\n",
       "  <thead>\n",
       "    <tr style=\"text-align: right;\">\n",
       "      <th></th>\n",
       "      <th>UserId</th>\n",
       "      <th>productid</th>\n",
       "      <th>frequency</th>\n",
       "    </tr>\n",
       "  </thead>\n",
       "  <tbody>\n",
       "    <tr>\n",
       "      <th>70703</th>\n",
       "      <td>26784</td>\n",
       "      <td>12407742</td>\n",
       "      <td>127</td>\n",
       "    </tr>\n",
       "  </tbody>\n",
       "</table>\n",
       "</div>"
      ],
      "text/plain": [
       "       UserId  productid  frequency\n",
       "70703   26784   12407742        127"
      ]
     },
     "execution_count": 430,
     "metadata": {},
     "output_type": "execute_result"
    }
   ],
   "source": [
    "mydf[mydf['frequency']==127]"
   ]
  },
  {
   "cell_type": "code",
   "execution_count": 432,
   "metadata": {},
   "outputs": [
    {
     "data": {
      "text/html": [
       "<div>\n",
       "<style scoped>\n",
       "    .dataframe tbody tr th:only-of-type {\n",
       "        vertical-align: middle;\n",
       "    }\n",
       "\n",
       "    .dataframe tbody tr th {\n",
       "        vertical-align: top;\n",
       "    }\n",
       "\n",
       "    .dataframe thead th {\n",
       "        text-align: right;\n",
       "    }\n",
       "</style>\n",
       "<table border=\"1\" class=\"dataframe\">\n",
       "  <thead>\n",
       "    <tr style=\"text-align: right;\">\n",
       "      <th></th>\n",
       "      <th>productid</th>\n",
       "      <th>attribute_name</th>\n",
       "      <th>attributevalue</th>\n",
       "    </tr>\n",
       "  </thead>\n",
       "  <tbody>\n",
       "    <tr>\n",
       "      <th>0</th>\n",
       "      <td>11145600</td>\n",
       "      <td>Fit</td>\n",
       "      <td>37</td>\n",
       "    </tr>\n",
       "    <tr>\n",
       "      <th>1</th>\n",
       "      <td>11145600</td>\n",
       "      <td>Sleeve Length</td>\n",
       "      <td>23</td>\n",
       "    </tr>\n",
       "    <tr>\n",
       "      <th>2</th>\n",
       "      <td>11145600</td>\n",
       "      <td>Fabric</td>\n",
       "      <td>16</td>\n",
       "    </tr>\n",
       "    <tr>\n",
       "      <th>3</th>\n",
       "      <td>11145600</td>\n",
       "      <td>Color</td>\n",
       "      <td>25</td>\n",
       "    </tr>\n",
       "    <tr>\n",
       "      <th>4</th>\n",
       "      <td>11145600</td>\n",
       "      <td>Neckline</td>\n",
       "      <td>51</td>\n",
       "    </tr>\n",
       "    <tr>\n",
       "      <th>5</th>\n",
       "      <td>11145602</td>\n",
       "      <td>Fit</td>\n",
       "      <td>37</td>\n",
       "    </tr>\n",
       "    <tr>\n",
       "      <th>6</th>\n",
       "      <td>11145602</td>\n",
       "      <td>Sleeve Length</td>\n",
       "      <td>3</td>\n",
       "    </tr>\n",
       "    <tr>\n",
       "      <th>7</th>\n",
       "      <td>11145602</td>\n",
       "      <td>Fabric</td>\n",
       "      <td>58</td>\n",
       "    </tr>\n",
       "    <tr>\n",
       "      <th>8</th>\n",
       "      <td>11145602</td>\n",
       "      <td>Color</td>\n",
       "      <td>17</td>\n",
       "    </tr>\n",
       "    <tr>\n",
       "      <th>9</th>\n",
       "      <td>11145602</td>\n",
       "      <td>Neckline</td>\n",
       "      <td>4</td>\n",
       "    </tr>\n",
       "    <tr>\n",
       "      <th>10</th>\n",
       "      <td>11145612</td>\n",
       "      <td>Fit</td>\n",
       "      <td>37</td>\n",
       "    </tr>\n",
       "    <tr>\n",
       "      <th>11</th>\n",
       "      <td>11145612</td>\n",
       "      <td>Sleeve Length</td>\n",
       "      <td>21</td>\n",
       "    </tr>\n",
       "    <tr>\n",
       "      <th>12</th>\n",
       "      <td>11145612</td>\n",
       "      <td>Fabric</td>\n",
       "      <td>58</td>\n",
       "    </tr>\n",
       "    <tr>\n",
       "      <th>13</th>\n",
       "      <td>11145612</td>\n",
       "      <td>Color</td>\n",
       "      <td>17</td>\n",
       "    </tr>\n",
       "    <tr>\n",
       "      <th>14</th>\n",
       "      <td>11145612</td>\n",
       "      <td>Neckline</td>\n",
       "      <td>8</td>\n",
       "    </tr>\n",
       "    <tr>\n",
       "      <th>15</th>\n",
       "      <td>11145614</td>\n",
       "      <td>Fit</td>\n",
       "      <td>37</td>\n",
       "    </tr>\n",
       "    <tr>\n",
       "      <th>16</th>\n",
       "      <td>11145614</td>\n",
       "      <td>Sleeve Length</td>\n",
       "      <td>21</td>\n",
       "    </tr>\n",
       "    <tr>\n",
       "      <th>17</th>\n",
       "      <td>11145614</td>\n",
       "      <td>Fabric</td>\n",
       "      <td>39</td>\n",
       "    </tr>\n",
       "    <tr>\n",
       "      <th>18</th>\n",
       "      <td>11145614</td>\n",
       "      <td>Color</td>\n",
       "      <td>31</td>\n",
       "    </tr>\n",
       "    <tr>\n",
       "      <th>19</th>\n",
       "      <td>11145614</td>\n",
       "      <td>Neckline</td>\n",
       "      <td>8</td>\n",
       "    </tr>\n",
       "    <tr>\n",
       "      <th>20</th>\n",
       "      <td>11145620</td>\n",
       "      <td>Fit</td>\n",
       "      <td>0</td>\n",
       "    </tr>\n",
       "    <tr>\n",
       "      <th>21</th>\n",
       "      <td>11145620</td>\n",
       "      <td>Sleeve Length</td>\n",
       "      <td>23</td>\n",
       "    </tr>\n",
       "    <tr>\n",
       "      <th>22</th>\n",
       "      <td>11145620</td>\n",
       "      <td>Fabric</td>\n",
       "      <td>16</td>\n",
       "    </tr>\n",
       "    <tr>\n",
       "      <th>23</th>\n",
       "      <td>11145620</td>\n",
       "      <td>Color</td>\n",
       "      <td>28</td>\n",
       "    </tr>\n",
       "    <tr>\n",
       "      <th>24</th>\n",
       "      <td>11145620</td>\n",
       "      <td>Neckline</td>\n",
       "      <td>26</td>\n",
       "    </tr>\n",
       "    <tr>\n",
       "      <th>25</th>\n",
       "      <td>11145624</td>\n",
       "      <td>Fit</td>\n",
       "      <td>37</td>\n",
       "    </tr>\n",
       "    <tr>\n",
       "      <th>26</th>\n",
       "      <td>11145624</td>\n",
       "      <td>Sleeve Length</td>\n",
       "      <td>3</td>\n",
       "    </tr>\n",
       "    <tr>\n",
       "      <th>27</th>\n",
       "      <td>11145624</td>\n",
       "      <td>Fabric</td>\n",
       "      <td>2</td>\n",
       "    </tr>\n",
       "    <tr>\n",
       "      <th>28</th>\n",
       "      <td>11145624</td>\n",
       "      <td>Color</td>\n",
       "      <td>18</td>\n",
       "    </tr>\n",
       "    <tr>\n",
       "      <th>29</th>\n",
       "      <td>11145624</td>\n",
       "      <td>Neckline</td>\n",
       "      <td>4</td>\n",
       "    </tr>\n",
       "    <tr>\n",
       "      <th>...</th>\n",
       "      <td>...</td>\n",
       "      <td>...</td>\n",
       "      <td>...</td>\n",
       "    </tr>\n",
       "    <tr>\n",
       "      <th>18720</th>\n",
       "      <td>14122762</td>\n",
       "      <td>Fabric</td>\n",
       "      <td>2</td>\n",
       "    </tr>\n",
       "    <tr>\n",
       "      <th>18721</th>\n",
       "      <td>14122762</td>\n",
       "      <td>Season</td>\n",
       "      <td>9</td>\n",
       "    </tr>\n",
       "    <tr>\n",
       "      <th>18722</th>\n",
       "      <td>14122762</td>\n",
       "      <td>Neckline</td>\n",
       "      <td>8</td>\n",
       "    </tr>\n",
       "    <tr>\n",
       "      <th>18723</th>\n",
       "      <td>14122766</td>\n",
       "      <td>Category</td>\n",
       "      <td>1</td>\n",
       "    </tr>\n",
       "    <tr>\n",
       "      <th>18724</th>\n",
       "      <td>14122766</td>\n",
       "      <td>Fit</td>\n",
       "      <td>0</td>\n",
       "    </tr>\n",
       "    <tr>\n",
       "      <th>18725</th>\n",
       "      <td>14122766</td>\n",
       "      <td>Sleeve Length</td>\n",
       "      <td>3</td>\n",
       "    </tr>\n",
       "    <tr>\n",
       "      <th>18726</th>\n",
       "      <td>14122766</td>\n",
       "      <td>Fabric</td>\n",
       "      <td>2</td>\n",
       "    </tr>\n",
       "    <tr>\n",
       "      <th>18727</th>\n",
       "      <td>14122766</td>\n",
       "      <td>Season</td>\n",
       "      <td>9</td>\n",
       "    </tr>\n",
       "    <tr>\n",
       "      <th>18728</th>\n",
       "      <td>14122766</td>\n",
       "      <td>Neckline</td>\n",
       "      <td>8</td>\n",
       "    </tr>\n",
       "    <tr>\n",
       "      <th>18729</th>\n",
       "      <td>14122834</td>\n",
       "      <td>Category</td>\n",
       "      <td>1</td>\n",
       "    </tr>\n",
       "    <tr>\n",
       "      <th>18730</th>\n",
       "      <td>14122834</td>\n",
       "      <td>Fit</td>\n",
       "      <td>0</td>\n",
       "    </tr>\n",
       "    <tr>\n",
       "      <th>18731</th>\n",
       "      <td>14122834</td>\n",
       "      <td>Sleeve Length</td>\n",
       "      <td>3</td>\n",
       "    </tr>\n",
       "    <tr>\n",
       "      <th>18732</th>\n",
       "      <td>14122834</td>\n",
       "      <td>Fabric</td>\n",
       "      <td>2</td>\n",
       "    </tr>\n",
       "    <tr>\n",
       "      <th>18733</th>\n",
       "      <td>14122834</td>\n",
       "      <td>Season</td>\n",
       "      <td>9</td>\n",
       "    </tr>\n",
       "    <tr>\n",
       "      <th>18734</th>\n",
       "      <td>14122834</td>\n",
       "      <td>Neckline</td>\n",
       "      <td>8</td>\n",
       "    </tr>\n",
       "    <tr>\n",
       "      <th>18735</th>\n",
       "      <td>14122832</td>\n",
       "      <td>Fabric</td>\n",
       "      <td>130</td>\n",
       "    </tr>\n",
       "    <tr>\n",
       "      <th>18736</th>\n",
       "      <td>14122832</td>\n",
       "      <td>Category</td>\n",
       "      <td>7</td>\n",
       "    </tr>\n",
       "    <tr>\n",
       "      <th>18737</th>\n",
       "      <td>14122832</td>\n",
       "      <td>Fit</td>\n",
       "      <td>0</td>\n",
       "    </tr>\n",
       "    <tr>\n",
       "      <th>18738</th>\n",
       "      <td>14122832</td>\n",
       "      <td>Sleeve Length</td>\n",
       "      <td>3</td>\n",
       "    </tr>\n",
       "    <tr>\n",
       "      <th>18739</th>\n",
       "      <td>14122832</td>\n",
       "      <td>Color</td>\n",
       "      <td>57</td>\n",
       "    </tr>\n",
       "    <tr>\n",
       "      <th>18740</th>\n",
       "      <td>14122832</td>\n",
       "      <td>Season</td>\n",
       "      <td>9</td>\n",
       "    </tr>\n",
       "    <tr>\n",
       "      <th>18741</th>\n",
       "      <td>14122832</td>\n",
       "      <td>Neckline</td>\n",
       "      <td>49</td>\n",
       "    </tr>\n",
       "    <tr>\n",
       "      <th>18742</th>\n",
       "      <td>14104334</td>\n",
       "      <td>Category</td>\n",
       "      <td>19</td>\n",
       "    </tr>\n",
       "    <tr>\n",
       "      <th>18743</th>\n",
       "      <td>14104334</td>\n",
       "      <td>Season</td>\n",
       "      <td>9</td>\n",
       "    </tr>\n",
       "    <tr>\n",
       "      <th>18744</th>\n",
       "      <td>14128359</td>\n",
       "      <td>Category</td>\n",
       "      <td>19</td>\n",
       "    </tr>\n",
       "    <tr>\n",
       "      <th>18745</th>\n",
       "      <td>14128359</td>\n",
       "      <td>Season</td>\n",
       "      <td>9</td>\n",
       "    </tr>\n",
       "    <tr>\n",
       "      <th>18746</th>\n",
       "      <td>13039386</td>\n",
       "      <td>Color</td>\n",
       "      <td>164</td>\n",
       "    </tr>\n",
       "    <tr>\n",
       "      <th>18747</th>\n",
       "      <td>13039714</td>\n",
       "      <td>Neckline</td>\n",
       "      <td>8</td>\n",
       "    </tr>\n",
       "    <tr>\n",
       "      <th>18748</th>\n",
       "      <td>14122820</td>\n",
       "      <td>Neckline</td>\n",
       "      <td>8</td>\n",
       "    </tr>\n",
       "    <tr>\n",
       "      <th>18749</th>\n",
       "      <td>13038982</td>\n",
       "      <td>Fit</td>\n",
       "      <td>24</td>\n",
       "    </tr>\n",
       "  </tbody>\n",
       "</table>\n",
       "<p>18750 rows × 3 columns</p>\n",
       "</div>"
      ],
      "text/plain": [
       "       productid attribute_name  attributevalue\n",
       "0       11145600            Fit              37\n",
       "1       11145600  Sleeve Length              23\n",
       "2       11145600         Fabric              16\n",
       "3       11145600          Color              25\n",
       "4       11145600       Neckline              51\n",
       "5       11145602            Fit              37\n",
       "6       11145602  Sleeve Length               3\n",
       "7       11145602         Fabric              58\n",
       "8       11145602          Color              17\n",
       "9       11145602       Neckline               4\n",
       "10      11145612            Fit              37\n",
       "11      11145612  Sleeve Length              21\n",
       "12      11145612         Fabric              58\n",
       "13      11145612          Color              17\n",
       "14      11145612       Neckline               8\n",
       "15      11145614            Fit              37\n",
       "16      11145614  Sleeve Length              21\n",
       "17      11145614         Fabric              39\n",
       "18      11145614          Color              31\n",
       "19      11145614       Neckline               8\n",
       "20      11145620            Fit               0\n",
       "21      11145620  Sleeve Length              23\n",
       "22      11145620         Fabric              16\n",
       "23      11145620          Color              28\n",
       "24      11145620       Neckline              26\n",
       "25      11145624            Fit              37\n",
       "26      11145624  Sleeve Length               3\n",
       "27      11145624         Fabric               2\n",
       "28      11145624          Color              18\n",
       "29      11145624       Neckline               4\n",
       "...          ...            ...             ...\n",
       "18720   14122762         Fabric               2\n",
       "18721   14122762         Season               9\n",
       "18722   14122762       Neckline               8\n",
       "18723   14122766       Category               1\n",
       "18724   14122766            Fit               0\n",
       "18725   14122766  Sleeve Length               3\n",
       "18726   14122766         Fabric               2\n",
       "18727   14122766         Season               9\n",
       "18728   14122766       Neckline               8\n",
       "18729   14122834       Category               1\n",
       "18730   14122834            Fit               0\n",
       "18731   14122834  Sleeve Length               3\n",
       "18732   14122834         Fabric               2\n",
       "18733   14122834         Season               9\n",
       "18734   14122834       Neckline               8\n",
       "18735   14122832         Fabric             130\n",
       "18736   14122832       Category               7\n",
       "18737   14122832            Fit               0\n",
       "18738   14122832  Sleeve Length               3\n",
       "18739   14122832          Color              57\n",
       "18740   14122832         Season               9\n",
       "18741   14122832       Neckline              49\n",
       "18742   14104334       Category              19\n",
       "18743   14104334         Season               9\n",
       "18744   14128359       Category              19\n",
       "18745   14128359         Season               9\n",
       "18746   13039386          Color             164\n",
       "18747   13039714       Neckline               8\n",
       "18748   14122820       Neckline               8\n",
       "18749   13038982            Fit              24\n",
       "\n",
       "[18750 rows x 3 columns]"
      ]
     },
     "execution_count": 432,
     "metadata": {},
     "output_type": "execute_result"
    }
   ],
   "source": [
    "pro_att"
   ]
  },
  {
   "cell_type": "code",
   "execution_count": 433,
   "metadata": {},
   "outputs": [
    {
     "data": {
      "text/plain": [
       "array(['Fit', 'Sleeve Length', 'Fabric', 'Color', 'Neckline', 'Category',\n",
       "       'Season', 'Material', 'Collection'], dtype=object)"
      ]
     },
     "execution_count": 433,
     "metadata": {},
     "output_type": "execute_result"
    }
   ],
   "source": [
    "pro_att['attribute_name'].unique()"
   ]
  },
  {
   "cell_type": "code",
   "execution_count": 449,
   "metadata": {},
   "outputs": [],
   "source": [
    "aba = pro_att.groupby('productid')['attribute_name'].apply(list)"
   ]
  },
  {
   "cell_type": "code",
   "execution_count": 446,
   "metadata": {},
   "outputs": [
    {
     "data": {
      "text/plain": [
       "productid\n",
       "11139192               [Fit, Fabric, Color, Category, Season]\n",
       "11139194               [Fit, Fabric, Color, Category, Season]\n",
       "11139524    [Fit, Sleeve Length, Fabric, Color, Neckline, ...\n",
       "11139560    [Fit, Sleeve Length, Fabric, Color, Neckline, ...\n",
       "11139588               [Fit, Fabric, Color, Category, Season]\n",
       "11139650    [Fit, Sleeve Length, Fabric, Color, Neckline, ...\n",
       "11141306                    [Fabric, Color, Category, Season]\n",
       "11141308               [Fit, Fabric, Color, Category, Season]\n",
       "11141318               [Fit, Fabric, Color, Category, Season]\n",
       "11141320               [Fit, Fabric, Color, Category, Season]\n",
       "11141324               [Fit, Fabric, Color, Category, Season]\n",
       "11141326               [Fit, Fabric, Category, Season, Color]\n",
       "11141328                    [Fabric, Color, Category, Season]\n",
       "11141330               [Fit, Fabric, Color, Category, Season]\n",
       "11141338               [Fit, Fabric, Color, Category, Season]\n",
       "11141340               [Fit, Fabric, Color, Category, Season]\n",
       "11141342               [Fit, Fabric, Color, Category, Season]\n",
       "11141346                    [Fabric, Color, Category, Season]\n",
       "11141354                    [Fabric, Color, Category, Season]\n",
       "11141530    [Fit, Sleeve Length, Fabric, Color, Neckline, ...\n",
       "11141538    [Fit, Sleeve Length, Fabric, Neckline, Categor...\n",
       "11141644                    [Fabric, Color, Category, Season]\n",
       "11144136    [Fit, Sleeve Length, Fabric, Color, Neckline, ...\n",
       "11144260    [Fit, Sleeve Length, Fabric, Color, Neckline, ...\n",
       "11145600    [Fit, Sleeve Length, Fabric, Color, Neckline, ...\n",
       "11145602    [Fit, Sleeve Length, Fabric, Color, Neckline, ...\n",
       "11145612    [Fit, Sleeve Length, Fabric, Color, Neckline, ...\n",
       "11145614    [Fit, Sleeve Length, Fabric, Color, Neckline, ...\n",
       "11145620    [Fit, Sleeve Length, Fabric, Color, Neckline, ...\n",
       "11145624    [Fit, Sleeve Length, Fabric, Color, Neckline, ...\n",
       "                                  ...                        \n",
       "14110862           [Category, Fit, Fabric, Color, Collection]\n",
       "14110864           [Category, Fit, Fabric, Color, Collection]\n",
       "14110866           [Category, Fit, Fabric, Color, Collection]\n",
       "14110868           [Category, Fit, Fabric, Color, Collection]\n",
       "14121822                               [Category, Fit, Color]\n",
       "14121824                                      [Category, Fit]\n",
       "14121826                                   [Category, Season]\n",
       "14121828                              [Category, Fit, Season]\n",
       "14121830                      [Category, Fit, Fabric, Season]\n",
       "14121832                           [Category, Fabric, Season]\n",
       "14121834            [Category, Sleeve Length, Fabric, Season]\n",
       "14121836                           [Category, Fabric, Season]\n",
       "14121838            [Category, Sleeve Length, Fabric, Season]\n",
       "14121840                    [Category, Fabric, Color, Season]\n",
       "14121842                       [Category, Fit, Fabric, Color]\n",
       "14121844                           [Category, Fabric, Season]\n",
       "14121846                            [Category, Fabric, Color]\n",
       "14121848                    [Category, Fabric, Color, Season]\n",
       "14122744           [Category, Fit, Fabric, Color, Collection]\n",
       "14122748                    [Category, Fabric, Color, Season]\n",
       "14122750    [Category, Fit, Sleeve Length, Fabric, Season,...\n",
       "14122758    [Category, Fit, Sleeve Length, Fabric, Season,...\n",
       "14122762    [Category, Fit, Sleeve Length, Fabric, Season,...\n",
       "14122766    [Category, Fit, Sleeve Length, Fabric, Season,...\n",
       "14122818    [Category, Fit, Sleeve Length, Fabric, Color, ...\n",
       "14122820    [Category, Fit, Sleeve Length, Fabric, Color, ...\n",
       "14122822    [Category, Fit, Sleeve Length, Fabric, Color, ...\n",
       "14122832    [Fabric, Category, Fit, Sleeve Length, Color, ...\n",
       "14122834    [Category, Fit, Sleeve Length, Fabric, Season,...\n",
       "14128359                                   [Category, Season]\n",
       "Name: attribute_name, Length: 3015, dtype: object"
      ]
     },
     "execution_count": 446,
     "metadata": {},
     "output_type": "execute_result"
    }
   ],
   "source": [
    "aba"
   ]
  },
  {
   "cell_type": "code",
   "execution_count": 447,
   "metadata": {},
   "outputs": [
    {
     "data": {
      "text/plain": [
       "(3015,)"
      ]
     },
     "execution_count": 447,
     "metadata": {},
     "output_type": "execute_result"
    }
   ],
   "source": [
    "aba.shape"
   ]
  },
  {
   "cell_type": "code",
   "execution_count": null,
   "metadata": {},
   "outputs": [],
   "source": []
  }
 ],
 "metadata": {
  "kernelspec": {
   "display_name": "Python 2",
   "language": "python",
   "name": "python2"
  },
  "language_info": {
   "codemirror_mode": {
    "name": "ipython",
    "version": 2
   },
   "file_extension": ".py",
   "mimetype": "text/x-python",
   "name": "python",
   "nbconvert_exporter": "python",
   "pygments_lexer": "ipython2",
   "version": "2.7.14"
  }
 },
 "nbformat": 4,
 "nbformat_minor": 2
}
